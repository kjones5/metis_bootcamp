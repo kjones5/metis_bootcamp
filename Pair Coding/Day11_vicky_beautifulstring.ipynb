{
 "cells": [
  {
   "cell_type": "code",
   "execution_count": 69,
   "metadata": {},
   "outputs": [],
   "source": [
    "import numpy as np\n",
    "\n",
    "alphabet = ['a', 'b', 'c', 'd', 'e', 'f', 'g', 'h', 'i', 'j', 'k', 'l', 'm', 'n', 'o', 'p', 'q', 'r', 's', 't', \n",
    "            'u', 'v', 'w', 'x', 'y', 'z']\n",
    "def countletters(s):\n",
    "    for l in s:\n",
    "        if l not in alphabet:\n",
    "            s = s.lower().replace(l, '')\n",
    "    counter = {}\n",
    "    for letter in s:\n",
    "        if letter in counter:\n",
    "            counter[letter] += 1\n",
    "        else:\n",
    "            counter[letter] = 1\n",
    "    x = sorted(counter.values())\n",
    "    return x"
   ]
  },
  {
   "cell_type": "code",
   "execution_count": 70,
   "metadata": {},
   "outputs": [],
   "source": [
    "coeffs = countletters('aaabbccc')"
   ]
  },
  {
   "cell_type": "code",
   "execution_count": null,
   "metadata": {},
   "outputs": [],
   "source": [
    "def equations(s):\n",
    "    countletters(s)\n",
    "    "
   ]
  },
  {
   "cell_type": "markdown",
   "metadata": {},
   "source": [
    "### Peter and Dan's Solution"
   ]
  },
  {
   "cell_type": "code",
   "execution_count": 65,
   "metadata": {},
   "outputs": [],
   "source": [
    "from collections import Counter\n",
    "import re\n",
    "\n",
    "def max_beauty(string):\n",
    "    string = re.sub(r\"[^a-z]?\", \"\", string.lower())\n",
    "    counts = Counter(string)\n",
    "    letters = sorted(counts.keys(), reverse=True, key=lambda letter: counts[letter])\n",
    "    beauty = 26\n",
    "    total_beauty = 0\n",
    "    for letter in letters:\n",
    "        total_beauty += counts[letter] * beauty\n",
    "        beauty -= 1\n",
    "    return total_beauty\n",
    "    \n",
    "\n",
    "assert(max_beauty(\"ABbCcc\") == 152)\n",
    "assert(max_beauty(\"Good luck in the Facebook Hacker Cup this year!\") == 754)\n",
    "assert(max_beauty(\"Ignore punctuation, please 🙂\") == 491)\n",
    "assert(max_beauty(\"Sometimes test cases are hard to make up.\") == 729)\n",
    "assert(max_beauty(\"So I just go consult Professor Dalves\") == 646)"
   ]
  },
  {
   "cell_type": "code",
   "execution_count": 66,
   "metadata": {},
   "outputs": [
    {
     "data": {
      "text/plain": [
       "127"
      ]
     },
     "execution_count": 66,
     "metadata": {},
     "output_type": "execute_result"
    }
   ],
   "source": [
    "max_beauty('ABCcc')"
   ]
  },
  {
   "cell_type": "code",
   "execution_count": 68,
   "metadata": {},
   "outputs": [
    {
     "data": {
      "text/plain": [
       "754"
      ]
     },
     "execution_count": 68,
     "metadata": {},
     "output_type": "execute_result"
    }
   ],
   "source": [
    "max_beauty(\"Good luck in the Facebook Hacker Cup this year!\")"
   ]
  },
  {
   "cell_type": "code",
   "execution_count": null,
   "metadata": {},
   "outputs": [],
   "source": []
  }
 ],
 "metadata": {
  "kernelspec": {
   "display_name": "Python 3",
   "language": "python",
   "name": "python3"
  },
  "language_info": {
   "codemirror_mode": {
    "name": "ipython",
    "version": 3
   },
   "file_extension": ".py",
   "mimetype": "text/x-python",
   "name": "python",
   "nbconvert_exporter": "python",
   "pygments_lexer": "ipython3",
   "version": "3.6.4"
  }
 },
 "nbformat": 4,
 "nbformat_minor": 2
}
