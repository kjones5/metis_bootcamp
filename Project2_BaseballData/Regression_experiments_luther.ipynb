{
 "cells": [
  {
   "cell_type": "markdown",
   "metadata": {},
   "source": [
    "# Setup"
   ]
  },
  {
   "cell_type": "code",
   "execution_count": 82,
   "metadata": {},
   "outputs": [],
   "source": [
    "import pandas as pd\n",
    "import seaborn as sns\n",
    "import re\n",
    "import os\n",
    "import statsmodels.api as sm\n",
    "import statsmodels.formula.api as smf\n",
    "import matplotlib.pyplot as plt\n",
    "import scipy.stats as stats\n",
    "\n",
    "# from sklearn import preprocessing\n",
    "from sklearn.preprocessing import PolynomialFeatures\n",
    "from sklearn.pipeline import make_pipeline\n",
    "from sklearn.pipeline import Pipeline\n",
    "#from sklearn import cross_validation\n",
    "from sklearn.metrics import mean_squared_error\n",
    "from sklearn.cross_validation import train_test_split\n",
    "from sklearn.cross_validation import KFold\n",
    "from sklearn.cross_validation import cross_val_score\n",
    "from sklearn.linear_model import LinearRegression\n",
    "from sklearn.linear_model import LassoCV\n",
    "from sklearn.linear_model import RidgeCV\n",
    "from sklearn.linear_model import ElasticNet\n",
    "from sklearn.linear_model import ElasticNetCV\n",
    "\n",
    "%config InlineBackend.figure_format = 'png'\n",
    "plt.rcParams['figure.dpi']= 300"
   ]
  },
  {
   "cell_type": "code",
   "execution_count": 18,
   "metadata": {},
   "outputs": [],
   "source": [
    "df = pd.read_csv('scraped_data_apr25.csv')"
   ]
  },
  {
   "cell_type": "code",
   "execution_count": 19,
   "metadata": {},
   "outputs": [
    {
     "data": {
      "text/plain": [
       "Index(['YrTm', '#Bat', 'BatAge', 'R/G', 'G', 'PA', 'AB', 'R', 'H', '2B', '3B',\n",
       "       'HR', 'RBI', 'SB', 'CS', 'BB', 'SO', 'BA', 'OBP', 'SLG', 'OPS', 'OPS+',\n",
       "       'TB', 'GDP', 'HBP', 'SH', 'SF', 'IBB', 'LOB', 'Team', 'Year', '#P',\n",
       "       'PAge', 'RA/G', 'W', 'L', 'W-L%', 'ERA', 'GS', 'GF', 'CG', 'tSho',\n",
       "       'cSho', 'SV', 'IP', 'ER', 'BK', 'WP', 'BF', 'ERA+', 'FIP', 'WHIP', 'H9',\n",
       "       'HR9', 'BB9', 'SO9', 'SO/W', '#Fld', 'A', 'Ch', 'DP', 'DefEff', 'E',\n",
       "       'Fld%', 'Inn', 'PO', 'Rdrs', 'Rdrs/yr', 'Rtot', 'Rtot/yr'],\n",
       "      dtype='object')"
      ]
     },
     "execution_count": 19,
     "metadata": {},
     "output_type": "execute_result"
    }
   ],
   "source": [
    "df.columns"
   ]
  },
  {
   "cell_type": "code",
   "execution_count": 20,
   "metadata": {},
   "outputs": [
    {
     "data": {
      "text/html": [
       "<div>\n",
       "<style scoped>\n",
       "    .dataframe tbody tr th:only-of-type {\n",
       "        vertical-align: middle;\n",
       "    }\n",
       "\n",
       "    .dataframe tbody tr th {\n",
       "        vertical-align: top;\n",
       "    }\n",
       "\n",
       "    .dataframe thead th {\n",
       "        text-align: right;\n",
       "    }\n",
       "</style>\n",
       "<table border=\"1\" class=\"dataframe\">\n",
       "  <thead>\n",
       "    <tr style=\"text-align: right;\">\n",
       "      <th></th>\n",
       "      <th>YrTm</th>\n",
       "      <th>#Bat</th>\n",
       "      <th>BatAge</th>\n",
       "      <th>R/G</th>\n",
       "      <th>G</th>\n",
       "      <th>PA</th>\n",
       "      <th>AB</th>\n",
       "      <th>R</th>\n",
       "      <th>H</th>\n",
       "      <th>2B</th>\n",
       "      <th>...</th>\n",
       "      <th>DP</th>\n",
       "      <th>DefEff</th>\n",
       "      <th>E</th>\n",
       "      <th>Fld%</th>\n",
       "      <th>Inn</th>\n",
       "      <th>PO</th>\n",
       "      <th>Rdrs</th>\n",
       "      <th>Rdrs/yr</th>\n",
       "      <th>Rtot</th>\n",
       "      <th>Rtot/yr</th>\n",
       "    </tr>\n",
       "  </thead>\n",
       "  <tbody>\n",
       "    <tr>\n",
       "      <th>169</th>\n",
       "      <td>2014BAL</td>\n",
       "      <td>44</td>\n",
       "      <td>28.3</td>\n",
       "      <td>4.35</td>\n",
       "      <td>162</td>\n",
       "      <td>6130</td>\n",
       "      <td>5596</td>\n",
       "      <td>705</td>\n",
       "      <td>1434</td>\n",
       "      <td>264</td>\n",
       "      <td>...</td>\n",
       "      <td>156</td>\n",
       "      <td>0.706</td>\n",
       "      <td>87</td>\n",
       "      <td>0.986</td>\n",
       "      <td>13152.0</td>\n",
       "      <td>4384</td>\n",
       "      <td>57.0</td>\n",
       "      <td>5.0</td>\n",
       "      <td>41</td>\n",
       "      <td>4</td>\n",
       "    </tr>\n",
       "    <tr>\n",
       "      <th>204</th>\n",
       "      <td>2016HOU</td>\n",
       "      <td>43</td>\n",
       "      <td>26.4</td>\n",
       "      <td>4.47</td>\n",
       "      <td>162</td>\n",
       "      <td>6204</td>\n",
       "      <td>5545</td>\n",
       "      <td>724</td>\n",
       "      <td>1367</td>\n",
       "      <td>291</td>\n",
       "      <td>...</td>\n",
       "      <td>135</td>\n",
       "      <td>0.681</td>\n",
       "      <td>77</td>\n",
       "      <td>0.987</td>\n",
       "      <td>13212.0</td>\n",
       "      <td>4404</td>\n",
       "      <td>61.0</td>\n",
       "      <td>1.0</td>\n",
       "      <td>-12</td>\n",
       "      <td>-1</td>\n",
       "    </tr>\n",
       "    <tr>\n",
       "      <th>30</th>\n",
       "      <td>2004BOS</td>\n",
       "      <td>50</td>\n",
       "      <td>30.4</td>\n",
       "      <td>5.86</td>\n",
       "      <td>162</td>\n",
       "      <td>6515</td>\n",
       "      <td>5720</td>\n",
       "      <td>949</td>\n",
       "      <td>1613</td>\n",
       "      <td>373</td>\n",
       "      <td>...</td>\n",
       "      <td>129</td>\n",
       "      <td>0.693</td>\n",
       "      <td>118</td>\n",
       "      <td>0.981</td>\n",
       "      <td>13062.0</td>\n",
       "      <td>4354</td>\n",
       "      <td>-22.0</td>\n",
       "      <td>-2.0</td>\n",
       "      <td>-2</td>\n",
       "      <td>0</td>\n",
       "    </tr>\n",
       "    <tr>\n",
       "      <th>33</th>\n",
       "      <td>2004DET</td>\n",
       "      <td>39</td>\n",
       "      <td>28.1</td>\n",
       "      <td>5.10</td>\n",
       "      <td>162</td>\n",
       "      <td>6285</td>\n",
       "      <td>5623</td>\n",
       "      <td>827</td>\n",
       "      <td>1531</td>\n",
       "      <td>284</td>\n",
       "      <td>...</td>\n",
       "      <td>160</td>\n",
       "      <td>0.681</td>\n",
       "      <td>144</td>\n",
       "      <td>0.977</td>\n",
       "      <td>12957.0</td>\n",
       "      <td>4319</td>\n",
       "      <td>-38.0</td>\n",
       "      <td>-4.0</td>\n",
       "      <td>-19</td>\n",
       "      <td>-2</td>\n",
       "    </tr>\n",
       "    <tr>\n",
       "      <th>190</th>\n",
       "      <td>2015KCR</td>\n",
       "      <td>45</td>\n",
       "      <td>29.1</td>\n",
       "      <td>4.47</td>\n",
       "      <td>162</td>\n",
       "      <td>6116</td>\n",
       "      <td>5575</td>\n",
       "      <td>724</td>\n",
       "      <td>1497</td>\n",
       "      <td>300</td>\n",
       "      <td>...</td>\n",
       "      <td>138</td>\n",
       "      <td>0.701</td>\n",
       "      <td>88</td>\n",
       "      <td>0.985</td>\n",
       "      <td>13068.0</td>\n",
       "      <td>4356</td>\n",
       "      <td>52.0</td>\n",
       "      <td>1.0</td>\n",
       "      <td>18</td>\n",
       "      <td>2</td>\n",
       "    </tr>\n",
       "  </tbody>\n",
       "</table>\n",
       "<p>5 rows × 70 columns</p>\n",
       "</div>"
      ],
      "text/plain": [
       "        YrTm  #Bat  BatAge   R/G    G    PA    AB    R     H   2B   ...     \\\n",
       "169  2014BAL    44    28.3  4.35  162  6130  5596  705  1434  264   ...      \n",
       "204  2016HOU    43    26.4  4.47  162  6204  5545  724  1367  291   ...      \n",
       "30   2004BOS    50    30.4  5.86  162  6515  5720  949  1613  373   ...      \n",
       "33   2004DET    39    28.1  5.10  162  6285  5623  827  1531  284   ...      \n",
       "190  2015KCR    45    29.1  4.47  162  6116  5575  724  1497  300   ...      \n",
       "\n",
       "      DP  DefEff    E   Fld%      Inn    PO  Rdrs  Rdrs/yr  Rtot  Rtot/yr  \n",
       "169  156   0.706   87  0.986  13152.0  4384  57.0      5.0    41        4  \n",
       "204  135   0.681   77  0.987  13212.0  4404  61.0      1.0   -12       -1  \n",
       "30   129   0.693  118  0.981  13062.0  4354 -22.0     -2.0    -2        0  \n",
       "33   160   0.681  144  0.977  12957.0  4319 -38.0     -4.0   -19       -2  \n",
       "190  138   0.701   88  0.985  13068.0  4356  52.0      1.0    18        2  \n",
       "\n",
       "[5 rows x 70 columns]"
      ]
     },
     "execution_count": 20,
     "metadata": {},
     "output_type": "execute_result"
    }
   ],
   "source": [
    "df.sample(5)"
   ]
  },
  {
   "cell_type": "markdown",
   "metadata": {},
   "source": [
    "# Select Features"
   ]
  },
  {
   "cell_type": "markdown",
   "metadata": {},
   "source": [
    "Note: Whole bunch of features available, 229 rows of data. Targeting 5-7 features in final model."
   ]
  },
  {
   "cell_type": "code",
   "execution_count": 90,
   "metadata": {},
   "outputs": [],
   "source": [
    "X = df[['OPS','ERA','Fld%']]\n",
    "y = df['W-L%']"
   ]
  },
  {
   "cell_type": "markdown",
   "metadata": {},
   "source": [
    "# Train-Test Split"
   ]
  },
  {
   "cell_type": "code",
   "execution_count": 91,
   "metadata": {},
   "outputs": [],
   "source": [
    "X_train, X_test, y_train, y_test = train_test_split(X, y, test_size=.3)"
   ]
  },
  {
   "cell_type": "code",
   "execution_count": 92,
   "metadata": {},
   "outputs": [
    {
     "name": "stdout",
     "output_type": "stream",
     "text": [
      "<class 'pandas.core.frame.DataFrame'>\n",
      "Int64Index: 160 entries, 135 to 120\n",
      "Data columns (total 4 columns):\n",
      "OPS       160 non-null float64\n",
      "ERA       160 non-null float64\n",
      "DefEff    160 non-null float64\n",
      "Fld%      160 non-null float64\n",
      "dtypes: float64(4)\n",
      "memory usage: 6.2 KB\n"
     ]
    }
   ],
   "source": [
    "X_train.info()"
   ]
  },
  {
   "cell_type": "code",
   "execution_count": 93,
   "metadata": {},
   "outputs": [
    {
     "name": "stdout",
     "output_type": "stream",
     "text": [
      "<class 'pandas.core.frame.DataFrame'>\n",
      "Int64Index: 69 entries, 192 to 132\n",
      "Data columns (total 4 columns):\n",
      "OPS       69 non-null float64\n",
      "ERA       69 non-null float64\n",
      "DefEff    69 non-null float64\n",
      "Fld%      69 non-null float64\n",
      "dtypes: float64(4)\n",
      "memory usage: 2.7 KB\n"
     ]
    }
   ],
   "source": [
    "X_test.info()"
   ]
  },
  {
   "cell_type": "code",
   "execution_count": 94,
   "metadata": {},
   "outputs": [
    {
     "data": {
      "text/plain": [
       "135    0.457\n",
       "191    0.525\n",
       "184    0.500\n",
       "196    0.494\n",
       "187    0.503\n",
       "59     0.481\n",
       "116    0.500\n",
       "24     0.574\n",
       "177    0.432\n",
       "176    0.605\n",
       "69     0.537\n",
       "139    0.500\n",
       "4      0.457\n",
       "83     0.512\n",
       "31     0.512\n",
       "35     0.568\n",
       "180    0.537\n",
       "103    0.401\n",
       "142    0.525\n",
       "115    0.426\n",
       "178    0.519\n",
       "163    0.525\n",
       "76     0.580\n",
       "215    0.574\n",
       "223    0.562\n",
       "140    0.574\n",
       "208    0.519\n",
       "155    0.599\n",
       "199    0.549\n",
       "67     0.377\n",
       "       ...  \n",
       "17     0.531\n",
       "158    0.574\n",
       "101    0.401\n",
       "118    0.494\n",
       "22     0.623\n",
       "91     0.540\n",
       "93     0.466\n",
       "77     0.488\n",
       "20     0.512\n",
       "209    0.426\n",
       "117    0.414\n",
       "127    0.556\n",
       "41     0.416\n",
       "112    0.407\n",
       "207    0.364\n",
       "84     0.422\n",
       "157    0.568\n",
       "206    0.457\n",
       "97     0.531\n",
       "57     0.531\n",
       "183    0.512\n",
       "81     0.407\n",
       "85     0.586\n",
       "220    0.494\n",
       "66     0.481\n",
       "137    0.562\n",
       "210    0.531\n",
       "162    0.407\n",
       "194    0.420\n",
       "120    0.586\n",
       "Name: W-L%, Length: 160, dtype: float64"
      ]
     },
     "execution_count": 94,
     "metadata": {},
     "output_type": "execute_result"
    }
   ],
   "source": [
    "y_train"
   ]
  },
  {
   "cell_type": "markdown",
   "metadata": {},
   "source": [
    "# statsmodel"
   ]
  },
  {
   "cell_type": "code",
   "execution_count": 95,
   "metadata": {},
   "outputs": [
    {
     "data": {
      "text/html": [
       "<table class=\"simpletable\">\n",
       "<caption>OLS Regression Results</caption>\n",
       "<tr>\n",
       "  <th>Dep. Variable:</th>          <td>W-L%</td>       <th>  R-squared:         </th> <td>   0.848</td>\n",
       "</tr>\n",
       "<tr>\n",
       "  <th>Model:</th>                   <td>OLS</td>       <th>  Adj. R-squared:    </th> <td>   0.846</td>\n",
       "</tr>\n",
       "<tr>\n",
       "  <th>Method:</th>             <td>Least Squares</td>  <th>  F-statistic:       </th> <td>   313.6</td>\n",
       "</tr>\n",
       "<tr>\n",
       "  <th>Date:</th>             <td>Thu, 26 Apr 2018</td> <th>  Prob (F-statistic):</th> <td>1.57e-90</td>\n",
       "</tr>\n",
       "<tr>\n",
       "  <th>Time:</th>                 <td>08:16:43</td>     <th>  Log-Likelihood:    </th> <td>  491.85</td>\n",
       "</tr>\n",
       "<tr>\n",
       "  <th>No. Observations:</th>      <td>   229</td>      <th>  AIC:               </th> <td>  -973.7</td>\n",
       "</tr>\n",
       "<tr>\n",
       "  <th>Df Residuals:</th>          <td>   224</td>      <th>  BIC:               </th> <td>  -956.5</td>\n",
       "</tr>\n",
       "<tr>\n",
       "  <th>Df Model:</th>              <td>     4</td>      <th>                     </th>     <td> </td>   \n",
       "</tr>\n",
       "<tr>\n",
       "  <th>Covariance Type:</th>      <td>nonrobust</td>    <th>                     </th>     <td> </td>   \n",
       "</tr>\n",
       "</table>\n",
       "<table class=\"simpletable\">\n",
       "<tr>\n",
       "     <td></td>       <th>coef</th>     <th>std err</th>      <th>t</th>      <th>P>|t|</th>  <th>[0.025</th>    <th>0.975]</th>  \n",
       "</tr>\n",
       "<tr>\n",
       "  <th>const</th>  <td>   -2.9740</td> <td>    0.812</td> <td>   -3.662</td> <td> 0.000</td> <td>   -4.574</td> <td>   -1.374</td>\n",
       "</tr>\n",
       "<tr>\n",
       "  <th>OPS</th>    <td>    1.2127</td> <td>    0.050</td> <td>   24.198</td> <td> 0.000</td> <td>    1.114</td> <td>    1.311</td>\n",
       "</tr>\n",
       "<tr>\n",
       "  <th>ERA</th>    <td>   -0.0996</td> <td>    0.005</td> <td>  -20.516</td> <td> 0.000</td> <td>   -0.109</td> <td>   -0.090</td>\n",
       "</tr>\n",
       "<tr>\n",
       "  <th>DefEff</th> <td>   -0.1576</td> <td>    0.215</td> <td>   -0.734</td> <td> 0.464</td> <td>   -0.581</td> <td>    0.266</td>\n",
       "</tr>\n",
       "<tr>\n",
       "  <th>Fld%</th>   <td>    3.1597</td> <td>    0.839</td> <td>    3.765</td> <td> 0.000</td> <td>    1.506</td> <td>    4.814</td>\n",
       "</tr>\n",
       "</table>\n",
       "<table class=\"simpletable\">\n",
       "<tr>\n",
       "  <th>Omnibus:</th>       <td> 1.508</td> <th>  Durbin-Watson:     </th> <td>   2.016</td>\n",
       "</tr>\n",
       "<tr>\n",
       "  <th>Prob(Omnibus):</th> <td> 0.471</td> <th>  Jarque-Bera (JB):  </th> <td>   1.222</td>\n",
       "</tr>\n",
       "<tr>\n",
       "  <th>Skew:</th>          <td> 0.165</td> <th>  Prob(JB):          </th> <td>   0.543</td>\n",
       "</tr>\n",
       "<tr>\n",
       "  <th>Kurtosis:</th>      <td> 3.140</td> <th>  Cond. No.          </th> <td>2.86e+03</td>\n",
       "</tr>\n",
       "</table>"
      ],
      "text/plain": [
       "<class 'statsmodels.iolib.summary.Summary'>\n",
       "\"\"\"\n",
       "                            OLS Regression Results                            \n",
       "==============================================================================\n",
       "Dep. Variable:                   W-L%   R-squared:                       0.848\n",
       "Model:                            OLS   Adj. R-squared:                  0.846\n",
       "Method:                 Least Squares   F-statistic:                     313.6\n",
       "Date:                Thu, 26 Apr 2018   Prob (F-statistic):           1.57e-90\n",
       "Time:                        08:16:43   Log-Likelihood:                 491.85\n",
       "No. Observations:                 229   AIC:                            -973.7\n",
       "Df Residuals:                     224   BIC:                            -956.5\n",
       "Df Model:                           4                                         \n",
       "Covariance Type:            nonrobust                                         \n",
       "==============================================================================\n",
       "                 coef    std err          t      P>|t|      [0.025      0.975]\n",
       "------------------------------------------------------------------------------\n",
       "const         -2.9740      0.812     -3.662      0.000      -4.574      -1.374\n",
       "OPS            1.2127      0.050     24.198      0.000       1.114       1.311\n",
       "ERA           -0.0996      0.005    -20.516      0.000      -0.109      -0.090\n",
       "DefEff        -0.1576      0.215     -0.734      0.464      -0.581       0.266\n",
       "Fld%           3.1597      0.839      3.765      0.000       1.506       4.814\n",
       "==============================================================================\n",
       "Omnibus:                        1.508   Durbin-Watson:                   2.016\n",
       "Prob(Omnibus):                  0.471   Jarque-Bera (JB):                1.222\n",
       "Skew:                           0.165   Prob(JB):                        0.543\n",
       "Kurtosis:                       3.140   Cond. No.                     2.86e+03\n",
       "==============================================================================\n",
       "\n",
       "Warnings:\n",
       "[1] Standard Errors assume that the covariance matrix of the errors is correctly specified.\n",
       "[2] The condition number is large, 2.86e+03. This might indicate that there are\n",
       "strong multicollinearity or other numerical problems.\n",
       "\"\"\""
      ]
     },
     "execution_count": 95,
     "metadata": {},
     "output_type": "execute_result"
    }
   ],
   "source": [
    "# Plain OLS on whole dataset\n",
    "model = sm.OLS(y, sm.add_constant(X))\n",
    "fit = model.fit()\n",
    "fit.summary()"
   ]
  },
  {
   "cell_type": "markdown",
   "metadata": {},
   "source": [
    "# sklearn"
   ]
  },
  {
   "cell_type": "markdown",
   "metadata": {},
   "source": [
    "## test-train split on plain regression"
   ]
  },
  {
   "cell_type": "code",
   "execution_count": 106,
   "metadata": {},
   "outputs": [
    {
     "data": {
      "text/plain": [
       "0.8079682273412429"
      ]
     },
     "execution_count": 106,
     "metadata": {},
     "output_type": "execute_result"
    }
   ],
   "source": [
    "# on whole dataset\n",
    "model= LinearRegression()\n",
    "model.fit(X_train,y_train)\n",
    "model.score(X_test,y_test)"
   ]
  },
  {
   "cell_type": "code",
   "execution_count": 97,
   "metadata": {},
   "outputs": [
    {
     "name": "stdout",
     "output_type": "stream",
     "text": [
      "Train score:  0.8601056915990077\n",
      "Test score:  0.8079682273412429\n"
     ]
    }
   ],
   "source": [
    "# with test-train split\n",
    "reg = LinearRegression()\n",
    "model.fit(X_train,y_train)\n",
    "\n",
    "train_score = model.score(X_train,y_train)\n",
    "test_score = model.score(X_test,y_test)\n",
    "\n",
    "print('Train score: ',train_score)\n",
    "print('Test score: ',test_score)"
   ]
  },
  {
   "cell_type": "markdown",
   "metadata": {},
   "source": [
    "## cross_val_score"
   ]
  },
  {
   "cell_type": "markdown",
   "metadata": {},
   "source": [
    "Scored with MSE"
   ]
  },
  {
   "cell_type": "code",
   "execution_count": 98,
   "metadata": {},
   "outputs": [
    {
     "name": "stdout",
     "output_type": "stream",
     "text": [
      "[0.00092395 0.00071606 0.00089627]\n"
     ]
    }
   ],
   "source": [
    "# 3-fold cross-validation - 229 rows / 3 = 76, so can have 7 features for 10x rule\n",
    "reg = LinearRegression()\n",
    "scores = cross_val_score(reg, X, y, cv=3, scoring='neg_mean_squared_error')\n",
    "\n",
    "# scores output is negative, a sklearn quirk bc mse is used to min. optimization func.\n",
    "print(-scores)"
   ]
  },
  {
   "cell_type": "markdown",
   "metadata": {},
   "source": [
    "Default scoring"
   ]
  },
  {
   "cell_type": "code",
   "execution_count": 99,
   "metadata": {},
   "outputs": [
    {
     "name": "stdout",
     "output_type": "stream",
     "text": [
      "[0.87171937 0.84194001 0.77802148]\n"
     ]
    }
   ],
   "source": [
    "reg = LinearRegression()\n",
    "scores = cross_val_score(reg, X, y, cv=3) # try with default scoring\n",
    "\n",
    "print(scores)"
   ]
  },
  {
   "cell_type": "code",
   "execution_count": 100,
   "metadata": {},
   "outputs": [
    {
     "name": "stdout",
     "output_type": "stream",
     "text": [
      "Accuracy: 0.83 (+/- 0.08)\n"
     ]
    }
   ],
   "source": [
    "print(\"Accuracy: %0.2f (+/- %0.2f)\" % (scores.mean(), scores.std() * 2)) # still default scoring"
   ]
  },
  {
   "cell_type": "markdown",
   "metadata": {},
   "source": [
    "## polynomial degree 2"
   ]
  },
  {
   "cell_type": "code",
   "execution_count": 101,
   "metadata": {},
   "outputs": [],
   "source": [
    "degree = 2\n",
    "est = make_pipeline(PolynomialFeatures(degree), LinearRegression())\n",
    "est.fit(X_train, y_train)\n",
    "train_error = mean_squared_error(y_train, est.predict(X_train))\n",
    "test_error = mean_squared_error(y_test, est.predict(X_test))"
   ]
  },
  {
   "cell_type": "code",
   "execution_count": 102,
   "metadata": {},
   "outputs": [
    {
     "name": "stdout",
     "output_type": "stream",
     "text": [
      "Train error:  0.0007160507806108331\n",
      "Test error:  0.0010118004252139565\n"
     ]
    }
   ],
   "source": [
    "print('Train error: ',train_error)\n",
    "print('Test error: ',test_error)"
   ]
  },
  {
   "cell_type": "markdown",
   "metadata": {},
   "source": [
    "## Elastic Net"
   ]
  },
  {
   "cell_type": "code",
   "execution_count": 103,
   "metadata": {},
   "outputs": [
    {
     "data": {
      "text/plain": [
       "ElasticNet(alpha=1.0, copy_X=True, fit_intercept=True, l1_ratio=0.5,\n",
       "      max_iter=1000, normalize=False, positive=False, precompute=False,\n",
       "      random_state=None, selection='cyclic', tol=0.0001, warm_start=False)"
      ]
     },
     "execution_count": 103,
     "metadata": {},
     "output_type": "execute_result"
    }
   ],
   "source": [
    "model = ElasticNet(1.0, l1_ratio = 0.5) # ratio splits equally between L1 (lasso) and L2 (ridge)\n",
    "model.fit(X,y)"
   ]
  },
  {
   "cell_type": "code",
   "execution_count": 104,
   "metadata": {},
   "outputs": [
    {
     "data": {
      "text/plain": [
       "ElasticNet(alpha=1.0, copy_X=True, fit_intercept=True, l1_ratio=0.2,\n",
       "      max_iter=1000, normalize=False, positive=False, precompute=False,\n",
       "      random_state=None, selection='cyclic', tol=0.0001, warm_start=False)"
      ]
     },
     "execution_count": 104,
     "metadata": {},
     "output_type": "execute_result"
    }
   ],
   "source": [
    "model = ElasticNet(1.0, l1_ratio = 0.2) # ratio heavier on Ridge - to address collinearity\n",
    "model.fit(X,y)"
   ]
  },
  {
   "cell_type": "code",
   "execution_count": null,
   "metadata": {},
   "outputs": [],
   "source": []
  },
  {
   "cell_type": "code",
   "execution_count": null,
   "metadata": {},
   "outputs": [],
   "source": []
  },
  {
   "cell_type": "code",
   "execution_count": null,
   "metadata": {},
   "outputs": [],
   "source": []
  },
  {
   "cell_type": "markdown",
   "metadata": {},
   "source": [
    "## Elastic Net CV"
   ]
  },
  {
   "cell_type": "markdown",
   "metadata": {},
   "source": [
    "Straight Linear Regression - Degree 1"
   ]
  },
  {
   "cell_type": "code",
   "execution_count": 105,
   "metadata": {},
   "outputs": [
    {
     "name": "stderr",
     "output_type": "stream",
     "text": [
      "/Users/kellyjones/anaconda3/lib/python3.6/site-packages/sklearn/linear_model/coordinate_descent.py:473: UserWarning: Coordinate descent with alpha=0 may lead to unexpected results and is discouraged.\n",
      "  tol, rng, random, positive)\n",
      "/Users/kellyjones/anaconda3/lib/python3.6/site-packages/sklearn/linear_model/coordinate_descent.py:491: ConvergenceWarning: Objective did not converge. You might want to increase the number of iterations. Fitting data with very small alpha may cause precision problems.\n",
      "  ConvergenceWarning)\n"
     ]
    },
    {
     "data": {
      "text/plain": [
       "Pipeline(memory=None,\n",
       "     steps=[('polynomialfeatures', PolynomialFeatures(degree=1, include_bias=True, interaction_only=False)), ('elasticnetcv', ElasticNetCV(alphas=[0.0001, 0.001, 0.01, 0.1, 1.0, 10.0, 100.0, 1000.0],\n",
       "       copy_X=True, cv=None, eps=0.001, fit_intercept=True,\n",
       "       l1_ratio=[0, 0.01, 0.05, 0.1, 0.15, 0....ive=False, precompute='auto', random_state=None,\n",
       "       selection='cyclic', tol=0.0001, verbose=0))])"
      ]
     },
     "execution_count": 105,
     "metadata": {},
     "output_type": "execute_result"
    }
   ],
   "source": [
    "degree = 1\n",
    "l1rats = [0, .01, .05, .1, .15, .2, .3, .4, .5, .7, .9, .95, 1] # leaning toward heavier L2 weights b/c multicollin\n",
    "λ = [1e-4,1e-3,1e-2,1e-1,1e0,1e1,1e2,1e3]\n",
    "est = make_pipeline(PolynomialFeatures(degree), ElasticNetCV(l1_ratio=l1rats, alphas=λ))\n",
    "est.fit(X,y)"
   ]
  },
  {
   "cell_type": "code",
   "execution_count": null,
   "metadata": {},
   "outputs": [],
   "source": []
  },
  {
   "cell_type": "markdown",
   "metadata": {},
   "source": [
    "Polynomial - Degree 2"
   ]
  },
  {
   "cell_type": "code",
   "execution_count": 89,
   "metadata": {},
   "outputs": [
    {
     "name": "stderr",
     "output_type": "stream",
     "text": [
      "/Users/kellyjones/anaconda3/lib/python3.6/site-packages/sklearn/linear_model/coordinate_descent.py:473: UserWarning: Coordinate descent with alpha=0 may lead to unexpected results and is discouraged.\n",
      "  tol, rng, random, positive)\n",
      "/Users/kellyjones/anaconda3/lib/python3.6/site-packages/sklearn/linear_model/coordinate_descent.py:491: ConvergenceWarning: Objective did not converge. You might want to increase the number of iterations. Fitting data with very small alpha may cause precision problems.\n",
      "  ConvergenceWarning)\n",
      "/Users/kellyjones/anaconda3/lib/python3.6/site-packages/sklearn/linear_model/coordinate_descent.py:491: ConvergenceWarning: Objective did not converge. You might want to increase the number of iterations. Fitting data with very small alpha may cause precision problems.\n",
      "  ConvergenceWarning)\n"
     ]
    },
    {
     "data": {
      "text/plain": [
       "Pipeline(memory=None,\n",
       "     steps=[('polynomialfeatures', PolynomialFeatures(degree=2, include_bias=True, interaction_only=False)), ('elasticnetcv', ElasticNetCV(alphas=[1e-05, 0.0001, 0.001, 0.01, 0.1, 1.0, 10.0, 100.0],\n",
       "       copy_X=True, cv=None, eps=0.001, fit_intercept=True,\n",
       "       l1_ratio=[0, 0.05, 0.1, 0.15, 0.2, 0.3,...ive=False, precompute='auto', random_state=None,\n",
       "       selection='cyclic', tol=0.0001, verbose=0))])"
      ]
     },
     "execution_count": 89,
     "metadata": {},
     "output_type": "execute_result"
    }
   ],
   "source": [
    "degree = 2\n",
    "l1ratios = [0, .05, .1, .15, .2, .3, .4, .5, .7, .9, .95, .99, 1]\n",
    "α = [1e-5,1e-4,1e-3,1e-2,1e-1,1e0,1e1,1e2]\n",
    "est = make_pipeline(PolynomialFeatures(degree), ElasticNetCV(l1_ratio=l1ratios, alphas=α))\n",
    "est.fit(X,y)"
   ]
  },
  {
   "cell_type": "code",
   "execution_count": null,
   "metadata": {},
   "outputs": [],
   "source": []
  },
  {
   "cell_type": "markdown",
   "metadata": {},
   "source": [
    "Polynomial - Degree 3"
   ]
  },
  {
   "cell_type": "code",
   "execution_count": null,
   "metadata": {},
   "outputs": [],
   "source": [
    "degree = 3\n",
    "l1ratio = [0, .05, .1, .15, .2, .3, .4, .5, .7, .9, .95, .99, 1]\n",
    "α = [1e-5,1e-4,1e-3,1e-2,1e-1,1e0,1e1,1e2]\n",
    "est = make_pipeline(PolynomialFeatures(degree), ElasticNetCV(l1_ratio=l1rat, alphas=α))\n",
    "est.fit(X,y)"
   ]
  }
 ],
 "metadata": {
  "kernelspec": {
   "display_name": "Python 3",
   "language": "python",
   "name": "python3"
  },
  "language_info": {
   "codemirror_mode": {
    "name": "ipython",
    "version": 3
   },
   "file_extension": ".py",
   "mimetype": "text/x-python",
   "name": "python",
   "nbconvert_exporter": "python",
   "pygments_lexer": "ipython3",
   "version": "3.6.4"
  },
  "toc": {
   "base_numbering": 1,
   "nav_menu": {},
   "number_sections": true,
   "sideBar": true,
   "skip_h1_title": false,
   "title_cell": "Table of Contents",
   "title_sidebar": "Contents",
   "toc_cell": false,
   "toc_position": {},
   "toc_section_display": true,
   "toc_window_display": false
  }
 },
 "nbformat": 4,
 "nbformat_minor": 2
}
