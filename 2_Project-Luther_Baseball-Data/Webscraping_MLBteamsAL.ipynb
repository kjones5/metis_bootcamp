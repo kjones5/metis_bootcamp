{
 "cells": [
  {
   "cell_type": "markdown",
   "metadata": {},
   "source": [
    "# Setup"
   ]
  },
  {
   "cell_type": "code",
   "execution_count": 1,
   "metadata": {},
   "outputs": [],
   "source": [
    "from selenium import webdriver\n",
    "from selenium.webdriver.common.keys import Keys\n",
    "from bs4 import BeautifulSoup\n",
    "import pandas as pd\n",
    "import seaborn as sns\n",
    "import matplotlib.pyplot as plt\n",
    "import unicodedata\n",
    "import time\n",
    "import re\n",
    "import os\n",
    "\n",
    "%config InlineBackend.figure_format = 'png'\n",
    "plt.rcParams['figure.dpi']= 300"
   ]
  },
  {
   "cell_type": "markdown",
   "metadata": {
    "heading_collapsed": true
   },
   "source": [
    "# Scrape Data"
   ]
  },
  {
   "cell_type": "markdown",
   "metadata": {
    "heading_collapsed": true,
    "hidden": true
   },
   "source": [
    "## Scrape Setup"
   ]
  },
  {
   "cell_type": "code",
   "execution_count": 2,
   "metadata": {
    "hidden": true
   },
   "outputs": [],
   "source": [
    "year_list = [str(year) for year in list(range(2002,2018))]\n",
    "url_list = [('https://www.baseball-reference.com/leagues/AL/' + year + '.shtml') \n",
    "            for year in year_list]\n",
    "\n",
    "chromedriver = '/Users/kellyjones/Downloads/chromedriver' # path to the chromedriver executable\n",
    "os.environ['webdriver.chrome.driver'] = chromedriver\n",
    "driver = webdriver.Chrome(chromedriver)\n",
    "driver.implicitly_wait(5)"
   ]
  },
  {
   "cell_type": "markdown",
   "metadata": {
    "heading_collapsed": true,
    "hidden": true
   },
   "source": [
    "## Pull Data from URLs by Year\n",
    "Use table ID to pull batting, pitching, and fielding tables from each page, then quit driver."
   ]
  },
  {
   "cell_type": "code",
   "execution_count": 3,
   "metadata": {
    "hidden": true
   },
   "outputs": [],
   "source": [
    "# 2002\n",
    "driver.get(url_list[0])\n",
    "soup = BeautifulSoup(driver.page_source, 'lxml')\n",
    "\n",
    "table_02bat = soup.find('table', {'id' : 'teams_standard_batting'})\n",
    "table_02pit = soup.find('table', {'id' : 'teams_standard_pitching'})\n",
    "table_02fld = soup.find('table', {'id' : 'teams_standard_fielding'})"
   ]
  },
  {
   "cell_type": "code",
   "execution_count": 4,
   "metadata": {
    "hidden": true
   },
   "outputs": [],
   "source": [
    "#2003\n",
    "driver.get(url_list[1])\n",
    "soup = BeautifulSoup(driver.page_source, 'lxml')\n",
    "\n",
    "table_03bat = soup.find('table', {'id' : 'teams_standard_batting'})\n",
    "table_03pit = soup.find('table', {'id' : 'teams_standard_pitching'})\n",
    "table_03fld = soup.find('table', {'id' : 'teams_standard_fielding'})"
   ]
  },
  {
   "cell_type": "code",
   "execution_count": 5,
   "metadata": {
    "hidden": true
   },
   "outputs": [],
   "source": [
    "#2004\n",
    "driver.get(url_list[2])\n",
    "soup = BeautifulSoup(driver.page_source, 'lxml')\n",
    "\n",
    "table_04bat = soup.find('table', {'id' : 'teams_standard_batting'})\n",
    "table_04pit = soup.find('table', {'id' : 'teams_standard_pitching'})\n",
    "table_04fld = soup.find('table', {'id' : 'teams_standard_fielding'})"
   ]
  },
  {
   "cell_type": "code",
   "execution_count": 6,
   "metadata": {
    "hidden": true
   },
   "outputs": [],
   "source": [
    "#2005\n",
    "driver.get(url_list[3])\n",
    "soup = BeautifulSoup(driver.page_source, 'lxml')\n",
    "\n",
    "table_05bat = soup.find('table', {'id' : 'teams_standard_batting'})\n",
    "table_05pit = soup.find('table', {'id' : 'teams_standard_pitching'})\n",
    "table_05fld = soup.find('table', {'id' : 'teams_standard_fielding'})"
   ]
  },
  {
   "cell_type": "code",
   "execution_count": 7,
   "metadata": {
    "hidden": true
   },
   "outputs": [],
   "source": [
    "#2006\n",
    "driver.get(url_list[4])\n",
    "soup = BeautifulSoup(driver.page_source, 'lxml')\n",
    "\n",
    "table_06bat = soup.find('table', {'id' : 'teams_standard_batting'})\n",
    "table_06pit = soup.find('table', {'id' : 'teams_standard_pitching'})\n",
    "table_06fld = soup.find('table', {'id' : 'teams_standard_fielding'})"
   ]
  },
  {
   "cell_type": "code",
   "execution_count": 8,
   "metadata": {
    "hidden": true
   },
   "outputs": [],
   "source": [
    "#2007\n",
    "driver.get(url_list[5])\n",
    "soup = BeautifulSoup(driver.page_source, 'lxml')\n",
    "\n",
    "table_07bat = soup.find('table', {'id' : 'teams_standard_batting'})\n",
    "table_07pit = soup.find('table', {'id' : 'teams_standard_pitching'})\n",
    "table_07fld = soup.find('table', {'id' : 'teams_standard_fielding'})"
   ]
  },
  {
   "cell_type": "code",
   "execution_count": 9,
   "metadata": {
    "hidden": true
   },
   "outputs": [],
   "source": [
    "#2008\n",
    "driver.get(url_list[6])\n",
    "soup = BeautifulSoup(driver.page_source, 'lxml')\n",
    "\n",
    "table_08bat = soup.find('table', {'id' : 'teams_standard_batting'})\n",
    "table_08pit = soup.find('table', {'id' : 'teams_standard_pitching'})\n",
    "table_08fld = soup.find('table', {'id' : 'teams_standard_fielding'})"
   ]
  },
  {
   "cell_type": "code",
   "execution_count": 10,
   "metadata": {
    "hidden": true
   },
   "outputs": [],
   "source": [
    "#2009\n",
    "driver.get(url_list[7])\n",
    "soup = BeautifulSoup(driver.page_source, 'lxml')\n",
    "\n",
    "table_09bat = soup.find('table', {'id' : 'teams_standard_batting'})\n",
    "table_09pit = soup.find('table', {'id' : 'teams_standard_pitching'})\n",
    "table_09fld = soup.find('table', {'id' : 'teams_standard_fielding'})"
   ]
  },
  {
   "cell_type": "code",
   "execution_count": 11,
   "metadata": {
    "hidden": true
   },
   "outputs": [],
   "source": [
    "#2010\n",
    "driver.get(url_list[8])\n",
    "soup = BeautifulSoup(driver.page_source, 'lxml')\n",
    "\n",
    "table_10bat = soup.find('table', {'id' : 'teams_standard_batting'})\n",
    "table_10pit = soup.find('table', {'id' : 'teams_standard_pitching'})\n",
    "table_10fld = soup.find('table', {'id' : 'teams_standard_fielding'})"
   ]
  },
  {
   "cell_type": "code",
   "execution_count": 12,
   "metadata": {
    "hidden": true
   },
   "outputs": [],
   "source": [
    "#2011\n",
    "driver.get(url_list[9])\n",
    "soup = BeautifulSoup(driver.page_source, 'lxml')\n",
    "\n",
    "table_11bat = soup.find('table', {'id' : 'teams_standard_batting'})\n",
    "table_11pit = soup.find('table', {'id' : 'teams_standard_pitching'})\n",
    "table_11fld = soup.find('table', {'id' : 'teams_standard_fielding'})"
   ]
  },
  {
   "cell_type": "code",
   "execution_count": 13,
   "metadata": {
    "hidden": true
   },
   "outputs": [],
   "source": [
    "#2012\n",
    "driver.get(url_list[10])\n",
    "soup = BeautifulSoup(driver.page_source, 'lxml')\n",
    "\n",
    "table_12bat = soup.find('table', {'id' : 'teams_standard_batting'})\n",
    "table_12pit = soup.find('table', {'id' : 'teams_standard_pitching'})\n",
    "table_12fld = soup.find('table', {'id' : 'teams_standard_fielding'})"
   ]
  },
  {
   "cell_type": "code",
   "execution_count": 14,
   "metadata": {
    "hidden": true
   },
   "outputs": [],
   "source": [
    "#2013\n",
    "driver.get(url_list[11])\n",
    "soup = BeautifulSoup(driver.page_source, 'lxml')\n",
    "\n",
    "table_13bat = soup.find('table', {'id' : 'teams_standard_batting'})\n",
    "table_13pit = soup.find('table', {'id' : 'teams_standard_pitching'})\n",
    "table_13fld = soup.find('table', {'id' : 'teams_standard_fielding'})"
   ]
  },
  {
   "cell_type": "code",
   "execution_count": 15,
   "metadata": {
    "hidden": true
   },
   "outputs": [],
   "source": [
    "#2014\n",
    "driver.get(url_list[12])\n",
    "soup = BeautifulSoup(driver.page_source, 'lxml')\n",
    "\n",
    "table_14bat = soup.find('table', {'id' : 'teams_standard_batting'})\n",
    "table_14pit = soup.find('table', {'id' : 'teams_standard_pitching'})\n",
    "table_14fld = soup.find('table', {'id' : 'teams_standard_fielding'})"
   ]
  },
  {
   "cell_type": "code",
   "execution_count": 16,
   "metadata": {
    "hidden": true
   },
   "outputs": [],
   "source": [
    "#2015\n",
    "driver.get(url_list[13])\n",
    "soup = BeautifulSoup(driver.page_source, 'lxml')\n",
    "\n",
    "table_15bat = soup.find('table', {'id' : 'teams_standard_batting'})\n",
    "table_15pit = soup.find('table', {'id' : 'teams_standard_pitching'})\n",
    "table_15fld = soup.find('table', {'id' : 'teams_standard_fielding'})"
   ]
  },
  {
   "cell_type": "code",
   "execution_count": 17,
   "metadata": {
    "hidden": true
   },
   "outputs": [],
   "source": [
    "#2016\n",
    "driver.get(url_list[14])\n",
    "soup = BeautifulSoup(driver.page_source, 'lxml')\n",
    "\n",
    "table_16bat = soup.find('table', {'id' : 'teams_standard_batting'})\n",
    "table_16pit = soup.find('table', {'id' : 'teams_standard_pitching'})\n",
    "table_16fld = soup.find('table', {'id' : 'teams_standard_fielding'})"
   ]
  },
  {
   "cell_type": "code",
   "execution_count": 18,
   "metadata": {
    "hidden": true
   },
   "outputs": [],
   "source": [
    "#2017\n",
    "driver.get(url_list[15])\n",
    "soup = BeautifulSoup(driver.page_source, 'lxml')\n",
    "\n",
    "table_17bat = soup.find('table', {'id' : 'teams_standard_batting'})\n",
    "table_17pit = soup.find('table', {'id' : 'teams_standard_pitching'})\n",
    "table_17fld = soup.find('table', {'id' : 'teams_standard_fielding'})"
   ]
  },
  {
   "cell_type": "code",
   "execution_count": 19,
   "metadata": {
    "hidden": true
   },
   "outputs": [],
   "source": [
    "driver.quit()"
   ]
  },
  {
   "cell_type": "markdown",
   "metadata": {},
   "source": [
    "# Parse Data"
   ]
  },
  {
   "cell_type": "markdown",
   "metadata": {
    "heading_collapsed": true
   },
   "source": [
    "## Team Names"
   ]
  },
  {
   "cell_type": "markdown",
   "metadata": {
    "hidden": true
   },
   "source": [
    "In scraped data, team names are hyperlinked and not easily scraped with other columns, so will be added back in with each year's dataframes."
   ]
  },
  {
   "cell_type": "code",
   "execution_count": 20,
   "metadata": {
    "hidden": true
   },
   "outputs": [],
   "source": [
    "# Team names by yr for DF (Angels and Rays changed team names, Astros joined division)\n",
    "teams_list_02to04 = ['LAA', 'BAL', 'BOS', 'CHW', 'CLE', 'DET', 'KCR', 'MIN', 'NYY', 'OAK', 'SEA', 'TBD', 'TEX', 'TOR']\n",
    "teams_list_05to12 = ['BAL', 'BOS', 'CHW', 'CLE', 'DET', 'KCR', 'LAA', 'MIN', 'NYY', 'OAK', 'SEA', 'TBD', 'TEX', 'TOR']\n",
    "teams_list_13to17 = ['BAL', 'BOS', 'CHW', 'CLE', 'DET', 'HOU', 'KCR', 'LAA', 'MIN', 'NYY', 'OAK', 'SEA', 'TBD', 'TEX', \n",
    "                     'TOR']"
   ]
  },
  {
   "cell_type": "markdown",
   "metadata": {
    "heading_collapsed": true
   },
   "source": [
    "## Variable Glossary"
   ]
  },
  {
   "cell_type": "markdown",
   "metadata": {
    "heading_collapsed": true,
    "hidden": true
   },
   "source": [
    "### Batting"
   ]
  },
  {
   "cell_type": "markdown",
   "metadata": {
    "hidden": true
   },
   "source": [
    "**#Bat** -- Number of Players used in Games  \n",
    "**BatAge** -- Batters’ average age, weighted by AB + Games Played  \n",
    "**R/G** -- Runs Scored Per Game  \n",
    "**G** -- Games Played or Pitched  \n",
    "**PA** -- *Plate Appearances. When available, we use actual plate appearances from play-by-play game accounts. Otherwise estimated using AB + BB + HBP + SF + SH, which excludes catcher interferences.*  \n",
    "**AB** -- At Bats  \n",
    "**R** -- Runs Scored/Allowed  \n",
    "**H** -- Hits/Hits Allowed  \n",
    "**HR** -- Home Runs Hit/Allowed  \n",
    "**RBI** -- Runs Batted In  \n",
    "**SB** -- Stolen Bases  \n",
    "**CS** -- Caught Stealing  \n",
    "**BB** -- Bases on Balls/Walks  \n",
    "**SO** -- Strikeouts  \n",
    "**BA** -- Hits/At Bats  \n",
    "**OBP** -- (H + BB + HBP)/(At Bats + BB + HBP + SF)  \n",
    "**SLG** -- Total Bases/At Bats or (1B + 2x2B + 3x3B + 4xHR)/AB  \n",
    "**OPS** -- On-Base + Slugging Percentages  \n",
    "**OPS+** -- OPS+ *100x(OBP/lg OBP + SLG/lg SLG - 1), adjusted to the player’s ballpark(s)*  \n",
    "**TB** -- Total Bases. *Singles + 2 x Doubles + 3 x Triples + 4 x Home Runs*  \n",
    "**GDP** -- Double Plays Grounded Into. *Only includes standard 6-4-3, 4-3, etc. double plays. For gamelogs only in seasons we have play-by-play, we include triple plays as well. All official seasonal totals do not include GITP's.*  \n",
    "**HBP** -- Times Hit by a Pitch.  \n",
    "**SH** -- Sacrifice Hits (Sacrifice Bunts)  \n",
    "**SF** -- Sacrifice Flies  \n",
    "**IBB** -- Intentional Bases on Balls  \n",
    "**LOB** -- Runners Left On Base"
   ]
  },
  {
   "cell_type": "markdown",
   "metadata": {
    "heading_collapsed": true,
    "hidden": true
   },
   "source": [
    "### Pitching"
   ]
  },
  {
   "attachments": {},
   "cell_type": "markdown",
   "metadata": {
    "hidden": true
   },
   "source": [
    "**#P** -- Number of Pitchers used in Games  \n",
    "**PAge** -- Pitchers’ average age  \n",
    "Weighted by 3*GS + G + SV  \n",
    "RA/G -- Runs Allowed Per Game  \n",
    "W -- Wins  \n",
    "L -- Losses  \n",
    "W-L% -- Win-Loss Percentage  \n",
    "W / (W + L)  \n",
    "For players, leaders need one decision for every ten team games.\n",
    "For managers, minimum to qualify for leading is 320 games.  \n",
    "ERA -- 9 * ER / IP  \n",
    "For recent years, leaders need 1 IP\n",
    "per team game played.\n",
    "Bold indicates lowest ERA using current stats\n",
    "Gold means awarded ERA title at end of year.  \n",
    "G -- Games Played or Pitched  \n",
    "GS -- Games Started  \n",
    "GF -- Games Finished  \n",
    "CG -- Complete Game  \n",
    "tSho -- Shutouts by a team  \n",
    "No runs allowed in a game by one or more pitchers.  \n",
    "cSho -- Shutouts  \n",
    "No runs allowed and a complete game.  \n",
    "SV -- Saves  \n",
    "IP -- Innings Pitched  \n",
    "H -- Hits/Hits Allowed  \n",
    "R -- Runs Scored/Allowed  \n",
    "ER -- Earned Runs Allowed  \n",
    "HR -- Home Runs Hit/Allowed  \n",
    "BB -- Bases on Balls/Walks  \n",
    "IBB -- Intentional Bases on Balls  \n",
    "First tracked in 1955.  \n",
    "SO -- Strikeouts  \n",
    "HBP -- Times Hit by a Pitch.  \n",
    "BK -- Balks  \n",
    "WP -- Wild Pitches  \n",
    "BF -- Batters Faced  \n",
    "ERA+ -- ERA+  \n",
    "100*[lgERA/ERA]  \n",
    "Adjusted to the player’s ballpark(s).  \n",
    "FIP -- Fielding Independent Pitching  \n",
    "this stat measures a pitcher's effectiveness at preventing HR, BB, HBP and causing SO\n",
    "(13*HR + 3*(BB+HBP) - 2*SO)/IP + Constantlg\n",
    "The constant is set so that each season MLB average FIP is the same as the MLB avg ERA  \n",
    "WHIP -- (BB + H)/IP  \n",
    "For recent years, leaders need 1 IP\n",
    "per team game played  \n",
    "H9 -- 9 x H / IP  \n",
    "For recent years, leaders need 1 IP\n",
    "per team game played  \n",
    "HR9 -- 9 x HR / IP  \n",
    "For recent years, leaders need 1 IP\n",
    "per team game played  \n",
    "BB9 -- 9 x BB / IP  \n",
    "For recent years, leaders need 1 IP\n",
    "per team game played  \n",
    "SO9 -- 9 x SO / IP  \n",
    "For recent years, leaders need 1 IP\n",
    "per team game played  \n",
    "SO/W -- SO/W or SO/BB  \n",
    "For recent years, pitching leaders need 1 IP\n",
    "per team game played.  \n",
    "No batting leaders computed.  \n",
    "LOB -- Runners Left On Base  "
   ]
  },
  {
   "cell_type": "markdown",
   "metadata": {
    "heading_collapsed": true,
    "hidden": true
   },
   "source": [
    "### Fielding"
   ]
  },
  {
   "cell_type": "markdown",
   "metadata": {
    "hidden": true
   },
   "source": [
    "**#Fld** -- Number of Players used as Fielders  \n",
    "**RA/G** -- Runs Allowed Per Game  \n",
    "**DefEff** -- Defensive Efficiency  \n",
    "*Percentage of balls in play converted into outs. This is an estimate based on team defensive and pitching stats. We utilize two estimates of plays made. One using innings pitched, strikeouts, double plays and outfield assists. And the other with batters faced, strikeouts, hits allowed, walks allowed, hbp, and .71 x errors committed (avg percent of errors that result in an ROE) Total plays available are plays made + hits allowed - home runs + error committed estimate.*  \n",
    "**G** -- Games Played or Pitched\n",
    "GS -- Games Started  \n",
    "CG -- Complete Game  \n",
    "Inn -- Innings Played in Field  \n",
    "Ch -- Defensive Chances  \n",
    "*Putouts + Assists + Errors*  \n",
    "PO -- Putouts  \n",
    "A -- Assists  \n",
    "E -- Errors Committed  \n",
    "DP -- Double Plays Turned  \n",
    "Fld% -- Fielding Percentage  \n",
    "(Putouts + Assists) / (Putouts + Assists + Errors)\n",
    "Rtot -- Total Zone Total Fielding Runs Above Avg\n",
    "The number of runs above or below average the player was worth based on the number of plays made. This number combines the Rtz, Rdp, Rof, Rcatch numbers into a total defensive contribution.  \n",
    "Rtot/yr -- Total Zone Total Fielding Runs Above Avg per 1,200 Inn  \n",
    "The number of runs above or below average the fielder was worth per 1,200 Innings (approx 135 games).\n",
    "This number combines the Rtz, Rdp, Rof, Rcatch numbers into a total defensive contribution.\n",
    "See the glossary section for a more complete explanation.\n",
    "Provided by BaseballProjection.com  \n",
    "Rdrs -- BIS Defensive Runs Saved Above Avg  \n",
    "The number of runs above or below average the player was worth based on the number of plays made.\n",
    "This number combines the Rpm, Rbdp, Rbof, Rbcatch numbers into a total defensive contribution.\n",
    "Provided by Baseball Info Solutions  \n",
    "Rdrs/yr -- BIS Defensive Runs Saved Above Avg per 1,200 Inn  \n",
    "The number of runs above or below average the fielder was worth per 1,200 Innings (approx 135 games).\n",
    "This number combines the Rpm, Rbdp, Rbof, Rbcatch numbers into a total defensive contribution.\n",
    "For pitchers, this is set to 200 Innings."
   ]
  },
  {
   "cell_type": "markdown",
   "metadata": {
    "heading_collapsed": true
   },
   "source": [
    "## Parse Tables by Year"
   ]
  },
  {
   "cell_type": "markdown",
   "metadata": {
    "hidden": true
   },
   "source": [
    "* For column headers, skip first column with hyperlinked team names. \n",
    "* For data rows, skip first row (column headers) and last two rows (summary statistics). \n",
    "* Reset index after each year of data.\n",
    "* List of teams changes in 2005 and 2013."
   ]
  },
  {
   "cell_type": "markdown",
   "metadata": {
    "heading_collapsed": true,
    "hidden": true
   },
   "source": [
    "### Batting"
   ]
  },
  {
   "cell_type": "code",
   "execution_count": 21,
   "metadata": {
    "hidden": true
   },
   "outputs": [
    {
     "data": {
      "text/plain": [
       "(14, 31)"
      ]
     },
     "execution_count": 21,
     "metadata": {},
     "output_type": "execute_result"
    }
   ],
   "source": [
    "# 2002 - Batting DF\n",
    "col_headers_bat = [th.getText() for th in \n",
    "                  table_02bat.findAll('tr')[0].findAll('th')][1:]\n",
    "data_rows_bat = table_02bat.findAll('tr')[1:-2] \n",
    "player_data_bat = [[td.getText() for td in data_rows_bat[i].findAll('td')]\n",
    "               for i in range(len(data_rows_bat))]\n",
    "\n",
    "df_bat = pd.DataFrame(player_data_bat, columns=col_headers_bat)\n",
    "df_bat['Team'] = pd.DataFrame({'Team': teams_list_02to04})\n",
    "df_bat['Year'] = '2002'\n",
    "df_bat['YrTm'] = df_bat['Year'] + df_bat['Team']\n",
    "df_bat.shape # should be 14 rows"
   ]
  },
  {
   "cell_type": "code",
   "execution_count": 22,
   "metadata": {
    "hidden": true
   },
   "outputs": [
    {
     "data": {
      "text/plain": [
       "(28, 31)"
      ]
     },
     "execution_count": 22,
     "metadata": {},
     "output_type": "execute_result"
    }
   ],
   "source": [
    "# 2003 - Batting DF\n",
    "col_headers_bat = [th.getText() for th in \n",
    "                  table_03bat.findAll('tr')[0].findAll('th')][1:]\n",
    "data_rows_bat = table_03bat.findAll('tr')[1:-2] \n",
    "player_data_bat = [[td.getText() for td in data_rows_bat[i].findAll('td')]\n",
    "               for i in range(len(data_rows_bat))]\n",
    "\n",
    "df_bat_interim = pd.DataFrame(player_data_bat, columns=col_headers_bat)\n",
    "df_bat_interim['Team'] = pd.DataFrame({'Team': teams_list_02to04})\n",
    "df_bat_interim['Year'] = '2003'\n",
    "df_bat_interim['YrTm'] = df_bat_interim['Year'] + df_bat_interim['Team']\n",
    "df_bat = pd.concat([df_bat, df_bat_interim]).reset_index(drop=True)\n",
    "df_bat.shape # should be 28 rows"
   ]
  },
  {
   "cell_type": "code",
   "execution_count": 23,
   "metadata": {
    "hidden": true
   },
   "outputs": [
    {
     "data": {
      "text/plain": [
       "(42, 31)"
      ]
     },
     "execution_count": 23,
     "metadata": {},
     "output_type": "execute_result"
    }
   ],
   "source": [
    "# 2004 - Batting DF\n",
    "col_headers_bat = [th.getText() for th in \n",
    "                  table_04bat.findAll('tr')[0].findAll('th')][1:]\n",
    "data_rows_bat = table_04bat.findAll('tr')[1:-2] \n",
    "player_data_bat = [[td.getText() for td in data_rows_bat[i].findAll('td')]\n",
    "               for i in range(len(data_rows_bat))]\n",
    "\n",
    "df_bat_interim = pd.DataFrame(player_data_bat, columns=col_headers_bat)\n",
    "df_bat_interim['Team'] = pd.DataFrame({'Team': teams_list_02to04})\n",
    "df_bat_interim['Year'] = '2004'\n",
    "df_bat_interim['YrTm'] = df_bat_interim['Year'] + df_bat_interim['Team']\n",
    "df_bat = pd.concat([df_bat, df_bat_interim]).reset_index(drop=True)\n",
    "df_bat.shape # should be 42 rows"
   ]
  },
  {
   "cell_type": "code",
   "execution_count": 24,
   "metadata": {
    "hidden": true
   },
   "outputs": [
    {
     "data": {
      "text/plain": [
       "(56, 31)"
      ]
     },
     "execution_count": 24,
     "metadata": {},
     "output_type": "execute_result"
    }
   ],
   "source": [
    "# 2005 - Batting DF\n",
    "col_headers_bat = [th.getText() for th in \n",
    "                  table_05bat.findAll('tr')[0].findAll('th')][1:]\n",
    "data_rows_bat = table_05bat.findAll('tr')[1:-2] \n",
    "player_data_bat = [[td.getText() for td in data_rows_bat[i].findAll('td')]\n",
    "               for i in range(len(data_rows_bat))]\n",
    "\n",
    "df_bat_interim = pd.DataFrame(player_data_bat, columns=col_headers_bat)\n",
    "df_bat_interim['Team'] = pd.DataFrame({'Team': teams_list_05to12})\n",
    "df_bat_interim['Year'] = '2005'\n",
    "df_bat_interim['YrTm'] = df_bat_interim['Year'] + df_bat_interim['Team']\n",
    "df_bat = pd.concat([df_bat, df_bat_interim]).reset_index(drop=True)\n",
    "df_bat.shape # should be 56 rows"
   ]
  },
  {
   "cell_type": "code",
   "execution_count": 25,
   "metadata": {
    "hidden": true
   },
   "outputs": [
    {
     "data": {
      "text/plain": [
       "(70, 31)"
      ]
     },
     "execution_count": 25,
     "metadata": {},
     "output_type": "execute_result"
    }
   ],
   "source": [
    "# 2006 - Batting DF\n",
    "col_headers_bat = [th.getText() for th in \n",
    "                  table_06bat.findAll('tr')[0].findAll('th')][1:]\n",
    "data_rows_bat = table_06bat.findAll('tr')[1:-2] \n",
    "player_data_bat = [[td.getText() for td in data_rows_bat[i].findAll('td')]\n",
    "               for i in range(len(data_rows_bat))]\n",
    "\n",
    "df_bat_interim = pd.DataFrame(player_data_bat, columns=col_headers_bat)\n",
    "df_bat_interim['Team'] = pd.DataFrame({'Team': teams_list_05to12})\n",
    "df_bat_interim['Year'] = '2006'\n",
    "df_bat_interim['YrTm'] = df_bat_interim['Year'] + df_bat_interim['Team']\n",
    "df_bat = pd.concat([df_bat, df_bat_interim]).reset_index(drop=True)\n",
    "df_bat.shape # should be 70 rows"
   ]
  },
  {
   "cell_type": "code",
   "execution_count": 26,
   "metadata": {
    "hidden": true
   },
   "outputs": [
    {
     "data": {
      "text/plain": [
       "(84, 31)"
      ]
     },
     "execution_count": 26,
     "metadata": {},
     "output_type": "execute_result"
    }
   ],
   "source": [
    "# 2007 - Batting DF\n",
    "col_headers_bat = [th.getText() for th in \n",
    "                  table_07bat.findAll('tr')[0].findAll('th')][1:]\n",
    "data_rows_bat = table_07bat.findAll('tr')[1:-2] \n",
    "player_data_bat = [[td.getText() for td in data_rows_bat[i].findAll('td')]\n",
    "               for i in range(len(data_rows_bat))]\n",
    "\n",
    "df_bat_interim = pd.DataFrame(player_data_bat, columns=col_headers_bat)\n",
    "df_bat_interim['Team'] = pd.DataFrame({'Team': teams_list_05to12})\n",
    "df_bat_interim['Year'] = '2007'\n",
    "df_bat_interim['YrTm'] = df_bat_interim['Year'] + df_bat_interim['Team']\n",
    "df_bat = pd.concat([df_bat, df_bat_interim]).reset_index(drop=True)\n",
    "df_bat.shape # should be 84 rows"
   ]
  },
  {
   "cell_type": "code",
   "execution_count": 27,
   "metadata": {
    "hidden": true
   },
   "outputs": [
    {
     "data": {
      "text/plain": [
       "(98, 31)"
      ]
     },
     "execution_count": 27,
     "metadata": {},
     "output_type": "execute_result"
    }
   ],
   "source": [
    "# 2008 - Batting DF\n",
    "col_headers_bat = [th.getText() for th in \n",
    "                  table_08bat.findAll('tr')[0].findAll('th')][1:]\n",
    "data_rows_bat = table_08bat.findAll('tr')[1:-2] \n",
    "player_data_bat = [[td.getText() for td in data_rows_bat[i].findAll('td')]\n",
    "               for i in range(len(data_rows_bat))]\n",
    "\n",
    "df_bat_interim = pd.DataFrame(player_data_bat, columns=col_headers_bat)\n",
    "df_bat_interim['Team'] = pd.DataFrame({'Team': teams_list_05to12})\n",
    "df_bat_interim['Year'] = '2008'\n",
    "df_bat_interim['YrTm'] = df_bat_interim['Year'] + df_bat_interim['Team']\n",
    "df_bat = pd.concat([df_bat, df_bat_interim]).reset_index(drop=True)\n",
    "df_bat.shape # should be 98 rows"
   ]
  },
  {
   "cell_type": "code",
   "execution_count": 28,
   "metadata": {
    "hidden": true
   },
   "outputs": [
    {
     "data": {
      "text/plain": [
       "(112, 31)"
      ]
     },
     "execution_count": 28,
     "metadata": {},
     "output_type": "execute_result"
    }
   ],
   "source": [
    "# 2009 - Batting DF\n",
    "col_headers_bat = [th.getText() for th in \n",
    "                  table_09bat.findAll('tr')[0].findAll('th')][1:]\n",
    "data_rows_bat = table_09bat.findAll('tr')[1:-2] \n",
    "player_data_bat = [[td.getText() for td in data_rows_bat[i].findAll('td')]\n",
    "               for i in range(len(data_rows_bat))]\n",
    "\n",
    "df_bat_interim = pd.DataFrame(player_data_bat, columns=col_headers_bat)\n",
    "df_bat_interim['Team'] = pd.DataFrame({'Team': teams_list_05to12})\n",
    "df_bat_interim['Year'] = '2009'\n",
    "df_bat_interim['YrTm'] = df_bat_interim['Year'] + df_bat_interim['Team']\n",
    "df_bat = pd.concat([df_bat, df_bat_interim]).reset_index(drop=True)\n",
    "df_bat.shape # should be 112 rows"
   ]
  },
  {
   "cell_type": "code",
   "execution_count": 29,
   "metadata": {
    "hidden": true
   },
   "outputs": [
    {
     "data": {
      "text/plain": [
       "(126, 31)"
      ]
     },
     "execution_count": 29,
     "metadata": {},
     "output_type": "execute_result"
    }
   ],
   "source": [
    "# 2010 - Batting DF\n",
    "col_headers_bat = [th.getText() for th in \n",
    "                  table_10bat.findAll('tr')[0].findAll('th')][1:]\n",
    "data_rows_bat = table_10bat.findAll('tr')[1:-2] \n",
    "player_data_bat = [[td.getText() for td in data_rows_bat[i].findAll('td')]\n",
    "               for i in range(len(data_rows_bat))]\n",
    "\n",
    "df_bat_interim = pd.DataFrame(player_data_bat, columns=col_headers_bat)\n",
    "df_bat_interim['Team'] = pd.DataFrame({'Team': teams_list_05to12})\n",
    "df_bat_interim['Year'] = '2010'\n",
    "df_bat_interim['YrTm'] = df_bat_interim['Year'] + df_bat_interim['Team']\n",
    "df_bat = pd.concat([df_bat, df_bat_interim]).reset_index(drop=True)\n",
    "df_bat.shape # should be 126 rows"
   ]
  },
  {
   "cell_type": "code",
   "execution_count": 30,
   "metadata": {
    "hidden": true
   },
   "outputs": [
    {
     "data": {
      "text/plain": [
       "(140, 31)"
      ]
     },
     "execution_count": 30,
     "metadata": {},
     "output_type": "execute_result"
    }
   ],
   "source": [
    "# 2011 - Batting DF\n",
    "col_headers_bat = [th.getText() for th in \n",
    "                  table_11bat.findAll('tr')[0].findAll('th')][1:]\n",
    "data_rows_bat = table_11bat.findAll('tr')[1:-2] \n",
    "player_data_bat = [[td.getText() for td in data_rows_bat[i].findAll('td')]\n",
    "               for i in range(len(data_rows_bat))]\n",
    "\n",
    "df_bat_interim = pd.DataFrame(player_data_bat, columns=col_headers_bat)\n",
    "df_bat_interim['Team'] = pd.DataFrame({'Team': teams_list_05to12})\n",
    "df_bat_interim['Year'] = '2011'\n",
    "df_bat_interim['YrTm'] = df_bat_interim['Year'] + df_bat_interim['Team']\n",
    "df_bat = pd.concat([df_bat, df_bat_interim]).reset_index(drop=True)\n",
    "df_bat.shape # should be 140 rows"
   ]
  },
  {
   "cell_type": "code",
   "execution_count": 31,
   "metadata": {
    "hidden": true
   },
   "outputs": [
    {
     "data": {
      "text/plain": [
       "(154, 31)"
      ]
     },
     "execution_count": 31,
     "metadata": {},
     "output_type": "execute_result"
    }
   ],
   "source": [
    "# 2012 - Batting DF\n",
    "col_headers_bat = [th.getText() for th in \n",
    "                  table_12bat.findAll('tr')[0].findAll('th')][1:]\n",
    "data_rows_bat = table_12bat.findAll('tr')[1:-2] \n",
    "player_data_bat = [[td.getText() for td in data_rows_bat[i].findAll('td')]\n",
    "               for i in range(len(data_rows_bat))]\n",
    "\n",
    "df_bat_interim = pd.DataFrame(player_data_bat, columns=col_headers_bat)\n",
    "df_bat_interim['Team'] = pd.DataFrame({'Team': teams_list_05to12})\n",
    "df_bat_interim['Year'] = '2012'\n",
    "df_bat_interim['YrTm'] = df_bat_interim['Year'] + df_bat_interim['Team']\n",
    "df_bat = pd.concat([df_bat, df_bat_interim]).reset_index(drop=True)\n",
    "df_bat.shape # should be 154 rows"
   ]
  },
  {
   "cell_type": "code",
   "execution_count": 32,
   "metadata": {
    "hidden": true
   },
   "outputs": [
    {
     "data": {
      "text/plain": [
       "(169, 31)"
      ]
     },
     "execution_count": 32,
     "metadata": {},
     "output_type": "execute_result"
    }
   ],
   "source": [
    "# 2013 - Batting DF\n",
    "col_headers_bat = [th.getText() for th in \n",
    "                  table_13bat.findAll('tr')[0].findAll('th')][1:]\n",
    "data_rows_bat = table_13bat.findAll('tr')[1:-2] \n",
    "player_data_bat = [[td.getText() for td in data_rows_bat[i].findAll('td')]\n",
    "               for i in range(len(data_rows_bat))]\n",
    "\n",
    "df_bat_interim = pd.DataFrame(player_data_bat, columns=col_headers_bat)\n",
    "df_bat_interim['Team'] = pd.DataFrame({'Team': teams_list_13to17})\n",
    "df_bat_interim['Year'] = '2013'\n",
    "df_bat_interim['YrTm'] = df_bat_interim['Year'] + df_bat_interim['Team']\n",
    "df_bat = pd.concat([df_bat, df_bat_interim]).reset_index(drop=True)\n",
    "df_bat.shape # should be 169 rows"
   ]
  },
  {
   "cell_type": "code",
   "execution_count": 33,
   "metadata": {
    "hidden": true
   },
   "outputs": [
    {
     "data": {
      "text/plain": [
       "(184, 31)"
      ]
     },
     "execution_count": 33,
     "metadata": {},
     "output_type": "execute_result"
    }
   ],
   "source": [
    "# 2014 - Batting DF\n",
    "col_headers_bat = [th.getText() for th in \n",
    "                  table_14bat.findAll('tr')[0].findAll('th')][1:]\n",
    "data_rows_bat = table_14bat.findAll('tr')[1:-2] \n",
    "player_data_bat = [[td.getText() for td in data_rows_bat[i].findAll('td')]\n",
    "               for i in range(len(data_rows_bat))]\n",
    "\n",
    "df_bat_interim = pd.DataFrame(player_data_bat, columns=col_headers_bat)\n",
    "df_bat_interim['Team'] = pd.DataFrame({'Team': teams_list_13to17})\n",
    "df_bat_interim['Year'] = '2014'\n",
    "df_bat_interim['YrTm'] = df_bat_interim['Year'] + df_bat_interim['Team']\n",
    "df_bat = pd.concat([df_bat, df_bat_interim]).reset_index(drop=True)\n",
    "df_bat.shape # should be 184 rows"
   ]
  },
  {
   "cell_type": "code",
   "execution_count": 34,
   "metadata": {
    "hidden": true
   },
   "outputs": [
    {
     "data": {
      "text/plain": [
       "(199, 31)"
      ]
     },
     "execution_count": 34,
     "metadata": {},
     "output_type": "execute_result"
    }
   ],
   "source": [
    "# 2015 - Batting DF\n",
    "col_headers_bat = [th.getText() for th in \n",
    "                  table_15bat.findAll('tr')[0].findAll('th')][1:]\n",
    "data_rows_bat = table_15bat.findAll('tr')[1:-2] \n",
    "player_data_bat = [[td.getText() for td in data_rows_bat[i].findAll('td')]\n",
    "               for i in range(len(data_rows_bat))]\n",
    "\n",
    "df_bat_interim = pd.DataFrame(player_data_bat, columns=col_headers_bat)\n",
    "df_bat_interim['Team'] = pd.DataFrame({'Team': teams_list_13to17})\n",
    "df_bat_interim['Year'] = '2015'\n",
    "df_bat_interim['YrTm'] = df_bat_interim['Year'] + df_bat_interim['Team']\n",
    "df_bat = pd.concat([df_bat, df_bat_interim]).reset_index(drop=True)\n",
    "df_bat.shape # should be 199 rows"
   ]
  },
  {
   "cell_type": "code",
   "execution_count": 35,
   "metadata": {
    "hidden": true
   },
   "outputs": [
    {
     "data": {
      "text/plain": [
       "(214, 31)"
      ]
     },
     "execution_count": 35,
     "metadata": {},
     "output_type": "execute_result"
    }
   ],
   "source": [
    "# 2016 - Batting DF\n",
    "col_headers_bat = [th.getText() for th in \n",
    "                  table_16bat.findAll('tr')[0].findAll('th')][1:]\n",
    "data_rows_bat = table_16bat.findAll('tr')[1:-2] \n",
    "player_data_bat = [[td.getText() for td in data_rows_bat[i].findAll('td')]\n",
    "               for i in range(len(data_rows_bat))]\n",
    "\n",
    "df_bat_interim = pd.DataFrame(player_data_bat, columns=col_headers_bat)\n",
    "df_bat_interim['Team'] = pd.DataFrame({'Team': teams_list_13to17})\n",
    "df_bat_interim['Year'] = '2016'\n",
    "df_bat_interim['YrTm'] = df_bat_interim['Year'] + df_bat_interim['Team']\n",
    "df_bat = pd.concat([df_bat, df_bat_interim]).reset_index(drop=True)\n",
    "df_bat.shape # should be 214 rows"
   ]
  },
  {
   "cell_type": "code",
   "execution_count": 36,
   "metadata": {
    "hidden": true
   },
   "outputs": [
    {
     "data": {
      "text/plain": [
       "(229, 31)"
      ]
     },
     "execution_count": 36,
     "metadata": {},
     "output_type": "execute_result"
    }
   ],
   "source": [
    "# 2017 - Batting DF\n",
    "col_headers_bat = [th.getText() for th in \n",
    "                  table_17bat.findAll('tr')[0].findAll('th')][1:]\n",
    "data_rows_bat = table_17bat.findAll('tr')[1:-2] \n",
    "player_data_bat = [[td.getText() for td in data_rows_bat[i].findAll('td')]\n",
    "               for i in range(len(data_rows_bat))]\n",
    "\n",
    "df_bat_interim = pd.DataFrame(player_data_bat, columns=col_headers_bat)\n",
    "df_bat_interim['Team'] = pd.DataFrame({'Team': teams_list_13to17})\n",
    "df_bat_interim['Year'] = '2017'\n",
    "df_bat_interim['YrTm'] = df_bat_interim['Year'] + df_bat_interim['Team']\n",
    "df_bat = pd.concat([df_bat, df_bat_interim]).reset_index(drop=True)\n",
    "df_bat.shape # should be 229 rows"
   ]
  },
  {
   "cell_type": "code",
   "execution_count": 37,
   "metadata": {
    "hidden": true
   },
   "outputs": [
    {
     "data": {
      "text/html": [
       "<div>\n",
       "<style scoped>\n",
       "    .dataframe tbody tr th:only-of-type {\n",
       "        vertical-align: middle;\n",
       "    }\n",
       "\n",
       "    .dataframe tbody tr th {\n",
       "        vertical-align: top;\n",
       "    }\n",
       "\n",
       "    .dataframe thead th {\n",
       "        text-align: right;\n",
       "    }\n",
       "</style>\n",
       "<table border=\"1\" class=\"dataframe\">\n",
       "  <thead>\n",
       "    <tr style=\"text-align: right;\">\n",
       "      <th></th>\n",
       "      <th>#Bat</th>\n",
       "      <th>BatAge</th>\n",
       "      <th>R/G</th>\n",
       "      <th>G</th>\n",
       "      <th>PA</th>\n",
       "      <th>AB</th>\n",
       "      <th>R</th>\n",
       "      <th>H</th>\n",
       "      <th>2B</th>\n",
       "      <th>3B</th>\n",
       "      <th>...</th>\n",
       "      <th>TB</th>\n",
       "      <th>GDP</th>\n",
       "      <th>HBP</th>\n",
       "      <th>SH</th>\n",
       "      <th>SF</th>\n",
       "      <th>IBB</th>\n",
       "      <th>LOB</th>\n",
       "      <th>Team</th>\n",
       "      <th>Year</th>\n",
       "      <th>YrTm</th>\n",
       "    </tr>\n",
       "  </thead>\n",
       "  <tbody>\n",
       "    <tr>\n",
       "      <th>190</th>\n",
       "      <td>45</td>\n",
       "      <td>29.1</td>\n",
       "      <td>4.47</td>\n",
       "      <td>162</td>\n",
       "      <td>6116</td>\n",
       "      <td>5575</td>\n",
       "      <td>724</td>\n",
       "      <td>1497</td>\n",
       "      <td>300</td>\n",
       "      <td>42</td>\n",
       "      <td>...</td>\n",
       "      <td>2298</td>\n",
       "      <td>133</td>\n",
       "      <td>77</td>\n",
       "      <td>34</td>\n",
       "      <td>47</td>\n",
       "      <td>28</td>\n",
       "      <td>1079</td>\n",
       "      <td>KCR</td>\n",
       "      <td>2015</td>\n",
       "      <td>2015KCR</td>\n",
       "    </tr>\n",
       "    <tr>\n",
       "      <th>100</th>\n",
       "      <td>45</td>\n",
       "      <td>29.8</td>\n",
       "      <td>4.47</td>\n",
       "      <td>162</td>\n",
       "      <td>6132</td>\n",
       "      <td>5463</td>\n",
       "      <td>724</td>\n",
       "      <td>1410</td>\n",
       "      <td>246</td>\n",
       "      <td>20</td>\n",
       "      <td>...</td>\n",
       "      <td>2248</td>\n",
       "      <td>139</td>\n",
       "      <td>62</td>\n",
       "      <td>34</td>\n",
       "      <td>39</td>\n",
       "      <td>25</td>\n",
       "      <td>1086</td>\n",
       "      <td>CHW</td>\n",
       "      <td>2009</td>\n",
       "      <td>2009CHW</td>\n",
       "    </tr>\n",
       "    <tr>\n",
       "      <th>123</th>\n",
       "      <td>37</td>\n",
       "      <td>27.5</td>\n",
       "      <td>4.95</td>\n",
       "      <td>162</td>\n",
       "      <td>6270</td>\n",
       "      <td>5439</td>\n",
       "      <td>802</td>\n",
       "      <td>1343</td>\n",
       "      <td>295</td>\n",
       "      <td>37</td>\n",
       "      <td>...</td>\n",
       "      <td>2192</td>\n",
       "      <td>92</td>\n",
       "      <td>57</td>\n",
       "      <td>39</td>\n",
       "      <td>57</td>\n",
       "      <td>30</td>\n",
       "      <td>1152</td>\n",
       "      <td>TBD</td>\n",
       "      <td>2010</td>\n",
       "      <td>2010TBD</td>\n",
       "    </tr>\n",
       "    <tr>\n",
       "      <th>56</th>\n",
       "      <td>46</td>\n",
       "      <td>30.4</td>\n",
       "      <td>4.74</td>\n",
       "      <td>162</td>\n",
       "      <td>6240</td>\n",
       "      <td>5610</td>\n",
       "      <td>768</td>\n",
       "      <td>1556</td>\n",
       "      <td>288</td>\n",
       "      <td>20</td>\n",
       "      <td>...</td>\n",
       "      <td>2376</td>\n",
       "      <td>145</td>\n",
       "      <td>73</td>\n",
       "      <td>40</td>\n",
       "      <td>41</td>\n",
       "      <td>35</td>\n",
       "      <td>1177</td>\n",
       "      <td>BAL</td>\n",
       "      <td>2006</td>\n",
       "      <td>2006BAL</td>\n",
       "    </tr>\n",
       "    <tr>\n",
       "      <th>139</th>\n",
       "      <td>53</td>\n",
       "      <td>28.3</td>\n",
       "      <td>4.59</td>\n",
       "      <td>162</td>\n",
       "      <td>6210</td>\n",
       "      <td>5559</td>\n",
       "      <td>743</td>\n",
       "      <td>1384</td>\n",
       "      <td>285</td>\n",
       "      <td>34</td>\n",
       "      <td>...</td>\n",
       "      <td>2295</td>\n",
       "      <td>108</td>\n",
       "      <td>48</td>\n",
       "      <td>31</td>\n",
       "      <td>47</td>\n",
       "      <td>41</td>\n",
       "      <td>1090</td>\n",
       "      <td>TOR</td>\n",
       "      <td>2011</td>\n",
       "      <td>2011TOR</td>\n",
       "    </tr>\n",
       "    <tr>\n",
       "      <th>178</th>\n",
       "      <td>58</td>\n",
       "      <td>32.8</td>\n",
       "      <td>3.91</td>\n",
       "      <td>162</td>\n",
       "      <td>6082</td>\n",
       "      <td>5497</td>\n",
       "      <td>633</td>\n",
       "      <td>1349</td>\n",
       "      <td>247</td>\n",
       "      <td>26</td>\n",
       "      <td>...</td>\n",
       "      <td>2089</td>\n",
       "      <td>111</td>\n",
       "      <td>56</td>\n",
       "      <td>29</td>\n",
       "      <td>47</td>\n",
       "      <td>16</td>\n",
       "      <td>1098</td>\n",
       "      <td>NYY</td>\n",
       "      <td>2014</td>\n",
       "      <td>2014NYY</td>\n",
       "    </tr>\n",
       "    <tr>\n",
       "      <th>91</th>\n",
       "      <td>40</td>\n",
       "      <td>26.2</td>\n",
       "      <td>5.09</td>\n",
       "      <td>163</td>\n",
       "      <td>6331</td>\n",
       "      <td>5641</td>\n",
       "      <td>829</td>\n",
       "      <td>1572</td>\n",
       "      <td>298</td>\n",
       "      <td>49</td>\n",
       "      <td>...</td>\n",
       "      <td>2301</td>\n",
       "      <td>142</td>\n",
       "      <td>36</td>\n",
       "      <td>52</td>\n",
       "      <td>72</td>\n",
       "      <td>48</td>\n",
       "      <td>1140</td>\n",
       "      <td>MIN</td>\n",
       "      <td>2008</td>\n",
       "      <td>2008MIN</td>\n",
       "    </tr>\n",
       "    <tr>\n",
       "      <th>112</th>\n",
       "      <td>45</td>\n",
       "      <td>28.6</td>\n",
       "      <td>3.78</td>\n",
       "      <td>162</td>\n",
       "      <td>6109</td>\n",
       "      <td>5554</td>\n",
       "      <td>613</td>\n",
       "      <td>1440</td>\n",
       "      <td>264</td>\n",
       "      <td>21</td>\n",
       "      <td>...</td>\n",
       "      <td>2145</td>\n",
       "      <td>154</td>\n",
       "      <td>54</td>\n",
       "      <td>31</td>\n",
       "      <td>45</td>\n",
       "      <td>32</td>\n",
       "      <td>1139</td>\n",
       "      <td>BAL</td>\n",
       "      <td>2010</td>\n",
       "      <td>2010BAL</td>\n",
       "    </tr>\n",
       "    <tr>\n",
       "      <th>75</th>\n",
       "      <td>45</td>\n",
       "      <td>28.0</td>\n",
       "      <td>4.36</td>\n",
       "      <td>162</td>\n",
       "      <td>6140</td>\n",
       "      <td>5534</td>\n",
       "      <td>706</td>\n",
       "      <td>1447</td>\n",
       "      <td>300</td>\n",
       "      <td>46</td>\n",
       "      <td>...</td>\n",
       "      <td>2145</td>\n",
       "      <td>151</td>\n",
       "      <td>89</td>\n",
       "      <td>41</td>\n",
       "      <td>47</td>\n",
       "      <td>34</td>\n",
       "      <td>1089</td>\n",
       "      <td>KCR</td>\n",
       "      <td>2007</td>\n",
       "      <td>2007KCR</td>\n",
       "    </tr>\n",
       "    <tr>\n",
       "      <th>145</th>\n",
       "      <td>46</td>\n",
       "      <td>26.1</td>\n",
       "      <td>4.17</td>\n",
       "      <td>162</td>\n",
       "      <td>6149</td>\n",
       "      <td>5636</td>\n",
       "      <td>676</td>\n",
       "      <td>1492</td>\n",
       "      <td>295</td>\n",
       "      <td>37</td>\n",
       "      <td>...</td>\n",
       "      <td>2254</td>\n",
       "      <td>130</td>\n",
       "      <td>42</td>\n",
       "      <td>26</td>\n",
       "      <td>41</td>\n",
       "      <td>35</td>\n",
       "      <td>1087</td>\n",
       "      <td>KCR</td>\n",
       "      <td>2012</td>\n",
       "      <td>2012KCR</td>\n",
       "    </tr>\n",
       "  </tbody>\n",
       "</table>\n",
       "<p>10 rows × 31 columns</p>\n",
       "</div>"
      ],
      "text/plain": [
       "    #Bat BatAge   R/G    G    PA    AB    R     H   2B  3B   ...       TB  \\\n",
       "190   45   29.1  4.47  162  6116  5575  724  1497  300  42   ...     2298   \n",
       "100   45   29.8  4.47  162  6132  5463  724  1410  246  20   ...     2248   \n",
       "123   37   27.5  4.95  162  6270  5439  802  1343  295  37   ...     2192   \n",
       "56    46   30.4  4.74  162  6240  5610  768  1556  288  20   ...     2376   \n",
       "139   53   28.3  4.59  162  6210  5559  743  1384  285  34   ...     2295   \n",
       "178   58   32.8  3.91  162  6082  5497  633  1349  247  26   ...     2089   \n",
       "91    40   26.2  5.09  163  6331  5641  829  1572  298  49   ...     2301   \n",
       "112   45   28.6  3.78  162  6109  5554  613  1440  264  21   ...     2145   \n",
       "75    45   28.0  4.36  162  6140  5534  706  1447  300  46   ...     2145   \n",
       "145   46   26.1  4.17  162  6149  5636  676  1492  295  37   ...     2254   \n",
       "\n",
       "     GDP HBP  SH  SF IBB   LOB Team  Year     YrTm  \n",
       "190  133  77  34  47  28  1079  KCR  2015  2015KCR  \n",
       "100  139  62  34  39  25  1086  CHW  2009  2009CHW  \n",
       "123   92  57  39  57  30  1152  TBD  2010  2010TBD  \n",
       "56   145  73  40  41  35  1177  BAL  2006  2006BAL  \n",
       "139  108  48  31  47  41  1090  TOR  2011  2011TOR  \n",
       "178  111  56  29  47  16  1098  NYY  2014  2014NYY  \n",
       "91   142  36  52  72  48  1140  MIN  2008  2008MIN  \n",
       "112  154  54  31  45  32  1139  BAL  2010  2010BAL  \n",
       "75   151  89  41  47  34  1089  KCR  2007  2007KCR  \n",
       "145  130  42  26  41  35  1087  KCR  2012  2012KCR  \n",
       "\n",
       "[10 rows x 31 columns]"
      ]
     },
     "execution_count": 37,
     "metadata": {},
     "output_type": "execute_result"
    }
   ],
   "source": [
    "df_bat.sample(10)"
   ]
  },
  {
   "cell_type": "markdown",
   "metadata": {
    "heading_collapsed": true,
    "hidden": true
   },
   "source": [
    "### Pitching"
   ]
  },
  {
   "cell_type": "code",
   "execution_count": 38,
   "metadata": {
    "hidden": true
   },
   "outputs": [
    {
     "data": {
      "text/plain": [
       "(14, 38)"
      ]
     },
     "execution_count": 38,
     "metadata": {},
     "output_type": "execute_result"
    }
   ],
   "source": [
    "# 2002 - Pitching DF\n",
    "col_headers_pit = [th.getText() for th in \n",
    "                  table_02pit.findAll('tr')[0].findAll('th')][1:]\n",
    "data_rows_pit = table_02pit.findAll('tr')[1:-2] \n",
    "player_data_pit = [[td.getText() for td in data_rows_pit[i].findAll('td')]\n",
    "               for i in range(len(data_rows_pit))]\n",
    "\n",
    "df_pit = pd.DataFrame(player_data_pit, columns=col_headers_pit)\n",
    "df_pit['Team'] = pd.DataFrame({'Team': teams_list_02to04})\n",
    "df_pit['Year'] = '2002'\n",
    "df_pit['YrTm'] = df_pit['Year'] + df_pit['Team']\n",
    "df_pit.shape # should be 14 rows"
   ]
  },
  {
   "cell_type": "code",
   "execution_count": 39,
   "metadata": {
    "hidden": true
   },
   "outputs": [
    {
     "data": {
      "text/plain": [
       "(28, 38)"
      ]
     },
     "execution_count": 39,
     "metadata": {},
     "output_type": "execute_result"
    }
   ],
   "source": [
    "# 2003 - Pitching DF\n",
    "col_headers_pit = [th.getText() for th in \n",
    "                  table_03pit.findAll('tr')[0].findAll('th')][1:]\n",
    "data_rows_pit = table_03pit.findAll('tr')[1:-2] \n",
    "player_data_pit = [[td.getText() for td in data_rows_pit[i].findAll('td')]\n",
    "               for i in range(len(data_rows_pit))]\n",
    "\n",
    "df_pit_interim = pd.DataFrame(player_data_pit, columns=col_headers_pit)\n",
    "df_pit_interim['Team'] = pd.DataFrame({'Team': teams_list_02to04})\n",
    "df_pit_interim['Year'] = '2003'\n",
    "df_pit_interim['YrTm'] = df_pit_interim['Year'] + df_pit_interim['Team']\n",
    "df_pit = pd.concat([df_pit, df_pit_interim]).reset_index(drop=True)\n",
    "df_pit.shape # should be 28 rows"
   ]
  },
  {
   "cell_type": "code",
   "execution_count": 40,
   "metadata": {
    "hidden": true
   },
   "outputs": [
    {
     "data": {
      "text/plain": [
       "(42, 38)"
      ]
     },
     "execution_count": 40,
     "metadata": {},
     "output_type": "execute_result"
    }
   ],
   "source": [
    "# 2004 - Pitching DF\n",
    "col_headers_pit = [th.getText() for th in \n",
    "                  table_04pit.findAll('tr')[0].findAll('th')][1:]\n",
    "data_rows_pit = table_04pit.findAll('tr')[1:-2] \n",
    "player_data_pit = [[td.getText() for td in data_rows_pit[i].findAll('td')]\n",
    "               for i in range(len(data_rows_pit))]\n",
    "\n",
    "df_pit_interim = pd.DataFrame(player_data_pit, columns=col_headers_pit)\n",
    "df_pit_interim['Team'] = pd.DataFrame({'Team': teams_list_02to04})\n",
    "df_pit_interim['Year'] = '2004'\n",
    "df_pit_interim['YrTm'] = df_pit_interim['Year'] + df_pit_interim['Team']\n",
    "df_pit = pd.concat([df_pit, df_pit_interim]).reset_index(drop=True)\n",
    "df_pit.shape # should be 42 rows"
   ]
  },
  {
   "cell_type": "code",
   "execution_count": 41,
   "metadata": {
    "hidden": true
   },
   "outputs": [
    {
     "data": {
      "text/plain": [
       "(56, 38)"
      ]
     },
     "execution_count": 41,
     "metadata": {},
     "output_type": "execute_result"
    }
   ],
   "source": [
    "# 2005 - Pitching DF\n",
    "col_headers_pit = [th.getText() for th in \n",
    "                  table_05pit.findAll('tr')[0].findAll('th')][1:]\n",
    "data_rows_pit = table_05pit.findAll('tr')[1:-2] \n",
    "player_data_pit = [[td.getText() for td in data_rows_pit[i].findAll('td')]\n",
    "               for i in range(len(data_rows_pit))]\n",
    "\n",
    "df_pit_interim = pd.DataFrame(player_data_pit, columns=col_headers_pit)\n",
    "df_pit_interim['Team'] = pd.DataFrame({'Team': teams_list_05to12})\n",
    "df_pit_interim['Year'] = '2005'\n",
    "df_pit_interim['YrTm'] = df_pit_interim['Year'] + df_pit_interim['Team']\n",
    "df_pit = pd.concat([df_pit, df_pit_interim]).reset_index(drop=True)\n",
    "df_pit.shape # should be 56 rows"
   ]
  },
  {
   "cell_type": "code",
   "execution_count": 42,
   "metadata": {
    "hidden": true
   },
   "outputs": [
    {
     "data": {
      "text/plain": [
       "(70, 38)"
      ]
     },
     "execution_count": 42,
     "metadata": {},
     "output_type": "execute_result"
    }
   ],
   "source": [
    "# 2006 - Pitching DF\n",
    "col_headers_pit = [th.getText() for th in \n",
    "                  table_06pit.findAll('tr')[0].findAll('th')][1:]\n",
    "data_rows_pit = table_06pit.findAll('tr')[1:-2] \n",
    "player_data_pit = [[td.getText() for td in data_rows_pit[i].findAll('td')]\n",
    "               for i in range(len(data_rows_pit))]\n",
    "\n",
    "df_pit_interim = pd.DataFrame(player_data_pit, columns=col_headers_pit)\n",
    "df_pit_interim['Team'] = pd.DataFrame({'Team': teams_list_05to12})\n",
    "df_pit_interim['Year'] = '2006'\n",
    "df_pit_interim['YrTm'] = df_pit_interim['Year'] + df_pit_interim['Team']\n",
    "df_pit = pd.concat([df_pit, df_pit_interim]).reset_index(drop=True)\n",
    "df_pit.shape # should be 70 rows"
   ]
  },
  {
   "cell_type": "code",
   "execution_count": 43,
   "metadata": {
    "hidden": true
   },
   "outputs": [
    {
     "data": {
      "text/plain": [
       "(84, 38)"
      ]
     },
     "execution_count": 43,
     "metadata": {},
     "output_type": "execute_result"
    }
   ],
   "source": [
    "# 2007 - Pitching DF\n",
    "col_headers_pit = [th.getText() for th in \n",
    "                  table_07pit.findAll('tr')[0].findAll('th')][1:]\n",
    "data_rows_pit = table_07pit.findAll('tr')[1:-2] \n",
    "player_data_pit = [[td.getText() for td in data_rows_pit[i].findAll('td')]\n",
    "               for i in range(len(data_rows_pit))]\n",
    "\n",
    "df_pit_interim = pd.DataFrame(player_data_pit, columns=col_headers_pit)\n",
    "df_pit_interim['Team'] = pd.DataFrame({'Team': teams_list_05to12})\n",
    "df_pit_interim['Year'] = '2007'\n",
    "df_pit_interim['YrTm'] = df_pit_interim['Year'] + df_pit_interim['Team']\n",
    "df_pit = pd.concat([df_pit, df_pit_interim]).reset_index(drop=True)\n",
    "df_pit.shape # should be 84 rows"
   ]
  },
  {
   "cell_type": "code",
   "execution_count": 44,
   "metadata": {
    "hidden": true
   },
   "outputs": [
    {
     "data": {
      "text/plain": [
       "(98, 38)"
      ]
     },
     "execution_count": 44,
     "metadata": {},
     "output_type": "execute_result"
    }
   ],
   "source": [
    "# 2008 - Pitching DF\n",
    "col_headers_pit = [th.getText() for th in \n",
    "                  table_08pit.findAll('tr')[0].findAll('th')][1:]\n",
    "data_rows_pit = table_08pit.findAll('tr')[1:-2] \n",
    "player_data_pit = [[td.getText() for td in data_rows_pit[i].findAll('td')]\n",
    "               for i in range(len(data_rows_pit))]\n",
    "\n",
    "df_pit_interim = pd.DataFrame(player_data_pit, columns=col_headers_pit)\n",
    "df_pit_interim['Team'] = pd.DataFrame({'Team': teams_list_05to12})\n",
    "df_pit_interim['Year'] = '2008'\n",
    "df_pit_interim['YrTm'] = df_pit_interim['Year'] + df_pit_interim['Team']\n",
    "df_pit = pd.concat([df_pit, df_pit_interim]).reset_index(drop=True)\n",
    "df_pit.shape # should be 98 rows"
   ]
  },
  {
   "cell_type": "code",
   "execution_count": 45,
   "metadata": {
    "hidden": true
   },
   "outputs": [
    {
     "data": {
      "text/plain": [
       "(112, 38)"
      ]
     },
     "execution_count": 45,
     "metadata": {},
     "output_type": "execute_result"
    }
   ],
   "source": [
    "# 2009 - Pitching DF\n",
    "col_headers_pit = [th.getText() for th in \n",
    "                  table_09pit.findAll('tr')[0].findAll('th')][1:]\n",
    "data_rows_pit = table_09pit.findAll('tr')[1:-2] \n",
    "player_data_pit = [[td.getText() for td in data_rows_pit[i].findAll('td')]\n",
    "               for i in range(len(data_rows_pit))]\n",
    "\n",
    "df_pit_interim = pd.DataFrame(player_data_pit, columns=col_headers_pit)\n",
    "df_pit_interim['Team'] = pd.DataFrame({'Team': teams_list_05to12})\n",
    "df_pit_interim['Year'] = '2009'\n",
    "df_pit_interim['YrTm'] = df_pit_interim['Year'] + df_pit_interim['Team']\n",
    "df_pit = pd.concat([df_pit, df_pit_interim]).reset_index(drop=True)\n",
    "df_pit.shape # should be 112 rows"
   ]
  },
  {
   "cell_type": "code",
   "execution_count": 46,
   "metadata": {
    "hidden": true
   },
   "outputs": [
    {
     "data": {
      "text/plain": [
       "(126, 38)"
      ]
     },
     "execution_count": 46,
     "metadata": {},
     "output_type": "execute_result"
    }
   ],
   "source": [
    "# 2010 - Pitching DF\n",
    "col_headers_pit = [th.getText() for th in \n",
    "                  table_10pit.findAll('tr')[0].findAll('th')][1:]\n",
    "data_rows_pit = table_10pit.findAll('tr')[1:-2] \n",
    "player_data_pit = [[td.getText() for td in data_rows_pit[i].findAll('td')]\n",
    "               for i in range(len(data_rows_pit))]\n",
    "\n",
    "df_pit_interim = pd.DataFrame(player_data_pit, columns=col_headers_pit)\n",
    "df_pit_interim['Team'] = pd.DataFrame({'Team': teams_list_05to12})\n",
    "df_pit_interim['Year'] = '2010'\n",
    "df_pit_interim['YrTm'] = df_pit_interim['Year'] + df_pit_interim['Team']\n",
    "df_pit = pd.concat([df_pit, df_pit_interim]).reset_index(drop=True)\n",
    "df_pit.shape # should be 126 rows"
   ]
  },
  {
   "cell_type": "code",
   "execution_count": 47,
   "metadata": {
    "hidden": true
   },
   "outputs": [
    {
     "data": {
      "text/plain": [
       "(140, 38)"
      ]
     },
     "execution_count": 47,
     "metadata": {},
     "output_type": "execute_result"
    }
   ],
   "source": [
    "# 2011 - Pitching DF\n",
    "col_headers_pit = [th.getText() for th in \n",
    "                  table_11pit.findAll('tr')[0].findAll('th')][1:]\n",
    "data_rows_pit = table_11pit.findAll('tr')[1:-2] \n",
    "player_data_pit = [[td.getText() for td in data_rows_pit[i].findAll('td')]\n",
    "               for i in range(len(data_rows_pit))]\n",
    "\n",
    "df_pit_interim = pd.DataFrame(player_data_pit, columns=col_headers_pit)\n",
    "df_pit_interim['Team'] = pd.DataFrame({'Team': teams_list_05to12})\n",
    "df_pit_interim['Year'] = '2011'\n",
    "df_pit_interim['YrTm'] = df_pit_interim['Year'] + df_pit_interim['Team']\n",
    "df_pit = pd.concat([df_pit, df_pit_interim]).reset_index(drop=True)\n",
    "df_pit.shape # should be 140 rows"
   ]
  },
  {
   "cell_type": "code",
   "execution_count": 48,
   "metadata": {
    "hidden": true
   },
   "outputs": [
    {
     "data": {
      "text/plain": [
       "(154, 38)"
      ]
     },
     "execution_count": 48,
     "metadata": {},
     "output_type": "execute_result"
    }
   ],
   "source": [
    "# 2012 - Pitching DF\n",
    "col_headers_pit = [th.getText() for th in \n",
    "                  table_12pit.findAll('tr')[0].findAll('th')][1:]\n",
    "data_rows_pit = table_12pit.findAll('tr')[1:-2] \n",
    "player_data_pit = [[td.getText() for td in data_rows_pit[i].findAll('td')]\n",
    "               for i in range(len(data_rows_pit))]\n",
    "\n",
    "df_pit_interim = pd.DataFrame(player_data_pit, columns=col_headers_pit)\n",
    "df_pit_interim['Team'] = pd.DataFrame({'Team': teams_list_05to12})\n",
    "df_pit_interim['Year'] = '2012'\n",
    "df_pit_interim['YrTm'] = df_pit_interim['Year'] + df_pit_interim['Team']\n",
    "df_pit = pd.concat([df_pit, df_pit_interim]).reset_index(drop=True)\n",
    "df_pit.shape # should be 154 rows"
   ]
  },
  {
   "cell_type": "code",
   "execution_count": 49,
   "metadata": {
    "hidden": true
   },
   "outputs": [
    {
     "data": {
      "text/plain": [
       "(169, 38)"
      ]
     },
     "execution_count": 49,
     "metadata": {},
     "output_type": "execute_result"
    }
   ],
   "source": [
    "# 2013 - Pitching DF\n",
    "col_headers_pit = [th.getText() for th in \n",
    "                  table_13pit.findAll('tr')[0].findAll('th')][1:]\n",
    "data_rows_pit = table_13pit.findAll('tr')[1:-2] \n",
    "player_data_pit = [[td.getText() for td in data_rows_pit[i].findAll('td')]\n",
    "               for i in range(len(data_rows_pit))]\n",
    "\n",
    "df_pit_interim = pd.DataFrame(player_data_pit, columns=col_headers_pit)\n",
    "df_pit_interim['Team'] = pd.DataFrame({'Team': teams_list_13to17})\n",
    "df_pit_interim['Year'] = '2013'\n",
    "df_pit_interim['YrTm'] = df_pit_interim['Year'] + df_pit_interim['Team']\n",
    "df_pit = pd.concat([df_pit, df_pit_interim]).reset_index(drop=True)\n",
    "df_pit.shape # should be 169 rows"
   ]
  },
  {
   "cell_type": "code",
   "execution_count": 50,
   "metadata": {
    "hidden": true
   },
   "outputs": [
    {
     "data": {
      "text/plain": [
       "(184, 38)"
      ]
     },
     "execution_count": 50,
     "metadata": {},
     "output_type": "execute_result"
    }
   ],
   "source": [
    "# 2014 - Pitching DF\n",
    "col_headers_pit = [th.getText() for th in \n",
    "                  table_14pit.findAll('tr')[0].findAll('th')][1:]\n",
    "data_rows_pit = table_14pit.findAll('tr')[1:-2] \n",
    "player_data_pit = [[td.getText() for td in data_rows_pit[i].findAll('td')]\n",
    "               for i in range(len(data_rows_pit))]\n",
    "\n",
    "df_pit_interim = pd.DataFrame(player_data_pit, columns=col_headers_pit)\n",
    "df_pit_interim['Team'] = pd.DataFrame({'Team': teams_list_13to17})\n",
    "df_pit_interim['Year'] = '2014'\n",
    "df_pit_interim['YrTm'] = df_pit_interim['Year'] + df_pit_interim['Team']\n",
    "df_pit = pd.concat([df_pit, df_pit_interim]).reset_index(drop=True)\n",
    "df_pit.shape # should be 184 rows"
   ]
  },
  {
   "cell_type": "code",
   "execution_count": 51,
   "metadata": {
    "hidden": true
   },
   "outputs": [
    {
     "data": {
      "text/plain": [
       "(199, 38)"
      ]
     },
     "execution_count": 51,
     "metadata": {},
     "output_type": "execute_result"
    }
   ],
   "source": [
    "# 2015 - Pitching DF\n",
    "col_headers_pit = [th.getText() for th in \n",
    "                  table_15pit.findAll('tr')[0].findAll('th')][1:]\n",
    "data_rows_pit = table_15pit.findAll('tr')[1:-2] \n",
    "player_data_pit = [[td.getText() for td in data_rows_pit[i].findAll('td')]\n",
    "               for i in range(len(data_rows_pit))]\n",
    "\n",
    "df_pit_interim = pd.DataFrame(player_data_pit, columns=col_headers_pit)\n",
    "df_pit_interim['Team'] = pd.DataFrame({'Team': teams_list_13to17})\n",
    "df_pit_interim['Year'] = '2015'\n",
    "df_pit_interim['YrTm'] = df_pit_interim['Year'] + df_pit_interim['Team']\n",
    "df_pit = pd.concat([df_pit, df_pit_interim]).reset_index(drop=True)\n",
    "df_pit.shape # should be 199 rows"
   ]
  },
  {
   "cell_type": "code",
   "execution_count": 52,
   "metadata": {
    "hidden": true
   },
   "outputs": [
    {
     "data": {
      "text/plain": [
       "(214, 38)"
      ]
     },
     "execution_count": 52,
     "metadata": {},
     "output_type": "execute_result"
    }
   ],
   "source": [
    "# 2016 - Pitching DF\n",
    "col_headers_pit = [th.getText() for th in \n",
    "                  table_16pit.findAll('tr')[0].findAll('th')][1:]\n",
    "data_rows_pit = table_16pit.findAll('tr')[1:-2] \n",
    "player_data_pit = [[td.getText() for td in data_rows_pit[i].findAll('td')]\n",
    "               for i in range(len(data_rows_pit))]\n",
    "\n",
    "df_pit_interim = pd.DataFrame(player_data_pit, columns=col_headers_pit)\n",
    "df_pit_interim['Team'] = pd.DataFrame({'Team': teams_list_13to17})\n",
    "df_pit_interim['Year'] = '2016'\n",
    "df_pit_interim['YrTm'] = df_pit_interim['Year'] + df_pit_interim['Team']\n",
    "df_pit = pd.concat([df_pit, df_pit_interim]).reset_index(drop=True)\n",
    "df_pit.shape # should be 214 rows"
   ]
  },
  {
   "cell_type": "code",
   "execution_count": 53,
   "metadata": {
    "hidden": true
   },
   "outputs": [
    {
     "data": {
      "text/plain": [
       "(229, 38)"
      ]
     },
     "execution_count": 53,
     "metadata": {},
     "output_type": "execute_result"
    }
   ],
   "source": [
    "# 2017 - Pitching DF\n",
    "col_headers_pit = [th.getText() for th in \n",
    "                  table_17pit.findAll('tr')[0].findAll('th')][1:]\n",
    "data_rows_pit = table_17pit.findAll('tr')[1:-2] \n",
    "player_data_pit = [[td.getText() for td in data_rows_pit[i].findAll('td')]\n",
    "               for i in range(len(data_rows_pit))]\n",
    "\n",
    "df_pit_interim = pd.DataFrame(player_data_pit, columns=col_headers_pit)\n",
    "df_pit_interim['Team'] = pd.DataFrame({'Team': teams_list_13to17})\n",
    "df_pit_interim['Year'] = '2017'\n",
    "df_pit_interim['YrTm'] = df_pit_interim['Year'] + df_pit_interim['Team']\n",
    "df_pit = pd.concat([df_pit, df_pit_interim]).reset_index(drop=True)\n",
    "df_pit.shape # should be 229 rows"
   ]
  },
  {
   "cell_type": "code",
   "execution_count": 54,
   "metadata": {
    "hidden": true
   },
   "outputs": [
    {
     "data": {
      "text/html": [
       "<div>\n",
       "<style scoped>\n",
       "    .dataframe tbody tr th:only-of-type {\n",
       "        vertical-align: middle;\n",
       "    }\n",
       "\n",
       "    .dataframe tbody tr th {\n",
       "        vertical-align: top;\n",
       "    }\n",
       "\n",
       "    .dataframe thead th {\n",
       "        text-align: right;\n",
       "    }\n",
       "</style>\n",
       "<table border=\"1\" class=\"dataframe\">\n",
       "  <thead>\n",
       "    <tr style=\"text-align: right;\">\n",
       "      <th></th>\n",
       "      <th>#P</th>\n",
       "      <th>PAge</th>\n",
       "      <th>RA/G</th>\n",
       "      <th>W</th>\n",
       "      <th>L</th>\n",
       "      <th>W-L%</th>\n",
       "      <th>ERA</th>\n",
       "      <th>G</th>\n",
       "      <th>GS</th>\n",
       "      <th>GF</th>\n",
       "      <th>...</th>\n",
       "      <th>WHIP</th>\n",
       "      <th>H9</th>\n",
       "      <th>HR9</th>\n",
       "      <th>BB9</th>\n",
       "      <th>SO9</th>\n",
       "      <th>SO/W</th>\n",
       "      <th>LOB</th>\n",
       "      <th>Team</th>\n",
       "      <th>Year</th>\n",
       "      <th>YrTm</th>\n",
       "    </tr>\n",
       "  </thead>\n",
       "  <tbody>\n",
       "    <tr>\n",
       "      <th>34</th>\n",
       "      <td>25</td>\n",
       "      <td>27.4</td>\n",
       "      <td>5.59</td>\n",
       "      <td>58</td>\n",
       "      <td>104</td>\n",
       "      <td>.358</td>\n",
       "      <td>5.15</td>\n",
       "      <td>162</td>\n",
       "      <td>162</td>\n",
       "      <td>156</td>\n",
       "      <td>...</td>\n",
       "      <td>1.518</td>\n",
       "      <td>10.4</td>\n",
       "      <td>1.3</td>\n",
       "      <td>3.3</td>\n",
       "      <td>5.6</td>\n",
       "      <td>1.71</td>\n",
       "      <td>1154</td>\n",
       "      <td>KCR</td>\n",
       "      <td>2004</td>\n",
       "      <td>2004KCR</td>\n",
       "    </tr>\n",
       "    <tr>\n",
       "      <th>125</th>\n",
       "      <td>24</td>\n",
       "      <td>28.0</td>\n",
       "      <td>4.49</td>\n",
       "      <td>85</td>\n",
       "      <td>77</td>\n",
       "      <td>.525</td>\n",
       "      <td>4.22</td>\n",
       "      <td>162</td>\n",
       "      <td>162</td>\n",
       "      <td>157</td>\n",
       "      <td>...</td>\n",
       "      <td>1.351</td>\n",
       "      <td>8.8</td>\n",
       "      <td>0.9</td>\n",
       "      <td>3.4</td>\n",
       "      <td>7.4</td>\n",
       "      <td>2.20</td>\n",
       "      <td>1115</td>\n",
       "      <td>TOR</td>\n",
       "      <td>2010</td>\n",
       "      <td>2010TOR</td>\n",
       "    </tr>\n",
       "    <tr>\n",
       "      <th>59</th>\n",
       "      <td>23</td>\n",
       "      <td>28.6</td>\n",
       "      <td>4.83</td>\n",
       "      <td>78</td>\n",
       "      <td>84</td>\n",
       "      <td>.481</td>\n",
       "      <td>4.41</td>\n",
       "      <td>162</td>\n",
       "      <td>162</td>\n",
       "      <td>149</td>\n",
       "      <td>...</td>\n",
       "      <td>1.414</td>\n",
       "      <td>10.0</td>\n",
       "      <td>1.0</td>\n",
       "      <td>2.7</td>\n",
       "      <td>6.0</td>\n",
       "      <td>2.21</td>\n",
       "      <td>1138</td>\n",
       "      <td>CLE</td>\n",
       "      <td>2006</td>\n",
       "      <td>2006CLE</td>\n",
       "    </tr>\n",
       "    <tr>\n",
       "      <th>89</th>\n",
       "      <td>25</td>\n",
       "      <td>27.6</td>\n",
       "      <td>4.82</td>\n",
       "      <td>75</td>\n",
       "      <td>87</td>\n",
       "      <td>.463</td>\n",
       "      <td>4.48</td>\n",
       "      <td>162</td>\n",
       "      <td>162</td>\n",
       "      <td>160</td>\n",
       "      <td>...</td>\n",
       "      <td>1.375</td>\n",
       "      <td>9.2</td>\n",
       "      <td>1.0</td>\n",
       "      <td>3.2</td>\n",
       "      <td>6.8</td>\n",
       "      <td>2.11</td>\n",
       "      <td>1096</td>\n",
       "      <td>KCR</td>\n",
       "      <td>2008</td>\n",
       "      <td>2008KCR</td>\n",
       "    </tr>\n",
       "    <tr>\n",
       "      <th>196</th>\n",
       "      <td>27</td>\n",
       "      <td>26.7</td>\n",
       "      <td>3.96</td>\n",
       "      <td>80</td>\n",
       "      <td>82</td>\n",
       "      <td>.494</td>\n",
       "      <td>3.74</td>\n",
       "      <td>162</td>\n",
       "      <td>162</td>\n",
       "      <td>161</td>\n",
       "      <td>...</td>\n",
       "      <td>1.232</td>\n",
       "      <td>8.1</td>\n",
       "      <td>1.1</td>\n",
       "      <td>3.0</td>\n",
       "      <td>8.4</td>\n",
       "      <td>2.84</td>\n",
       "      <td>1067</td>\n",
       "      <td>TBD</td>\n",
       "      <td>2015</td>\n",
       "      <td>2015TBD</td>\n",
       "    </tr>\n",
       "    <tr>\n",
       "      <th>9</th>\n",
       "      <td>17</td>\n",
       "      <td>27.4</td>\n",
       "      <td>4.04</td>\n",
       "      <td>103</td>\n",
       "      <td>59</td>\n",
       "      <td>.636</td>\n",
       "      <td>3.68</td>\n",
       "      <td>162</td>\n",
       "      <td>162</td>\n",
       "      <td>153</td>\n",
       "      <td>...</td>\n",
       "      <td>1.284</td>\n",
       "      <td>8.6</td>\n",
       "      <td>0.8</td>\n",
       "      <td>2.9</td>\n",
       "      <td>6.3</td>\n",
       "      <td>2.15</td>\n",
       "      <td>1148</td>\n",
       "      <td>OAK</td>\n",
       "      <td>2002</td>\n",
       "      <td>2002OAK</td>\n",
       "    </tr>\n",
       "    <tr>\n",
       "      <th>51</th>\n",
       "      <td>20</td>\n",
       "      <td>26.6</td>\n",
       "      <td>4.06</td>\n",
       "      <td>88</td>\n",
       "      <td>74</td>\n",
       "      <td>.543</td>\n",
       "      <td>3.69</td>\n",
       "      <td>162</td>\n",
       "      <td>162</td>\n",
       "      <td>153</td>\n",
       "      <td>...</td>\n",
       "      <td>1.254</td>\n",
       "      <td>8.2</td>\n",
       "      <td>1.0</td>\n",
       "      <td>3.1</td>\n",
       "      <td>6.7</td>\n",
       "      <td>2.13</td>\n",
       "      <td>1071</td>\n",
       "      <td>OAK</td>\n",
       "      <td>2005</td>\n",
       "      <td>2005OAK</td>\n",
       "    </tr>\n",
       "    <tr>\n",
       "      <th>173</th>\n",
       "      <td>30</td>\n",
       "      <td>28.5</td>\n",
       "      <td>4.35</td>\n",
       "      <td>90</td>\n",
       "      <td>72</td>\n",
       "      <td>.556</td>\n",
       "      <td>4.01</td>\n",
       "      <td>162</td>\n",
       "      <td>162</td>\n",
       "      <td>157</td>\n",
       "      <td>...</td>\n",
       "      <td>1.332</td>\n",
       "      <td>9.1</td>\n",
       "      <td>0.8</td>\n",
       "      <td>2.9</td>\n",
       "      <td>7.7</td>\n",
       "      <td>2.69</td>\n",
       "      <td>1124</td>\n",
       "      <td>DET</td>\n",
       "      <td>2014</td>\n",
       "      <td>2014DET</td>\n",
       "    </tr>\n",
       "    <tr>\n",
       "      <th>158</th>\n",
       "      <td>20</td>\n",
       "      <td>28.4</td>\n",
       "      <td>3.85</td>\n",
       "      <td>93</td>\n",
       "      <td>69</td>\n",
       "      <td>.574</td>\n",
       "      <td>3.61</td>\n",
       "      <td>162</td>\n",
       "      <td>162</td>\n",
       "      <td>159</td>\n",
       "      <td>...</td>\n",
       "      <td>1.252</td>\n",
       "      <td>8.4</td>\n",
       "      <td>0.8</td>\n",
       "      <td>2.8</td>\n",
       "      <td>8.8</td>\n",
       "      <td>3.09</td>\n",
       "      <td>1107</td>\n",
       "      <td>DET</td>\n",
       "      <td>2013</td>\n",
       "      <td>2013DET</td>\n",
       "    </tr>\n",
       "    <tr>\n",
       "      <th>211</th>\n",
       "      <td>25</td>\n",
       "      <td>26.9</td>\n",
       "      <td>4.40</td>\n",
       "      <td>68</td>\n",
       "      <td>94</td>\n",
       "      <td>.420</td>\n",
       "      <td>4.20</td>\n",
       "      <td>162</td>\n",
       "      <td>162</td>\n",
       "      <td>161</td>\n",
       "      <td>...</td>\n",
       "      <td>1.322</td>\n",
       "      <td>8.8</td>\n",
       "      <td>1.3</td>\n",
       "      <td>3.1</td>\n",
       "      <td>8.6</td>\n",
       "      <td>2.76</td>\n",
       "      <td>1084</td>\n",
       "      <td>TBD</td>\n",
       "      <td>2016</td>\n",
       "      <td>2016TBD</td>\n",
       "    </tr>\n",
       "  </tbody>\n",
       "</table>\n",
       "<p>10 rows × 38 columns</p>\n",
       "</div>"
      ],
      "text/plain": [
       "     #P  PAge  RA/G    W    L  W-L%   ERA    G   GS   GF   ...      WHIP  \\\n",
       "34   25  27.4  5.59   58  104  .358  5.15  162  162  156   ...     1.518   \n",
       "125  24  28.0  4.49   85   77  .525  4.22  162  162  157   ...     1.351   \n",
       "59   23  28.6  4.83   78   84  .481  4.41  162  162  149   ...     1.414   \n",
       "89   25  27.6  4.82   75   87  .463  4.48  162  162  160   ...     1.375   \n",
       "196  27  26.7  3.96   80   82  .494  3.74  162  162  161   ...     1.232   \n",
       "9    17  27.4  4.04  103   59  .636  3.68  162  162  153   ...     1.284   \n",
       "51   20  26.6  4.06   88   74  .543  3.69  162  162  153   ...     1.254   \n",
       "173  30  28.5  4.35   90   72  .556  4.01  162  162  157   ...     1.332   \n",
       "158  20  28.4  3.85   93   69  .574  3.61  162  162  159   ...     1.252   \n",
       "211  25  26.9  4.40   68   94  .420  4.20  162  162  161   ...     1.322   \n",
       "\n",
       "       H9  HR9  BB9  SO9  SO/W   LOB Team  Year     YrTm  \n",
       "34   10.4  1.3  3.3  5.6  1.71  1154  KCR  2004  2004KCR  \n",
       "125   8.8  0.9  3.4  7.4  2.20  1115  TOR  2010  2010TOR  \n",
       "59   10.0  1.0  2.7  6.0  2.21  1138  CLE  2006  2006CLE  \n",
       "89    9.2  1.0  3.2  6.8  2.11  1096  KCR  2008  2008KCR  \n",
       "196   8.1  1.1  3.0  8.4  2.84  1067  TBD  2015  2015TBD  \n",
       "9     8.6  0.8  2.9  6.3  2.15  1148  OAK  2002  2002OAK  \n",
       "51    8.2  1.0  3.1  6.7  2.13  1071  OAK  2005  2005OAK  \n",
       "173   9.1  0.8  2.9  7.7  2.69  1124  DET  2014  2014DET  \n",
       "158   8.4  0.8  2.8  8.8  3.09  1107  DET  2013  2013DET  \n",
       "211   8.8  1.3  3.1  8.6  2.76  1084  TBD  2016  2016TBD  \n",
       "\n",
       "[10 rows x 38 columns]"
      ]
     },
     "execution_count": 54,
     "metadata": {},
     "output_type": "execute_result"
    }
   ],
   "source": [
    "df_pit.sample(10)"
   ]
  },
  {
   "cell_type": "code",
   "execution_count": 55,
   "metadata": {
    "hidden": true
   },
   "outputs": [
    {
     "data": {
      "text/html": [
       "<div>\n",
       "<style scoped>\n",
       "    .dataframe tbody tr th:only-of-type {\n",
       "        vertical-align: middle;\n",
       "    }\n",
       "\n",
       "    .dataframe tbody tr th {\n",
       "        vertical-align: top;\n",
       "    }\n",
       "\n",
       "    .dataframe thead th {\n",
       "        text-align: right;\n",
       "    }\n",
       "</style>\n",
       "<table border=\"1\" class=\"dataframe\">\n",
       "  <thead>\n",
       "    <tr style=\"text-align: right;\">\n",
       "      <th></th>\n",
       "      <th>#P</th>\n",
       "      <th>PAge</th>\n",
       "      <th>RA/G</th>\n",
       "      <th>W</th>\n",
       "      <th>L</th>\n",
       "      <th>W-L%</th>\n",
       "      <th>ERA</th>\n",
       "      <th>G</th>\n",
       "      <th>GS</th>\n",
       "      <th>GF</th>\n",
       "      <th>...</th>\n",
       "      <th>WHIP</th>\n",
       "      <th>H9</th>\n",
       "      <th>HR9</th>\n",
       "      <th>BB9</th>\n",
       "      <th>SO9</th>\n",
       "      <th>SO/W</th>\n",
       "      <th>LOB</th>\n",
       "      <th>Team</th>\n",
       "      <th>Year</th>\n",
       "      <th>YrTm</th>\n",
       "    </tr>\n",
       "  </thead>\n",
       "  <tbody>\n",
       "    <tr>\n",
       "      <th>0</th>\n",
       "      <td>18</td>\n",
       "      <td>30.2</td>\n",
       "      <td>3.98</td>\n",
       "      <td>99</td>\n",
       "      <td>63</td>\n",
       "      <td>.611</td>\n",
       "      <td>3.69</td>\n",
       "      <td>162</td>\n",
       "      <td>162</td>\n",
       "      <td>155</td>\n",
       "      <td>...</td>\n",
       "      <td>1.277</td>\n",
       "      <td>8.3</td>\n",
       "      <td>1.0</td>\n",
       "      <td>3.2</td>\n",
       "      <td>6.2</td>\n",
       "      <td>1.96</td>\n",
       "      <td>1096</td>\n",
       "      <td>LAA</td>\n",
       "      <td>2002</td>\n",
       "      <td>2002LAA</td>\n",
       "    </tr>\n",
       "    <tr>\n",
       "      <th>1</th>\n",
       "      <td>20</td>\n",
       "      <td>27.8</td>\n",
       "      <td>4.77</td>\n",
       "      <td>67</td>\n",
       "      <td>95</td>\n",
       "      <td>.414</td>\n",
       "      <td>4.46</td>\n",
       "      <td>162</td>\n",
       "      <td>162</td>\n",
       "      <td>154</td>\n",
       "      <td>...</td>\n",
       "      <td>1.406</td>\n",
       "      <td>9.3</td>\n",
       "      <td>1.3</td>\n",
       "      <td>3.4</td>\n",
       "      <td>6.0</td>\n",
       "      <td>1.76</td>\n",
       "      <td>1133</td>\n",
       "      <td>BAL</td>\n",
       "      <td>2002</td>\n",
       "      <td>2002BAL</td>\n",
       "    </tr>\n",
       "    <tr>\n",
       "      <th>2</th>\n",
       "      <td>18</td>\n",
       "      <td>31.1</td>\n",
       "      <td>4.10</td>\n",
       "      <td>93</td>\n",
       "      <td>69</td>\n",
       "      <td>.574</td>\n",
       "      <td>3.75</td>\n",
       "      <td>162</td>\n",
       "      <td>162</td>\n",
       "      <td>157</td>\n",
       "      <td>...</td>\n",
       "      <td>1.223</td>\n",
       "      <td>8.3</td>\n",
       "      <td>0.9</td>\n",
       "      <td>2.7</td>\n",
       "      <td>7.2</td>\n",
       "      <td>2.69</td>\n",
       "      <td>1046</td>\n",
       "      <td>BOS</td>\n",
       "      <td>2002</td>\n",
       "      <td>2002BOS</td>\n",
       "    </tr>\n",
       "    <tr>\n",
       "      <th>3</th>\n",
       "      <td>16</td>\n",
       "      <td>25.8</td>\n",
       "      <td>4.93</td>\n",
       "      <td>81</td>\n",
       "      <td>81</td>\n",
       "      <td>.500</td>\n",
       "      <td>4.53</td>\n",
       "      <td>162</td>\n",
       "      <td>162</td>\n",
       "      <td>155</td>\n",
       "      <td>...</td>\n",
       "      <td>1.370</td>\n",
       "      <td>9.0</td>\n",
       "      <td>1.2</td>\n",
       "      <td>3.3</td>\n",
       "      <td>6.0</td>\n",
       "      <td>1.79</td>\n",
       "      <td>1064</td>\n",
       "      <td>CHW</td>\n",
       "      <td>2002</td>\n",
       "      <td>2002CHW</td>\n",
       "    </tr>\n",
       "    <tr>\n",
       "      <th>4</th>\n",
       "      <td>31</td>\n",
       "      <td>28.1</td>\n",
       "      <td>5.17</td>\n",
       "      <td>74</td>\n",
       "      <td>88</td>\n",
       "      <td>.457</td>\n",
       "      <td>4.91</td>\n",
       "      <td>162</td>\n",
       "      <td>162</td>\n",
       "      <td>153</td>\n",
       "      <td>...</td>\n",
       "      <td>1.482</td>\n",
       "      <td>9.5</td>\n",
       "      <td>0.9</td>\n",
       "      <td>3.8</td>\n",
       "      <td>6.7</td>\n",
       "      <td>1.75</td>\n",
       "      <td>1160</td>\n",
       "      <td>CLE</td>\n",
       "      <td>2002</td>\n",
       "      <td>2002CLE</td>\n",
       "    </tr>\n",
       "  </tbody>\n",
       "</table>\n",
       "<p>5 rows × 38 columns</p>\n",
       "</div>"
      ],
      "text/plain": [
       "   #P  PAge  RA/G   W   L  W-L%   ERA    G   GS   GF   ...      WHIP   H9  \\\n",
       "0  18  30.2  3.98  99  63  .611  3.69  162  162  155   ...     1.277  8.3   \n",
       "1  20  27.8  4.77  67  95  .414  4.46  162  162  154   ...     1.406  9.3   \n",
       "2  18  31.1  4.10  93  69  .574  3.75  162  162  157   ...     1.223  8.3   \n",
       "3  16  25.8  4.93  81  81  .500  4.53  162  162  155   ...     1.370  9.0   \n",
       "4  31  28.1  5.17  74  88  .457  4.91  162  162  153   ...     1.482  9.5   \n",
       "\n",
       "   HR9  BB9  SO9  SO/W   LOB Team  Year     YrTm  \n",
       "0  1.0  3.2  6.2  1.96  1096  LAA  2002  2002LAA  \n",
       "1  1.3  3.4  6.0  1.76  1133  BAL  2002  2002BAL  \n",
       "2  0.9  2.7  7.2  2.69  1046  BOS  2002  2002BOS  \n",
       "3  1.2  3.3  6.0  1.79  1064  CHW  2002  2002CHW  \n",
       "4  0.9  3.8  6.7  1.75  1160  CLE  2002  2002CLE  \n",
       "\n",
       "[5 rows x 38 columns]"
      ]
     },
     "execution_count": 55,
     "metadata": {},
     "output_type": "execute_result"
    }
   ],
   "source": [
    "df_pit.head()"
   ]
  },
  {
   "cell_type": "code",
   "execution_count": 56,
   "metadata": {
    "hidden": true
   },
   "outputs": [
    {
     "data": {
      "text/html": [
       "<div>\n",
       "<style scoped>\n",
       "    .dataframe tbody tr th:only-of-type {\n",
       "        vertical-align: middle;\n",
       "    }\n",
       "\n",
       "    .dataframe tbody tr th {\n",
       "        vertical-align: top;\n",
       "    }\n",
       "\n",
       "    .dataframe thead th {\n",
       "        text-align: right;\n",
       "    }\n",
       "</style>\n",
       "<table border=\"1\" class=\"dataframe\">\n",
       "  <thead>\n",
       "    <tr style=\"text-align: right;\">\n",
       "      <th></th>\n",
       "      <th>#P</th>\n",
       "      <th>PAge</th>\n",
       "      <th>RA/G</th>\n",
       "      <th>W</th>\n",
       "      <th>L</th>\n",
       "      <th>W-L%</th>\n",
       "      <th>ERA</th>\n",
       "      <th>G</th>\n",
       "      <th>GS</th>\n",
       "      <th>GF</th>\n",
       "      <th>...</th>\n",
       "      <th>WHIP</th>\n",
       "      <th>H9</th>\n",
       "      <th>HR9</th>\n",
       "      <th>BB9</th>\n",
       "      <th>SO9</th>\n",
       "      <th>SO/W</th>\n",
       "      <th>LOB</th>\n",
       "      <th>Team</th>\n",
       "      <th>Year</th>\n",
       "      <th>YrTm</th>\n",
       "    </tr>\n",
       "  </thead>\n",
       "  <tbody>\n",
       "    <tr>\n",
       "      <th>224</th>\n",
       "      <td>28</td>\n",
       "      <td>27.9</td>\n",
       "      <td>5.10</td>\n",
       "      <td>75</td>\n",
       "      <td>87</td>\n",
       "      <td>.463</td>\n",
       "      <td>4.67</td>\n",
       "      <td>162</td>\n",
       "      <td>162</td>\n",
       "      <td>161</td>\n",
       "      <td>...</td>\n",
       "      <td>1.360</td>\n",
       "      <td>9.1</td>\n",
       "      <td>1.3</td>\n",
       "      <td>3.2</td>\n",
       "      <td>7.6</td>\n",
       "      <td>2.39</td>\n",
       "      <td>1048</td>\n",
       "      <td>OAK</td>\n",
       "      <td>2017</td>\n",
       "      <td>2017OAK</td>\n",
       "    </tr>\n",
       "    <tr>\n",
       "      <th>225</th>\n",
       "      <td>40</td>\n",
       "      <td>27.8</td>\n",
       "      <td>4.77</td>\n",
       "      <td>78</td>\n",
       "      <td>84</td>\n",
       "      <td>.481</td>\n",
       "      <td>4.46</td>\n",
       "      <td>162</td>\n",
       "      <td>162</td>\n",
       "      <td>161</td>\n",
       "      <td>...</td>\n",
       "      <td>1.312</td>\n",
       "      <td>8.7</td>\n",
       "      <td>1.5</td>\n",
       "      <td>3.1</td>\n",
       "      <td>7.8</td>\n",
       "      <td>2.54</td>\n",
       "      <td>1039</td>\n",
       "      <td>SEA</td>\n",
       "      <td>2017</td>\n",
       "      <td>2017SEA</td>\n",
       "    </tr>\n",
       "    <tr>\n",
       "      <th>226</th>\n",
       "      <td>30</td>\n",
       "      <td>27.6</td>\n",
       "      <td>4.35</td>\n",
       "      <td>80</td>\n",
       "      <td>82</td>\n",
       "      <td>.494</td>\n",
       "      <td>3.97</td>\n",
       "      <td>162</td>\n",
       "      <td>162</td>\n",
       "      <td>162</td>\n",
       "      <td>...</td>\n",
       "      <td>1.264</td>\n",
       "      <td>8.2</td>\n",
       "      <td>1.2</td>\n",
       "      <td>3.1</td>\n",
       "      <td>8.4</td>\n",
       "      <td>2.69</td>\n",
       "      <td>1060</td>\n",
       "      <td>TBD</td>\n",
       "      <td>2017</td>\n",
       "      <td>2017TBD</td>\n",
       "    </tr>\n",
       "    <tr>\n",
       "      <th>227</th>\n",
       "      <td>31</td>\n",
       "      <td>28.8</td>\n",
       "      <td>5.04</td>\n",
       "      <td>78</td>\n",
       "      <td>84</td>\n",
       "      <td>.481</td>\n",
       "      <td>4.66</td>\n",
       "      <td>162</td>\n",
       "      <td>162</td>\n",
       "      <td>160</td>\n",
       "      <td>...</td>\n",
       "      <td>1.396</td>\n",
       "      <td>9.1</td>\n",
       "      <td>1.3</td>\n",
       "      <td>3.5</td>\n",
       "      <td>6.9</td>\n",
       "      <td>1.98</td>\n",
       "      <td>1092</td>\n",
       "      <td>TEX</td>\n",
       "      <td>2017</td>\n",
       "      <td>2017TEX</td>\n",
       "    </tr>\n",
       "    <tr>\n",
       "      <th>228</th>\n",
       "      <td>33</td>\n",
       "      <td>28.8</td>\n",
       "      <td>4.84</td>\n",
       "      <td>76</td>\n",
       "      <td>86</td>\n",
       "      <td>.469</td>\n",
       "      <td>4.42</td>\n",
       "      <td>162</td>\n",
       "      <td>162</td>\n",
       "      <td>160</td>\n",
       "      <td>...</td>\n",
       "      <td>1.371</td>\n",
       "      <td>9.0</td>\n",
       "      <td>1.2</td>\n",
       "      <td>3.4</td>\n",
       "      <td>8.4</td>\n",
       "      <td>2.50</td>\n",
       "      <td>1137</td>\n",
       "      <td>TOR</td>\n",
       "      <td>2017</td>\n",
       "      <td>2017TOR</td>\n",
       "    </tr>\n",
       "  </tbody>\n",
       "</table>\n",
       "<p>5 rows × 38 columns</p>\n",
       "</div>"
      ],
      "text/plain": [
       "     #P  PAge  RA/G   W   L  W-L%   ERA    G   GS   GF   ...      WHIP   H9  \\\n",
       "224  28  27.9  5.10  75  87  .463  4.67  162  162  161   ...     1.360  9.1   \n",
       "225  40  27.8  4.77  78  84  .481  4.46  162  162  161   ...     1.312  8.7   \n",
       "226  30  27.6  4.35  80  82  .494  3.97  162  162  162   ...     1.264  8.2   \n",
       "227  31  28.8  5.04  78  84  .481  4.66  162  162  160   ...     1.396  9.1   \n",
       "228  33  28.8  4.84  76  86  .469  4.42  162  162  160   ...     1.371  9.0   \n",
       "\n",
       "     HR9  BB9  SO9  SO/W   LOB Team  Year     YrTm  \n",
       "224  1.3  3.2  7.6  2.39  1048  OAK  2017  2017OAK  \n",
       "225  1.5  3.1  7.8  2.54  1039  SEA  2017  2017SEA  \n",
       "226  1.2  3.1  8.4  2.69  1060  TBD  2017  2017TBD  \n",
       "227  1.3  3.5  6.9  1.98  1092  TEX  2017  2017TEX  \n",
       "228  1.2  3.4  8.4  2.50  1137  TOR  2017  2017TOR  \n",
       "\n",
       "[5 rows x 38 columns]"
      ]
     },
     "execution_count": 56,
     "metadata": {},
     "output_type": "execute_result"
    }
   ],
   "source": [
    "df_pit.tail()"
   ]
  },
  {
   "cell_type": "markdown",
   "metadata": {
    "heading_collapsed": true,
    "hidden": true
   },
   "source": [
    "### Fielding"
   ]
  },
  {
   "cell_type": "code",
   "execution_count": 57,
   "metadata": {
    "hidden": true
   },
   "outputs": [
    {
     "data": {
      "text/plain": [
       "(14, 18)"
      ]
     },
     "execution_count": 57,
     "metadata": {},
     "output_type": "execute_result"
    }
   ],
   "source": [
    "# 2002 - Fielding DF\n",
    "col_headers_fld = [th.getText() for th in \n",
    "                  table_02fld.findAll('tr')[0].findAll('th')][1:]\n",
    "data_rows_fld = table_02fld.findAll('tr')[1:-2] \n",
    "player_data_fld = [[td.getText() for td in data_rows_fld[i].findAll('td')]\n",
    "               for i in range(len(data_rows_fld))]\n",
    "\n",
    "df_fld = pd.DataFrame(player_data_fld, columns=col_headers_fld)\n",
    "df_fld['Team'] = pd.DataFrame({'Team': teams_list_02to04})\n",
    "df_fld['Year'] = '2002'\n",
    "df_fld['YrTm'] = df_fld['Year'] + df_fld['Team']\n",
    "df_fld.shape # should be 14 rows"
   ]
  },
  {
   "cell_type": "code",
   "execution_count": 58,
   "metadata": {
    "hidden": true
   },
   "outputs": [
    {
     "data": {
      "text/plain": [
       "(28, 20)"
      ]
     },
     "execution_count": 58,
     "metadata": {},
     "output_type": "execute_result"
    }
   ],
   "source": [
    "# 2003 - Fielding DF\n",
    "col_headers_fld = [th.getText() for th in \n",
    "                  table_03fld.findAll('tr')[0].findAll('th')][1:]\n",
    "data_rows_fld = table_03fld.findAll('tr')[1:-2] \n",
    "player_data_fld = [[td.getText() for td in data_rows_fld[i].findAll('td')]\n",
    "               for i in range(len(data_rows_fld))]\n",
    "\n",
    "df_fld_interim = pd.DataFrame(player_data_fld, columns=col_headers_fld)\n",
    "df_fld_interim['Team'] = pd.DataFrame({'Team': teams_list_02to04})\n",
    "df_fld_interim['Year'] = '2003'\n",
    "df_fld_interim['YrTm'] = df_fld_interim['Year'] + df_fld_interim['Team']\n",
    "df_fld = pd.concat([df_fld, df_fld_interim]).reset_index(drop=True)\n",
    "df_fld.shape # should be 28 rows"
   ]
  },
  {
   "cell_type": "markdown",
   "metadata": {
    "hidden": true
   },
   "source": [
    "Columns increased from 18 to 20 starting in 2003 because of addition of two stats:\n",
    "* **Rdrs:** Defensive runs saved above average\n",
    "* **Rdrs/yr:** Defensive runs saved above average per 1,200 innings (appx 135 games)"
   ]
  },
  {
   "cell_type": "code",
   "execution_count": 59,
   "metadata": {
    "hidden": true
   },
   "outputs": [
    {
     "data": {
      "text/plain": [
       "(42, 20)"
      ]
     },
     "execution_count": 59,
     "metadata": {},
     "output_type": "execute_result"
    }
   ],
   "source": [
    "# 2004 - Fielding DF\n",
    "col_headers_fld = [th.getText() for th in \n",
    "                  table_04fld.findAll('tr')[0].findAll('th')][1:]\n",
    "data_rows_fld = table_04fld.findAll('tr')[1:-2] \n",
    "player_data_fld = [[td.getText() for td in data_rows_fld[i].findAll('td')]\n",
    "               for i in range(len(data_rows_fld))]\n",
    "\n",
    "df_fld_interim = pd.DataFrame(player_data_fld, columns=col_headers_fld)\n",
    "df_fld_interim['Team'] = pd.DataFrame({'Team': teams_list_02to04})\n",
    "df_fld_interim['Year'] = '2004'\n",
    "df_fld_interim['YrTm'] = df_fld_interim['Year'] + df_fld_interim['Team']\n",
    "df_fld = pd.concat([df_fld, df_fld_interim]).reset_index(drop=True)\n",
    "df_fld.shape # should be 42 rows"
   ]
  },
  {
   "cell_type": "code",
   "execution_count": 60,
   "metadata": {
    "hidden": true
   },
   "outputs": [
    {
     "data": {
      "text/plain": [
       "(56, 20)"
      ]
     },
     "execution_count": 60,
     "metadata": {},
     "output_type": "execute_result"
    }
   ],
   "source": [
    "# 2005 - Fielding DF\n",
    "col_headers_fld = [th.getText() for th in \n",
    "                  table_05fld.findAll('tr')[0].findAll('th')][1:]\n",
    "data_rows_fld = table_05fld.findAll('tr')[1:-2] \n",
    "player_data_fld = [[td.getText() for td in data_rows_fld[i].findAll('td')]\n",
    "               for i in range(len(data_rows_fld))]\n",
    "\n",
    "df_fld_interim = pd.DataFrame(player_data_fld, columns=col_headers_fld)\n",
    "df_fld_interim['Team'] = pd.DataFrame({'Team': teams_list_05to12})\n",
    "df_fld_interim['Year'] = '2005'\n",
    "df_fld_interim['YrTm'] = df_fld_interim['Year'] + df_fld_interim['Team']\n",
    "df_fld = pd.concat([df_fld, df_fld_interim]).reset_index(drop=True)\n",
    "df_fld.shape # should be 56 rows"
   ]
  },
  {
   "cell_type": "code",
   "execution_count": 61,
   "metadata": {
    "hidden": true
   },
   "outputs": [
    {
     "data": {
      "text/plain": [
       "(70, 20)"
      ]
     },
     "execution_count": 61,
     "metadata": {},
     "output_type": "execute_result"
    }
   ],
   "source": [
    "# 2006 - Fielding DF\n",
    "col_headers_fld = [th.getText() for th in \n",
    "                  table_06fld.findAll('tr')[0].findAll('th')][1:]\n",
    "data_rows_fld = table_06fld.findAll('tr')[1:-2] \n",
    "player_data_fld = [[td.getText() for td in data_rows_fld[i].findAll('td')]\n",
    "               for i in range(len(data_rows_fld))]\n",
    "\n",
    "df_fld_interim = pd.DataFrame(player_data_fld, columns=col_headers_fld)\n",
    "df_fld_interim['Team'] = pd.DataFrame({'Team': teams_list_05to12})\n",
    "df_fld_interim['Year'] = '2006'\n",
    "df_fld_interim['YrTm'] = df_fld_interim['Year'] + df_fld_interim['Team']\n",
    "df_fld = pd.concat([df_fld, df_fld_interim]).reset_index(drop=True)\n",
    "df_fld.shape # should be 70 rows"
   ]
  },
  {
   "cell_type": "code",
   "execution_count": 62,
   "metadata": {
    "hidden": true
   },
   "outputs": [
    {
     "data": {
      "text/plain": [
       "(84, 20)"
      ]
     },
     "execution_count": 62,
     "metadata": {},
     "output_type": "execute_result"
    }
   ],
   "source": [
    "# 2007 - Fielding DF\n",
    "col_headers_fld = [th.getText() for th in \n",
    "                  table_07fld.findAll('tr')[0].findAll('th')][1:]\n",
    "data_rows_fld = table_07fld.findAll('tr')[1:-2] \n",
    "player_data_fld = [[td.getText() for td in data_rows_fld[i].findAll('td')]\n",
    "               for i in range(len(data_rows_fld))]\n",
    "\n",
    "df_fld_interim = pd.DataFrame(player_data_fld, columns=col_headers_fld)\n",
    "df_fld_interim['Team'] = pd.DataFrame({'Team': teams_list_05to12})\n",
    "df_fld_interim['Year'] = '2007'\n",
    "df_fld_interim['YrTm'] = df_fld_interim['Year'] + df_fld_interim['Team']\n",
    "df_fld = pd.concat([df_fld, df_fld_interim]).reset_index(drop=True)\n",
    "df_fld.shape # should be 84 rows"
   ]
  },
  {
   "cell_type": "code",
   "execution_count": 63,
   "metadata": {
    "hidden": true
   },
   "outputs": [
    {
     "data": {
      "text/plain": [
       "(98, 20)"
      ]
     },
     "execution_count": 63,
     "metadata": {},
     "output_type": "execute_result"
    }
   ],
   "source": [
    "# 2008 - Fielding DF\n",
    "col_headers_fld = [th.getText() for th in \n",
    "                  table_08fld.findAll('tr')[0].findAll('th')][1:]\n",
    "data_rows_fld = table_08fld.findAll('tr')[1:-2] \n",
    "player_data_fld = [[td.getText() for td in data_rows_fld[i].findAll('td')]\n",
    "               for i in range(len(data_rows_fld))]\n",
    "\n",
    "df_fld_interim = pd.DataFrame(player_data_fld, columns=col_headers_fld)\n",
    "df_fld_interim['Team'] = pd.DataFrame({'Team': teams_list_05to12})\n",
    "df_fld_interim['Year'] = '2008'\n",
    "df_fld_interim['YrTm'] = df_fld_interim['Year'] + df_fld_interim['Team']\n",
    "df_fld = pd.concat([df_fld, df_fld_interim]).reset_index(drop=True)\n",
    "df_fld.shape # should be 98 rows"
   ]
  },
  {
   "cell_type": "code",
   "execution_count": 64,
   "metadata": {
    "hidden": true
   },
   "outputs": [
    {
     "data": {
      "text/plain": [
       "(112, 20)"
      ]
     },
     "execution_count": 64,
     "metadata": {},
     "output_type": "execute_result"
    }
   ],
   "source": [
    "# 2009 - Fielding DF\n",
    "col_headers_fld = [th.getText() for th in \n",
    "                  table_09fld.findAll('tr')[0].findAll('th')][1:]\n",
    "data_rows_fld = table_09fld.findAll('tr')[1:-2] \n",
    "player_data_fld = [[td.getText() for td in data_rows_fld[i].findAll('td')]\n",
    "               for i in range(len(data_rows_fld))]\n",
    "\n",
    "df_fld_interim = pd.DataFrame(player_data_fld, columns=col_headers_fld)\n",
    "df_fld_interim['Team'] = pd.DataFrame({'Team': teams_list_05to12})\n",
    "df_fld_interim['Year'] = '2009'\n",
    "df_fld_interim['YrTm'] = df_fld_interim['Year'] + df_fld_interim['Team']\n",
    "df_fld = pd.concat([df_fld, df_fld_interim]).reset_index(drop=True)\n",
    "df_fld.shape # should be 112 rows"
   ]
  },
  {
   "cell_type": "code",
   "execution_count": 65,
   "metadata": {
    "hidden": true
   },
   "outputs": [
    {
     "data": {
      "text/plain": [
       "(126, 20)"
      ]
     },
     "execution_count": 65,
     "metadata": {},
     "output_type": "execute_result"
    }
   ],
   "source": [
    "# 2010 - Fielding DF\n",
    "col_headers_fld = [th.getText() for th in \n",
    "                  table_10fld.findAll('tr')[0].findAll('th')][1:]\n",
    "data_rows_fld = table_10fld.findAll('tr')[1:-2] \n",
    "player_data_fld = [[td.getText() for td in data_rows_fld[i].findAll('td')]\n",
    "               for i in range(len(data_rows_fld))]\n",
    "\n",
    "df_fld_interim = pd.DataFrame(player_data_fld, columns=col_headers_fld)\n",
    "df_fld_interim['Team'] = pd.DataFrame({'Team': teams_list_05to12})\n",
    "df_fld_interim['Year'] = '2010'\n",
    "df_fld_interim['YrTm'] = df_fld_interim['Year'] + df_fld_interim['Team']\n",
    "df_fld = pd.concat([df_fld, df_fld_interim]).reset_index(drop=True)\n",
    "df_fld.shape # should be 126 rows"
   ]
  },
  {
   "cell_type": "code",
   "execution_count": 66,
   "metadata": {
    "hidden": true
   },
   "outputs": [
    {
     "data": {
      "text/plain": [
       "(140, 20)"
      ]
     },
     "execution_count": 66,
     "metadata": {},
     "output_type": "execute_result"
    }
   ],
   "source": [
    "# 2011 - Fielding DF\n",
    "col_headers_fld = [th.getText() for th in \n",
    "                  table_11fld.findAll('tr')[0].findAll('th')][1:]\n",
    "data_rows_fld = table_11fld.findAll('tr')[1:-2] \n",
    "player_data_fld = [[td.getText() for td in data_rows_fld[i].findAll('td')]\n",
    "               for i in range(len(data_rows_fld))]\n",
    "\n",
    "df_fld_interim = pd.DataFrame(player_data_fld, columns=col_headers_fld)\n",
    "df_fld_interim['Team'] = pd.DataFrame({'Team': teams_list_05to12})\n",
    "df_fld_interim['Year'] = '2011'\n",
    "df_fld_interim['YrTm'] = df_fld_interim['Year'] + df_fld_interim['Team']\n",
    "df_fld = pd.concat([df_fld, df_fld_interim]).reset_index(drop=True)\n",
    "df_fld.shape # should be 140 rows"
   ]
  },
  {
   "cell_type": "code",
   "execution_count": 67,
   "metadata": {
    "hidden": true
   },
   "outputs": [
    {
     "data": {
      "text/plain": [
       "(154, 20)"
      ]
     },
     "execution_count": 67,
     "metadata": {},
     "output_type": "execute_result"
    }
   ],
   "source": [
    "# 2012 - Fielding DF\n",
    "col_headers_fld = [th.getText() for th in \n",
    "                  table_12fld.findAll('tr')[0].findAll('th')][1:]\n",
    "data_rows_fld = table_12fld.findAll('tr')[1:-2] \n",
    "player_data_fld = [[td.getText() for td in data_rows_fld[i].findAll('td')]\n",
    "               for i in range(len(data_rows_fld))]\n",
    "\n",
    "df_fld_interim = pd.DataFrame(player_data_fld, columns=col_headers_fld)\n",
    "df_fld_interim['Team'] = pd.DataFrame({'Team': teams_list_05to12})\n",
    "df_fld_interim['Year'] = '2012'\n",
    "df_fld_interim['YrTm'] = df_fld_interim['Year'] + df_fld_interim['Team']\n",
    "df_fld = pd.concat([df_fld, df_fld_interim]).reset_index(drop=True)\n",
    "df_fld.shape # should be 154 rows"
   ]
  },
  {
   "cell_type": "code",
   "execution_count": 68,
   "metadata": {
    "hidden": true
   },
   "outputs": [
    {
     "data": {
      "text/plain": [
       "(169, 20)"
      ]
     },
     "execution_count": 68,
     "metadata": {},
     "output_type": "execute_result"
    }
   ],
   "source": [
    "# 2013 - Fielding DF\n",
    "col_headers_fld = [th.getText() for th in \n",
    "                  table_13fld.findAll('tr')[0].findAll('th')][1:]\n",
    "data_rows_fld = table_13fld.findAll('tr')[1:-2] \n",
    "player_data_fld = [[td.getText() for td in data_rows_fld[i].findAll('td')]\n",
    "               for i in range(len(data_rows_fld))]\n",
    "\n",
    "df_fld_interim = pd.DataFrame(player_data_fld, columns=col_headers_fld)\n",
    "df_fld_interim['Team'] = pd.DataFrame({'Team': teams_list_13to17})\n",
    "df_fld_interim['Year'] = '2013'\n",
    "df_fld_interim['YrTm'] = df_fld_interim['Year'] + df_fld_interim['Team']\n",
    "df_fld = pd.concat([df_fld, df_fld_interim]).reset_index(drop=True)\n",
    "df_fld.shape # should be 169 rows"
   ]
  },
  {
   "cell_type": "code",
   "execution_count": 69,
   "metadata": {
    "hidden": true
   },
   "outputs": [
    {
     "data": {
      "text/plain": [
       "(184, 20)"
      ]
     },
     "execution_count": 69,
     "metadata": {},
     "output_type": "execute_result"
    }
   ],
   "source": [
    "# 2014 - Fielding DF\n",
    "col_headers_fld = [th.getText() for th in \n",
    "                  table_14fld.findAll('tr')[0].findAll('th')][1:]\n",
    "data_rows_fld = table_14fld.findAll('tr')[1:-2] \n",
    "player_data_fld = [[td.getText() for td in data_rows_fld[i].findAll('td')]\n",
    "               for i in range(len(data_rows_fld))]\n",
    "\n",
    "df_fld_interim = pd.DataFrame(player_data_fld, columns=col_headers_fld)\n",
    "df_fld_interim['Team'] = pd.DataFrame({'Team': teams_list_13to17})\n",
    "df_fld_interim['Year'] = '2014'\n",
    "df_fld_interim['YrTm'] = df_fld_interim['Year'] + df_fld_interim['Team']\n",
    "df_fld = pd.concat([df_fld, df_fld_interim]).reset_index(drop=True)\n",
    "df_fld.shape # should be 184 rows"
   ]
  },
  {
   "cell_type": "code",
   "execution_count": 70,
   "metadata": {
    "hidden": true
   },
   "outputs": [
    {
     "data": {
      "text/plain": [
       "(199, 20)"
      ]
     },
     "execution_count": 70,
     "metadata": {},
     "output_type": "execute_result"
    }
   ],
   "source": [
    "# 2015 - Fielding DF\n",
    "col_headers_fld = [th.getText() for th in \n",
    "                  table_15fld.findAll('tr')[0].findAll('th')][1:]\n",
    "data_rows_fld = table_15fld.findAll('tr')[1:-2] \n",
    "player_data_fld = [[td.getText() for td in data_rows_fld[i].findAll('td')]\n",
    "               for i in range(len(data_rows_fld))]\n",
    "\n",
    "df_fld_interim = pd.DataFrame(player_data_fld, columns=col_headers_fld)\n",
    "df_fld_interim['Team'] = pd.DataFrame({'Team': teams_list_13to17})\n",
    "df_fld_interim['Year'] = '2015'\n",
    "df_fld_interim['YrTm'] = df_fld_interim['Year'] + df_fld_interim['Team']\n",
    "df_fld = pd.concat([df_fld, df_fld_interim]).reset_index(drop=True)\n",
    "df_fld.shape # should be 199 rows"
   ]
  },
  {
   "cell_type": "code",
   "execution_count": 71,
   "metadata": {
    "hidden": true
   },
   "outputs": [
    {
     "data": {
      "text/plain": [
       "(214, 20)"
      ]
     },
     "execution_count": 71,
     "metadata": {},
     "output_type": "execute_result"
    }
   ],
   "source": [
    "# 2016 - Fielding DF\n",
    "col_headers_fld = [th.getText() for th in \n",
    "                  table_16fld.findAll('tr')[0].findAll('th')][1:]\n",
    "data_rows_fld = table_16fld.findAll('tr')[1:-2] \n",
    "player_data_fld = [[td.getText() for td in data_rows_fld[i].findAll('td')]\n",
    "               for i in range(len(data_rows_fld))]\n",
    "\n",
    "df_fld_interim = pd.DataFrame(player_data_fld, columns=col_headers_fld)\n",
    "df_fld_interim['Team'] = pd.DataFrame({'Team': teams_list_13to17})\n",
    "df_fld_interim['Year'] = '2016'\n",
    "df_fld_interim['YrTm'] = df_fld_interim['Year'] + df_fld_interim['Team']\n",
    "df_fld = pd.concat([df_fld, df_fld_interim]).reset_index(drop=True)\n",
    "df_fld.shape # should be 214 rows"
   ]
  },
  {
   "cell_type": "code",
   "execution_count": 72,
   "metadata": {
    "hidden": true
   },
   "outputs": [
    {
     "data": {
      "text/plain": [
       "(229, 20)"
      ]
     },
     "execution_count": 72,
     "metadata": {},
     "output_type": "execute_result"
    }
   ],
   "source": [
    "# 2017 - Fielding DF\n",
    "col_headers_fld = [th.getText() for th in \n",
    "                  table_17fld.findAll('tr')[0].findAll('th')][1:]\n",
    "data_rows_fld = table_17fld.findAll('tr')[1:-2] \n",
    "player_data_fld = [[td.getText() for td in data_rows_fld[i].findAll('td')]\n",
    "               for i in range(len(data_rows_fld))]\n",
    "\n",
    "df_fld_interim = pd.DataFrame(player_data_fld, columns=col_headers_fld)\n",
    "df_fld_interim['Team'] = pd.DataFrame({'Team': teams_list_13to17})\n",
    "df_fld_interim['Year'] = '2017'\n",
    "df_fld_interim['YrTm'] = df_fld_interim['Year'] + df_fld_interim['Team']\n",
    "df_fld = pd.concat([df_fld, df_fld_interim]).reset_index(drop=True)\n",
    "df_fld.shape # should be 229 rows"
   ]
  },
  {
   "cell_type": "code",
   "execution_count": 73,
   "metadata": {
    "hidden": true
   },
   "outputs": [
    {
     "data": {
      "text/html": [
       "<div>\n",
       "<style scoped>\n",
       "    .dataframe tbody tr th:only-of-type {\n",
       "        vertical-align: middle;\n",
       "    }\n",
       "\n",
       "    .dataframe tbody tr th {\n",
       "        vertical-align: top;\n",
       "    }\n",
       "\n",
       "    .dataframe thead th {\n",
       "        text-align: right;\n",
       "    }\n",
       "</style>\n",
       "<table border=\"1\" class=\"dataframe\">\n",
       "  <thead>\n",
       "    <tr style=\"text-align: right;\">\n",
       "      <th></th>\n",
       "      <th>#Fld</th>\n",
       "      <th>A</th>\n",
       "      <th>CG</th>\n",
       "      <th>Ch</th>\n",
       "      <th>DP</th>\n",
       "      <th>DefEff</th>\n",
       "      <th>E</th>\n",
       "      <th>Fld%</th>\n",
       "      <th>G</th>\n",
       "      <th>GS</th>\n",
       "      <th>Inn</th>\n",
       "      <th>PO</th>\n",
       "      <th>RA/G</th>\n",
       "      <th>Rdrs</th>\n",
       "      <th>Rdrs/yr</th>\n",
       "      <th>Rtot</th>\n",
       "      <th>Rtot/yr</th>\n",
       "      <th>Team</th>\n",
       "      <th>Year</th>\n",
       "      <th>YrTm</th>\n",
       "    </tr>\n",
       "  </thead>\n",
       "  <tbody>\n",
       "    <tr>\n",
       "      <th>0</th>\n",
       "      <td>40</td>\n",
       "      <td>1575</td>\n",
       "      <td>1075</td>\n",
       "      <td>6020</td>\n",
       "      <td>151</td>\n",
       "      <td>.718</td>\n",
       "      <td>87</td>\n",
       "      <td>.986</td>\n",
       "      <td>162</td>\n",
       "      <td>1458</td>\n",
       "      <td>13071.0</td>\n",
       "      <td>4358</td>\n",
       "      <td>3.98</td>\n",
       "      <td>NaN</td>\n",
       "      <td>NaN</td>\n",
       "      <td>98</td>\n",
       "      <td>9</td>\n",
       "      <td>LAA</td>\n",
       "      <td>2002</td>\n",
       "      <td>2002LAA</td>\n",
       "    </tr>\n",
       "    <tr>\n",
       "      <th>1</th>\n",
       "      <td>46</td>\n",
       "      <td>1720</td>\n",
       "      <td>1165</td>\n",
       "      <td>6163</td>\n",
       "      <td>173</td>\n",
       "      <td>.701</td>\n",
       "      <td>91</td>\n",
       "      <td>.985</td>\n",
       "      <td>162</td>\n",
       "      <td>1458</td>\n",
       "      <td>13056.0</td>\n",
       "      <td>4352</td>\n",
       "      <td>4.77</td>\n",
       "      <td>NaN</td>\n",
       "      <td>NaN</td>\n",
       "      <td>43</td>\n",
       "      <td>4</td>\n",
       "      <td>BAL</td>\n",
       "      <td>2002</td>\n",
       "      <td>2002BAL</td>\n",
       "    </tr>\n",
       "    <tr>\n",
       "      <th>2</th>\n",
       "      <td>39</td>\n",
       "      <td>1645</td>\n",
       "      <td>1150</td>\n",
       "      <td>6087</td>\n",
       "      <td>140</td>\n",
       "      <td>.702</td>\n",
       "      <td>104</td>\n",
       "      <td>.983</td>\n",
       "      <td>162</td>\n",
       "      <td>1458</td>\n",
       "      <td>13014.0</td>\n",
       "      <td>4338</td>\n",
       "      <td>4.10</td>\n",
       "      <td>NaN</td>\n",
       "      <td>NaN</td>\n",
       "      <td>62</td>\n",
       "      <td>6</td>\n",
       "      <td>BOS</td>\n",
       "      <td>2002</td>\n",
       "      <td>2002BOS</td>\n",
       "    </tr>\n",
       "    <tr>\n",
       "      <th>3</th>\n",
       "      <td>35</td>\n",
       "      <td>1595</td>\n",
       "      <td>1168</td>\n",
       "      <td>5961</td>\n",
       "      <td>157</td>\n",
       "      <td>.706</td>\n",
       "      <td>97</td>\n",
       "      <td>.984</td>\n",
       "      <td>162</td>\n",
       "      <td>1458</td>\n",
       "      <td>12807.0</td>\n",
       "      <td>4269</td>\n",
       "      <td>4.93</td>\n",
       "      <td>NaN</td>\n",
       "      <td>NaN</td>\n",
       "      <td>13</td>\n",
       "      <td>1</td>\n",
       "      <td>CHW</td>\n",
       "      <td>2002</td>\n",
       "      <td>2002CHW</td>\n",
       "    </tr>\n",
       "    <tr>\n",
       "      <th>4</th>\n",
       "      <td>59</td>\n",
       "      <td>1662</td>\n",
       "      <td>1153</td>\n",
       "      <td>6049</td>\n",
       "      <td>161</td>\n",
       "      <td>.674</td>\n",
       "      <td>113</td>\n",
       "      <td>.981</td>\n",
       "      <td>162</td>\n",
       "      <td>1458</td>\n",
       "      <td>12822.0</td>\n",
       "      <td>4274</td>\n",
       "      <td>5.17</td>\n",
       "      <td>NaN</td>\n",
       "      <td>NaN</td>\n",
       "      <td>-49</td>\n",
       "      <td>-5</td>\n",
       "      <td>CLE</td>\n",
       "      <td>2002</td>\n",
       "      <td>2002CLE</td>\n",
       "    </tr>\n",
       "  </tbody>\n",
       "</table>\n",
       "</div>"
      ],
      "text/plain": [
       "  #Fld     A    CG    Ch   DP DefEff    E  Fld%    G    GS      Inn    PO  \\\n",
       "0   40  1575  1075  6020  151   .718   87  .986  162  1458  13071.0  4358   \n",
       "1   46  1720  1165  6163  173   .701   91  .985  162  1458  13056.0  4352   \n",
       "2   39  1645  1150  6087  140   .702  104  .983  162  1458  13014.0  4338   \n",
       "3   35  1595  1168  5961  157   .706   97  .984  162  1458  12807.0  4269   \n",
       "4   59  1662  1153  6049  161   .674  113  .981  162  1458  12822.0  4274   \n",
       "\n",
       "   RA/G Rdrs Rdrs/yr Rtot Rtot/yr Team  Year     YrTm  \n",
       "0  3.98  NaN     NaN   98       9  LAA  2002  2002LAA  \n",
       "1  4.77  NaN     NaN   43       4  BAL  2002  2002BAL  \n",
       "2  4.10  NaN     NaN   62       6  BOS  2002  2002BOS  \n",
       "3  4.93  NaN     NaN   13       1  CHW  2002  2002CHW  \n",
       "4  5.17  NaN     NaN  -49      -5  CLE  2002  2002CLE  "
      ]
     },
     "execution_count": 73,
     "metadata": {},
     "output_type": "execute_result"
    }
   ],
   "source": [
    "df_fld.head()"
   ]
  },
  {
   "cell_type": "code",
   "execution_count": 74,
   "metadata": {
    "hidden": true
   },
   "outputs": [
    {
     "data": {
      "text/html": [
       "<div>\n",
       "<style scoped>\n",
       "    .dataframe tbody tr th:only-of-type {\n",
       "        vertical-align: middle;\n",
       "    }\n",
       "\n",
       "    .dataframe tbody tr th {\n",
       "        vertical-align: top;\n",
       "    }\n",
       "\n",
       "    .dataframe thead th {\n",
       "        text-align: right;\n",
       "    }\n",
       "</style>\n",
       "<table border=\"1\" class=\"dataframe\">\n",
       "  <thead>\n",
       "    <tr style=\"text-align: right;\">\n",
       "      <th></th>\n",
       "      <th>#Fld</th>\n",
       "      <th>A</th>\n",
       "      <th>CG</th>\n",
       "      <th>Ch</th>\n",
       "      <th>DP</th>\n",
       "      <th>DefEff</th>\n",
       "      <th>E</th>\n",
       "      <th>Fld%</th>\n",
       "      <th>G</th>\n",
       "      <th>GS</th>\n",
       "      <th>Inn</th>\n",
       "      <th>PO</th>\n",
       "      <th>RA/G</th>\n",
       "      <th>Rdrs</th>\n",
       "      <th>Rdrs/yr</th>\n",
       "      <th>Rtot</th>\n",
       "      <th>Rtot/yr</th>\n",
       "      <th>Team</th>\n",
       "      <th>Year</th>\n",
       "      <th>YrTm</th>\n",
       "    </tr>\n",
       "  </thead>\n",
       "  <tbody>\n",
       "    <tr>\n",
       "      <th>224</th>\n",
       "      <td>54</td>\n",
       "      <td>1597</td>\n",
       "      <td>1111</td>\n",
       "      <td>6011</td>\n",
       "      <td>162</td>\n",
       "      <td>.686</td>\n",
       "      <td>121</td>\n",
       "      <td>.980</td>\n",
       "      <td>162</td>\n",
       "      <td>1458</td>\n",
       "      <td>12879.0</td>\n",
       "      <td>4293</td>\n",
       "      <td>5.10</td>\n",
       "      <td>-48</td>\n",
       "      <td>-1</td>\n",
       "      <td>-41</td>\n",
       "      <td>-4</td>\n",
       "      <td>OAK</td>\n",
       "      <td>2017</td>\n",
       "      <td>2017OAK</td>\n",
       "    </tr>\n",
       "    <tr>\n",
       "      <th>225</th>\n",
       "      <td>61</td>\n",
       "      <td>1422</td>\n",
       "      <td>1154</td>\n",
       "      <td>5847</td>\n",
       "      <td>147</td>\n",
       "      <td>.700</td>\n",
       "      <td>103</td>\n",
       "      <td>.982</td>\n",
       "      <td>162</td>\n",
       "      <td>1458</td>\n",
       "      <td>12963.0</td>\n",
       "      <td>4322</td>\n",
       "      <td>4.77</td>\n",
       "      <td>6</td>\n",
       "      <td>0</td>\n",
       "      <td>10</td>\n",
       "      <td>1</td>\n",
       "      <td>SEA</td>\n",
       "      <td>2017</td>\n",
       "      <td>2017SEA</td>\n",
       "    </tr>\n",
       "    <tr>\n",
       "      <th>226</th>\n",
       "      <td>53</td>\n",
       "      <td>1433</td>\n",
       "      <td>1129</td>\n",
       "      <td>5868</td>\n",
       "      <td>129</td>\n",
       "      <td>.701</td>\n",
       "      <td>100</td>\n",
       "      <td>.983</td>\n",
       "      <td>162</td>\n",
       "      <td>1458</td>\n",
       "      <td>13005.0</td>\n",
       "      <td>4335</td>\n",
       "      <td>4.35</td>\n",
       "      <td>59</td>\n",
       "      <td>1</td>\n",
       "      <td>26</td>\n",
       "      <td>2</td>\n",
       "      <td>TBD</td>\n",
       "      <td>2017</td>\n",
       "      <td>2017TBD</td>\n",
       "    </tr>\n",
       "    <tr>\n",
       "      <th>227</th>\n",
       "      <td>51</td>\n",
       "      <td>1616</td>\n",
       "      <td>1131</td>\n",
       "      <td>6027</td>\n",
       "      <td>173</td>\n",
       "      <td>.695</td>\n",
       "      <td>108</td>\n",
       "      <td>.982</td>\n",
       "      <td>162</td>\n",
       "      <td>1458</td>\n",
       "      <td>12909.0</td>\n",
       "      <td>4303</td>\n",
       "      <td>5.04</td>\n",
       "      <td>-1</td>\n",
       "      <td>0</td>\n",
       "      <td>50</td>\n",
       "      <td>5</td>\n",
       "      <td>TEX</td>\n",
       "      <td>2017</td>\n",
       "      <td>2017TEX</td>\n",
       "    </tr>\n",
       "    <tr>\n",
       "      <th>228</th>\n",
       "      <td>60</td>\n",
       "      <td>1570</td>\n",
       "      <td>1073</td>\n",
       "      <td>6057</td>\n",
       "      <td>145</td>\n",
       "      <td>.682</td>\n",
       "      <td>92</td>\n",
       "      <td>.985</td>\n",
       "      <td>162</td>\n",
       "      <td>1458</td>\n",
       "      <td>13185.0</td>\n",
       "      <td>4395</td>\n",
       "      <td>4.84</td>\n",
       "      <td>-17</td>\n",
       "      <td>-2</td>\n",
       "      <td>-28</td>\n",
       "      <td>-3</td>\n",
       "      <td>TOR</td>\n",
       "      <td>2017</td>\n",
       "      <td>2017TOR</td>\n",
       "    </tr>\n",
       "  </tbody>\n",
       "</table>\n",
       "</div>"
      ],
      "text/plain": [
       "    #Fld     A    CG    Ch   DP DefEff    E  Fld%    G    GS      Inn    PO  \\\n",
       "224   54  1597  1111  6011  162   .686  121  .980  162  1458  12879.0  4293   \n",
       "225   61  1422  1154  5847  147   .700  103  .982  162  1458  12963.0  4322   \n",
       "226   53  1433  1129  5868  129   .701  100  .983  162  1458  13005.0  4335   \n",
       "227   51  1616  1131  6027  173   .695  108  .982  162  1458  12909.0  4303   \n",
       "228   60  1570  1073  6057  145   .682   92  .985  162  1458  13185.0  4395   \n",
       "\n",
       "     RA/G Rdrs Rdrs/yr Rtot Rtot/yr Team  Year     YrTm  \n",
       "224  5.10  -48      -1  -41      -4  OAK  2017  2017OAK  \n",
       "225  4.77    6       0   10       1  SEA  2017  2017SEA  \n",
       "226  4.35   59       1   26       2  TBD  2017  2017TBD  \n",
       "227  5.04   -1       0   50       5  TEX  2017  2017TEX  \n",
       "228  4.84  -17      -2  -28      -3  TOR  2017  2017TOR  "
      ]
     },
     "execution_count": 74,
     "metadata": {},
     "output_type": "execute_result"
    }
   ],
   "source": [
    "df_fld.tail()"
   ]
  },
  {
   "cell_type": "code",
   "execution_count": 75,
   "metadata": {
    "hidden": true
   },
   "outputs": [
    {
     "data": {
      "text/html": [
       "<div>\n",
       "<style scoped>\n",
       "    .dataframe tbody tr th:only-of-type {\n",
       "        vertical-align: middle;\n",
       "    }\n",
       "\n",
       "    .dataframe tbody tr th {\n",
       "        vertical-align: top;\n",
       "    }\n",
       "\n",
       "    .dataframe thead th {\n",
       "        text-align: right;\n",
       "    }\n",
       "</style>\n",
       "<table border=\"1\" class=\"dataframe\">\n",
       "  <thead>\n",
       "    <tr style=\"text-align: right;\">\n",
       "      <th></th>\n",
       "      <th>#Fld</th>\n",
       "      <th>A</th>\n",
       "      <th>CG</th>\n",
       "      <th>Ch</th>\n",
       "      <th>DP</th>\n",
       "      <th>DefEff</th>\n",
       "      <th>E</th>\n",
       "      <th>Fld%</th>\n",
       "      <th>G</th>\n",
       "      <th>GS</th>\n",
       "      <th>Inn</th>\n",
       "      <th>PO</th>\n",
       "      <th>RA/G</th>\n",
       "      <th>Rdrs</th>\n",
       "      <th>Rdrs/yr</th>\n",
       "      <th>Rtot</th>\n",
       "      <th>Rtot/yr</th>\n",
       "      <th>Team</th>\n",
       "      <th>Year</th>\n",
       "      <th>YrTm</th>\n",
       "    </tr>\n",
       "  </thead>\n",
       "  <tbody>\n",
       "    <tr>\n",
       "      <th>7</th>\n",
       "      <td>42</td>\n",
       "      <td>1422</td>\n",
       "      <td>1103</td>\n",
       "      <td>5830</td>\n",
       "      <td>124</td>\n",
       "      <td>.703</td>\n",
       "      <td>74</td>\n",
       "      <td>.987</td>\n",
       "      <td>161</td>\n",
       "      <td>1449</td>\n",
       "      <td>13002.0</td>\n",
       "      <td>4334</td>\n",
       "      <td>4.42</td>\n",
       "      <td>NaN</td>\n",
       "      <td>NaN</td>\n",
       "      <td>21</td>\n",
       "      <td>2</td>\n",
       "      <td>MIN</td>\n",
       "      <td>2002</td>\n",
       "      <td>2002MIN</td>\n",
       "    </tr>\n",
       "    <tr>\n",
       "      <th>193</th>\n",
       "      <td>55</td>\n",
       "      <td>1594</td>\n",
       "      <td>1037</td>\n",
       "      <td>6060</td>\n",
       "      <td>135</td>\n",
       "      <td>.685</td>\n",
       "      <td>93</td>\n",
       "      <td>.985</td>\n",
       "      <td>162</td>\n",
       "      <td>1458</td>\n",
       "      <td>13119.0</td>\n",
       "      <td>4373</td>\n",
       "      <td>4.31</td>\n",
       "      <td>-39</td>\n",
       "      <td>-1</td>\n",
       "      <td>-32</td>\n",
       "      <td>-3</td>\n",
       "      <td>NYY</td>\n",
       "      <td>2015</td>\n",
       "      <td>2015NYY</td>\n",
       "    </tr>\n",
       "    <tr>\n",
       "      <th>93</th>\n",
       "      <td>49</td>\n",
       "      <td>1573</td>\n",
       "      <td>1059</td>\n",
       "      <td>5976</td>\n",
       "      <td>169</td>\n",
       "      <td>.699</td>\n",
       "      <td>98</td>\n",
       "      <td>.984</td>\n",
       "      <td>161</td>\n",
       "      <td>1449</td>\n",
       "      <td>12915.0</td>\n",
       "      <td>4305</td>\n",
       "      <td>4.29</td>\n",
       "      <td>58</td>\n",
       "      <td>1</td>\n",
       "      <td>23</td>\n",
       "      <td>2</td>\n",
       "      <td>OAK</td>\n",
       "      <td>2008</td>\n",
       "      <td>2008OAK</td>\n",
       "    </tr>\n",
       "    <tr>\n",
       "      <th>90</th>\n",
       "      <td>41</td>\n",
       "      <td>1646</td>\n",
       "      <td>1119</td>\n",
       "      <td>6091</td>\n",
       "      <td>159</td>\n",
       "      <td>.691</td>\n",
       "      <td>91</td>\n",
       "      <td>.985</td>\n",
       "      <td>162</td>\n",
       "      <td>1458</td>\n",
       "      <td>13062.0</td>\n",
       "      <td>4354</td>\n",
       "      <td>4.30</td>\n",
       "      <td>-6</td>\n",
       "      <td>-1</td>\n",
       "      <td>25</td>\n",
       "      <td>2</td>\n",
       "      <td>LAA</td>\n",
       "      <td>2008</td>\n",
       "      <td>2008LAA</td>\n",
       "    </tr>\n",
       "    <tr>\n",
       "      <th>67</th>\n",
       "      <td>49</td>\n",
       "      <td>1594</td>\n",
       "      <td>1125</td>\n",
       "      <td>5971</td>\n",
       "      <td>156</td>\n",
       "      <td>.671</td>\n",
       "      <td>116</td>\n",
       "      <td>.981</td>\n",
       "      <td>162</td>\n",
       "      <td>1458</td>\n",
       "      <td>12783.0</td>\n",
       "      <td>4261</td>\n",
       "      <td>5.28</td>\n",
       "      <td>-35</td>\n",
       "      <td>-3</td>\n",
       "      <td>-59</td>\n",
       "      <td>-6</td>\n",
       "      <td>TBD</td>\n",
       "      <td>2006</td>\n",
       "      <td>2006TBD</td>\n",
       "    </tr>\n",
       "  </tbody>\n",
       "</table>\n",
       "</div>"
      ],
      "text/plain": [
       "    #Fld     A    CG    Ch   DP DefEff    E  Fld%    G    GS      Inn    PO  \\\n",
       "7     42  1422  1103  5830  124   .703   74  .987  161  1449  13002.0  4334   \n",
       "193   55  1594  1037  6060  135   .685   93  .985  162  1458  13119.0  4373   \n",
       "93    49  1573  1059  5976  169   .699   98  .984  161  1449  12915.0  4305   \n",
       "90    41  1646  1119  6091  159   .691   91  .985  162  1458  13062.0  4354   \n",
       "67    49  1594  1125  5971  156   .671  116  .981  162  1458  12783.0  4261   \n",
       "\n",
       "     RA/G Rdrs Rdrs/yr Rtot Rtot/yr Team  Year     YrTm  \n",
       "7    4.42  NaN     NaN   21       2  MIN  2002  2002MIN  \n",
       "193  4.31  -39      -1  -32      -3  NYY  2015  2015NYY  \n",
       "93   4.29   58       1   23       2  OAK  2008  2008OAK  \n",
       "90   4.30   -6      -1   25       2  LAA  2008  2008LAA  \n",
       "67   5.28  -35      -3  -59      -6  TBD  2006  2006TBD  "
      ]
     },
     "execution_count": 75,
     "metadata": {},
     "output_type": "execute_result"
    }
   ],
   "source": [
    "df_fld.sample(5)"
   ]
  },
  {
   "cell_type": "markdown",
   "metadata": {
    "heading_collapsed": true
   },
   "source": [
    "## Merge Tables"
   ]
  },
  {
   "cell_type": "markdown",
   "metadata": {
    "heading_collapsed": true,
    "hidden": true
   },
   "source": [
    "### Remove Duplicate Columns"
   ]
  },
  {
   "cell_type": "code",
   "execution_count": 76,
   "metadata": {
    "hidden": true
   },
   "outputs": [],
   "source": [
    "bat_cols = df_bat.columns\n",
    "pit_cols = df_pit.columns\n",
    "fld_cols = df_fld.columns"
   ]
  },
  {
   "cell_type": "code",
   "execution_count": 77,
   "metadata": {
    "hidden": true
   },
   "outputs": [],
   "source": [
    "# find duplicate columns\n",
    "dup_cols_bp = [x for x in pit_cols if x in bat_cols]\n",
    "dup_cols_bf = [x for x in fld_cols if x in bat_cols]\n",
    "dup_cols_pf = [x for x in fld_cols if x in pit_cols]"
   ]
  },
  {
   "cell_type": "code",
   "execution_count": 78,
   "metadata": {
    "hidden": true
   },
   "outputs": [
    {
     "data": {
      "text/plain": [
       "['G', 'H', 'R', 'HR', 'BB', 'IBB', 'SO', 'HBP', 'LOB', 'Team', 'Year', 'YrTm']"
      ]
     },
     "execution_count": 78,
     "metadata": {},
     "output_type": "execute_result"
    }
   ],
   "source": [
    "dup_cols_bp # To remove from pitching DF (except YrTm)"
   ]
  },
  {
   "cell_type": "code",
   "execution_count": 79,
   "metadata": {
    "hidden": true
   },
   "outputs": [],
   "source": [
    "df_pit_sm = df_pit.drop(['G','H','R','HR','BB','IBB','SO','HBP','LOB','Team','Year'], axis=1)"
   ]
  },
  {
   "cell_type": "code",
   "execution_count": 80,
   "metadata": {
    "hidden": true
   },
   "outputs": [
    {
     "data": {
      "text/html": [
       "<div>\n",
       "<style scoped>\n",
       "    .dataframe tbody tr th:only-of-type {\n",
       "        vertical-align: middle;\n",
       "    }\n",
       "\n",
       "    .dataframe tbody tr th {\n",
       "        vertical-align: top;\n",
       "    }\n",
       "\n",
       "    .dataframe thead th {\n",
       "        text-align: right;\n",
       "    }\n",
       "</style>\n",
       "<table border=\"1\" class=\"dataframe\">\n",
       "  <thead>\n",
       "    <tr style=\"text-align: right;\">\n",
       "      <th></th>\n",
       "      <th>#P</th>\n",
       "      <th>PAge</th>\n",
       "      <th>RA/G</th>\n",
       "      <th>W</th>\n",
       "      <th>L</th>\n",
       "      <th>W-L%</th>\n",
       "      <th>ERA</th>\n",
       "      <th>GS</th>\n",
       "      <th>GF</th>\n",
       "      <th>CG</th>\n",
       "      <th>...</th>\n",
       "      <th>BF</th>\n",
       "      <th>ERA+</th>\n",
       "      <th>FIP</th>\n",
       "      <th>WHIP</th>\n",
       "      <th>H9</th>\n",
       "      <th>HR9</th>\n",
       "      <th>BB9</th>\n",
       "      <th>SO9</th>\n",
       "      <th>SO/W</th>\n",
       "      <th>YrTm</th>\n",
       "    </tr>\n",
       "  </thead>\n",
       "  <tbody>\n",
       "    <tr>\n",
       "      <th>0</th>\n",
       "      <td>18</td>\n",
       "      <td>30.2</td>\n",
       "      <td>3.98</td>\n",
       "      <td>99</td>\n",
       "      <td>63</td>\n",
       "      <td>.611</td>\n",
       "      <td>3.69</td>\n",
       "      <td>162</td>\n",
       "      <td>155</td>\n",
       "      <td>7</td>\n",
       "      <td>...</td>\n",
       "      <td>6097</td>\n",
       "      <td>120</td>\n",
       "      <td>4.25</td>\n",
       "      <td>1.277</td>\n",
       "      <td>8.3</td>\n",
       "      <td>1.0</td>\n",
       "      <td>3.2</td>\n",
       "      <td>6.2</td>\n",
       "      <td>1.96</td>\n",
       "      <td>2002LAA</td>\n",
       "    </tr>\n",
       "    <tr>\n",
       "      <th>1</th>\n",
       "      <td>20</td>\n",
       "      <td>27.8</td>\n",
       "      <td>4.77</td>\n",
       "      <td>67</td>\n",
       "      <td>95</td>\n",
       "      <td>.414</td>\n",
       "      <td>4.46</td>\n",
       "      <td>162</td>\n",
       "      <td>154</td>\n",
       "      <td>8</td>\n",
       "      <td>...</td>\n",
       "      <td>6258</td>\n",
       "      <td>97</td>\n",
       "      <td>4.74</td>\n",
       "      <td>1.406</td>\n",
       "      <td>9.3</td>\n",
       "      <td>1.3</td>\n",
       "      <td>3.4</td>\n",
       "      <td>6.0</td>\n",
       "      <td>1.76</td>\n",
       "      <td>2002BAL</td>\n",
       "    </tr>\n",
       "    <tr>\n",
       "      <th>2</th>\n",
       "      <td>18</td>\n",
       "      <td>31.1</td>\n",
       "      <td>4.10</td>\n",
       "      <td>93</td>\n",
       "      <td>69</td>\n",
       "      <td>.574</td>\n",
       "      <td>3.75</td>\n",
       "      <td>162</td>\n",
       "      <td>157</td>\n",
       "      <td>5</td>\n",
       "      <td>...</td>\n",
       "      <td>6049</td>\n",
       "      <td>122</td>\n",
       "      <td>3.74</td>\n",
       "      <td>1.223</td>\n",
       "      <td>8.3</td>\n",
       "      <td>0.9</td>\n",
       "      <td>2.7</td>\n",
       "      <td>7.2</td>\n",
       "      <td>2.69</td>\n",
       "      <td>2002BOS</td>\n",
       "    </tr>\n",
       "    <tr>\n",
       "      <th>3</th>\n",
       "      <td>16</td>\n",
       "      <td>25.8</td>\n",
       "      <td>4.93</td>\n",
       "      <td>81</td>\n",
       "      <td>81</td>\n",
       "      <td>.500</td>\n",
       "      <td>4.53</td>\n",
       "      <td>162</td>\n",
       "      <td>155</td>\n",
       "      <td>7</td>\n",
       "      <td>...</td>\n",
       "      <td>6131</td>\n",
       "      <td>99</td>\n",
       "      <td>4.61</td>\n",
       "      <td>1.370</td>\n",
       "      <td>9.0</td>\n",
       "      <td>1.2</td>\n",
       "      <td>3.3</td>\n",
       "      <td>6.0</td>\n",
       "      <td>1.79</td>\n",
       "      <td>2002CHW</td>\n",
       "    </tr>\n",
       "    <tr>\n",
       "      <th>4</th>\n",
       "      <td>31</td>\n",
       "      <td>28.1</td>\n",
       "      <td>5.17</td>\n",
       "      <td>74</td>\n",
       "      <td>88</td>\n",
       "      <td>.457</td>\n",
       "      <td>4.91</td>\n",
       "      <td>162</td>\n",
       "      <td>153</td>\n",
       "      <td>9</td>\n",
       "      <td>...</td>\n",
       "      <td>6271</td>\n",
       "      <td>90</td>\n",
       "      <td>4.16</td>\n",
       "      <td>1.482</td>\n",
       "      <td>9.5</td>\n",
       "      <td>0.9</td>\n",
       "      <td>3.8</td>\n",
       "      <td>6.7</td>\n",
       "      <td>1.75</td>\n",
       "      <td>2002CLE</td>\n",
       "    </tr>\n",
       "  </tbody>\n",
       "</table>\n",
       "<p>5 rows × 27 columns</p>\n",
       "</div>"
      ],
      "text/plain": [
       "   #P  PAge  RA/G   W   L  W-L%   ERA   GS   GF CG   ...       BF ERA+   FIP  \\\n",
       "0  18  30.2  3.98  99  63  .611  3.69  162  155  7   ...     6097  120  4.25   \n",
       "1  20  27.8  4.77  67  95  .414  4.46  162  154  8   ...     6258   97  4.74   \n",
       "2  18  31.1  4.10  93  69  .574  3.75  162  157  5   ...     6049  122  3.74   \n",
       "3  16  25.8  4.93  81  81  .500  4.53  162  155  7   ...     6131   99  4.61   \n",
       "4  31  28.1  5.17  74  88  .457  4.91  162  153  9   ...     6271   90  4.16   \n",
       "\n",
       "    WHIP   H9  HR9  BB9  SO9  SO/W     YrTm  \n",
       "0  1.277  8.3  1.0  3.2  6.2  1.96  2002LAA  \n",
       "1  1.406  9.3  1.3  3.4  6.0  1.76  2002BAL  \n",
       "2  1.223  8.3  0.9  2.7  7.2  2.69  2002BOS  \n",
       "3  1.370  9.0  1.2  3.3  6.0  1.79  2002CHW  \n",
       "4  1.482  9.5  0.9  3.8  6.7  1.75  2002CLE  \n",
       "\n",
       "[5 rows x 27 columns]"
      ]
     },
     "execution_count": 80,
     "metadata": {},
     "output_type": "execute_result"
    }
   ],
   "source": [
    "df_pit_sm.head()"
   ]
  },
  {
   "cell_type": "code",
   "execution_count": 81,
   "metadata": {
    "hidden": true
   },
   "outputs": [
    {
     "data": {
      "text/plain": [
       "['G', 'Team', 'Year', 'YrTm']"
      ]
     },
     "execution_count": 81,
     "metadata": {},
     "output_type": "execute_result"
    }
   ],
   "source": [
    "dup_cols_bf # To remove from fielding DF (except YrTm)"
   ]
  },
  {
   "cell_type": "code",
   "execution_count": 82,
   "metadata": {
    "hidden": true
   },
   "outputs": [
    {
     "data": {
      "text/plain": [
       "['CG', 'G', 'GS', 'RA/G', 'Team', 'Year', 'YrTm']"
      ]
     },
     "execution_count": 82,
     "metadata": {},
     "output_type": "execute_result"
    }
   ],
   "source": [
    "dup_cols_pf # Also to remove from fielding DF (except YrTm)"
   ]
  },
  {
   "cell_type": "code",
   "execution_count": 83,
   "metadata": {
    "hidden": true
   },
   "outputs": [],
   "source": [
    "df_fld_sm = df_fld.drop(['G','Team','Year','CG','GS','RA/G'], axis=1)"
   ]
  },
  {
   "cell_type": "code",
   "execution_count": 84,
   "metadata": {
    "hidden": true
   },
   "outputs": [
    {
     "data": {
      "text/html": [
       "<div>\n",
       "<style scoped>\n",
       "    .dataframe tbody tr th:only-of-type {\n",
       "        vertical-align: middle;\n",
       "    }\n",
       "\n",
       "    .dataframe tbody tr th {\n",
       "        vertical-align: top;\n",
       "    }\n",
       "\n",
       "    .dataframe thead th {\n",
       "        text-align: right;\n",
       "    }\n",
       "</style>\n",
       "<table border=\"1\" class=\"dataframe\">\n",
       "  <thead>\n",
       "    <tr style=\"text-align: right;\">\n",
       "      <th></th>\n",
       "      <th>#Fld</th>\n",
       "      <th>A</th>\n",
       "      <th>Ch</th>\n",
       "      <th>DP</th>\n",
       "      <th>DefEff</th>\n",
       "      <th>E</th>\n",
       "      <th>Fld%</th>\n",
       "      <th>Inn</th>\n",
       "      <th>PO</th>\n",
       "      <th>Rdrs</th>\n",
       "      <th>Rdrs/yr</th>\n",
       "      <th>Rtot</th>\n",
       "      <th>Rtot/yr</th>\n",
       "      <th>YrTm</th>\n",
       "    </tr>\n",
       "  </thead>\n",
       "  <tbody>\n",
       "    <tr>\n",
       "      <th>0</th>\n",
       "      <td>40</td>\n",
       "      <td>1575</td>\n",
       "      <td>6020</td>\n",
       "      <td>151</td>\n",
       "      <td>.718</td>\n",
       "      <td>87</td>\n",
       "      <td>.986</td>\n",
       "      <td>13071.0</td>\n",
       "      <td>4358</td>\n",
       "      <td>NaN</td>\n",
       "      <td>NaN</td>\n",
       "      <td>98</td>\n",
       "      <td>9</td>\n",
       "      <td>2002LAA</td>\n",
       "    </tr>\n",
       "    <tr>\n",
       "      <th>1</th>\n",
       "      <td>46</td>\n",
       "      <td>1720</td>\n",
       "      <td>6163</td>\n",
       "      <td>173</td>\n",
       "      <td>.701</td>\n",
       "      <td>91</td>\n",
       "      <td>.985</td>\n",
       "      <td>13056.0</td>\n",
       "      <td>4352</td>\n",
       "      <td>NaN</td>\n",
       "      <td>NaN</td>\n",
       "      <td>43</td>\n",
       "      <td>4</td>\n",
       "      <td>2002BAL</td>\n",
       "    </tr>\n",
       "    <tr>\n",
       "      <th>2</th>\n",
       "      <td>39</td>\n",
       "      <td>1645</td>\n",
       "      <td>6087</td>\n",
       "      <td>140</td>\n",
       "      <td>.702</td>\n",
       "      <td>104</td>\n",
       "      <td>.983</td>\n",
       "      <td>13014.0</td>\n",
       "      <td>4338</td>\n",
       "      <td>NaN</td>\n",
       "      <td>NaN</td>\n",
       "      <td>62</td>\n",
       "      <td>6</td>\n",
       "      <td>2002BOS</td>\n",
       "    </tr>\n",
       "    <tr>\n",
       "      <th>3</th>\n",
       "      <td>35</td>\n",
       "      <td>1595</td>\n",
       "      <td>5961</td>\n",
       "      <td>157</td>\n",
       "      <td>.706</td>\n",
       "      <td>97</td>\n",
       "      <td>.984</td>\n",
       "      <td>12807.0</td>\n",
       "      <td>4269</td>\n",
       "      <td>NaN</td>\n",
       "      <td>NaN</td>\n",
       "      <td>13</td>\n",
       "      <td>1</td>\n",
       "      <td>2002CHW</td>\n",
       "    </tr>\n",
       "    <tr>\n",
       "      <th>4</th>\n",
       "      <td>59</td>\n",
       "      <td>1662</td>\n",
       "      <td>6049</td>\n",
       "      <td>161</td>\n",
       "      <td>.674</td>\n",
       "      <td>113</td>\n",
       "      <td>.981</td>\n",
       "      <td>12822.0</td>\n",
       "      <td>4274</td>\n",
       "      <td>NaN</td>\n",
       "      <td>NaN</td>\n",
       "      <td>-49</td>\n",
       "      <td>-5</td>\n",
       "      <td>2002CLE</td>\n",
       "    </tr>\n",
       "  </tbody>\n",
       "</table>\n",
       "</div>"
      ],
      "text/plain": [
       "  #Fld     A    Ch   DP DefEff    E  Fld%      Inn    PO Rdrs Rdrs/yr Rtot  \\\n",
       "0   40  1575  6020  151   .718   87  .986  13071.0  4358  NaN     NaN   98   \n",
       "1   46  1720  6163  173   .701   91  .985  13056.0  4352  NaN     NaN   43   \n",
       "2   39  1645  6087  140   .702  104  .983  13014.0  4338  NaN     NaN   62   \n",
       "3   35  1595  5961  157   .706   97  .984  12807.0  4269  NaN     NaN   13   \n",
       "4   59  1662  6049  161   .674  113  .981  12822.0  4274  NaN     NaN  -49   \n",
       "\n",
       "  Rtot/yr     YrTm  \n",
       "0       9  2002LAA  \n",
       "1       4  2002BAL  \n",
       "2       6  2002BOS  \n",
       "3       1  2002CHW  \n",
       "4      -5  2002CLE  "
      ]
     },
     "execution_count": 84,
     "metadata": {},
     "output_type": "execute_result"
    }
   ],
   "source": [
    "df_fld_sm.head()"
   ]
  },
  {
   "cell_type": "markdown",
   "metadata": {
    "hidden": true
   },
   "source": [
    "### Merge on `YrTm` Index"
   ]
  },
  {
   "cell_type": "code",
   "execution_count": 90,
   "metadata": {
    "hidden": true
   },
   "outputs": [],
   "source": [
    "dfstomerge = [df_bat, df_pit_sm, df_fld_sm]\n",
    "dfstomerge = [df.set_index('YrTm') for df in dfstomerge]"
   ]
  },
  {
   "cell_type": "code",
   "execution_count": 86,
   "metadata": {
    "hidden": true
   },
   "outputs": [],
   "source": [
    "df_scraped = dfstomerge[0].join(dfstomerge[1:])"
   ]
  },
  {
   "cell_type": "code",
   "execution_count": 92,
   "metadata": {
    "hidden": true
   },
   "outputs": [
    {
     "data": {
      "text/html": [
       "<div>\n",
       "<style scoped>\n",
       "    .dataframe tbody tr th:only-of-type {\n",
       "        vertical-align: middle;\n",
       "    }\n",
       "\n",
       "    .dataframe tbody tr th {\n",
       "        vertical-align: top;\n",
       "    }\n",
       "\n",
       "    .dataframe thead th {\n",
       "        text-align: right;\n",
       "    }\n",
       "</style>\n",
       "<table border=\"1\" class=\"dataframe\">\n",
       "  <thead>\n",
       "    <tr style=\"text-align: right;\">\n",
       "      <th></th>\n",
       "      <th>#Bat</th>\n",
       "      <th>BatAge</th>\n",
       "      <th>R/G</th>\n",
       "      <th>G</th>\n",
       "      <th>PA</th>\n",
       "      <th>AB</th>\n",
       "      <th>R</th>\n",
       "      <th>H</th>\n",
       "      <th>2B</th>\n",
       "      <th>3B</th>\n",
       "      <th>...</th>\n",
       "      <th>DP</th>\n",
       "      <th>DefEff</th>\n",
       "      <th>E</th>\n",
       "      <th>Fld%</th>\n",
       "      <th>Inn</th>\n",
       "      <th>PO</th>\n",
       "      <th>Rdrs</th>\n",
       "      <th>Rdrs/yr</th>\n",
       "      <th>Rtot</th>\n",
       "      <th>Rtot/yr</th>\n",
       "    </tr>\n",
       "    <tr>\n",
       "      <th>YrTm</th>\n",
       "      <th></th>\n",
       "      <th></th>\n",
       "      <th></th>\n",
       "      <th></th>\n",
       "      <th></th>\n",
       "      <th></th>\n",
       "      <th></th>\n",
       "      <th></th>\n",
       "      <th></th>\n",
       "      <th></th>\n",
       "      <th></th>\n",
       "      <th></th>\n",
       "      <th></th>\n",
       "      <th></th>\n",
       "      <th></th>\n",
       "      <th></th>\n",
       "      <th></th>\n",
       "      <th></th>\n",
       "      <th></th>\n",
       "      <th></th>\n",
       "      <th></th>\n",
       "    </tr>\n",
       "  </thead>\n",
       "  <tbody>\n",
       "    <tr>\n",
       "      <th>2015TEX</th>\n",
       "      <td>57</td>\n",
       "      <td>28.7</td>\n",
       "      <td>4.64</td>\n",
       "      <td>162</td>\n",
       "      <td>6187</td>\n",
       "      <td>5511</td>\n",
       "      <td>751</td>\n",
       "      <td>1419</td>\n",
       "      <td>279</td>\n",
       "      <td>32</td>\n",
       "      <td>...</td>\n",
       "      <td>169</td>\n",
       "      <td>.687</td>\n",
       "      <td>119</td>\n",
       "      <td>.981</td>\n",
       "      <td>12984.0</td>\n",
       "      <td>4328</td>\n",
       "      <td>2</td>\n",
       "      <td>0</td>\n",
       "      <td>43</td>\n",
       "      <td>4</td>\n",
       "    </tr>\n",
       "    <tr>\n",
       "      <th>2017NYY</th>\n",
       "      <td>51</td>\n",
       "      <td>28.6</td>\n",
       "      <td>5.30</td>\n",
       "      <td>162</td>\n",
       "      <td>6354</td>\n",
       "      <td>5594</td>\n",
       "      <td>858</td>\n",
       "      <td>1463</td>\n",
       "      <td>266</td>\n",
       "      <td>23</td>\n",
       "      <td>...</td>\n",
       "      <td>102</td>\n",
       "      <td>.703</td>\n",
       "      <td>95</td>\n",
       "      <td>.984</td>\n",
       "      <td>13038.0</td>\n",
       "      <td>4346</td>\n",
       "      <td>19</td>\n",
       "      <td>2</td>\n",
       "      <td>25</td>\n",
       "      <td>2</td>\n",
       "    </tr>\n",
       "    <tr>\n",
       "      <th>2017OAK</th>\n",
       "      <td>54</td>\n",
       "      <td>28.7</td>\n",
       "      <td>4.56</td>\n",
       "      <td>162</td>\n",
       "      <td>6126</td>\n",
       "      <td>5464</td>\n",
       "      <td>739</td>\n",
       "      <td>1344</td>\n",
       "      <td>305</td>\n",
       "      <td>15</td>\n",
       "      <td>...</td>\n",
       "      <td>162</td>\n",
       "      <td>.686</td>\n",
       "      <td>121</td>\n",
       "      <td>.980</td>\n",
       "      <td>12879.0</td>\n",
       "      <td>4293</td>\n",
       "      <td>-48</td>\n",
       "      <td>-1</td>\n",
       "      <td>-41</td>\n",
       "      <td>-4</td>\n",
       "    </tr>\n",
       "    <tr>\n",
       "      <th>2004CHW</th>\n",
       "      <td>42</td>\n",
       "      <td>28.6</td>\n",
       "      <td>5.34</td>\n",
       "      <td>162</td>\n",
       "      <td>6197</td>\n",
       "      <td>5534</td>\n",
       "      <td>865</td>\n",
       "      <td>1481</td>\n",
       "      <td>284</td>\n",
       "      <td>19</td>\n",
       "      <td>...</td>\n",
       "      <td>167</td>\n",
       "      <td>.693</td>\n",
       "      <td>100</td>\n",
       "      <td>.984</td>\n",
       "      <td>12891.0</td>\n",
       "      <td>4297</td>\n",
       "      <td>35</td>\n",
       "      <td>1</td>\n",
       "      <td>-4</td>\n",
       "      <td>0</td>\n",
       "    </tr>\n",
       "    <tr>\n",
       "      <th>2005DET</th>\n",
       "      <td>45</td>\n",
       "      <td>28.5</td>\n",
       "      <td>4.46</td>\n",
       "      <td>162</td>\n",
       "      <td>6136</td>\n",
       "      <td>5602</td>\n",
       "      <td>723</td>\n",
       "      <td>1521</td>\n",
       "      <td>283</td>\n",
       "      <td>45</td>\n",
       "      <td>...</td>\n",
       "      <td>171</td>\n",
       "      <td>.695</td>\n",
       "      <td>110</td>\n",
       "      <td>.982</td>\n",
       "      <td>12921.0</td>\n",
       "      <td>4307</td>\n",
       "      <td>34</td>\n",
       "      <td>3</td>\n",
       "      <td>12</td>\n",
       "      <td>1</td>\n",
       "    </tr>\n",
       "  </tbody>\n",
       "</table>\n",
       "<p>5 rows × 69 columns</p>\n",
       "</div>"
      ],
      "text/plain": [
       "        #Bat BatAge   R/G    G    PA    AB    R     H   2B  3B   ...     DP  \\\n",
       "YrTm                                                             ...          \n",
       "2015TEX   57   28.7  4.64  162  6187  5511  751  1419  279  32   ...    169   \n",
       "2017NYY   51   28.6  5.30  162  6354  5594  858  1463  266  23   ...    102   \n",
       "2017OAK   54   28.7  4.56  162  6126  5464  739  1344  305  15   ...    162   \n",
       "2004CHW   42   28.6  5.34  162  6197  5534  865  1481  284  19   ...    167   \n",
       "2005DET   45   28.5  4.46  162  6136  5602  723  1521  283  45   ...    171   \n",
       "\n",
       "        DefEff    E  Fld%      Inn    PO Rdrs Rdrs/yr Rtot Rtot/yr  \n",
       "YrTm                                                                \n",
       "2015TEX   .687  119  .981  12984.0  4328    2       0   43       4  \n",
       "2017NYY   .703   95  .984  13038.0  4346   19       2   25       2  \n",
       "2017OAK   .686  121  .980  12879.0  4293  -48      -1  -41      -4  \n",
       "2004CHW   .693  100  .984  12891.0  4297   35       1   -4       0  \n",
       "2005DET   .695  110  .982  12921.0  4307   34       3   12       1  \n",
       "\n",
       "[5 rows x 69 columns]"
      ]
     },
     "execution_count": 92,
     "metadata": {},
     "output_type": "execute_result"
    }
   ],
   "source": [
    "df_scraped.sample(5)"
   ]
  },
  {
   "cell_type": "markdown",
   "metadata": {},
   "source": [
    "# Exploratory Data Analysis"
   ]
  },
  {
   "cell_type": "code",
   "execution_count": null,
   "metadata": {},
   "outputs": [],
   "source": [
    "df_scraped.info()"
   ]
  },
  {
   "cell_type": "code",
   "execution_count": 97,
   "metadata": {},
   "outputs": [],
   "source": [
    "# Change datatype from object to floats/ints\n",
    "\n",
    "df_scraped[['BatAge','R/G','BA','OBP','SLG','OPS','PAge','RA/G','W-L%','ERA','IP','FIP','WHIP',\n",
    "           'H9','HR9','BB9','SO9','SO/W','DefEff','Fld%']] = df_scraped[['BatAge','R/G','BA',\n",
    "            'OBP','SLG','OPS','PAge','RA/G','W-L%','ERA','IP','FIP','WHIP','H9','HR9','BB9',\n",
    "            'SO9','SO/W','DefEff','Fld%']].astype(float)"
   ]
  },
  {
   "cell_type": "code",
   "execution_count": 106,
   "metadata": {},
   "outputs": [],
   "source": [
    "df_scraped[['#Bat','G','PA','AB','R','H','2B','3B','HR','RBI','SB','CS','BB','SO','OPS+','TB',\n",
    "            'GDP','HBP','SH','SF','IBB','LOB','#P','W','L','GS','GF','CG','tSho','cSho','SV',\n",
    "           'ER','BK','WP','BF','ERA+','#Fld','A','Ch','DP','E','PO','Rtot','Rtot/yr'\n",
    "           ]] = df_scraped[['#Bat','G','PA','AB','R','H','2B','3B','HR','RBI',\n",
    "            'SB','CS','BB','SO','OPS+','TB','GDP','HBP','SH','SF','IBB','LOB','#P','W','L',\n",
    "            'GS','GF','CG','tSho','cSho','SV','ER','BK','WP','BF','ERA+','#Fld','A','Ch','DP',\n",
    "            'E','PO','Rtot','Rtot/yr']].astype(int)"
   ]
  },
  {
   "cell_type": "code",
   "execution_count": 107,
   "metadata": {},
   "outputs": [
    {
     "name": "stdout",
     "output_type": "stream",
     "text": [
      "<class 'pandas.core.frame.DataFrame'>\n",
      "Index: 229 entries, 2002LAA to 2017TOR\n",
      "Data columns (total 69 columns):\n",
      "#Bat       229 non-null int64\n",
      "BatAge     229 non-null float64\n",
      "R/G        229 non-null float64\n",
      "G          229 non-null int64\n",
      "PA         229 non-null int64\n",
      "AB         229 non-null int64\n",
      "R          229 non-null int64\n",
      "H          229 non-null int64\n",
      "2B         229 non-null int64\n",
      "3B         229 non-null int64\n",
      "HR         229 non-null int64\n",
      "RBI        229 non-null int64\n",
      "SB         229 non-null int64\n",
      "CS         229 non-null int64\n",
      "BB         229 non-null int64\n",
      "SO         229 non-null int64\n",
      "BA         229 non-null float64\n",
      "OBP        229 non-null float64\n",
      "SLG        229 non-null float64\n",
      "OPS        229 non-null float64\n",
      "OPS+       229 non-null int64\n",
      "TB         229 non-null int64\n",
      "GDP        229 non-null int64\n",
      "HBP        229 non-null int64\n",
      "SH         229 non-null int64\n",
      "SF         229 non-null int64\n",
      "IBB        229 non-null int64\n",
      "LOB        229 non-null int64\n",
      "Team       229 non-null object\n",
      "Year       229 non-null object\n",
      "#P         229 non-null int64\n",
      "PAge       229 non-null float64\n",
      "RA/G       229 non-null float64\n",
      "W          229 non-null int64\n",
      "L          229 non-null int64\n",
      "W-L%       229 non-null float64\n",
      "ERA        229 non-null float64\n",
      "GS         229 non-null int64\n",
      "GF         229 non-null int64\n",
      "CG         229 non-null int64\n",
      "tSho       229 non-null int64\n",
      "cSho       229 non-null int64\n",
      "SV         229 non-null int64\n",
      "IP         229 non-null float64\n",
      "ER         229 non-null int64\n",
      "BK         229 non-null int64\n",
      "WP         229 non-null int64\n",
      "BF         229 non-null int64\n",
      "ERA+       229 non-null int64\n",
      "FIP        229 non-null float64\n",
      "WHIP       229 non-null float64\n",
      "H9         229 non-null float64\n",
      "HR9        229 non-null float64\n",
      "BB9        229 non-null float64\n",
      "SO9        229 non-null float64\n",
      "SO/W       229 non-null float64\n",
      "#Fld       229 non-null int64\n",
      "A          229 non-null int64\n",
      "Ch         229 non-null int64\n",
      "DP         229 non-null int64\n",
      "DefEff     229 non-null float64\n",
      "E          229 non-null int64\n",
      "Fld%       229 non-null float64\n",
      "Inn        229 non-null object\n",
      "PO         229 non-null int64\n",
      "Rdrs       215 non-null object\n",
      "Rdrs/yr    215 non-null object\n",
      "Rtot       229 non-null int64\n",
      "Rtot/yr    229 non-null int64\n",
      "dtypes: float64(20), int64(44), object(5)\n",
      "memory usage: 135.2+ KB\n"
     ]
    }
   ],
   "source": [
    "df_scraped.info()"
   ]
  },
  {
   "cell_type": "markdown",
   "metadata": {},
   "source": [
    "## Pitching"
   ]
  },
  {
   "cell_type": "code",
   "execution_count": null,
   "metadata": {},
   "outputs": [],
   "source": []
  },
  {
   "cell_type": "markdown",
   "metadata": {},
   "source": [
    "#### Analysis\n",
    "Based on heatmap below, looking at middle row for W-L%, I will definitely **not** include number of pitchers in my model. I will likely include RA/G or ERA which are highly correlated at -.87 and -.85 respectively."
   ]
  },
  {
   "cell_type": "code",
   "execution_count": null,
   "metadata": {},
   "outputs": [],
   "source": [
    "sns.heatmap(df_pit_sm.corr(), vmin=-1, vmax=1, cmap='seismic', annot=True)"
   ]
  },
  {
   "cell_type": "code",
   "execution_count": null,
   "metadata": {},
   "outputs": [],
   "source": [
    "sns.pairplot(df_pit_sm, size = 1.2, aspect=1.5);"
   ]
  },
  {
   "cell_type": "code",
   "execution_count": null,
   "metadata": {},
   "outputs": [],
   "source": []
  }
 ],
 "metadata": {
  "kernelspec": {
   "display_name": "Python 3",
   "language": "python",
   "name": "python3"
  },
  "language_info": {
   "codemirror_mode": {
    "name": "ipython",
    "version": 3
   },
   "file_extension": ".py",
   "mimetype": "text/x-python",
   "name": "python",
   "nbconvert_exporter": "python",
   "pygments_lexer": "ipython3",
   "version": "3.6.4"
  },
  "toc": {
   "base_numbering": 1,
   "nav_menu": {},
   "number_sections": true,
   "sideBar": true,
   "skip_h1_title": false,
   "title_cell": "Table of Contents",
   "title_sidebar": "Contents",
   "toc_cell": false,
   "toc_position": {},
   "toc_section_display": true,
   "toc_window_display": false
  }
 },
 "nbformat": 4,
 "nbformat_minor": 2
}
