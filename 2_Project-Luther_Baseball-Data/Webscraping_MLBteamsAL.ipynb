{
 "cells": [
  {
   "cell_type": "markdown",
   "metadata": {},
   "source": [
    "# Setup"
   ]
  },
  {
   "cell_type": "code",
   "execution_count": 1,
   "metadata": {},
   "outputs": [],
   "source": [
    "from selenium import webdriver\n",
    "from selenium.webdriver.common.keys import Keys\n",
    "from bs4 import BeautifulSoup\n",
    "import pandas as pd\n",
    "import seaborn as sns\n",
    "import matplotlib.pyplot as plt\n",
    "import unicodedata\n",
    "import time\n",
    "import re\n",
    "import os\n",
    "\n",
    "%config InlineBackend.figure_format = 'png'\n",
    "plt.rcParams['figure.dpi']= 300"
   ]
  },
  {
   "cell_type": "markdown",
   "metadata": {},
   "source": [
    "# Scrape Data"
   ]
  },
  {
   "cell_type": "markdown",
   "metadata": {},
   "source": [
    "## Scrape Setup"
   ]
  },
  {
   "cell_type": "code",
   "execution_count": 2,
   "metadata": {},
   "outputs": [],
   "source": [
    "year_list = [str(year) for year in list(range(2002,2018))]\n",
    "url_list = [('https://www.baseball-reference.com/leagues/AL/' + year + '.shtml') \n",
    "            for year in year_list]\n",
    "\n",
    "chromedriver = '/Users/kellyjones/Downloads/chromedriver' # path to the chromedriver executable\n",
    "os.environ['webdriver.chrome.driver'] = chromedriver\n",
    "driver = webdriver.Chrome(chromedriver)\n",
    "driver.implicitly_wait(5)"
   ]
  },
  {
   "cell_type": "markdown",
   "metadata": {},
   "source": [
    "## Pull Data from URLs by Year"
   ]
  },
  {
   "cell_type": "code",
   "execution_count": 5,
   "metadata": {},
   "outputs": [],
   "source": [
    "# 2002\n",
    "driver.get(url_list[0])\n",
    "soup = BeautifulSoup(driver.page_source, 'lxml')\n",
    "\n",
    "table_02bat = soup.find('table', {'id' : 'teams_standard_batting'})\n",
    "table_02pit = soup.find('table', {'id' : 'teams_standard_pitching'})\n",
    "table_02fld = soup.find('table', {'id' : 'teams_standard_fielding'})"
   ]
  },
  {
   "cell_type": "code",
   "execution_count": 6,
   "metadata": {},
   "outputs": [],
   "source": [
    "#2003\n",
    "driver.get(url_list[1])\n",
    "soup = BeautifulSoup(driver.page_source, 'lxml')\n",
    "\n",
    "table_03bat = soup.find('table', {'id' : 'teams_standard_batting'})\n",
    "table_03pit = soup.find('table', {'id' : 'teams_standard_pitching'})\n",
    "table_03fld = soup.find('table', {'id' : 'teams_standard_fielding'})"
   ]
  },
  {
   "cell_type": "code",
   "execution_count": 7,
   "metadata": {},
   "outputs": [],
   "source": [
    "#2004\n",
    "driver.get(url_list[2])\n",
    "soup = BeautifulSoup(driver.page_source, 'lxml')\n",
    "\n",
    "table_04bat = soup.find('table', {'id' : 'teams_standard_batting'})\n",
    "table_04pit = soup.find('table', {'id' : 'teams_standard_pitching'})\n",
    "table_04fld = soup.find('table', {'id' : 'teams_standard_fielding'})"
   ]
  },
  {
   "cell_type": "code",
   "execution_count": 8,
   "metadata": {},
   "outputs": [],
   "source": [
    "#2005\n",
    "driver.get(url_list[3])\n",
    "soup = BeautifulSoup(driver.page_source, 'lxml')\n",
    "\n",
    "table_05bat = soup.find('table', {'id' : 'teams_standard_batting'})\n",
    "table_05pit = soup.find('table', {'id' : 'teams_standard_pitching'})\n",
    "table_05fld = soup.find('table', {'id' : 'teams_standard_fielding'})"
   ]
  },
  {
   "cell_type": "code",
   "execution_count": 9,
   "metadata": {},
   "outputs": [],
   "source": [
    "#2006\n",
    "driver.get(url_list[4])\n",
    "soup = BeautifulSoup(driver.page_source, 'lxml')\n",
    "\n",
    "table_06bat = soup.find('table', {'id' : 'teams_standard_batting'})\n",
    "table_06pit = soup.find('table', {'id' : 'teams_standard_pitching'})\n",
    "table_06fld = soup.find('table', {'id' : 'teams_standard_fielding'})"
   ]
  },
  {
   "cell_type": "code",
   "execution_count": 10,
   "metadata": {},
   "outputs": [],
   "source": [
    "#2007\n",
    "driver.get(url_list[5])\n",
    "soup = BeautifulSoup(driver.page_source, 'lxml')\n",
    "\n",
    "table_07bat = soup.find('table', {'id' : 'teams_standard_batting'})\n",
    "table_07pit = soup.find('table', {'id' : 'teams_standard_pitching'})\n",
    "table_07fld = soup.find('table', {'id' : 'teams_standard_fielding'})"
   ]
  },
  {
   "cell_type": "code",
   "execution_count": 11,
   "metadata": {},
   "outputs": [],
   "source": [
    "#2008\n",
    "driver.get(url_list[6])\n",
    "soup = BeautifulSoup(driver.page_source, 'lxml')\n",
    "\n",
    "table_08bat = soup.find('table', {'id' : 'teams_standard_batting'})\n",
    "table_08pit = soup.find('table', {'id' : 'teams_standard_pitching'})\n",
    "table_08fld = soup.find('table', {'id' : 'teams_standard_fielding'})"
   ]
  },
  {
   "cell_type": "code",
   "execution_count": 12,
   "metadata": {},
   "outputs": [],
   "source": [
    "#2009\n",
    "driver.get(url_list[7])\n",
    "soup = BeautifulSoup(driver.page_source, 'lxml')\n",
    "\n",
    "table_09bat = soup.find('table', {'id' : 'teams_standard_batting'})\n",
    "table_09pit = soup.find('table', {'id' : 'teams_standard_pitching'})\n",
    "table_09fld = soup.find('table', {'id' : 'teams_standard_fielding'})"
   ]
  },
  {
   "cell_type": "code",
   "execution_count": 13,
   "metadata": {},
   "outputs": [],
   "source": [
    "#2010\n",
    "driver.get(url_list[8])\n",
    "soup = BeautifulSoup(driver.page_source, 'lxml')\n",
    "\n",
    "table_10bat = soup.find('table', {'id' : 'teams_standard_batting'})\n",
    "table_10pit = soup.find('table', {'id' : 'teams_standard_pitching'})\n",
    "table_10fld = soup.find('table', {'id' : 'teams_standard_fielding'})"
   ]
  },
  {
   "cell_type": "code",
   "execution_count": 14,
   "metadata": {},
   "outputs": [],
   "source": [
    "#2011\n",
    "driver.get(url_list[9])\n",
    "soup = BeautifulSoup(driver.page_source, 'lxml')\n",
    "\n",
    "table_11bat = soup.find('table', {'id' : 'teams_standard_batting'})\n",
    "table_11pit = soup.find('table', {'id' : 'teams_standard_pitching'})\n",
    "table_11fld = soup.find('table', {'id' : 'teams_standard_fielding'})"
   ]
  },
  {
   "cell_type": "code",
   "execution_count": 15,
   "metadata": {},
   "outputs": [],
   "source": [
    "#2012\n",
    "driver.get(url_list[10])\n",
    "soup = BeautifulSoup(driver.page_source, 'lxml')\n",
    "\n",
    "table_12bat = soup.find('table', {'id' : 'teams_standard_batting'})\n",
    "table_12pit = soup.find('table', {'id' : 'teams_standard_pitching'})\n",
    "table_12fld = soup.find('table', {'id' : 'teams_standard_fielding'})"
   ]
  },
  {
   "cell_type": "code",
   "execution_count": 16,
   "metadata": {},
   "outputs": [],
   "source": [
    "#2013\n",
    "driver.get(url_list[11])\n",
    "soup = BeautifulSoup(driver.page_source, 'lxml')\n",
    "\n",
    "table_13bat = soup.find('table', {'id' : 'teams_standard_batting'})\n",
    "table_13pit = soup.find('table', {'id' : 'teams_standard_pitching'})\n",
    "table_13fld = soup.find('table', {'id' : 'teams_standard_fielding'})"
   ]
  },
  {
   "cell_type": "code",
   "execution_count": 17,
   "metadata": {},
   "outputs": [],
   "source": [
    "#2014\n",
    "driver.get(url_list[12])\n",
    "soup = BeautifulSoup(driver.page_source, 'lxml')\n",
    "\n",
    "table_14bat = soup.find('table', {'id' : 'teams_standard_batting'})\n",
    "table_14pit = soup.find('table', {'id' : 'teams_standard_pitching'})\n",
    "table_14fld = soup.find('table', {'id' : 'teams_standard_fielding'})"
   ]
  },
  {
   "cell_type": "code",
   "execution_count": 18,
   "metadata": {},
   "outputs": [],
   "source": [
    "#2015\n",
    "driver.get(url_list[13])\n",
    "soup = BeautifulSoup(driver.page_source, 'lxml')\n",
    "\n",
    "table_15bat = soup.find('table', {'id' : 'teams_standard_batting'})\n",
    "table_15pit = soup.find('table', {'id' : 'teams_standard_pitching'})\n",
    "table_15fld = soup.find('table', {'id' : 'teams_standard_fielding'})"
   ]
  },
  {
   "cell_type": "code",
   "execution_count": 19,
   "metadata": {},
   "outputs": [],
   "source": [
    "#2016\n",
    "driver.get(url_list[14])\n",
    "soup = BeautifulSoup(driver.page_source, 'lxml')\n",
    "\n",
    "table_16bat = soup.find('table', {'id' : 'teams_standard_batting'})\n",
    "table_16pit = soup.find('table', {'id' : 'teams_standard_pitching'})\n",
    "table_16fld = soup.find('table', {'id' : 'teams_standard_fielding'})"
   ]
  },
  {
   "cell_type": "code",
   "execution_count": 20,
   "metadata": {},
   "outputs": [],
   "source": [
    "#2017\n",
    "driver.get(url_list[15])\n",
    "soup = BeautifulSoup(driver.page_source, 'lxml')\n",
    "\n",
    "table_17bat = soup.find('table', {'id' : 'teams_standard_batting'})\n",
    "table_17pit = soup.find('table', {'id' : 'teams_standard_pitching'})\n",
    "table_17fld = soup.find('table', {'id' : 'teams_standard_fielding'})"
   ]
  },
  {
   "cell_type": "code",
   "execution_count": 21,
   "metadata": {},
   "outputs": [],
   "source": [
    "driver.quit()"
   ]
  },
  {
   "cell_type": "markdown",
   "metadata": {},
   "source": [
    "# Parse Data"
   ]
  },
  {
   "cell_type": "markdown",
   "metadata": {},
   "source": [
    "## Team Names\n",
    "In scraped data, team names are hyperlinked and not easily scraped with other columns, so will be added back in with each year's dataframes."
   ]
  },
  {
   "cell_type": "code",
   "execution_count": 23,
   "metadata": {},
   "outputs": [],
   "source": [
    "# Team names by yr for DF (Angels and Rays changed team names, Astros joined division)\n",
    "teams_list_02to04 = ['LAA', 'BAL', 'BOS', 'CHW', 'CLE', 'DET', 'KCR', 'MIN', 'NYY', 'OAK', 'SEA', 'TBD', 'TEX', 'TOR']\n",
    "teams_list_05to12 = ['BAL', 'BOS', 'CHW', 'CLE', 'DET', 'KCR', 'LAA', 'MIN', 'NYY', 'OAK', 'SEA', 'TBD', 'TEX', 'TOR']\n",
    "teams_list_13to17 = ['BAL', 'BOS', 'CHW', 'CLE', 'DET', 'HOU', 'KCR', 'LAA', 'MIN', 'NYY', 'OAK', 'SEA', 'TBD', 'TEX', \n",
    "                     'TOR']"
   ]
  },
  {
   "cell_type": "markdown",
   "metadata": {},
   "source": [
    "## Parse Tables by Year\n",
    "For column headers, skip first column with hyperlinked team names. \n",
    "For data rows, skip first row (column headers) and last two rows (summary statistics)."
   ]
  },
  {
   "cell_type": "code",
   "execution_count": null,
   "metadata": {},
   "outputs": [],
   "source": [
    "# Build batting DF\n",
    "column_headers_bat = [th.getText() for th in \n",
    "                  table_02bat.findAll('tr')[0].findAll('th')][1:]\n",
    "data_rows_bat = table_17bat.findAll('tr')[1:-2]  # skip row1 header and last 2 summary rows\n",
    "player_data_bat = [[td.getText() for td in data_rows_bat[i].findAll('td')]\n",
    "               for i in range(len(data_rows_bat))]\n",
    "\n",
    "df_bat = pd.DataFrame(player_data_bat, columns=column_headers_bat)\n",
    "df_bat['Team']\n",
    "df_bat.head()"
   ]
  },
  {
   "cell_type": "code",
   "execution_count": null,
   "metadata": {},
   "outputs": [],
   "source": []
  },
  {
   "cell_type": "code",
   "execution_count": null,
   "metadata": {},
   "outputs": [],
   "source": []
  },
  {
   "cell_type": "code",
   "execution_count": null,
   "metadata": {},
   "outputs": [],
   "source": [
    "# BROKEN BROKEN BROKEN BROKEN BROKEN\n",
    "# Build batting DF - try to get 1st column\n",
    "column_headers_bat = [th.getText() for th in \n",
    "                  table_17bat.findAll('tr')[0].findAll('th')][:] # not sure if last [:] needed\n",
    "team_name = [[td.getText() for td in table_17bat.findAll('tr')][0]]\n",
    "data_rows_bat = table_17bat.findAll('tr')[1:-2]  # skip row1 header and last 2 summary rows\n",
    "player_data_bat = team_name + [[td.getText() for td in data_rows_bat[i].findAll('td')]\n",
    "               for i in range(len(data_rows_bat))]\n",
    "\n",
    "df_bat = pd.DataFrame(player_data_bat, columns=column_headers_bat)\n",
    "df_bat.head()\n",
    "# Need to get team names from first cell which is hyperlinked\n",
    "# Try this https://stackoverflow.com/questions/11716380/python-beautifulsoup-extract-text-from-anchor-tag\n",
    "# Or this https://stackoverflow.com/questions/13240700/python-beautifulsoup-to-find-all-a-href-with-specific-anchor-text"
   ]
  },
  {
   "cell_type": "code",
   "execution_count": null,
   "metadata": {},
   "outputs": [],
   "source": [
    "# Build batting DF\n",
    "column_headers_bat = [th.getText() for th in \n",
    "                  table_17bat.findAll('tr')[0].findAll('th')][1:] # not sure if last [:] needed\n",
    "data_rows_bat = table_17bat.findAll('tr')[1:-2]  # skip row1 header and last 2 summary rows\n",
    "player_data_bat = [[td.getText() for td in data_rows_bat[i].findAll('td')]\n",
    "               for i in range(len(data_rows_bat))]\n",
    "\n",
    "df_bat = pd.DataFrame(player_data_bat, columns=column_headers_bat)\n",
    "df_bat['Team']\n",
    "df_bat.head()\n",
    "# Need to get team names from first cell which is hyperlinked - SEE ABOVE"
   ]
  },
  {
   "cell_type": "code",
   "execution_count": null,
   "metadata": {},
   "outputs": [],
   "source": [
    "# Build pitching DF\n",
    "column_headers_pit = [th.getText() for th in \n",
    "                  table_17pit.findAll('tr')[0].findAll('th')][1:] # not sure if last [:] needed\n",
    "data_rows_pit = table_17pit.findAll('tr')[1:-2]  # skip row1 header and last 2 summary rows\n",
    "player_data_pit = [[td.getText() for td in data_rows_pit[i].findAll('td')]\n",
    "               for i in range(len(data_rows_pit))]\n",
    "\n",
    "df_pit = pd.DataFrame(player_data_pit, columns=column_headers_pit)\n",
    "df_pit"
   ]
  },
  {
   "cell_type": "code",
   "execution_count": null,
   "metadata": {},
   "outputs": [],
   "source": [
    "# Build fielding DF"
   ]
  },
  {
   "cell_type": "markdown",
   "metadata": {},
   "source": [
    "## EDA for Pitching"
   ]
  },
  {
   "cell_type": "code",
   "execution_count": null,
   "metadata": {},
   "outputs": [],
   "source": [
    "df_pit_sm = df_pit[['#P', 'RA/G', 'W-L%', 'ERA', 'ERA+']]"
   ]
  },
  {
   "cell_type": "code",
   "execution_count": null,
   "metadata": {},
   "outputs": [],
   "source": [
    "df_pit_sm"
   ]
  },
  {
   "cell_type": "code",
   "execution_count": null,
   "metadata": {},
   "outputs": [],
   "source": [
    "df_pit_sm.info()"
   ]
  },
  {
   "cell_type": "code",
   "execution_count": null,
   "metadata": {},
   "outputs": [],
   "source": [
    "# Change datatype from object to floats/ints\n",
    "\n",
    "df_pit_sm[['#P', 'ERA+']] = df_pit_sm[['#P', 'ERA+']].astype(int)\n",
    "df_pit_sm[['RA/G', 'W-L%', 'ERA']] = df_pit_sm[['RA/G', 'W-L%', 'ERA']].astype(float)\n",
    "\n",
    "df_pit_sm.info()"
   ]
  },
  {
   "cell_type": "code",
   "execution_count": null,
   "metadata": {},
   "outputs": [],
   "source": [
    "df_pit_sm"
   ]
  },
  {
   "cell_type": "markdown",
   "metadata": {},
   "source": [
    "#### Analysis\n",
    "Based on heatmap below, looking at middle row for W-L%, I will definitely **not** include number of pitchers in my model. I will likely include RA/G or ERA which are highly correlated at -.87 and -.85 respectively."
   ]
  },
  {
   "cell_type": "code",
   "execution_count": null,
   "metadata": {},
   "outputs": [],
   "source": [
    "sns.heatmap(df_pit_sm.corr(), vmin=-1, vmax=1, cmap='seismic', annot=True)"
   ]
  },
  {
   "cell_type": "code",
   "execution_count": null,
   "metadata": {},
   "outputs": [],
   "source": [
    "sns.pairplot(df_pit_sm, size = 1.2, aspect=1.5);"
   ]
  },
  {
   "cell_type": "code",
   "execution_count": null,
   "metadata": {},
   "outputs": [],
   "source": []
  }
 ],
 "metadata": {
  "kernelspec": {
   "display_name": "Python 3",
   "language": "python",
   "name": "python3"
  },
  "language_info": {
   "codemirror_mode": {
    "name": "ipython",
    "version": 3
   },
   "file_extension": ".py",
   "mimetype": "text/x-python",
   "name": "python",
   "nbconvert_exporter": "python",
   "pygments_lexer": "ipython3",
   "version": "3.6.4"
  },
  "toc": {
   "base_numbering": 1,
   "nav_menu": {},
   "number_sections": true,
   "sideBar": true,
   "skip_h1_title": false,
   "title_cell": "Table of Contents",
   "title_sidebar": "Contents",
   "toc_cell": false,
   "toc_position": {},
   "toc_section_display": true,
   "toc_window_display": false
  }
 },
 "nbformat": 4,
 "nbformat_minor": 2
}
