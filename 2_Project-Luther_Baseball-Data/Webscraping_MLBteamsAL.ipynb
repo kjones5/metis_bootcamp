{
 "cells": [
  {
   "cell_type": "markdown",
   "metadata": {
    "heading_collapsed": true
   },
   "source": [
    "# Setup"
   ]
  },
  {
   "cell_type": "code",
   "execution_count": 1,
   "metadata": {
    "hidden": true
   },
   "outputs": [],
   "source": [
    "from selenium import webdriver\n",
    "from selenium.webdriver.common.keys import Keys\n",
    "from bs4 import BeautifulSoup\n",
    "import pandas as pd\n",
    "import seaborn as sns\n",
    "import matplotlib.pyplot as plt\n",
    "import unicodedata\n",
    "import time\n",
    "import re\n",
    "import os\n",
    "\n",
    "%config InlineBackend.figure_format = 'png'\n",
    "plt.rcParams['figure.dpi']= 300"
   ]
  },
  {
   "cell_type": "markdown",
   "metadata": {
    "heading_collapsed": true
   },
   "source": [
    "# Scrape Data"
   ]
  },
  {
   "cell_type": "markdown",
   "metadata": {
    "heading_collapsed": true,
    "hidden": true
   },
   "source": [
    "## Scrape Setup"
   ]
  },
  {
   "cell_type": "code",
   "execution_count": 2,
   "metadata": {
    "hidden": true
   },
   "outputs": [],
   "source": [
    "year_list = [str(year) for year in list(range(2002,2018))]\n",
    "url_list = [('https://www.baseball-reference.com/leagues/AL/' + year + '.shtml') \n",
    "            for year in year_list]\n",
    "\n",
    "chromedriver = '/Users/kellyjones/Downloads/chromedriver' # path to the chromedriver executable\n",
    "os.environ['webdriver.chrome.driver'] = chromedriver\n",
    "driver = webdriver.Chrome(chromedriver)\n",
    "driver.implicitly_wait(5)"
   ]
  },
  {
   "cell_type": "markdown",
   "metadata": {
    "heading_collapsed": true,
    "hidden": true
   },
   "source": [
    "## Pull Data from URLs by Year\n",
    "Use table ID to pull batting, pitching, and fielding tables from each page, then quit driver."
   ]
  },
  {
   "cell_type": "code",
   "execution_count": 3,
   "metadata": {
    "hidden": true
   },
   "outputs": [],
   "source": [
    "# 2002\n",
    "driver.get(url_list[0])\n",
    "soup = BeautifulSoup(driver.page_source, 'lxml')\n",
    "\n",
    "table_02bat = soup.find('table', {'id' : 'teams_standard_batting'})\n",
    "table_02pit = soup.find('table', {'id' : 'teams_standard_pitching'})\n",
    "table_02fld = soup.find('table', {'id' : 'teams_standard_fielding'})"
   ]
  },
  {
   "cell_type": "code",
   "execution_count": 4,
   "metadata": {
    "hidden": true
   },
   "outputs": [],
   "source": [
    "#2003\n",
    "driver.get(url_list[1])\n",
    "soup = BeautifulSoup(driver.page_source, 'lxml')\n",
    "\n",
    "table_03bat = soup.find('table', {'id' : 'teams_standard_batting'})\n",
    "table_03pit = soup.find('table', {'id' : 'teams_standard_pitching'})\n",
    "table_03fld = soup.find('table', {'id' : 'teams_standard_fielding'})"
   ]
  },
  {
   "cell_type": "code",
   "execution_count": 5,
   "metadata": {
    "hidden": true
   },
   "outputs": [],
   "source": [
    "#2004\n",
    "driver.get(url_list[2])\n",
    "soup = BeautifulSoup(driver.page_source, 'lxml')\n",
    "\n",
    "table_04bat = soup.find('table', {'id' : 'teams_standard_batting'})\n",
    "table_04pit = soup.find('table', {'id' : 'teams_standard_pitching'})\n",
    "table_04fld = soup.find('table', {'id' : 'teams_standard_fielding'})"
   ]
  },
  {
   "cell_type": "code",
   "execution_count": 6,
   "metadata": {
    "hidden": true
   },
   "outputs": [],
   "source": [
    "#2005\n",
    "driver.get(url_list[3])\n",
    "soup = BeautifulSoup(driver.page_source, 'lxml')\n",
    "\n",
    "table_05bat = soup.find('table', {'id' : 'teams_standard_batting'})\n",
    "table_05pit = soup.find('table', {'id' : 'teams_standard_pitching'})\n",
    "table_05fld = soup.find('table', {'id' : 'teams_standard_fielding'})"
   ]
  },
  {
   "cell_type": "code",
   "execution_count": 7,
   "metadata": {
    "hidden": true
   },
   "outputs": [],
   "source": [
    "#2006\n",
    "driver.get(url_list[4])\n",
    "soup = BeautifulSoup(driver.page_source, 'lxml')\n",
    "\n",
    "table_06bat = soup.find('table', {'id' : 'teams_standard_batting'})\n",
    "table_06pit = soup.find('table', {'id' : 'teams_standard_pitching'})\n",
    "table_06fld = soup.find('table', {'id' : 'teams_standard_fielding'})"
   ]
  },
  {
   "cell_type": "code",
   "execution_count": 8,
   "metadata": {
    "hidden": true
   },
   "outputs": [],
   "source": [
    "#2007\n",
    "driver.get(url_list[5])\n",
    "soup = BeautifulSoup(driver.page_source, 'lxml')\n",
    "\n",
    "table_07bat = soup.find('table', {'id' : 'teams_standard_batting'})\n",
    "table_07pit = soup.find('table', {'id' : 'teams_standard_pitching'})\n",
    "table_07fld = soup.find('table', {'id' : 'teams_standard_fielding'})"
   ]
  },
  {
   "cell_type": "code",
   "execution_count": 9,
   "metadata": {
    "hidden": true
   },
   "outputs": [],
   "source": [
    "#2008\n",
    "driver.get(url_list[6])\n",
    "soup = BeautifulSoup(driver.page_source, 'lxml')\n",
    "\n",
    "table_08bat = soup.find('table', {'id' : 'teams_standard_batting'})\n",
    "table_08pit = soup.find('table', {'id' : 'teams_standard_pitching'})\n",
    "table_08fld = soup.find('table', {'id' : 'teams_standard_fielding'})"
   ]
  },
  {
   "cell_type": "code",
   "execution_count": 10,
   "metadata": {
    "hidden": true
   },
   "outputs": [],
   "source": [
    "#2009\n",
    "driver.get(url_list[7])\n",
    "soup = BeautifulSoup(driver.page_source, 'lxml')\n",
    "\n",
    "table_09bat = soup.find('table', {'id' : 'teams_standard_batting'})\n",
    "table_09pit = soup.find('table', {'id' : 'teams_standard_pitching'})\n",
    "table_09fld = soup.find('table', {'id' : 'teams_standard_fielding'})"
   ]
  },
  {
   "cell_type": "code",
   "execution_count": 11,
   "metadata": {
    "hidden": true
   },
   "outputs": [],
   "source": [
    "#2010\n",
    "driver.get(url_list[8])\n",
    "soup = BeautifulSoup(driver.page_source, 'lxml')\n",
    "\n",
    "table_10bat = soup.find('table', {'id' : 'teams_standard_batting'})\n",
    "table_10pit = soup.find('table', {'id' : 'teams_standard_pitching'})\n",
    "table_10fld = soup.find('table', {'id' : 'teams_standard_fielding'})"
   ]
  },
  {
   "cell_type": "code",
   "execution_count": 12,
   "metadata": {
    "hidden": true
   },
   "outputs": [],
   "source": [
    "#2011\n",
    "driver.get(url_list[9])\n",
    "soup = BeautifulSoup(driver.page_source, 'lxml')\n",
    "\n",
    "table_11bat = soup.find('table', {'id' : 'teams_standard_batting'})\n",
    "table_11pit = soup.find('table', {'id' : 'teams_standard_pitching'})\n",
    "table_11fld = soup.find('table', {'id' : 'teams_standard_fielding'})"
   ]
  },
  {
   "cell_type": "code",
   "execution_count": 13,
   "metadata": {
    "hidden": true
   },
   "outputs": [],
   "source": [
    "#2012\n",
    "driver.get(url_list[10])\n",
    "soup = BeautifulSoup(driver.page_source, 'lxml')\n",
    "\n",
    "table_12bat = soup.find('table', {'id' : 'teams_standard_batting'})\n",
    "table_12pit = soup.find('table', {'id' : 'teams_standard_pitching'})\n",
    "table_12fld = soup.find('table', {'id' : 'teams_standard_fielding'})"
   ]
  },
  {
   "cell_type": "code",
   "execution_count": 14,
   "metadata": {
    "hidden": true
   },
   "outputs": [],
   "source": [
    "#2013\n",
    "driver.get(url_list[11])\n",
    "soup = BeautifulSoup(driver.page_source, 'lxml')\n",
    "\n",
    "table_13bat = soup.find('table', {'id' : 'teams_standard_batting'})\n",
    "table_13pit = soup.find('table', {'id' : 'teams_standard_pitching'})\n",
    "table_13fld = soup.find('table', {'id' : 'teams_standard_fielding'})"
   ]
  },
  {
   "cell_type": "code",
   "execution_count": 15,
   "metadata": {
    "hidden": true
   },
   "outputs": [],
   "source": [
    "#2014\n",
    "driver.get(url_list[12])\n",
    "soup = BeautifulSoup(driver.page_source, 'lxml')\n",
    "\n",
    "table_14bat = soup.find('table', {'id' : 'teams_standard_batting'})\n",
    "table_14pit = soup.find('table', {'id' : 'teams_standard_pitching'})\n",
    "table_14fld = soup.find('table', {'id' : 'teams_standard_fielding'})"
   ]
  },
  {
   "cell_type": "code",
   "execution_count": 16,
   "metadata": {
    "hidden": true
   },
   "outputs": [],
   "source": [
    "#2015\n",
    "driver.get(url_list[13])\n",
    "soup = BeautifulSoup(driver.page_source, 'lxml')\n",
    "\n",
    "table_15bat = soup.find('table', {'id' : 'teams_standard_batting'})\n",
    "table_15pit = soup.find('table', {'id' : 'teams_standard_pitching'})\n",
    "table_15fld = soup.find('table', {'id' : 'teams_standard_fielding'})"
   ]
  },
  {
   "cell_type": "code",
   "execution_count": 17,
   "metadata": {
    "hidden": true
   },
   "outputs": [],
   "source": [
    "#2016\n",
    "driver.get(url_list[14])\n",
    "soup = BeautifulSoup(driver.page_source, 'lxml')\n",
    "\n",
    "table_16bat = soup.find('table', {'id' : 'teams_standard_batting'})\n",
    "table_16pit = soup.find('table', {'id' : 'teams_standard_pitching'})\n",
    "table_16fld = soup.find('table', {'id' : 'teams_standard_fielding'})"
   ]
  },
  {
   "cell_type": "code",
   "execution_count": 18,
   "metadata": {
    "hidden": true
   },
   "outputs": [],
   "source": [
    "#2017\n",
    "driver.get(url_list[15])\n",
    "soup = BeautifulSoup(driver.page_source, 'lxml')\n",
    "\n",
    "table_17bat = soup.find('table', {'id' : 'teams_standard_batting'})\n",
    "table_17pit = soup.find('table', {'id' : 'teams_standard_pitching'})\n",
    "table_17fld = soup.find('table', {'id' : 'teams_standard_fielding'})"
   ]
  },
  {
   "cell_type": "code",
   "execution_count": 19,
   "metadata": {
    "hidden": true
   },
   "outputs": [],
   "source": [
    "driver.quit()"
   ]
  },
  {
   "cell_type": "markdown",
   "metadata": {
    "heading_collapsed": true
   },
   "source": [
    "# Parse Data"
   ]
  },
  {
   "cell_type": "markdown",
   "metadata": {
    "heading_collapsed": true,
    "hidden": true
   },
   "source": [
    "## Team Names"
   ]
  },
  {
   "cell_type": "markdown",
   "metadata": {
    "hidden": true
   },
   "source": [
    "In scraped data, team names are hyperlinked and not easily scraped with other columns, so will be added back in with each year's dataframes."
   ]
  },
  {
   "cell_type": "code",
   "execution_count": 20,
   "metadata": {
    "hidden": true
   },
   "outputs": [],
   "source": [
    "# Team names by yr for DF (Angels and Rays changed team names, Astros joined division)\n",
    "teams_list_02to04 = ['LAA', 'BAL', 'BOS', 'CHW', 'CLE', 'DET', 'KCR', 'MIN', 'NYY', 'OAK', 'SEA', 'TBD', 'TEX', 'TOR']\n",
    "teams_list_05to12 = ['BAL', 'BOS', 'CHW', 'CLE', 'DET', 'KCR', 'LAA', 'MIN', 'NYY', 'OAK', 'SEA', 'TBD', 'TEX', 'TOR']\n",
    "teams_list_13to17 = ['BAL', 'BOS', 'CHW', 'CLE', 'DET', 'HOU', 'KCR', 'LAA', 'MIN', 'NYY', 'OAK', 'SEA', 'TBD', 'TEX', \n",
    "                     'TOR']"
   ]
  },
  {
   "cell_type": "markdown",
   "metadata": {
    "heading_collapsed": true,
    "hidden": true
   },
   "source": [
    "## Variable Glossary"
   ]
  },
  {
   "cell_type": "markdown",
   "metadata": {
    "heading_collapsed": true,
    "hidden": true
   },
   "source": [
    "### Batting"
   ]
  },
  {
   "cell_type": "markdown",
   "metadata": {
    "hidden": true
   },
   "source": [
    "**#Bat** -- Number of Players used in Games  \n",
    "**BatAge** -- Batters’ average age, weighted by AB + Games Played  \n",
    "**R/G** -- Runs Scored Per Game  \n",
    "**G** -- Games Played or Pitched  \n",
    "**PA** -- *Plate Appearances. When available, we use actual plate appearances from play-by-play game accounts. Otherwise estimated using AB + BB + HBP + SF + SH, which excludes catcher interferences.*  \n",
    "**AB** -- At Bats  \n",
    "**R** -- Runs Scored/Allowed  \n",
    "**H** -- Hits/Hits Allowed  \n",
    "**HR** -- Home Runs Hit/Allowed  \n",
    "**RBI** -- Runs Batted In  \n",
    "**SB** -- Stolen Bases  \n",
    "**CS** -- Caught Stealing  \n",
    "**BB** -- Bases on Balls/Walks  \n",
    "**SO** -- Strikeouts  \n",
    "**BA** -- Hits/At Bats  \n",
    "**OBP** -- (H + BB + HBP)/(At Bats + BB + HBP + SF)  \n",
    "**SLG** -- Total Bases/At Bats or (1B + 2x2B + 3x3B + 4xHR)/AB  \n",
    "**OPS** -- On-Base + Slugging Percentages  \n",
    "**OPS+** -- OPS+ *100x(OBP/lg OBP + SLG/lg SLG - 1), adjusted to the player’s ballpark(s)*  \n",
    "**TB** -- Total Bases. *Singles + 2 x Doubles + 3 x Triples + 4 x Home Runs*  \n",
    "**GDP** -- Double Plays Grounded Into. *Only includes standard 6-4-3, 4-3, etc. double plays. For gamelogs only in seasons we have play-by-play, we include triple plays as well. All official seasonal totals do not include GITP's.*  \n",
    "**HBP** -- Times Hit by a Pitch.  \n",
    "**SH** -- Sacrifice Hits (Sacrifice Bunts)  \n",
    "**SF** -- Sacrifice Flies  \n",
    "**IBB** -- Intentional Bases on Balls  \n",
    "**LOB** -- Runners Left On Base"
   ]
  },
  {
   "cell_type": "markdown",
   "metadata": {
    "heading_collapsed": true,
    "hidden": true
   },
   "source": [
    "### Pitching"
   ]
  },
  {
   "cell_type": "markdown",
   "metadata": {},
   "source": [
    "#P -- Number of Pitchers used in Games  \n",
    "PAge -- Pitchers’ average age  \n",
    "Weighted by 3xGS + G + SV  \n",
    "RA/G -- Runs Allowed Per Game  \n",
    "W -- Wins  \n",
    "L -- Losses  \n",
    "W-L% -- Win-Loss Percentage  \n",
    "W / (W + L)  \n",
    "For players, leaders need one decision for every ten team games.\n",
    "For managers, minimum to qualify for leading is 320 games.  \n",
    "ERA -- 9 x ER / IP  \n",
    "For recent years, leaders need 1 IP\n",
    "per team game played.\n",
    "Bold indicates lowest ERA using current stats\n",
    "Gold means awarded ERA title at end of year.  \n",
    "G -- Games Played or Pitched  \n",
    "GS -- Games Started  \n",
    "GF -- Games Finished  \n",
    "CG -- Complete Game  \n",
    "tSho -- Shutouts by a team  \n",
    "No runs allowed in a game by one or more pitchers.  \n",
    "cSho -- Shutouts  \n",
    "No runs allowed and a complete game.  \n",
    "SV -- Saves  \n",
    "IP -- Innings Pitched  \n",
    "H -- Hits/Hits Allowed  \n",
    "R -- Runs Scored/Allowed  \n",
    "ER -- Earned Runs Allowed  \n",
    "HR -- Home Runs Hit/Allowed  \n",
    "BB -- Bases on Balls/Walks  \n",
    "IBB -- Intentional Bases on Balls  \n",
    "First tracked in 1955.  \n",
    "SO -- Strikeouts  \n",
    "HBP -- Times Hit by a Pitch.  \n",
    "BK -- Balks  \n",
    "WP -- Wild Pitches  \n",
    "BF -- Batters Faced  \n",
    "ERA+ -- ERA+  \n",
    "100x(lgERA/ERA)\n",
    "Adjusted to the player’s ballpark(s).  \n",
    "FIP -- Fielding Independent Pitching  \n",
    "this stat measures a pitcher's effectiveness at preventing HR, BB, HBP and causing SO\n",
    "(13xHR + 3x(BB+HBP) - 2xSO)/IP + Constantlg\n",
    "The constant is set so that each season MLB average FIP is the same as the MLB avg ERA  \n",
    "WHIP -- (BB + H)/IP  \n",
    "For recent years, leaders need 1 IP\n",
    "per team game played  \n",
    "H9 -- 9 x H / IP  \n",
    "For recent years, leaders need 1 IP\n",
    "per team game played  \n",
    "HR9 -- 9 x HR / IP  \n",
    "For recent years, leaders need 1 IP\n",
    "per team game played  \n",
    "BB9 -- 9 x BB / IP  \n",
    "For recent years, leaders need 1 IP\n",
    "per team game played  \n",
    "SO9 -- 9 x SO / IP  \n",
    "For recent years, leaders need 1 IP\n",
    "per team game played  \n",
    "SO/W -- SO/W or SO/BB  \n",
    "For recent years, pitching leaders need 1 IP\n",
    "per team game played.  \n",
    "No batting leaders computed.  \n",
    "LOB -- Runners Left On Base  "
   ]
  },
  {
   "cell_type": "markdown",
   "metadata": {
    "heading_collapsed": true
   },
   "source": [
    "### Fielding"
   ]
  },
  {
   "cell_type": "markdown",
   "metadata": {
    "hidden": true
   },
   "source": [
    "**#Fld** -- Number of Players used as Fielders  \n",
    "**RA/G** -- Runs Allowed Per Game  \n",
    "**DefEff** -- Defensive Efficiency  \n",
    "*Percentage of balls in play converted into outs. This is an estimate based on team defensive and pitching stats. We utilize two estimates of plays made. One using innings pitched, strikeouts, double plays and outfield assists. And the other with batters faced, strikeouts, hits allowed, walks allowed, hbp, and .71 x errors committed (avg percent of errors that result in an ROE) Total plays available are plays made + hits allowed - home runs + error committed estimate.*  \n",
    "**G** -- Games Played or Pitched\n",
    "GS -- Games Started  \n",
    "CG -- Complete Game  \n",
    "Inn -- Innings Played in Field  \n",
    "Ch -- Defensive Chances  \n",
    "*Putouts + Assists + Errors*  \n",
    "PO -- Putouts  \n",
    "A -- Assists  \n",
    "E -- Errors Committed  \n",
    "DP -- Double Plays Turned  \n",
    "Fld% -- Fielding Percentage  \n",
    "(Putouts + Assists) / (Putouts + Assists + Errors)\n",
    "Rtot -- Total Zone Total Fielding Runs Above Avg\n",
    "The number of runs above or below average the player was worth based on the number of plays made. This number combines the Rtz, Rdp, Rof, Rcatch numbers into a total defensive contribution.  \n",
    "Rtot/yr -- Total Zone Total Fielding Runs Above Avg per 1,200 Inn  \n",
    "The number of runs above or below average the fielder was worth per 1,200 Innings (approx 135 games).\n",
    "This number combines the Rtz, Rdp, Rof, Rcatch numbers into a total defensive contribution.\n",
    "See the glossary section for a more complete explanation.\n",
    "Provided by BaseballProjection.com  \n",
    "Rdrs -- BIS Defensive Runs Saved Above Avg  \n",
    "The number of runs above or below average the player was worth based on the number of plays made.\n",
    "This number combines the Rpm, Rbdp, Rbof, Rbcatch numbers into a total defensive contribution.\n",
    "Provided by Baseball Info Solutions  \n",
    "Rdrs/yr -- BIS Defensive Runs Saved Above Avg per 1,200 Inn  \n",
    "The number of runs above or below average the fielder was worth per 1,200 Innings (approx 135 games).\n",
    "This number combines the Rpm, Rbdp, Rbof, Rbcatch numbers into a total defensive contribution.\n",
    "For pitchers, this is set to 200 Innings."
   ]
  },
  {
   "cell_type": "markdown",
   "metadata": {
    "heading_collapsed": true
   },
   "source": [
    "## Parse Tables by Year"
   ]
  },
  {
   "cell_type": "markdown",
   "metadata": {
    "hidden": true
   },
   "source": [
    "* For column headers, skip first column with hyperlinked team names. \n",
    "* For data rows, skip first row (column headers) and last two rows (summary statistics). \n",
    "* Reset index after each year of data.\n",
    "* List of teams changes in 2005 and 2013."
   ]
  },
  {
   "cell_type": "markdown",
   "metadata": {
    "heading_collapsed": true,
    "hidden": true
   },
   "source": [
    "### Batting"
   ]
  },
  {
   "cell_type": "code",
   "execution_count": 40,
   "metadata": {
    "hidden": true
   },
   "outputs": [
    {
     "data": {
      "text/plain": [
       "(14, 31)"
      ]
     },
     "execution_count": 40,
     "metadata": {},
     "output_type": "execute_result"
    }
   ],
   "source": [
    "# 2002 - Batting DF\n",
    "col_headers_bat = [th.getText() for th in \n",
    "                  table_02bat.findAll('tr')[0].findAll('th')][1:]\n",
    "data_rows_bat = table_02bat.findAll('tr')[1:-2] \n",
    "player_data_bat = [[td.getText() for td in data_rows_bat[i].findAll('td')]\n",
    "               for i in range(len(data_rows_bat))]\n",
    "\n",
    "df_bat = pd.DataFrame(player_data_bat, columns=col_headers_bat)\n",
    "df_bat['Team'] = pd.DataFrame({'Team': teams_list_02to04})\n",
    "df_bat['Year'] = '2002'\n",
    "df_bat['YrTm'] = df_bat['Year'] + df_bat['Team']\n",
    "df_bat.shape # should be 14 rows"
   ]
  },
  {
   "cell_type": "code",
   "execution_count": 41,
   "metadata": {
    "hidden": true
   },
   "outputs": [
    {
     "data": {
      "text/plain": [
       "(28, 31)"
      ]
     },
     "execution_count": 41,
     "metadata": {},
     "output_type": "execute_result"
    }
   ],
   "source": [
    "# 2003 - Batting DF\n",
    "col_headers_bat = [th.getText() for th in \n",
    "                  table_03bat.findAll('tr')[0].findAll('th')][1:]\n",
    "data_rows_bat = table_03bat.findAll('tr')[1:-2] \n",
    "player_data_bat = [[td.getText() for td in data_rows_bat[i].findAll('td')]\n",
    "               for i in range(len(data_rows_bat))]\n",
    "\n",
    "df_bat_interim = pd.DataFrame(player_data_bat, columns=col_headers_bat)\n",
    "df_bat_interim['Team'] = pd.DataFrame({'Team': teams_list_02to04})\n",
    "df_bat_interim['Year'] = '2003'\n",
    "df_bat_interim['YrTm'] = df_bat_interim['Year'] + df_bat_interim['Team']\n",
    "df_bat = pd.concat([df_bat, df_bat_interim]).reset_index(drop=True)\n",
    "df_bat.shape # should be 28 rows"
   ]
  },
  {
   "cell_type": "code",
   "execution_count": 42,
   "metadata": {
    "hidden": true
   },
   "outputs": [
    {
     "data": {
      "text/plain": [
       "(42, 31)"
      ]
     },
     "execution_count": 42,
     "metadata": {},
     "output_type": "execute_result"
    }
   ],
   "source": [
    "# 2004 - Batting DF\n",
    "col_headers_bat = [th.getText() for th in \n",
    "                  table_04bat.findAll('tr')[0].findAll('th')][1:]\n",
    "data_rows_bat = table_04bat.findAll('tr')[1:-2] \n",
    "player_data_bat = [[td.getText() for td in data_rows_bat[i].findAll('td')]\n",
    "               for i in range(len(data_rows_bat))]\n",
    "\n",
    "df_bat_interim = pd.DataFrame(player_data_bat, columns=col_headers_bat)\n",
    "df_bat_interim['Team'] = pd.DataFrame({'Team': teams_list_02to04})\n",
    "df_bat_interim['Year'] = '2004'\n",
    "df_bat_interim['YrTm'] = df_bat_interim['Year'] + df_bat_interim['Team']\n",
    "df_bat = pd.concat([df_bat, df_bat_interim]).reset_index(drop=True)\n",
    "df_bat.shape # should be 42 rows"
   ]
  },
  {
   "cell_type": "code",
   "execution_count": 43,
   "metadata": {
    "hidden": true
   },
   "outputs": [
    {
     "data": {
      "text/plain": [
       "(56, 31)"
      ]
     },
     "execution_count": 43,
     "metadata": {},
     "output_type": "execute_result"
    }
   ],
   "source": [
    "# 2005 - Batting DF\n",
    "col_headers_bat = [th.getText() for th in \n",
    "                  table_05bat.findAll('tr')[0].findAll('th')][1:]\n",
    "data_rows_bat = table_05bat.findAll('tr')[1:-2] \n",
    "player_data_bat = [[td.getText() for td in data_rows_bat[i].findAll('td')]\n",
    "               for i in range(len(data_rows_bat))]\n",
    "\n",
    "df_bat_interim = pd.DataFrame(player_data_bat, columns=col_headers_bat)\n",
    "df_bat_interim['Team'] = pd.DataFrame({'Team': teams_list_05to12})\n",
    "df_bat_interim['Year'] = '2005'\n",
    "df_bat_interim['YrTm'] = df_bat_interim['Year'] + df_bat_interim['Team']\n",
    "df_bat = pd.concat([df_bat, df_bat_interim]).reset_index(drop=True)\n",
    "df_bat.shape # should be 56 rows"
   ]
  },
  {
   "cell_type": "code",
   "execution_count": 44,
   "metadata": {
    "hidden": true
   },
   "outputs": [
    {
     "data": {
      "text/plain": [
       "(70, 31)"
      ]
     },
     "execution_count": 44,
     "metadata": {},
     "output_type": "execute_result"
    }
   ],
   "source": [
    "# 2006 - Batting DF\n",
    "col_headers_bat = [th.getText() for th in \n",
    "                  table_06bat.findAll('tr')[0].findAll('th')][1:]\n",
    "data_rows_bat = table_06bat.findAll('tr')[1:-2] \n",
    "player_data_bat = [[td.getText() for td in data_rows_bat[i].findAll('td')]\n",
    "               for i in range(len(data_rows_bat))]\n",
    "\n",
    "df_bat_interim = pd.DataFrame(player_data_bat, columns=col_headers_bat)\n",
    "df_bat_interim['Team'] = pd.DataFrame({'Team': teams_list_05to12})\n",
    "df_bat_interim['Year'] = '2006'\n",
    "df_bat_interim['YrTm'] = df_bat_interim['Year'] + df_bat_interim['Team']\n",
    "df_bat = pd.concat([df_bat, df_bat_interim]).reset_index(drop=True)\n",
    "df_bat.shape # should be 70 rows"
   ]
  },
  {
   "cell_type": "code",
   "execution_count": 45,
   "metadata": {
    "hidden": true
   },
   "outputs": [
    {
     "data": {
      "text/plain": [
       "(84, 31)"
      ]
     },
     "execution_count": 45,
     "metadata": {},
     "output_type": "execute_result"
    }
   ],
   "source": [
    "# 2007 - Batting DF\n",
    "col_headers_bat = [th.getText() for th in \n",
    "                  table_07bat.findAll('tr')[0].findAll('th')][1:]\n",
    "data_rows_bat = table_07bat.findAll('tr')[1:-2] \n",
    "player_data_bat = [[td.getText() for td in data_rows_bat[i].findAll('td')]\n",
    "               for i in range(len(data_rows_bat))]\n",
    "\n",
    "df_bat_interim = pd.DataFrame(player_data_bat, columns=col_headers_bat)\n",
    "df_bat_interim['Team'] = pd.DataFrame({'Team': teams_list_05to12})\n",
    "df_bat_interim['Year'] = '2007'\n",
    "df_bat_interim['YrTm'] = df_bat_interim['Year'] + df_bat_interim['Team']\n",
    "df_bat = pd.concat([df_bat, df_bat_interim]).reset_index(drop=True)\n",
    "df_bat.shape # should be 84 rows"
   ]
  },
  {
   "cell_type": "code",
   "execution_count": 46,
   "metadata": {
    "hidden": true
   },
   "outputs": [
    {
     "data": {
      "text/plain": [
       "(98, 31)"
      ]
     },
     "execution_count": 46,
     "metadata": {},
     "output_type": "execute_result"
    }
   ],
   "source": [
    "# 2008 - Batting DF\n",
    "col_headers_bat = [th.getText() for th in \n",
    "                  table_08bat.findAll('tr')[0].findAll('th')][1:]\n",
    "data_rows_bat = table_08bat.findAll('tr')[1:-2] \n",
    "player_data_bat = [[td.getText() for td in data_rows_bat[i].findAll('td')]\n",
    "               for i in range(len(data_rows_bat))]\n",
    "\n",
    "df_bat_interim = pd.DataFrame(player_data_bat, columns=col_headers_bat)\n",
    "df_bat_interim['Team'] = pd.DataFrame({'Team': teams_list_05to12})\n",
    "df_bat_interim['Year'] = '2008'\n",
    "df_bat_interim['YrTm'] = df_bat_interim['Year'] + df_bat_interim['Team']\n",
    "df_bat = pd.concat([df_bat, df_bat_interim]).reset_index(drop=True)\n",
    "df_bat.shape # should be 98 rows"
   ]
  },
  {
   "cell_type": "code",
   "execution_count": 47,
   "metadata": {
    "hidden": true
   },
   "outputs": [
    {
     "data": {
      "text/plain": [
       "(112, 31)"
      ]
     },
     "execution_count": 47,
     "metadata": {},
     "output_type": "execute_result"
    }
   ],
   "source": [
    "# 2009 - Batting DF\n",
    "col_headers_bat = [th.getText() for th in \n",
    "                  table_09bat.findAll('tr')[0].findAll('th')][1:]\n",
    "data_rows_bat = table_09bat.findAll('tr')[1:-2] \n",
    "player_data_bat = [[td.getText() for td in data_rows_bat[i].findAll('td')]\n",
    "               for i in range(len(data_rows_bat))]\n",
    "\n",
    "df_bat_interim = pd.DataFrame(player_data_bat, columns=col_headers_bat)\n",
    "df_bat_interim['Team'] = pd.DataFrame({'Team': teams_list_05to12})\n",
    "df_bat_interim['Year'] = '2009'\n",
    "df_bat_interim['YrTm'] = df_bat_interim['Year'] + df_bat_interim['Team']\n",
    "df_bat = pd.concat([df_bat, df_bat_interim]).reset_index(drop=True)\n",
    "df_bat.shape # should be 112 rows"
   ]
  },
  {
   "cell_type": "code",
   "execution_count": 48,
   "metadata": {
    "hidden": true
   },
   "outputs": [
    {
     "data": {
      "text/plain": [
       "(126, 31)"
      ]
     },
     "execution_count": 48,
     "metadata": {},
     "output_type": "execute_result"
    }
   ],
   "source": [
    "# 2010 - Batting DF\n",
    "col_headers_bat = [th.getText() for th in \n",
    "                  table_10bat.findAll('tr')[0].findAll('th')][1:]\n",
    "data_rows_bat = table_10bat.findAll('tr')[1:-2] \n",
    "player_data_bat = [[td.getText() for td in data_rows_bat[i].findAll('td')]\n",
    "               for i in range(len(data_rows_bat))]\n",
    "\n",
    "df_bat_interim = pd.DataFrame(player_data_bat, columns=col_headers_bat)\n",
    "df_bat_interim['Team'] = pd.DataFrame({'Team': teams_list_05to12})\n",
    "df_bat_interim['Year'] = '2010'\n",
    "df_bat_interim['YrTm'] = df_bat_interim['Year'] + df_bat_interim['Team']\n",
    "df_bat = pd.concat([df_bat, df_bat_interim]).reset_index(drop=True)\n",
    "df_bat.shape # should be 126 rows"
   ]
  },
  {
   "cell_type": "code",
   "execution_count": 49,
   "metadata": {
    "hidden": true
   },
   "outputs": [
    {
     "data": {
      "text/plain": [
       "(140, 31)"
      ]
     },
     "execution_count": 49,
     "metadata": {},
     "output_type": "execute_result"
    }
   ],
   "source": [
    "# 2011 - Batting DF\n",
    "col_headers_bat = [th.getText() for th in \n",
    "                  table_11bat.findAll('tr')[0].findAll('th')][1:]\n",
    "data_rows_bat = table_11bat.findAll('tr')[1:-2] \n",
    "player_data_bat = [[td.getText() for td in data_rows_bat[i].findAll('td')]\n",
    "               for i in range(len(data_rows_bat))]\n",
    "\n",
    "df_bat_interim = pd.DataFrame(player_data_bat, columns=col_headers_bat)\n",
    "df_bat_interim['Team'] = pd.DataFrame({'Team': teams_list_05to12})\n",
    "df_bat_interim['Year'] = '2011'\n",
    "df_bat_interim['YrTm'] = df_bat_interim['Year'] + df_bat_interim['Team']\n",
    "df_bat = pd.concat([df_bat, df_bat_interim]).reset_index(drop=True)\n",
    "df_bat.shape # should be 140 rows"
   ]
  },
  {
   "cell_type": "code",
   "execution_count": 50,
   "metadata": {
    "hidden": true
   },
   "outputs": [
    {
     "data": {
      "text/plain": [
       "(154, 31)"
      ]
     },
     "execution_count": 50,
     "metadata": {},
     "output_type": "execute_result"
    }
   ],
   "source": [
    "# 2012 - Batting DF\n",
    "col_headers_bat = [th.getText() for th in \n",
    "                  table_12bat.findAll('tr')[0].findAll('th')][1:]\n",
    "data_rows_bat = table_12bat.findAll('tr')[1:-2] \n",
    "player_data_bat = [[td.getText() for td in data_rows_bat[i].findAll('td')]\n",
    "               for i in range(len(data_rows_bat))]\n",
    "\n",
    "df_bat_interim = pd.DataFrame(player_data_bat, columns=col_headers_bat)\n",
    "df_bat_interim['Team'] = pd.DataFrame({'Team': teams_list_05to12})\n",
    "df_bat_interim['Year'] = '2012'\n",
    "df_bat_interim['YrTm'] = df_bat_interim['Year'] + df_bat_interim['Team']\n",
    "df_bat = pd.concat([df_bat, df_bat_interim]).reset_index(drop=True)\n",
    "df_bat.shape # should be 154 rows"
   ]
  },
  {
   "cell_type": "code",
   "execution_count": 51,
   "metadata": {
    "hidden": true
   },
   "outputs": [
    {
     "data": {
      "text/plain": [
       "(169, 31)"
      ]
     },
     "execution_count": 51,
     "metadata": {},
     "output_type": "execute_result"
    }
   ],
   "source": [
    "# 2013 - Batting DF\n",
    "col_headers_bat = [th.getText() for th in \n",
    "                  table_13bat.findAll('tr')[0].findAll('th')][1:]\n",
    "data_rows_bat = table_13bat.findAll('tr')[1:-2] \n",
    "player_data_bat = [[td.getText() for td in data_rows_bat[i].findAll('td')]\n",
    "               for i in range(len(data_rows_bat))]\n",
    "\n",
    "df_bat_interim = pd.DataFrame(player_data_bat, columns=col_headers_bat)\n",
    "df_bat_interim['Team'] = pd.DataFrame({'Team': teams_list_13to17})\n",
    "df_bat_interim['Year'] = '2013'\n",
    "df_bat_interim['YrTm'] = df_bat_interim['Year'] + df_bat_interim['Team']\n",
    "df_bat = pd.concat([df_bat, df_bat_interim]).reset_index(drop=True)\n",
    "df_bat.shape # should be 169 rows"
   ]
  },
  {
   "cell_type": "code",
   "execution_count": 52,
   "metadata": {
    "hidden": true
   },
   "outputs": [
    {
     "data": {
      "text/plain": [
       "(184, 31)"
      ]
     },
     "execution_count": 52,
     "metadata": {},
     "output_type": "execute_result"
    }
   ],
   "source": [
    "# 2014 - Batting DF\n",
    "col_headers_bat = [th.getText() for th in \n",
    "                  table_14bat.findAll('tr')[0].findAll('th')][1:]\n",
    "data_rows_bat = table_14bat.findAll('tr')[1:-2] \n",
    "player_data_bat = [[td.getText() for td in data_rows_bat[i].findAll('td')]\n",
    "               for i in range(len(data_rows_bat))]\n",
    "\n",
    "df_bat_interim = pd.DataFrame(player_data_bat, columns=col_headers_bat)\n",
    "df_bat_interim['Team'] = pd.DataFrame({'Team': teams_list_13to17})\n",
    "df_bat_interim['Year'] = '2014'\n",
    "df_bat_interim['YrTm'] = df_bat_interim['Year'] + df_bat_interim['Team']\n",
    "df_bat = pd.concat([df_bat, df_bat_interim]).reset_index(drop=True)\n",
    "df_bat.shape # should be 184 rows"
   ]
  },
  {
   "cell_type": "code",
   "execution_count": 53,
   "metadata": {
    "hidden": true
   },
   "outputs": [
    {
     "data": {
      "text/plain": [
       "(199, 31)"
      ]
     },
     "execution_count": 53,
     "metadata": {},
     "output_type": "execute_result"
    }
   ],
   "source": [
    "# 2015 - Batting DF\n",
    "col_headers_bat = [th.getText() for th in \n",
    "                  table_15bat.findAll('tr')[0].findAll('th')][1:]\n",
    "data_rows_bat = table_15bat.findAll('tr')[1:-2] \n",
    "player_data_bat = [[td.getText() for td in data_rows_bat[i].findAll('td')]\n",
    "               for i in range(len(data_rows_bat))]\n",
    "\n",
    "df_bat_interim = pd.DataFrame(player_data_bat, columns=col_headers_bat)\n",
    "df_bat_interim['Team'] = pd.DataFrame({'Team': teams_list_13to17})\n",
    "df_bat_interim['Year'] = '2015'\n",
    "df_bat_interim['YrTm'] = df_bat_interim['Year'] + df_bat_interim['Team']\n",
    "df_bat = pd.concat([df_bat, df_bat_interim]).reset_index(drop=True)\n",
    "df_bat.shape # should be 199 rows"
   ]
  },
  {
   "cell_type": "code",
   "execution_count": 54,
   "metadata": {
    "hidden": true
   },
   "outputs": [
    {
     "data": {
      "text/plain": [
       "(214, 31)"
      ]
     },
     "execution_count": 54,
     "metadata": {},
     "output_type": "execute_result"
    }
   ],
   "source": [
    "# 2016 - Batting DF\n",
    "col_headers_bat = [th.getText() for th in \n",
    "                  table_16bat.findAll('tr')[0].findAll('th')][1:]\n",
    "data_rows_bat = table_16bat.findAll('tr')[1:-2] \n",
    "player_data_bat = [[td.getText() for td in data_rows_bat[i].findAll('td')]\n",
    "               for i in range(len(data_rows_bat))]\n",
    "\n",
    "df_bat_interim = pd.DataFrame(player_data_bat, columns=col_headers_bat)\n",
    "df_bat_interim['Team'] = pd.DataFrame({'Team': teams_list_13to17})\n",
    "df_bat_interim['Year'] = '2016'\n",
    "df_bat_interim['YrTm'] = df_bat_interim['Year'] + df_bat_interim['Team']\n",
    "df_bat = pd.concat([df_bat, df_bat_interim]).reset_index(drop=True)\n",
    "df_bat.shape # should be 214 rows"
   ]
  },
  {
   "cell_type": "code",
   "execution_count": 55,
   "metadata": {
    "hidden": true
   },
   "outputs": [
    {
     "data": {
      "text/plain": [
       "(229, 31)"
      ]
     },
     "execution_count": 55,
     "metadata": {},
     "output_type": "execute_result"
    }
   ],
   "source": [
    "# 2017 - Batting DF\n",
    "col_headers_bat = [th.getText() for th in \n",
    "                  table_17bat.findAll('tr')[0].findAll('th')][1:]\n",
    "data_rows_bat = table_17bat.findAll('tr')[1:-2] \n",
    "player_data_bat = [[td.getText() for td in data_rows_bat[i].findAll('td')]\n",
    "               for i in range(len(data_rows_bat))]\n",
    "\n",
    "df_bat_interim = pd.DataFrame(player_data_bat, columns=col_headers_bat)\n",
    "df_bat_interim['Team'] = pd.DataFrame({'Team': teams_list_13to17})\n",
    "df_bat_interim['Year'] = '2017'\n",
    "df_bat_interim['YrTm'] = df_bat_interim['Year'] + df_bat_interim['Team']\n",
    "df_bat = pd.concat([df_bat, df_bat_interim]).reset_index(drop=True)\n",
    "df_bat.shape # should be 229 rows"
   ]
  },
  {
   "cell_type": "code",
   "execution_count": 57,
   "metadata": {
    "hidden": true
   },
   "outputs": [
    {
     "data": {
      "text/html": [
       "<div>\n",
       "<style scoped>\n",
       "    .dataframe tbody tr th:only-of-type {\n",
       "        vertical-align: middle;\n",
       "    }\n",
       "\n",
       "    .dataframe tbody tr th {\n",
       "        vertical-align: top;\n",
       "    }\n",
       "\n",
       "    .dataframe thead th {\n",
       "        text-align: right;\n",
       "    }\n",
       "</style>\n",
       "<table border=\"1\" class=\"dataframe\">\n",
       "  <thead>\n",
       "    <tr style=\"text-align: right;\">\n",
       "      <th></th>\n",
       "      <th>#Bat</th>\n",
       "      <th>BatAge</th>\n",
       "      <th>R/G</th>\n",
       "      <th>G</th>\n",
       "      <th>PA</th>\n",
       "      <th>AB</th>\n",
       "      <th>R</th>\n",
       "      <th>H</th>\n",
       "      <th>2B</th>\n",
       "      <th>3B</th>\n",
       "      <th>...</th>\n",
       "      <th>TB</th>\n",
       "      <th>GDP</th>\n",
       "      <th>HBP</th>\n",
       "      <th>SH</th>\n",
       "      <th>SF</th>\n",
       "      <th>IBB</th>\n",
       "      <th>LOB</th>\n",
       "      <th>Team</th>\n",
       "      <th>Year</th>\n",
       "      <th>YrTm</th>\n",
       "    </tr>\n",
       "  </thead>\n",
       "  <tbody>\n",
       "    <tr>\n",
       "      <th>103</th>\n",
       "      <td>43</td>\n",
       "      <td>27.6</td>\n",
       "      <td>4.23</td>\n",
       "      <td>162</td>\n",
       "      <td>6103</td>\n",
       "      <td>5532</td>\n",
       "      <td>686</td>\n",
       "      <td>1432</td>\n",
       "      <td>276</td>\n",
       "      <td>51</td>\n",
       "      <td>...</td>\n",
       "      <td>2242</td>\n",
       "      <td>135</td>\n",
       "      <td>42</td>\n",
       "      <td>38</td>\n",
       "      <td>32</td>\n",
       "      <td>20</td>\n",
       "      <td>1090</td>\n",
       "      <td>KCR</td>\n",
       "      <td>2009</td>\n",
       "      <td>2009KCR</td>\n",
       "    </tr>\n",
       "    <tr>\n",
       "      <th>34</th>\n",
       "      <td>58</td>\n",
       "      <td>29.0</td>\n",
       "      <td>4.44</td>\n",
       "      <td>162</td>\n",
       "      <td>6153</td>\n",
       "      <td>5538</td>\n",
       "      <td>720</td>\n",
       "      <td>1432</td>\n",
       "      <td>261</td>\n",
       "      <td>29</td>\n",
       "      <td>...</td>\n",
       "      <td>2201</td>\n",
       "      <td>130</td>\n",
       "      <td>76</td>\n",
       "      <td>40</td>\n",
       "      <td>38</td>\n",
       "      <td>28</td>\n",
       "      <td>1099</td>\n",
       "      <td>KCR</td>\n",
       "      <td>2004</td>\n",
       "      <td>2004KCR</td>\n",
       "    </tr>\n",
       "    <tr>\n",
       "      <th>121</th>\n",
       "      <td>49</td>\n",
       "      <td>27.8</td>\n",
       "      <td>4.09</td>\n",
       "      <td>162</td>\n",
       "      <td>6117</td>\n",
       "      <td>5448</td>\n",
       "      <td>663</td>\n",
       "      <td>1396</td>\n",
       "      <td>276</td>\n",
       "      <td>30</td>\n",
       "      <td>...</td>\n",
       "      <td>2059</td>\n",
       "      <td>129</td>\n",
       "      <td>47</td>\n",
       "      <td>43</td>\n",
       "      <td>51</td>\n",
       "      <td>16</td>\n",
       "      <td>1159</td>\n",
       "      <td>OAK</td>\n",
       "      <td>2010</td>\n",
       "      <td>2010OAK</td>\n",
       "    </tr>\n",
       "    <tr>\n",
       "      <th>45</th>\n",
       "      <td>38</td>\n",
       "      <td>27.5</td>\n",
       "      <td>4.88</td>\n",
       "      <td>162</td>\n",
       "      <td>6255</td>\n",
       "      <td>5609</td>\n",
       "      <td>790</td>\n",
       "      <td>1522</td>\n",
       "      <td>337</td>\n",
       "      <td>30</td>\n",
       "      <td>...</td>\n",
       "      <td>2540</td>\n",
       "      <td>128</td>\n",
       "      <td>54</td>\n",
       "      <td>39</td>\n",
       "      <td>50</td>\n",
       "      <td>33</td>\n",
       "      <td>1148</td>\n",
       "      <td>CLE</td>\n",
       "      <td>2005</td>\n",
       "      <td>2005CLE</td>\n",
       "    </tr>\n",
       "    <tr>\n",
       "      <th>209</th>\n",
       "      <td>51</td>\n",
       "      <td>28.7</td>\n",
       "      <td>4.03</td>\n",
       "      <td>162</td>\n",
       "      <td>6022</td>\n",
       "      <td>5500</td>\n",
       "      <td>653</td>\n",
       "      <td>1352</td>\n",
       "      <td>270</td>\n",
       "      <td>21</td>\n",
       "      <td>...</td>\n",
       "      <td>2171</td>\n",
       "      <td>142</td>\n",
       "      <td>33</td>\n",
       "      <td>13</td>\n",
       "      <td>34</td>\n",
       "      <td>19</td>\n",
       "      <td>1036</td>\n",
       "      <td>OAK</td>\n",
       "      <td>2016</td>\n",
       "      <td>2016OAK</td>\n",
       "    </tr>\n",
       "    <tr>\n",
       "      <th>213</th>\n",
       "      <td>49</td>\n",
       "      <td>30.0</td>\n",
       "      <td>4.69</td>\n",
       "      <td>162</td>\n",
       "      <td>6233</td>\n",
       "      <td>5479</td>\n",
       "      <td>759</td>\n",
       "      <td>1358</td>\n",
       "      <td>276</td>\n",
       "      <td>18</td>\n",
       "      <td>...</td>\n",
       "      <td>2333</td>\n",
       "      <td>153</td>\n",
       "      <td>55</td>\n",
       "      <td>26</td>\n",
       "      <td>40</td>\n",
       "      <td>16</td>\n",
       "      <td>1120</td>\n",
       "      <td>TOR</td>\n",
       "      <td>2016</td>\n",
       "      <td>2016TOR</td>\n",
       "    </tr>\n",
       "    <tr>\n",
       "      <th>96</th>\n",
       "      <td>55</td>\n",
       "      <td>27.7</td>\n",
       "      <td>5.56</td>\n",
       "      <td>162</td>\n",
       "      <td>6478</td>\n",
       "      <td>5728</td>\n",
       "      <td>901</td>\n",
       "      <td>1619</td>\n",
       "      <td>376</td>\n",
       "      <td>35</td>\n",
       "      <td>...</td>\n",
       "      <td>2647</td>\n",
       "      <td>117</td>\n",
       "      <td>63</td>\n",
       "      <td>37</td>\n",
       "      <td>54</td>\n",
       "      <td>43</td>\n",
       "      <td>1238</td>\n",
       "      <td>TEX</td>\n",
       "      <td>2008</td>\n",
       "      <td>2008TEX</td>\n",
       "    </tr>\n",
       "    <tr>\n",
       "      <th>179</th>\n",
       "      <td>45</td>\n",
       "      <td>29.6</td>\n",
       "      <td>4.50</td>\n",
       "      <td>162</td>\n",
       "      <td>6245</td>\n",
       "      <td>5545</td>\n",
       "      <td>729</td>\n",
       "      <td>1354</td>\n",
       "      <td>253</td>\n",
       "      <td>33</td>\n",
       "      <td>...</td>\n",
       "      <td>2111</td>\n",
       "      <td>118</td>\n",
       "      <td>49</td>\n",
       "      <td>19</td>\n",
       "      <td>43</td>\n",
       "      <td>34</td>\n",
       "      <td>1147</td>\n",
       "      <td>OAK</td>\n",
       "      <td>2014</td>\n",
       "      <td>2014OAK</td>\n",
       "    </tr>\n",
       "    <tr>\n",
       "      <th>175</th>\n",
       "      <td>48</td>\n",
       "      <td>28.2</td>\n",
       "      <td>4.02</td>\n",
       "      <td>162</td>\n",
       "      <td>6058</td>\n",
       "      <td>5545</td>\n",
       "      <td>651</td>\n",
       "      <td>1456</td>\n",
       "      <td>286</td>\n",
       "      <td>29</td>\n",
       "      <td>...</td>\n",
       "      <td>2085</td>\n",
       "      <td>131</td>\n",
       "      <td>53</td>\n",
       "      <td>33</td>\n",
       "      <td>47</td>\n",
       "      <td>22</td>\n",
       "      <td>1080</td>\n",
       "      <td>KCR</td>\n",
       "      <td>2014</td>\n",
       "      <td>2014KCR</td>\n",
       "    </tr>\n",
       "    <tr>\n",
       "      <th>7</th>\n",
       "      <td>42</td>\n",
       "      <td>26.6</td>\n",
       "      <td>4.77</td>\n",
       "      <td>161</td>\n",
       "      <td>6196</td>\n",
       "      <td>5582</td>\n",
       "      <td>768</td>\n",
       "      <td>1518</td>\n",
       "      <td>348</td>\n",
       "      <td>36</td>\n",
       "      <td>...</td>\n",
       "      <td>2439</td>\n",
       "      <td>121</td>\n",
       "      <td>56</td>\n",
       "      <td>34</td>\n",
       "      <td>52</td>\n",
       "      <td>30</td>\n",
       "      <td>1124</td>\n",
       "      <td>MIN</td>\n",
       "      <td>2002</td>\n",
       "      <td>2002MIN</td>\n",
       "    </tr>\n",
       "  </tbody>\n",
       "</table>\n",
       "<p>10 rows × 31 columns</p>\n",
       "</div>"
      ],
      "text/plain": [
       "    #Bat BatAge   R/G    G    PA    AB    R     H   2B  3B   ...       TB  \\\n",
       "103   43   27.6  4.23  162  6103  5532  686  1432  276  51   ...     2242   \n",
       "34    58   29.0  4.44  162  6153  5538  720  1432  261  29   ...     2201   \n",
       "121   49   27.8  4.09  162  6117  5448  663  1396  276  30   ...     2059   \n",
       "45    38   27.5  4.88  162  6255  5609  790  1522  337  30   ...     2540   \n",
       "209   51   28.7  4.03  162  6022  5500  653  1352  270  21   ...     2171   \n",
       "213   49   30.0  4.69  162  6233  5479  759  1358  276  18   ...     2333   \n",
       "96    55   27.7  5.56  162  6478  5728  901  1619  376  35   ...     2647   \n",
       "179   45   29.6  4.50  162  6245  5545  729  1354  253  33   ...     2111   \n",
       "175   48   28.2  4.02  162  6058  5545  651  1456  286  29   ...     2085   \n",
       "7     42   26.6  4.77  161  6196  5582  768  1518  348  36   ...     2439   \n",
       "\n",
       "     GDP HBP  SH  SF IBB   LOB Team  Year     YrTm  \n",
       "103  135  42  38  32  20  1090  KCR  2009  2009KCR  \n",
       "34   130  76  40  38  28  1099  KCR  2004  2004KCR  \n",
       "121  129  47  43  51  16  1159  OAK  2010  2010OAK  \n",
       "45   128  54  39  50  33  1148  CLE  2005  2005CLE  \n",
       "209  142  33  13  34  19  1036  OAK  2016  2016OAK  \n",
       "213  153  55  26  40  16  1120  TOR  2016  2016TOR  \n",
       "96   117  63  37  54  43  1238  TEX  2008  2008TEX  \n",
       "179  118  49  19  43  34  1147  OAK  2014  2014OAK  \n",
       "175  131  53  33  47  22  1080  KCR  2014  2014KCR  \n",
       "7    121  56  34  52  30  1124  MIN  2002  2002MIN  \n",
       "\n",
       "[10 rows x 31 columns]"
      ]
     },
     "execution_count": 57,
     "metadata": {},
     "output_type": "execute_result"
    }
   ],
   "source": [
    "df_bat.sample(10)"
   ]
  },
  {
   "cell_type": "markdown",
   "metadata": {
    "heading_collapsed": true,
    "hidden": true
   },
   "source": [
    "### Pitching"
   ]
  },
  {
   "cell_type": "code",
   "execution_count": 21,
   "metadata": {
    "hidden": true
   },
   "outputs": [
    {
     "data": {
      "text/plain": [
       "(14, 38)"
      ]
     },
     "execution_count": 21,
     "metadata": {},
     "output_type": "execute_result"
    }
   ],
   "source": [
    "# 2002 - Pitching DF\n",
    "col_headers_pit = [th.getText() for th in \n",
    "                  table_02pit.findAll('tr')[0].findAll('th')][1:]\n",
    "data_rows_pit = table_02pit.findAll('tr')[1:-2] \n",
    "player_data_pit = [[td.getText() for td in data_rows_pit[i].findAll('td')]\n",
    "               for i in range(len(data_rows_pit))]\n",
    "\n",
    "df_pit = pd.DataFrame(player_data_pit, columns=col_headers_pit)\n",
    "df_pit['Team'] = pd.DataFrame({'Team': teams_list_02to04})\n",
    "df_pit['Year'] = '2002'\n",
    "df_pit['YrTm'] = df_pit['Year'] + df_pit['Team']\n",
    "df_pit.shape # should be 14 rows"
   ]
  },
  {
   "cell_type": "code",
   "execution_count": 22,
   "metadata": {
    "hidden": true
   },
   "outputs": [
    {
     "data": {
      "text/plain": [
       "(28, 38)"
      ]
     },
     "execution_count": 22,
     "metadata": {},
     "output_type": "execute_result"
    }
   ],
   "source": [
    "# 2003 - Pitching DF\n",
    "col_headers_pit = [th.getText() for th in \n",
    "                  table_03pit.findAll('tr')[0].findAll('th')][1:]\n",
    "data_rows_pit = table_03pit.findAll('tr')[1:-2] \n",
    "player_data_pit = [[td.getText() for td in data_rows_pit[i].findAll('td')]\n",
    "               for i in range(len(data_rows_pit))]\n",
    "\n",
    "df_pit_interim = pd.DataFrame(player_data_pit, columns=col_headers_pit)\n",
    "df_pit_interim['Team'] = pd.DataFrame({'Team': teams_list_02to04})\n",
    "df_pit_interim['Year'] = '2003'\n",
    "df_pit_interim['YrTm'] = df_pit_interim['Year'] + df_pit_interim['Team']\n",
    "df_pit = pd.concat([df_pit, df_pit_interim]).reset_index(drop=True)\n",
    "df_pit.shape # should be 28 rows"
   ]
  },
  {
   "cell_type": "code",
   "execution_count": 23,
   "metadata": {
    "hidden": true
   },
   "outputs": [
    {
     "data": {
      "text/plain": [
       "(42, 38)"
      ]
     },
     "execution_count": 23,
     "metadata": {},
     "output_type": "execute_result"
    }
   ],
   "source": [
    "# 2004 - Pitching DF\n",
    "col_headers_pit = [th.getText() for th in \n",
    "                  table_04pit.findAll('tr')[0].findAll('th')][1:]\n",
    "data_rows_pit = table_04pit.findAll('tr')[1:-2] \n",
    "player_data_pit = [[td.getText() for td in data_rows_pit[i].findAll('td')]\n",
    "               for i in range(len(data_rows_pit))]\n",
    "\n",
    "df_pit_interim = pd.DataFrame(player_data_pit, columns=col_headers_pit)\n",
    "df_pit_interim['Team'] = pd.DataFrame({'Team': teams_list_02to04})\n",
    "df_pit_interim['Year'] = '2004'\n",
    "df_pit_interim['YrTm'] = df_pit_interim['Year'] + df_pit_interim['Team']\n",
    "df_pit = pd.concat([df_pit, df_pit_interim]).reset_index(drop=True)\n",
    "df_pit.shape # should be 42 rows"
   ]
  },
  {
   "cell_type": "code",
   "execution_count": 24,
   "metadata": {
    "hidden": true
   },
   "outputs": [
    {
     "data": {
      "text/plain": [
       "(56, 38)"
      ]
     },
     "execution_count": 24,
     "metadata": {},
     "output_type": "execute_result"
    }
   ],
   "source": [
    "# 2005 - Pitching DF\n",
    "col_headers_pit = [th.getText() for th in \n",
    "                  table_05pit.findAll('tr')[0].findAll('th')][1:]\n",
    "data_rows_pit = table_05pit.findAll('tr')[1:-2] \n",
    "player_data_pit = [[td.getText() for td in data_rows_pit[i].findAll('td')]\n",
    "               for i in range(len(data_rows_pit))]\n",
    "\n",
    "df_pit_interim = pd.DataFrame(player_data_pit, columns=col_headers_pit)\n",
    "df_pit_interim['Team'] = pd.DataFrame({'Team': teams_list_05to12})\n",
    "df_pit_interim['Year'] = '2005'\n",
    "df_pit_interim['YrTm'] = df_pit_interim['Year'] + df_pit_interim['Team']\n",
    "df_pit = pd.concat([df_pit, df_pit_interim]).reset_index(drop=True)\n",
    "df_pit.shape # should be 56 rows"
   ]
  },
  {
   "cell_type": "code",
   "execution_count": 25,
   "metadata": {
    "hidden": true
   },
   "outputs": [
    {
     "data": {
      "text/plain": [
       "(70, 38)"
      ]
     },
     "execution_count": 25,
     "metadata": {},
     "output_type": "execute_result"
    }
   ],
   "source": [
    "# 2006 - Pitching DF\n",
    "col_headers_pit = [th.getText() for th in \n",
    "                  table_06pit.findAll('tr')[0].findAll('th')][1:]\n",
    "data_rows_pit = table_06pit.findAll('tr')[1:-2] \n",
    "player_data_pit = [[td.getText() for td in data_rows_pit[i].findAll('td')]\n",
    "               for i in range(len(data_rows_pit))]\n",
    "\n",
    "df_pit_interim = pd.DataFrame(player_data_pit, columns=col_headers_pit)\n",
    "df_pit_interim['Team'] = pd.DataFrame({'Team': teams_list_05to12})\n",
    "df_pit_interim['Year'] = '2006'\n",
    "df_pit_interim['YrTm'] = df_pit_interim['Year'] + df_pit_interim['Team']\n",
    "df_pit = pd.concat([df_pit, df_pit_interim]).reset_index(drop=True)\n",
    "df_pit.shape # should be 70 rows"
   ]
  },
  {
   "cell_type": "code",
   "execution_count": 26,
   "metadata": {
    "hidden": true
   },
   "outputs": [
    {
     "data": {
      "text/plain": [
       "(84, 38)"
      ]
     },
     "execution_count": 26,
     "metadata": {},
     "output_type": "execute_result"
    }
   ],
   "source": [
    "# 2007 - Pitching DF\n",
    "col_headers_pit = [th.getText() for th in \n",
    "                  table_07pit.findAll('tr')[0].findAll('th')][1:]\n",
    "data_rows_pit = table_07pit.findAll('tr')[1:-2] \n",
    "player_data_pit = [[td.getText() for td in data_rows_pit[i].findAll('td')]\n",
    "               for i in range(len(data_rows_pit))]\n",
    "\n",
    "df_pit_interim = pd.DataFrame(player_data_pit, columns=col_headers_pit)\n",
    "df_pit_interim['Team'] = pd.DataFrame({'Team': teams_list_05to12})\n",
    "df_pit_interim['Year'] = '2007'\n",
    "df_pit_interim['YrTm'] = df_pit_interim['Year'] + df_pit_interim['Team']\n",
    "df_pit = pd.concat([df_pit, df_pit_interim]).reset_index(drop=True)\n",
    "df_pit.shape # should be 84 rows"
   ]
  },
  {
   "cell_type": "code",
   "execution_count": 27,
   "metadata": {
    "hidden": true
   },
   "outputs": [
    {
     "data": {
      "text/plain": [
       "(98, 38)"
      ]
     },
     "execution_count": 27,
     "metadata": {},
     "output_type": "execute_result"
    }
   ],
   "source": [
    "# 2008 - Pitching DF\n",
    "col_headers_pit = [th.getText() for th in \n",
    "                  table_08pit.findAll('tr')[0].findAll('th')][1:]\n",
    "data_rows_pit = table_08pit.findAll('tr')[1:-2] \n",
    "player_data_pit = [[td.getText() for td in data_rows_pit[i].findAll('td')]\n",
    "               for i in range(len(data_rows_pit))]\n",
    "\n",
    "df_pit_interim = pd.DataFrame(player_data_pit, columns=col_headers_pit)\n",
    "df_pit_interim['Team'] = pd.DataFrame({'Team': teams_list_05to12})\n",
    "df_pit_interim['Year'] = '2008'\n",
    "df_pit_interim['YrTm'] = df_pit_interim['Year'] + df_pit_interim['Team']\n",
    "df_pit = pd.concat([df_pit, df_pit_interim]).reset_index(drop=True)\n",
    "df_pit.shape # should be 98 rows"
   ]
  },
  {
   "cell_type": "code",
   "execution_count": 28,
   "metadata": {
    "hidden": true
   },
   "outputs": [
    {
     "data": {
      "text/plain": [
       "(112, 38)"
      ]
     },
     "execution_count": 28,
     "metadata": {},
     "output_type": "execute_result"
    }
   ],
   "source": [
    "# 2009 - Pitching DF\n",
    "col_headers_pit = [th.getText() for th in \n",
    "                  table_09pit.findAll('tr')[0].findAll('th')][1:]\n",
    "data_rows_pit = table_09pit.findAll('tr')[1:-2] \n",
    "player_data_pit = [[td.getText() for td in data_rows_pit[i].findAll('td')]\n",
    "               for i in range(len(data_rows_pit))]\n",
    "\n",
    "df_pit_interim = pd.DataFrame(player_data_pit, columns=col_headers_pit)\n",
    "df_pit_interim['Team'] = pd.DataFrame({'Team': teams_list_05to12})\n",
    "df_pit_interim['Year'] = '2009'\n",
    "df_pit_interim['YrTm'] = df_pit_interim['Year'] + df_pit_interim['Team']\n",
    "df_pit = pd.concat([df_pit, df_pit_interim]).reset_index(drop=True)\n",
    "df_pit.shape # should be 112 rows"
   ]
  },
  {
   "cell_type": "code",
   "execution_count": 29,
   "metadata": {
    "hidden": true
   },
   "outputs": [
    {
     "data": {
      "text/plain": [
       "(126, 38)"
      ]
     },
     "execution_count": 29,
     "metadata": {},
     "output_type": "execute_result"
    }
   ],
   "source": [
    "# 2010 - Pitching DF\n",
    "col_headers_pit = [th.getText() for th in \n",
    "                  table_10pit.findAll('tr')[0].findAll('th')][1:]\n",
    "data_rows_pit = table_10pit.findAll('tr')[1:-2] \n",
    "player_data_pit = [[td.getText() for td in data_rows_pit[i].findAll('td')]\n",
    "               for i in range(len(data_rows_pit))]\n",
    "\n",
    "df_pit_interim = pd.DataFrame(player_data_pit, columns=col_headers_pit)\n",
    "df_pit_interim['Team'] = pd.DataFrame({'Team': teams_list_05to12})\n",
    "df_pit_interim['Year'] = '2010'\n",
    "df_pit_interim['YrTm'] = df_pit_interim['Year'] + df_pit_interim['Team']\n",
    "df_pit = pd.concat([df_pit, df_pit_interim]).reset_index(drop=True)\n",
    "df_pit.shape # should be 126 rows"
   ]
  },
  {
   "cell_type": "code",
   "execution_count": 30,
   "metadata": {
    "hidden": true
   },
   "outputs": [
    {
     "data": {
      "text/plain": [
       "(140, 38)"
      ]
     },
     "execution_count": 30,
     "metadata": {},
     "output_type": "execute_result"
    }
   ],
   "source": [
    "# 2011 - Pitching DF\n",
    "col_headers_pit = [th.getText() for th in \n",
    "                  table_11pit.findAll('tr')[0].findAll('th')][1:]\n",
    "data_rows_pit = table_11pit.findAll('tr')[1:-2] \n",
    "player_data_pit = [[td.getText() for td in data_rows_pit[i].findAll('td')]\n",
    "               for i in range(len(data_rows_pit))]\n",
    "\n",
    "df_pit_interim = pd.DataFrame(player_data_pit, columns=col_headers_pit)\n",
    "df_pit_interim['Team'] = pd.DataFrame({'Team': teams_list_05to12})\n",
    "df_pit_interim['Year'] = '2011'\n",
    "df_pit_interim['YrTm'] = df_pit_interim['Year'] + df_pit_interim['Team']\n",
    "df_pit = pd.concat([df_pit, df_pit_interim]).reset_index(drop=True)\n",
    "df_pit.shape # should be 140 rows"
   ]
  },
  {
   "cell_type": "code",
   "execution_count": 31,
   "metadata": {
    "hidden": true
   },
   "outputs": [
    {
     "data": {
      "text/plain": [
       "(154, 38)"
      ]
     },
     "execution_count": 31,
     "metadata": {},
     "output_type": "execute_result"
    }
   ],
   "source": [
    "# 2012 - Pitching DF\n",
    "col_headers_pit = [th.getText() for th in \n",
    "                  table_12pit.findAll('tr')[0].findAll('th')][1:]\n",
    "data_rows_pit = table_12pit.findAll('tr')[1:-2] \n",
    "player_data_pit = [[td.getText() for td in data_rows_pit[i].findAll('td')]\n",
    "               for i in range(len(data_rows_pit))]\n",
    "\n",
    "df_pit_interim = pd.DataFrame(player_data_pit, columns=col_headers_pit)\n",
    "df_pit_interim['Team'] = pd.DataFrame({'Team': teams_list_05to12})\n",
    "df_pit_interim['Year'] = '2012'\n",
    "df_pit_interim['YrTm'] = df_pit_interim['Year'] + df_pit_interim['Team']\n",
    "df_pit = pd.concat([df_pit, df_pit_interim]).reset_index(drop=True)\n",
    "df_pit.shape # should be 154 rows"
   ]
  },
  {
   "cell_type": "code",
   "execution_count": 32,
   "metadata": {
    "hidden": true
   },
   "outputs": [
    {
     "data": {
      "text/plain": [
       "(169, 38)"
      ]
     },
     "execution_count": 32,
     "metadata": {},
     "output_type": "execute_result"
    }
   ],
   "source": [
    "# 2013 - Pitching DF\n",
    "col_headers_pit = [th.getText() for th in \n",
    "                  table_13pit.findAll('tr')[0].findAll('th')][1:]\n",
    "data_rows_pit = table_13pit.findAll('tr')[1:-2] \n",
    "player_data_pit = [[td.getText() for td in data_rows_pit[i].findAll('td')]\n",
    "               for i in range(len(data_rows_pit))]\n",
    "\n",
    "df_pit_interim = pd.DataFrame(player_data_pit, columns=col_headers_pit)\n",
    "df_pit_interim['Team'] = pd.DataFrame({'Team': teams_list_13to17})\n",
    "df_pit_interim['Year'] = '2013'\n",
    "df_pit_interim['YrTm'] = df_pit_interim['Year'] + df_pit_interim['Team']\n",
    "df_pit = pd.concat([df_pit, df_pit_interim]).reset_index(drop=True)\n",
    "df_pit.shape # should be 169 rows"
   ]
  },
  {
   "cell_type": "code",
   "execution_count": 33,
   "metadata": {
    "hidden": true
   },
   "outputs": [
    {
     "data": {
      "text/plain": [
       "(184, 38)"
      ]
     },
     "execution_count": 33,
     "metadata": {},
     "output_type": "execute_result"
    }
   ],
   "source": [
    "# 2014 - Pitching DF\n",
    "col_headers_pit = [th.getText() for th in \n",
    "                  table_14pit.findAll('tr')[0].findAll('th')][1:]\n",
    "data_rows_pit = table_14pit.findAll('tr')[1:-2] \n",
    "player_data_pit = [[td.getText() for td in data_rows_pit[i].findAll('td')]\n",
    "               for i in range(len(data_rows_pit))]\n",
    "\n",
    "df_pit_interim = pd.DataFrame(player_data_pit, columns=col_headers_pit)\n",
    "df_pit_interim['Team'] = pd.DataFrame({'Team': teams_list_13to17})\n",
    "df_pit_interim['Year'] = '2014'\n",
    "df_pit_interim['YrTm'] = df_pit_interim['Year'] + df_pit_interim['Team']\n",
    "df_pit = pd.concat([df_pit, df_pit_interim]).reset_index(drop=True)\n",
    "df_pit.shape # should be 184 rows"
   ]
  },
  {
   "cell_type": "code",
   "execution_count": 34,
   "metadata": {
    "hidden": true
   },
   "outputs": [
    {
     "data": {
      "text/plain": [
       "(199, 38)"
      ]
     },
     "execution_count": 34,
     "metadata": {},
     "output_type": "execute_result"
    }
   ],
   "source": [
    "# 2015 - Pitching DF\n",
    "col_headers_pit = [th.getText() for th in \n",
    "                  table_15pit.findAll('tr')[0].findAll('th')][1:]\n",
    "data_rows_pit = table_15pit.findAll('tr')[1:-2] \n",
    "player_data_pit = [[td.getText() for td in data_rows_pit[i].findAll('td')]\n",
    "               for i in range(len(data_rows_pit))]\n",
    "\n",
    "df_pit_interim = pd.DataFrame(player_data_pit, columns=col_headers_pit)\n",
    "df_pit_interim['Team'] = pd.DataFrame({'Team': teams_list_13to17})\n",
    "df_pit_interim['Year'] = '2015'\n",
    "df_pit_interim['YrTm'] = df_pit_interim['Year'] + df_pit_interim['Team']\n",
    "df_pit = pd.concat([df_pit, df_pit_interim]).reset_index(drop=True)\n",
    "df_pit.shape # should be 199 rows"
   ]
  },
  {
   "cell_type": "code",
   "execution_count": 35,
   "metadata": {
    "hidden": true
   },
   "outputs": [
    {
     "data": {
      "text/plain": [
       "(214, 38)"
      ]
     },
     "execution_count": 35,
     "metadata": {},
     "output_type": "execute_result"
    }
   ],
   "source": [
    "# 2016 - Pitching DF\n",
    "col_headers_pit = [th.getText() for th in \n",
    "                  table_16pit.findAll('tr')[0].findAll('th')][1:]\n",
    "data_rows_pit = table_16pit.findAll('tr')[1:-2] \n",
    "player_data_pit = [[td.getText() for td in data_rows_pit[i].findAll('td')]\n",
    "               for i in range(len(data_rows_pit))]\n",
    "\n",
    "df_pit_interim = pd.DataFrame(player_data_pit, columns=col_headers_pit)\n",
    "df_pit_interim['Team'] = pd.DataFrame({'Team': teams_list_13to17})\n",
    "df_pit_interim['Year'] = '2016'\n",
    "df_pit_interim['YrTm'] = df_pit_interim['Year'] + df_pit_interim['Team']\n",
    "df_pit = pd.concat([df_pit, df_pit_interim]).reset_index(drop=True)\n",
    "df_pit.shape # should be 214 rows"
   ]
  },
  {
   "cell_type": "code",
   "execution_count": 36,
   "metadata": {
    "hidden": true
   },
   "outputs": [
    {
     "data": {
      "text/plain": [
       "(229, 38)"
      ]
     },
     "execution_count": 36,
     "metadata": {},
     "output_type": "execute_result"
    }
   ],
   "source": [
    "# 2017 - Pitching DF\n",
    "col_headers_pit = [th.getText() for th in \n",
    "                  table_17pit.findAll('tr')[0].findAll('th')][1:]\n",
    "data_rows_pit = table_17pit.findAll('tr')[1:-2] \n",
    "player_data_pit = [[td.getText() for td in data_rows_pit[i].findAll('td')]\n",
    "               for i in range(len(data_rows_pit))]\n",
    "\n",
    "df_pit_interim = pd.DataFrame(player_data_pit, columns=col_headers_pit)\n",
    "df_pit_interim['Team'] = pd.DataFrame({'Team': teams_list_13to17})\n",
    "df_pit_interim['Year'] = '2017'\n",
    "df_pit_interim['YrTm'] = df_pit_interim['Year'] + df_pit_interim['Team']\n",
    "df_pit = pd.concat([df_pit, df_pit_interim]).reset_index(drop=True)\n",
    "df_pit.shape # should be 229 rows"
   ]
  },
  {
   "cell_type": "code",
   "execution_count": 37,
   "metadata": {
    "hidden": true
   },
   "outputs": [
    {
     "data": {
      "text/html": [
       "<div>\n",
       "<style scoped>\n",
       "    .dataframe tbody tr th:only-of-type {\n",
       "        vertical-align: middle;\n",
       "    }\n",
       "\n",
       "    .dataframe tbody tr th {\n",
       "        vertical-align: top;\n",
       "    }\n",
       "\n",
       "    .dataframe thead th {\n",
       "        text-align: right;\n",
       "    }\n",
       "</style>\n",
       "<table border=\"1\" class=\"dataframe\">\n",
       "  <thead>\n",
       "    <tr style=\"text-align: right;\">\n",
       "      <th></th>\n",
       "      <th>#P</th>\n",
       "      <th>PAge</th>\n",
       "      <th>RA/G</th>\n",
       "      <th>W</th>\n",
       "      <th>L</th>\n",
       "      <th>W-L%</th>\n",
       "      <th>ERA</th>\n",
       "      <th>G</th>\n",
       "      <th>GS</th>\n",
       "      <th>GF</th>\n",
       "      <th>...</th>\n",
       "      <th>WHIP</th>\n",
       "      <th>H9</th>\n",
       "      <th>HR9</th>\n",
       "      <th>BB9</th>\n",
       "      <th>SO9</th>\n",
       "      <th>SO/W</th>\n",
       "      <th>LOB</th>\n",
       "      <th>Team</th>\n",
       "      <th>Year</th>\n",
       "      <th>YrTm</th>\n",
       "    </tr>\n",
       "  </thead>\n",
       "  <tbody>\n",
       "    <tr>\n",
       "      <th>74</th>\n",
       "      <td>25</td>\n",
       "      <td>28.5</td>\n",
       "      <td>4.92</td>\n",
       "      <td>88</td>\n",
       "      <td>74</td>\n",
       "      <td>.543</td>\n",
       "      <td>4.57</td>\n",
       "      <td>162</td>\n",
       "      <td>162</td>\n",
       "      <td>161</td>\n",
       "      <td>...</td>\n",
       "      <td>1.426</td>\n",
       "      <td>9.3</td>\n",
       "      <td>1.1</td>\n",
       "      <td>3.5</td>\n",
       "      <td>6.5</td>\n",
       "      <td>1.85</td>\n",
       "      <td>1206</td>\n",
       "      <td>DET</td>\n",
       "      <td>2007</td>\n",
       "      <td>2007DET</td>\n",
       "    </tr>\n",
       "    <tr>\n",
       "      <th>212</th>\n",
       "      <td>31</td>\n",
       "      <td>28.8</td>\n",
       "      <td>4.67</td>\n",
       "      <td>95</td>\n",
       "      <td>67</td>\n",
       "      <td>.586</td>\n",
       "      <td>4.37</td>\n",
       "      <td>162</td>\n",
       "      <td>162</td>\n",
       "      <td>161</td>\n",
       "      <td>...</td>\n",
       "      <td>1.369</td>\n",
       "      <td>9.0</td>\n",
       "      <td>1.3</td>\n",
       "      <td>3.3</td>\n",
       "      <td>7.2</td>\n",
       "      <td>2.16</td>\n",
       "      <td>1100</td>\n",
       "      <td>TEX</td>\n",
       "      <td>2016</td>\n",
       "      <td>2016TEX</td>\n",
       "    </tr>\n",
       "    <tr>\n",
       "      <th>203</th>\n",
       "      <td>23</td>\n",
       "      <td>29.0</td>\n",
       "      <td>4.48</td>\n",
       "      <td>86</td>\n",
       "      <td>75</td>\n",
       "      <td>.534</td>\n",
       "      <td>4.24</td>\n",
       "      <td>161</td>\n",
       "      <td>161</td>\n",
       "      <td>158</td>\n",
       "      <td>...</td>\n",
       "      <td>1.316</td>\n",
       "      <td>8.9</td>\n",
       "      <td>1.1</td>\n",
       "      <td>2.9</td>\n",
       "      <td>7.8</td>\n",
       "      <td>2.67</td>\n",
       "      <td>1043</td>\n",
       "      <td>DET</td>\n",
       "      <td>2016</td>\n",
       "      <td>2016DET</td>\n",
       "    </tr>\n",
       "    <tr>\n",
       "      <th>194</th>\n",
       "      <td>30</td>\n",
       "      <td>27.8</td>\n",
       "      <td>4.50</td>\n",
       "      <td>68</td>\n",
       "      <td>94</td>\n",
       "      <td>.420</td>\n",
       "      <td>4.14</td>\n",
       "      <td>162</td>\n",
       "      <td>162</td>\n",
       "      <td>157</td>\n",
       "      <td>...</td>\n",
       "      <td>1.299</td>\n",
       "      <td>8.7</td>\n",
       "      <td>1.1</td>\n",
       "      <td>3.0</td>\n",
       "      <td>7.3</td>\n",
       "      <td>2.49</td>\n",
       "      <td>1065</td>\n",
       "      <td>OAK</td>\n",
       "      <td>2015</td>\n",
       "      <td>2015OAK</td>\n",
       "    </tr>\n",
       "    <tr>\n",
       "      <th>127</th>\n",
       "      <td>27</td>\n",
       "      <td>30.3</td>\n",
       "      <td>4.55</td>\n",
       "      <td>90</td>\n",
       "      <td>72</td>\n",
       "      <td>.556</td>\n",
       "      <td>4.20</td>\n",
       "      <td>162</td>\n",
       "      <td>162</td>\n",
       "      <td>160</td>\n",
       "      <td>...</td>\n",
       "      <td>1.308</td>\n",
       "      <td>8.4</td>\n",
       "      <td>1.0</td>\n",
       "      <td>3.3</td>\n",
       "      <td>7.5</td>\n",
       "      <td>2.25</td>\n",
       "      <td>1133</td>\n",
       "      <td>BOS</td>\n",
       "      <td>2011</td>\n",
       "      <td>2011BOS</td>\n",
       "    </tr>\n",
       "    <tr>\n",
       "      <th>210</th>\n",
       "      <td>32</td>\n",
       "      <td>28.8</td>\n",
       "      <td>4.36</td>\n",
       "      <td>86</td>\n",
       "      <td>76</td>\n",
       "      <td>.531</td>\n",
       "      <td>4.00</td>\n",
       "      <td>162</td>\n",
       "      <td>162</td>\n",
       "      <td>160</td>\n",
       "      <td>...</td>\n",
       "      <td>1.283</td>\n",
       "      <td>8.7</td>\n",
       "      <td>1.3</td>\n",
       "      <td>2.8</td>\n",
       "      <td>8.1</td>\n",
       "      <td>2.87</td>\n",
       "      <td>1069</td>\n",
       "      <td>SEA</td>\n",
       "      <td>2016</td>\n",
       "      <td>2016SEA</td>\n",
       "    </tr>\n",
       "    <tr>\n",
       "      <th>9</th>\n",
       "      <td>17</td>\n",
       "      <td>27.4</td>\n",
       "      <td>4.04</td>\n",
       "      <td>103</td>\n",
       "      <td>59</td>\n",
       "      <td>.636</td>\n",
       "      <td>3.68</td>\n",
       "      <td>162</td>\n",
       "      <td>162</td>\n",
       "      <td>153</td>\n",
       "      <td>...</td>\n",
       "      <td>1.284</td>\n",
       "      <td>8.6</td>\n",
       "      <td>0.8</td>\n",
       "      <td>2.9</td>\n",
       "      <td>6.3</td>\n",
       "      <td>2.15</td>\n",
       "      <td>1148</td>\n",
       "      <td>OAK</td>\n",
       "      <td>2002</td>\n",
       "      <td>2002OAK</td>\n",
       "    </tr>\n",
       "    <tr>\n",
       "      <th>82</th>\n",
       "      <td>25</td>\n",
       "      <td>27.7</td>\n",
       "      <td>5.21</td>\n",
       "      <td>75</td>\n",
       "      <td>87</td>\n",
       "      <td>.463</td>\n",
       "      <td>4.75</td>\n",
       "      <td>162</td>\n",
       "      <td>162</td>\n",
       "      <td>162</td>\n",
       "      <td>...</td>\n",
       "      <td>1.534</td>\n",
       "      <td>9.6</td>\n",
       "      <td>1.0</td>\n",
       "      <td>4.2</td>\n",
       "      <td>6.1</td>\n",
       "      <td>1.46</td>\n",
       "      <td>1255</td>\n",
       "      <td>TEX</td>\n",
       "      <td>2007</td>\n",
       "      <td>2007TEX</td>\n",
       "    </tr>\n",
       "    <tr>\n",
       "      <th>61</th>\n",
       "      <td>31</td>\n",
       "      <td>27.7</td>\n",
       "      <td>5.99</td>\n",
       "      <td>62</td>\n",
       "      <td>100</td>\n",
       "      <td>.383</td>\n",
       "      <td>5.65</td>\n",
       "      <td>162</td>\n",
       "      <td>162</td>\n",
       "      <td>159</td>\n",
       "      <td>...</td>\n",
       "      <td>1.602</td>\n",
       "      <td>10.4</td>\n",
       "      <td>1.3</td>\n",
       "      <td>4.0</td>\n",
       "      <td>5.7</td>\n",
       "      <td>1.42</td>\n",
       "      <td>1184</td>\n",
       "      <td>KCR</td>\n",
       "      <td>2006</td>\n",
       "      <td>2006KCR</td>\n",
       "    </tr>\n",
       "    <tr>\n",
       "      <th>167</th>\n",
       "      <td>25</td>\n",
       "      <td>27.9</td>\n",
       "      <td>3.90</td>\n",
       "      <td>91</td>\n",
       "      <td>72</td>\n",
       "      <td>.558</td>\n",
       "      <td>3.62</td>\n",
       "      <td>163</td>\n",
       "      <td>163</td>\n",
       "      <td>159</td>\n",
       "      <td>...</td>\n",
       "      <td>1.277</td>\n",
       "      <td>8.4</td>\n",
       "      <td>1.0</td>\n",
       "      <td>3.1</td>\n",
       "      <td>8.1</td>\n",
       "      <td>2.63</td>\n",
       "      <td>1120</td>\n",
       "      <td>TEX</td>\n",
       "      <td>2013</td>\n",
       "      <td>2013TEX</td>\n",
       "    </tr>\n",
       "  </tbody>\n",
       "</table>\n",
       "<p>10 rows × 38 columns</p>\n",
       "</div>"
      ],
      "text/plain": [
       "     #P  PAge  RA/G    W    L  W-L%   ERA    G   GS   GF   ...      WHIP  \\\n",
       "74   25  28.5  4.92   88   74  .543  4.57  162  162  161   ...     1.426   \n",
       "212  31  28.8  4.67   95   67  .586  4.37  162  162  161   ...     1.369   \n",
       "203  23  29.0  4.48   86   75  .534  4.24  161  161  158   ...     1.316   \n",
       "194  30  27.8  4.50   68   94  .420  4.14  162  162  157   ...     1.299   \n",
       "127  27  30.3  4.55   90   72  .556  4.20  162  162  160   ...     1.308   \n",
       "210  32  28.8  4.36   86   76  .531  4.00  162  162  160   ...     1.283   \n",
       "9    17  27.4  4.04  103   59  .636  3.68  162  162  153   ...     1.284   \n",
       "82   25  27.7  5.21   75   87  .463  4.75  162  162  162   ...     1.534   \n",
       "61   31  27.7  5.99   62  100  .383  5.65  162  162  159   ...     1.602   \n",
       "167  25  27.9  3.90   91   72  .558  3.62  163  163  159   ...     1.277   \n",
       "\n",
       "       H9  HR9  BB9  SO9  SO/W   LOB Team  Year     YrTm  \n",
       "74    9.3  1.1  3.5  6.5  1.85  1206  DET  2007  2007DET  \n",
       "212   9.0  1.3  3.3  7.2  2.16  1100  TEX  2016  2016TEX  \n",
       "203   8.9  1.1  2.9  7.8  2.67  1043  DET  2016  2016DET  \n",
       "194   8.7  1.1  3.0  7.3  2.49  1065  OAK  2015  2015OAK  \n",
       "127   8.4  1.0  3.3  7.5  2.25  1133  BOS  2011  2011BOS  \n",
       "210   8.7  1.3  2.8  8.1  2.87  1069  SEA  2016  2016SEA  \n",
       "9     8.6  0.8  2.9  6.3  2.15  1148  OAK  2002  2002OAK  \n",
       "82    9.6  1.0  4.2  6.1  1.46  1255  TEX  2007  2007TEX  \n",
       "61   10.4  1.3  4.0  5.7  1.42  1184  KCR  2006  2006KCR  \n",
       "167   8.4  1.0  3.1  8.1  2.63  1120  TEX  2013  2013TEX  \n",
       "\n",
       "[10 rows x 38 columns]"
      ]
     },
     "execution_count": 37,
     "metadata": {},
     "output_type": "execute_result"
    }
   ],
   "source": [
    "df_pit.sample(10)"
   ]
  },
  {
   "cell_type": "code",
   "execution_count": 38,
   "metadata": {
    "hidden": true
   },
   "outputs": [
    {
     "data": {
      "text/html": [
       "<div>\n",
       "<style scoped>\n",
       "    .dataframe tbody tr th:only-of-type {\n",
       "        vertical-align: middle;\n",
       "    }\n",
       "\n",
       "    .dataframe tbody tr th {\n",
       "        vertical-align: top;\n",
       "    }\n",
       "\n",
       "    .dataframe thead th {\n",
       "        text-align: right;\n",
       "    }\n",
       "</style>\n",
       "<table border=\"1\" class=\"dataframe\">\n",
       "  <thead>\n",
       "    <tr style=\"text-align: right;\">\n",
       "      <th></th>\n",
       "      <th>#P</th>\n",
       "      <th>PAge</th>\n",
       "      <th>RA/G</th>\n",
       "      <th>W</th>\n",
       "      <th>L</th>\n",
       "      <th>W-L%</th>\n",
       "      <th>ERA</th>\n",
       "      <th>G</th>\n",
       "      <th>GS</th>\n",
       "      <th>GF</th>\n",
       "      <th>...</th>\n",
       "      <th>WHIP</th>\n",
       "      <th>H9</th>\n",
       "      <th>HR9</th>\n",
       "      <th>BB9</th>\n",
       "      <th>SO9</th>\n",
       "      <th>SO/W</th>\n",
       "      <th>LOB</th>\n",
       "      <th>Team</th>\n",
       "      <th>Year</th>\n",
       "      <th>YrTm</th>\n",
       "    </tr>\n",
       "  </thead>\n",
       "  <tbody>\n",
       "    <tr>\n",
       "      <th>0</th>\n",
       "      <td>18</td>\n",
       "      <td>30.2</td>\n",
       "      <td>3.98</td>\n",
       "      <td>99</td>\n",
       "      <td>63</td>\n",
       "      <td>.611</td>\n",
       "      <td>3.69</td>\n",
       "      <td>162</td>\n",
       "      <td>162</td>\n",
       "      <td>155</td>\n",
       "      <td>...</td>\n",
       "      <td>1.277</td>\n",
       "      <td>8.3</td>\n",
       "      <td>1.0</td>\n",
       "      <td>3.2</td>\n",
       "      <td>6.2</td>\n",
       "      <td>1.96</td>\n",
       "      <td>1096</td>\n",
       "      <td>LAA</td>\n",
       "      <td>2002</td>\n",
       "      <td>2002LAA</td>\n",
       "    </tr>\n",
       "    <tr>\n",
       "      <th>1</th>\n",
       "      <td>20</td>\n",
       "      <td>27.8</td>\n",
       "      <td>4.77</td>\n",
       "      <td>67</td>\n",
       "      <td>95</td>\n",
       "      <td>.414</td>\n",
       "      <td>4.46</td>\n",
       "      <td>162</td>\n",
       "      <td>162</td>\n",
       "      <td>154</td>\n",
       "      <td>...</td>\n",
       "      <td>1.406</td>\n",
       "      <td>9.3</td>\n",
       "      <td>1.3</td>\n",
       "      <td>3.4</td>\n",
       "      <td>6.0</td>\n",
       "      <td>1.76</td>\n",
       "      <td>1133</td>\n",
       "      <td>BAL</td>\n",
       "      <td>2002</td>\n",
       "      <td>2002BAL</td>\n",
       "    </tr>\n",
       "    <tr>\n",
       "      <th>2</th>\n",
       "      <td>18</td>\n",
       "      <td>31.1</td>\n",
       "      <td>4.10</td>\n",
       "      <td>93</td>\n",
       "      <td>69</td>\n",
       "      <td>.574</td>\n",
       "      <td>3.75</td>\n",
       "      <td>162</td>\n",
       "      <td>162</td>\n",
       "      <td>157</td>\n",
       "      <td>...</td>\n",
       "      <td>1.223</td>\n",
       "      <td>8.3</td>\n",
       "      <td>0.9</td>\n",
       "      <td>2.7</td>\n",
       "      <td>7.2</td>\n",
       "      <td>2.69</td>\n",
       "      <td>1046</td>\n",
       "      <td>BOS</td>\n",
       "      <td>2002</td>\n",
       "      <td>2002BOS</td>\n",
       "    </tr>\n",
       "    <tr>\n",
       "      <th>3</th>\n",
       "      <td>16</td>\n",
       "      <td>25.8</td>\n",
       "      <td>4.93</td>\n",
       "      <td>81</td>\n",
       "      <td>81</td>\n",
       "      <td>.500</td>\n",
       "      <td>4.53</td>\n",
       "      <td>162</td>\n",
       "      <td>162</td>\n",
       "      <td>155</td>\n",
       "      <td>...</td>\n",
       "      <td>1.370</td>\n",
       "      <td>9.0</td>\n",
       "      <td>1.2</td>\n",
       "      <td>3.3</td>\n",
       "      <td>6.0</td>\n",
       "      <td>1.79</td>\n",
       "      <td>1064</td>\n",
       "      <td>CHW</td>\n",
       "      <td>2002</td>\n",
       "      <td>2002CHW</td>\n",
       "    </tr>\n",
       "    <tr>\n",
       "      <th>4</th>\n",
       "      <td>31</td>\n",
       "      <td>28.1</td>\n",
       "      <td>5.17</td>\n",
       "      <td>74</td>\n",
       "      <td>88</td>\n",
       "      <td>.457</td>\n",
       "      <td>4.91</td>\n",
       "      <td>162</td>\n",
       "      <td>162</td>\n",
       "      <td>153</td>\n",
       "      <td>...</td>\n",
       "      <td>1.482</td>\n",
       "      <td>9.5</td>\n",
       "      <td>0.9</td>\n",
       "      <td>3.8</td>\n",
       "      <td>6.7</td>\n",
       "      <td>1.75</td>\n",
       "      <td>1160</td>\n",
       "      <td>CLE</td>\n",
       "      <td>2002</td>\n",
       "      <td>2002CLE</td>\n",
       "    </tr>\n",
       "  </tbody>\n",
       "</table>\n",
       "<p>5 rows × 38 columns</p>\n",
       "</div>"
      ],
      "text/plain": [
       "   #P  PAge  RA/G   W   L  W-L%   ERA    G   GS   GF   ...      WHIP   H9  \\\n",
       "0  18  30.2  3.98  99  63  .611  3.69  162  162  155   ...     1.277  8.3   \n",
       "1  20  27.8  4.77  67  95  .414  4.46  162  162  154   ...     1.406  9.3   \n",
       "2  18  31.1  4.10  93  69  .574  3.75  162  162  157   ...     1.223  8.3   \n",
       "3  16  25.8  4.93  81  81  .500  4.53  162  162  155   ...     1.370  9.0   \n",
       "4  31  28.1  5.17  74  88  .457  4.91  162  162  153   ...     1.482  9.5   \n",
       "\n",
       "   HR9  BB9  SO9  SO/W   LOB Team  Year     YrTm  \n",
       "0  1.0  3.2  6.2  1.96  1096  LAA  2002  2002LAA  \n",
       "1  1.3  3.4  6.0  1.76  1133  BAL  2002  2002BAL  \n",
       "2  0.9  2.7  7.2  2.69  1046  BOS  2002  2002BOS  \n",
       "3  1.2  3.3  6.0  1.79  1064  CHW  2002  2002CHW  \n",
       "4  0.9  3.8  6.7  1.75  1160  CLE  2002  2002CLE  \n",
       "\n",
       "[5 rows x 38 columns]"
      ]
     },
     "execution_count": 38,
     "metadata": {},
     "output_type": "execute_result"
    }
   ],
   "source": [
    "df_pit.head()"
   ]
  },
  {
   "cell_type": "code",
   "execution_count": 39,
   "metadata": {
    "hidden": true
   },
   "outputs": [
    {
     "data": {
      "text/html": [
       "<div>\n",
       "<style scoped>\n",
       "    .dataframe tbody tr th:only-of-type {\n",
       "        vertical-align: middle;\n",
       "    }\n",
       "\n",
       "    .dataframe tbody tr th {\n",
       "        vertical-align: top;\n",
       "    }\n",
       "\n",
       "    .dataframe thead th {\n",
       "        text-align: right;\n",
       "    }\n",
       "</style>\n",
       "<table border=\"1\" class=\"dataframe\">\n",
       "  <thead>\n",
       "    <tr style=\"text-align: right;\">\n",
       "      <th></th>\n",
       "      <th>#P</th>\n",
       "      <th>PAge</th>\n",
       "      <th>RA/G</th>\n",
       "      <th>W</th>\n",
       "      <th>L</th>\n",
       "      <th>W-L%</th>\n",
       "      <th>ERA</th>\n",
       "      <th>G</th>\n",
       "      <th>GS</th>\n",
       "      <th>GF</th>\n",
       "      <th>...</th>\n",
       "      <th>WHIP</th>\n",
       "      <th>H9</th>\n",
       "      <th>HR9</th>\n",
       "      <th>BB9</th>\n",
       "      <th>SO9</th>\n",
       "      <th>SO/W</th>\n",
       "      <th>LOB</th>\n",
       "      <th>Team</th>\n",
       "      <th>Year</th>\n",
       "      <th>YrTm</th>\n",
       "    </tr>\n",
       "  </thead>\n",
       "  <tbody>\n",
       "    <tr>\n",
       "      <th>224</th>\n",
       "      <td>28</td>\n",
       "      <td>27.9</td>\n",
       "      <td>5.10</td>\n",
       "      <td>75</td>\n",
       "      <td>87</td>\n",
       "      <td>.463</td>\n",
       "      <td>4.67</td>\n",
       "      <td>162</td>\n",
       "      <td>162</td>\n",
       "      <td>161</td>\n",
       "      <td>...</td>\n",
       "      <td>1.360</td>\n",
       "      <td>9.1</td>\n",
       "      <td>1.3</td>\n",
       "      <td>3.2</td>\n",
       "      <td>7.6</td>\n",
       "      <td>2.39</td>\n",
       "      <td>1048</td>\n",
       "      <td>OAK</td>\n",
       "      <td>2017</td>\n",
       "      <td>2017OAK</td>\n",
       "    </tr>\n",
       "    <tr>\n",
       "      <th>225</th>\n",
       "      <td>40</td>\n",
       "      <td>27.8</td>\n",
       "      <td>4.77</td>\n",
       "      <td>78</td>\n",
       "      <td>84</td>\n",
       "      <td>.481</td>\n",
       "      <td>4.46</td>\n",
       "      <td>162</td>\n",
       "      <td>162</td>\n",
       "      <td>161</td>\n",
       "      <td>...</td>\n",
       "      <td>1.312</td>\n",
       "      <td>8.7</td>\n",
       "      <td>1.5</td>\n",
       "      <td>3.1</td>\n",
       "      <td>7.8</td>\n",
       "      <td>2.54</td>\n",
       "      <td>1039</td>\n",
       "      <td>SEA</td>\n",
       "      <td>2017</td>\n",
       "      <td>2017SEA</td>\n",
       "    </tr>\n",
       "    <tr>\n",
       "      <th>226</th>\n",
       "      <td>30</td>\n",
       "      <td>27.6</td>\n",
       "      <td>4.35</td>\n",
       "      <td>80</td>\n",
       "      <td>82</td>\n",
       "      <td>.494</td>\n",
       "      <td>3.97</td>\n",
       "      <td>162</td>\n",
       "      <td>162</td>\n",
       "      <td>162</td>\n",
       "      <td>...</td>\n",
       "      <td>1.264</td>\n",
       "      <td>8.2</td>\n",
       "      <td>1.2</td>\n",
       "      <td>3.1</td>\n",
       "      <td>8.4</td>\n",
       "      <td>2.69</td>\n",
       "      <td>1060</td>\n",
       "      <td>TBD</td>\n",
       "      <td>2017</td>\n",
       "      <td>2017TBD</td>\n",
       "    </tr>\n",
       "    <tr>\n",
       "      <th>227</th>\n",
       "      <td>31</td>\n",
       "      <td>28.8</td>\n",
       "      <td>5.04</td>\n",
       "      <td>78</td>\n",
       "      <td>84</td>\n",
       "      <td>.481</td>\n",
       "      <td>4.66</td>\n",
       "      <td>162</td>\n",
       "      <td>162</td>\n",
       "      <td>160</td>\n",
       "      <td>...</td>\n",
       "      <td>1.396</td>\n",
       "      <td>9.1</td>\n",
       "      <td>1.3</td>\n",
       "      <td>3.5</td>\n",
       "      <td>6.9</td>\n",
       "      <td>1.98</td>\n",
       "      <td>1092</td>\n",
       "      <td>TEX</td>\n",
       "      <td>2017</td>\n",
       "      <td>2017TEX</td>\n",
       "    </tr>\n",
       "    <tr>\n",
       "      <th>228</th>\n",
       "      <td>33</td>\n",
       "      <td>28.8</td>\n",
       "      <td>4.84</td>\n",
       "      <td>76</td>\n",
       "      <td>86</td>\n",
       "      <td>.469</td>\n",
       "      <td>4.42</td>\n",
       "      <td>162</td>\n",
       "      <td>162</td>\n",
       "      <td>160</td>\n",
       "      <td>...</td>\n",
       "      <td>1.371</td>\n",
       "      <td>9.0</td>\n",
       "      <td>1.2</td>\n",
       "      <td>3.4</td>\n",
       "      <td>8.4</td>\n",
       "      <td>2.50</td>\n",
       "      <td>1137</td>\n",
       "      <td>TOR</td>\n",
       "      <td>2017</td>\n",
       "      <td>2017TOR</td>\n",
       "    </tr>\n",
       "  </tbody>\n",
       "</table>\n",
       "<p>5 rows × 38 columns</p>\n",
       "</div>"
      ],
      "text/plain": [
       "     #P  PAge  RA/G   W   L  W-L%   ERA    G   GS   GF   ...      WHIP   H9  \\\n",
       "224  28  27.9  5.10  75  87  .463  4.67  162  162  161   ...     1.360  9.1   \n",
       "225  40  27.8  4.77  78  84  .481  4.46  162  162  161   ...     1.312  8.7   \n",
       "226  30  27.6  4.35  80  82  .494  3.97  162  162  162   ...     1.264  8.2   \n",
       "227  31  28.8  5.04  78  84  .481  4.66  162  162  160   ...     1.396  9.1   \n",
       "228  33  28.8  4.84  76  86  .469  4.42  162  162  160   ...     1.371  9.0   \n",
       "\n",
       "     HR9  BB9  SO9  SO/W   LOB Team  Year     YrTm  \n",
       "224  1.3  3.2  7.6  2.39  1048  OAK  2017  2017OAK  \n",
       "225  1.5  3.1  7.8  2.54  1039  SEA  2017  2017SEA  \n",
       "226  1.2  3.1  8.4  2.69  1060  TBD  2017  2017TBD  \n",
       "227  1.3  3.5  6.9  1.98  1092  TEX  2017  2017TEX  \n",
       "228  1.2  3.4  8.4  2.50  1137  TOR  2017  2017TOR  \n",
       "\n",
       "[5 rows x 38 columns]"
      ]
     },
     "execution_count": 39,
     "metadata": {},
     "output_type": "execute_result"
    }
   ],
   "source": [
    "df_pit.tail()"
   ]
  },
  {
   "cell_type": "markdown",
   "metadata": {
    "heading_collapsed": true,
    "hidden": true
   },
   "source": [
    "### Fielding"
   ]
  },
  {
   "cell_type": "code",
   "execution_count": 58,
   "metadata": {
    "hidden": true
   },
   "outputs": [
    {
     "data": {
      "text/plain": [
       "(14, 18)"
      ]
     },
     "execution_count": 58,
     "metadata": {},
     "output_type": "execute_result"
    }
   ],
   "source": [
    "# 2002 - Fielding DF\n",
    "col_headers_fld = [th.getText() for th in \n",
    "                  table_02fld.findAll('tr')[0].findAll('th')][1:]\n",
    "data_rows_fld = table_02fld.findAll('tr')[1:-2] \n",
    "player_data_fld = [[td.getText() for td in data_rows_fld[i].findAll('td')]\n",
    "               for i in range(len(data_rows_fld))]\n",
    "\n",
    "df_fld = pd.DataFrame(player_data_fld, columns=col_headers_fld)\n",
    "df_fld['Team'] = pd.DataFrame({'Team': teams_list_02to04})\n",
    "df_fld['Year'] = '2002'\n",
    "df_fld['YrTm'] = df_fld['Year'] + df_fld['Team']\n",
    "df_fld.shape # should be 14 rows"
   ]
  },
  {
   "cell_type": "code",
   "execution_count": 59,
   "metadata": {
    "hidden": true
   },
   "outputs": [
    {
     "data": {
      "text/plain": [
       "(28, 20)"
      ]
     },
     "execution_count": 59,
     "metadata": {},
     "output_type": "execute_result"
    }
   ],
   "source": [
    "# 2003 - Fielding DF\n",
    "col_headers_fld = [th.getText() for th in \n",
    "                  table_03fld.findAll('tr')[0].findAll('th')][1:]\n",
    "data_rows_fld = table_03fld.findAll('tr')[1:-2] \n",
    "player_data_fld = [[td.getText() for td in data_rows_fld[i].findAll('td')]\n",
    "               for i in range(len(data_rows_fld))]\n",
    "\n",
    "df_fld_interim = pd.DataFrame(player_data_fld, columns=col_headers_fld)\n",
    "df_fld_interim['Team'] = pd.DataFrame({'Team': teams_list_02to04})\n",
    "df_fld_interim['Year'] = '2003'\n",
    "df_fld_interim['YrTm'] = df_fld_interim['Year'] + df_fld_interim['Team']\n",
    "df_fld = pd.concat([df_fld, df_fld_interim]).reset_index(drop=True)\n",
    "df_fld.shape # should be 28 rows"
   ]
  },
  {
   "cell_type": "markdown",
   "metadata": {
    "hidden": true
   },
   "source": [
    "Columns increased from 18 to 20 starting in 2003 because of addition of two stats:\n",
    "* **Rdrs:** Defensive runs saved above average\n",
    "* **Rdrs/yr:** Defensive runs saved above average per 1,200 innings (appx 135 games)"
   ]
  },
  {
   "cell_type": "code",
   "execution_count": 60,
   "metadata": {
    "hidden": true
   },
   "outputs": [
    {
     "data": {
      "text/plain": [
       "(42, 20)"
      ]
     },
     "execution_count": 60,
     "metadata": {},
     "output_type": "execute_result"
    }
   ],
   "source": [
    "# 2004 - Fielding DF\n",
    "col_headers_fld = [th.getText() for th in \n",
    "                  table_04fld.findAll('tr')[0].findAll('th')][1:]\n",
    "data_rows_fld = table_04fld.findAll('tr')[1:-2] \n",
    "player_data_fld = [[td.getText() for td in data_rows_fld[i].findAll('td')]\n",
    "               for i in range(len(data_rows_fld))]\n",
    "\n",
    "df_fld_interim = pd.DataFrame(player_data_fld, columns=col_headers_fld)\n",
    "df_fld_interim['Team'] = pd.DataFrame({'Team': teams_list_02to04})\n",
    "df_fld_interim['Year'] = '2004'\n",
    "df_fld_interim['YrTm'] = df_fld_interim['Year'] + df_fld_interim['Team']\n",
    "df_fld = pd.concat([df_fld, df_fld_interim]).reset_index(drop=True)\n",
    "df_fld.shape # should be 42 rows"
   ]
  },
  {
   "cell_type": "code",
   "execution_count": 61,
   "metadata": {
    "hidden": true
   },
   "outputs": [
    {
     "data": {
      "text/plain": [
       "(56, 20)"
      ]
     },
     "execution_count": 61,
     "metadata": {},
     "output_type": "execute_result"
    }
   ],
   "source": [
    "# 2005 - Fielding DF\n",
    "col_headers_fld = [th.getText() for th in \n",
    "                  table_05fld.findAll('tr')[0].findAll('th')][1:]\n",
    "data_rows_fld = table_05fld.findAll('tr')[1:-2] \n",
    "player_data_fld = [[td.getText() for td in data_rows_fld[i].findAll('td')]\n",
    "               for i in range(len(data_rows_fld))]\n",
    "\n",
    "df_fld_interim = pd.DataFrame(player_data_fld, columns=col_headers_fld)\n",
    "df_fld_interim['Team'] = pd.DataFrame({'Team': teams_list_05to12})\n",
    "df_fld_interim['Year'] = '2005'\n",
    "df_fld_interim['YrTm'] = df_fld_interim['Year'] + df_fld_interim['Team']\n",
    "df_fld = pd.concat([df_fld, df_fld_interim]).reset_index(drop=True)\n",
    "df_fld.shape # should be 56 rows"
   ]
  },
  {
   "cell_type": "code",
   "execution_count": 62,
   "metadata": {
    "hidden": true
   },
   "outputs": [
    {
     "data": {
      "text/plain": [
       "(70, 20)"
      ]
     },
     "execution_count": 62,
     "metadata": {},
     "output_type": "execute_result"
    }
   ],
   "source": [
    "# 2006 - Fielding DF\n",
    "col_headers_fld = [th.getText() for th in \n",
    "                  table_06fld.findAll('tr')[0].findAll('th')][1:]\n",
    "data_rows_fld = table_06fld.findAll('tr')[1:-2] \n",
    "player_data_fld = [[td.getText() for td in data_rows_fld[i].findAll('td')]\n",
    "               for i in range(len(data_rows_fld))]\n",
    "\n",
    "df_fld_interim = pd.DataFrame(player_data_fld, columns=col_headers_fld)\n",
    "df_fld_interim['Team'] = pd.DataFrame({'Team': teams_list_05to12})\n",
    "df_fld_interim['Year'] = '2006'\n",
    "df_fld_interim['YrTm'] = df_fld_interim['Year'] + df_fld_interim['Team']\n",
    "df_fld = pd.concat([df_fld, df_fld_interim]).reset_index(drop=True)\n",
    "df_fld.shape # should be 70 rows"
   ]
  },
  {
   "cell_type": "code",
   "execution_count": 63,
   "metadata": {
    "hidden": true
   },
   "outputs": [
    {
     "data": {
      "text/plain": [
       "(84, 20)"
      ]
     },
     "execution_count": 63,
     "metadata": {},
     "output_type": "execute_result"
    }
   ],
   "source": [
    "# 2007 - Fielding DF\n",
    "col_headers_fld = [th.getText() for th in \n",
    "                  table_07fld.findAll('tr')[0].findAll('th')][1:]\n",
    "data_rows_fld = table_07fld.findAll('tr')[1:-2] \n",
    "player_data_fld = [[td.getText() for td in data_rows_fld[i].findAll('td')]\n",
    "               for i in range(len(data_rows_fld))]\n",
    "\n",
    "df_fld_interim = pd.DataFrame(player_data_fld, columns=col_headers_fld)\n",
    "df_fld_interim['Team'] = pd.DataFrame({'Team': teams_list_05to12})\n",
    "df_fld_interim['Year'] = '2007'\n",
    "df_fld_interim['YrTm'] = df_fld_interim['Year'] + df_fld_interim['Team']\n",
    "df_fld = pd.concat([df_fld, df_fld_interim]).reset_index(drop=True)\n",
    "df_fld.shape # should be 84 rows"
   ]
  },
  {
   "cell_type": "code",
   "execution_count": 64,
   "metadata": {
    "hidden": true
   },
   "outputs": [
    {
     "data": {
      "text/plain": [
       "(98, 20)"
      ]
     },
     "execution_count": 64,
     "metadata": {},
     "output_type": "execute_result"
    }
   ],
   "source": [
    "# 2008 - Fielding DF\n",
    "col_headers_fld = [th.getText() for th in \n",
    "                  table_08fld.findAll('tr')[0].findAll('th')][1:]\n",
    "data_rows_fld = table_08fld.findAll('tr')[1:-2] \n",
    "player_data_fld = [[td.getText() for td in data_rows_fld[i].findAll('td')]\n",
    "               for i in range(len(data_rows_fld))]\n",
    "\n",
    "df_fld_interim = pd.DataFrame(player_data_fld, columns=col_headers_fld)\n",
    "df_fld_interim['Team'] = pd.DataFrame({'Team': teams_list_05to12})\n",
    "df_fld_interim['Year'] = '2008'\n",
    "df_fld_interim['YrTm'] = df_fld_interim['Year'] + df_fld_interim['Team']\n",
    "df_fld = pd.concat([df_fld, df_fld_interim]).reset_index(drop=True)\n",
    "df_fld.shape # should be 98 rows"
   ]
  },
  {
   "cell_type": "code",
   "execution_count": 71,
   "metadata": {
    "hidden": true
   },
   "outputs": [
    {
     "data": {
      "text/plain": [
       "(112, 20)"
      ]
     },
     "execution_count": 71,
     "metadata": {},
     "output_type": "execute_result"
    }
   ],
   "source": [
    "# 2009 - Fielding DF\n",
    "col_headers_fld = [th.getText() for th in \n",
    "                  table_09fld.findAll('tr')[0].findAll('th')][1:]\n",
    "data_rows_fld = table_09fld.findAll('tr')[1:-2] \n",
    "player_data_fld = [[td.getText() for td in data_rows_fld[i].findAll('td')]\n",
    "               for i in range(len(data_rows_fld))]\n",
    "\n",
    "df_fld_interim = pd.DataFrame(player_data_fld, columns=col_headers_fld)\n",
    "df_fld_interim['Team'] = pd.DataFrame({'Team': teams_list_05to12})\n",
    "df_fld_interim['Year'] = '2009'\n",
    "df_fld_interim['YrTm'] = df_fld_interim['Year'] + df_fld_interim['Team']\n",
    "df_fld = pd.concat([df_fld, df_fld_interim]).reset_index(drop=True)\n",
    "df_fld.shape # should be 112 rows"
   ]
  },
  {
   "cell_type": "code",
   "execution_count": 72,
   "metadata": {
    "hidden": true
   },
   "outputs": [
    {
     "data": {
      "text/plain": [
       "(126, 20)"
      ]
     },
     "execution_count": 72,
     "metadata": {},
     "output_type": "execute_result"
    }
   ],
   "source": [
    "# 2010 - Fielding DF\n",
    "col_headers_fld = [th.getText() for th in \n",
    "                  table_10fld.findAll('tr')[0].findAll('th')][1:]\n",
    "data_rows_fld = table_10fld.findAll('tr')[1:-2] \n",
    "player_data_fld = [[td.getText() for td in data_rows_fld[i].findAll('td')]\n",
    "               for i in range(len(data_rows_fld))]\n",
    "\n",
    "df_fld_interim = pd.DataFrame(player_data_fld, columns=col_headers_fld)\n",
    "df_fld_interim['Team'] = pd.DataFrame({'Team': teams_list_05to12})\n",
    "df_fld_interim['Year'] = '2010'\n",
    "df_fld_interim['YrTm'] = df_fld_interim['Year'] + df_fld_interim['Team']\n",
    "df_fld = pd.concat([df_fld, df_fld_interim]).reset_index(drop=True)\n",
    "df_fld.shape # should be 126 rows"
   ]
  },
  {
   "cell_type": "code",
   "execution_count": 73,
   "metadata": {
    "hidden": true
   },
   "outputs": [
    {
     "data": {
      "text/plain": [
       "(140, 20)"
      ]
     },
     "execution_count": 73,
     "metadata": {},
     "output_type": "execute_result"
    }
   ],
   "source": [
    "# 2011 - Fielding DF\n",
    "col_headers_fld = [th.getText() for th in \n",
    "                  table_11fld.findAll('tr')[0].findAll('th')][1:]\n",
    "data_rows_fld = table_11fld.findAll('tr')[1:-2] \n",
    "player_data_fld = [[td.getText() for td in data_rows_fld[i].findAll('td')]\n",
    "               for i in range(len(data_rows_fld))]\n",
    "\n",
    "df_fld_interim = pd.DataFrame(player_data_fld, columns=col_headers_fld)\n",
    "df_fld_interim['Team'] = pd.DataFrame({'Team': teams_list_05to12})\n",
    "df_fld_interim['Year'] = '2011'\n",
    "df_fld_interim['YrTm'] = df_fld_interim['Year'] + df_fld_interim['Team']\n",
    "df_fld = pd.concat([df_fld, df_fld_interim]).reset_index(drop=True)\n",
    "df_fld.shape # should be 140 rows"
   ]
  },
  {
   "cell_type": "code",
   "execution_count": 74,
   "metadata": {
    "hidden": true
   },
   "outputs": [
    {
     "data": {
      "text/plain": [
       "(154, 20)"
      ]
     },
     "execution_count": 74,
     "metadata": {},
     "output_type": "execute_result"
    }
   ],
   "source": [
    "# 2012 - Fielding DF\n",
    "col_headers_fld = [th.getText() for th in \n",
    "                  table_12fld.findAll('tr')[0].findAll('th')][1:]\n",
    "data_rows_fld = table_12fld.findAll('tr')[1:-2] \n",
    "player_data_fld = [[td.getText() for td in data_rows_fld[i].findAll('td')]\n",
    "               for i in range(len(data_rows_fld))]\n",
    "\n",
    "df_fld_interim = pd.DataFrame(player_data_fld, columns=col_headers_fld)\n",
    "df_fld_interim['Team'] = pd.DataFrame({'Team': teams_list_05to12})\n",
    "df_fld_interim['Year'] = '2012'\n",
    "df_fld_interim['YrTm'] = df_fld_interim['Year'] + df_fld_interim['Team']\n",
    "df_fld = pd.concat([df_fld, df_fld_interim]).reset_index(drop=True)\n",
    "df_fld.shape # should be 154 rows"
   ]
  },
  {
   "cell_type": "code",
   "execution_count": 75,
   "metadata": {
    "hidden": true
   },
   "outputs": [
    {
     "data": {
      "text/plain": [
       "(169, 20)"
      ]
     },
     "execution_count": 75,
     "metadata": {},
     "output_type": "execute_result"
    }
   ],
   "source": [
    "# 2013 - Fielding DF\n",
    "col_headers_fld = [th.getText() for th in \n",
    "                  table_13fld.findAll('tr')[0].findAll('th')][1:]\n",
    "data_rows_fld = table_13fld.findAll('tr')[1:-2] \n",
    "player_data_fld = [[td.getText() for td in data_rows_fld[i].findAll('td')]\n",
    "               for i in range(len(data_rows_fld))]\n",
    "\n",
    "df_fld_interim = pd.DataFrame(player_data_fld, columns=col_headers_fld)\n",
    "df_fld_interim['Team'] = pd.DataFrame({'Team': teams_list_13to17})\n",
    "df_fld_interim['Year'] = '2013'\n",
    "df_fld_interim['YrTm'] = df_fld_interim['Year'] + df_fld_interim['Team']\n",
    "df_fld = pd.concat([df_fld, df_fld_interim]).reset_index(drop=True)\n",
    "df_fld.shape # should be 169 rows"
   ]
  },
  {
   "cell_type": "code",
   "execution_count": 76,
   "metadata": {
    "hidden": true
   },
   "outputs": [
    {
     "data": {
      "text/plain": [
       "(184, 20)"
      ]
     },
     "execution_count": 76,
     "metadata": {},
     "output_type": "execute_result"
    }
   ],
   "source": [
    "# 2014 - Fielding DF\n",
    "col_headers_fld = [th.getText() for th in \n",
    "                  table_14fld.findAll('tr')[0].findAll('th')][1:]\n",
    "data_rows_fld = table_14fld.findAll('tr')[1:-2] \n",
    "player_data_fld = [[td.getText() for td in data_rows_fld[i].findAll('td')]\n",
    "               for i in range(len(data_rows_fld))]\n",
    "\n",
    "df_fld_interim = pd.DataFrame(player_data_fld, columns=col_headers_fld)\n",
    "df_fld_interim['Team'] = pd.DataFrame({'Team': teams_list_13to17})\n",
    "df_fld_interim['Year'] = '2014'\n",
    "df_fld_interim['YrTm'] = df_fld_interim['Year'] + df_fld_interim['Team']\n",
    "df_fld = pd.concat([df_fld, df_fld_interim]).reset_index(drop=True)\n",
    "df_fld.shape # should be 184 rows"
   ]
  },
  {
   "cell_type": "code",
   "execution_count": 77,
   "metadata": {
    "hidden": true
   },
   "outputs": [
    {
     "data": {
      "text/plain": [
       "(199, 20)"
      ]
     },
     "execution_count": 77,
     "metadata": {},
     "output_type": "execute_result"
    }
   ],
   "source": [
    "# 2015 - Fielding DF\n",
    "col_headers_fld = [th.getText() for th in \n",
    "                  table_15fld.findAll('tr')[0].findAll('th')][1:]\n",
    "data_rows_fld = table_15fld.findAll('tr')[1:-2] \n",
    "player_data_fld = [[td.getText() for td in data_rows_fld[i].findAll('td')]\n",
    "               for i in range(len(data_rows_fld))]\n",
    "\n",
    "df_fld_interim = pd.DataFrame(player_data_fld, columns=col_headers_fld)\n",
    "df_fld_interim['Team'] = pd.DataFrame({'Team': teams_list_13to17})\n",
    "df_fld_interim['Year'] = '2015'\n",
    "df_fld_interim['YrTm'] = df_fld_interim['Year'] + df_fld_interim['Team']\n",
    "df_fld = pd.concat([df_fld, df_fld_interim]).reset_index(drop=True)\n",
    "df_fld.shape # should be 199 rows"
   ]
  },
  {
   "cell_type": "code",
   "execution_count": 78,
   "metadata": {
    "hidden": true
   },
   "outputs": [
    {
     "data": {
      "text/plain": [
       "(214, 20)"
      ]
     },
     "execution_count": 78,
     "metadata": {},
     "output_type": "execute_result"
    }
   ],
   "source": [
    "# 2016 - Fielding DF\n",
    "col_headers_fld = [th.getText() for th in \n",
    "                  table_16fld.findAll('tr')[0].findAll('th')][1:]\n",
    "data_rows_fld = table_16fld.findAll('tr')[1:-2] \n",
    "player_data_fld = [[td.getText() for td in data_rows_fld[i].findAll('td')]\n",
    "               for i in range(len(data_rows_fld))]\n",
    "\n",
    "df_fld_interim = pd.DataFrame(player_data_fld, columns=col_headers_fld)\n",
    "df_fld_interim['Team'] = pd.DataFrame({'Team': teams_list_13to17})\n",
    "df_fld_interim['Year'] = '2016'\n",
    "df_fld_interim['YrTm'] = df_fld_interim['Year'] + df_fld_interim['Team']\n",
    "df_fld = pd.concat([df_fld, df_fld_interim]).reset_index(drop=True)\n",
    "df_fld.shape # should be 214 rows"
   ]
  },
  {
   "cell_type": "code",
   "execution_count": 79,
   "metadata": {
    "hidden": true
   },
   "outputs": [
    {
     "data": {
      "text/plain": [
       "(229, 20)"
      ]
     },
     "execution_count": 79,
     "metadata": {},
     "output_type": "execute_result"
    }
   ],
   "source": [
    "# 2017 - Fielding DF\n",
    "col_headers_fld = [th.getText() for th in \n",
    "                  table_17fld.findAll('tr')[0].findAll('th')][1:]\n",
    "data_rows_fld = table_17fld.findAll('tr')[1:-2] \n",
    "player_data_fld = [[td.getText() for td in data_rows_fld[i].findAll('td')]\n",
    "               for i in range(len(data_rows_fld))]\n",
    "\n",
    "df_fld_interim = pd.DataFrame(player_data_fld, columns=col_headers_fld)\n",
    "df_fld_interim['Team'] = pd.DataFrame({'Team': teams_list_13to17})\n",
    "df_fld_interim['Year'] = '2017'\n",
    "df_fld_interim['YrTm'] = df_fld_interim['Year'] + df_fld_interim['Team']\n",
    "df_fld = pd.concat([df_fld, df_fld_interim]).reset_index(drop=True)\n",
    "df_fld.shape # should be 229 rows"
   ]
  },
  {
   "cell_type": "code",
   "execution_count": 80,
   "metadata": {
    "hidden": true
   },
   "outputs": [
    {
     "data": {
      "text/html": [
       "<div>\n",
       "<style scoped>\n",
       "    .dataframe tbody tr th:only-of-type {\n",
       "        vertical-align: middle;\n",
       "    }\n",
       "\n",
       "    .dataframe tbody tr th {\n",
       "        vertical-align: top;\n",
       "    }\n",
       "\n",
       "    .dataframe thead th {\n",
       "        text-align: right;\n",
       "    }\n",
       "</style>\n",
       "<table border=\"1\" class=\"dataframe\">\n",
       "  <thead>\n",
       "    <tr style=\"text-align: right;\">\n",
       "      <th></th>\n",
       "      <th>#Fld</th>\n",
       "      <th>A</th>\n",
       "      <th>CG</th>\n",
       "      <th>Ch</th>\n",
       "      <th>DP</th>\n",
       "      <th>DefEff</th>\n",
       "      <th>E</th>\n",
       "      <th>Fld%</th>\n",
       "      <th>G</th>\n",
       "      <th>GS</th>\n",
       "      <th>Inn</th>\n",
       "      <th>PO</th>\n",
       "      <th>RA/G</th>\n",
       "      <th>Rdrs</th>\n",
       "      <th>Rdrs/yr</th>\n",
       "      <th>Rtot</th>\n",
       "      <th>Rtot/yr</th>\n",
       "      <th>Team</th>\n",
       "      <th>Year</th>\n",
       "      <th>YrTm</th>\n",
       "    </tr>\n",
       "  </thead>\n",
       "  <tbody>\n",
       "    <tr>\n",
       "      <th>0</th>\n",
       "      <td>40</td>\n",
       "      <td>1575</td>\n",
       "      <td>1075</td>\n",
       "      <td>6020</td>\n",
       "      <td>151</td>\n",
       "      <td>.718</td>\n",
       "      <td>87</td>\n",
       "      <td>.986</td>\n",
       "      <td>162</td>\n",
       "      <td>1458</td>\n",
       "      <td>13071.0</td>\n",
       "      <td>4358</td>\n",
       "      <td>3.98</td>\n",
       "      <td>NaN</td>\n",
       "      <td>NaN</td>\n",
       "      <td>98</td>\n",
       "      <td>9</td>\n",
       "      <td>LAA</td>\n",
       "      <td>2002</td>\n",
       "      <td>2002LAA</td>\n",
       "    </tr>\n",
       "    <tr>\n",
       "      <th>1</th>\n",
       "      <td>46</td>\n",
       "      <td>1720</td>\n",
       "      <td>1165</td>\n",
       "      <td>6163</td>\n",
       "      <td>173</td>\n",
       "      <td>.701</td>\n",
       "      <td>91</td>\n",
       "      <td>.985</td>\n",
       "      <td>162</td>\n",
       "      <td>1458</td>\n",
       "      <td>13056.0</td>\n",
       "      <td>4352</td>\n",
       "      <td>4.77</td>\n",
       "      <td>NaN</td>\n",
       "      <td>NaN</td>\n",
       "      <td>43</td>\n",
       "      <td>4</td>\n",
       "      <td>BAL</td>\n",
       "      <td>2002</td>\n",
       "      <td>2002BAL</td>\n",
       "    </tr>\n",
       "    <tr>\n",
       "      <th>2</th>\n",
       "      <td>39</td>\n",
       "      <td>1645</td>\n",
       "      <td>1150</td>\n",
       "      <td>6087</td>\n",
       "      <td>140</td>\n",
       "      <td>.702</td>\n",
       "      <td>104</td>\n",
       "      <td>.983</td>\n",
       "      <td>162</td>\n",
       "      <td>1458</td>\n",
       "      <td>13014.0</td>\n",
       "      <td>4338</td>\n",
       "      <td>4.10</td>\n",
       "      <td>NaN</td>\n",
       "      <td>NaN</td>\n",
       "      <td>62</td>\n",
       "      <td>6</td>\n",
       "      <td>BOS</td>\n",
       "      <td>2002</td>\n",
       "      <td>2002BOS</td>\n",
       "    </tr>\n",
       "    <tr>\n",
       "      <th>3</th>\n",
       "      <td>35</td>\n",
       "      <td>1595</td>\n",
       "      <td>1168</td>\n",
       "      <td>5961</td>\n",
       "      <td>157</td>\n",
       "      <td>.706</td>\n",
       "      <td>97</td>\n",
       "      <td>.984</td>\n",
       "      <td>162</td>\n",
       "      <td>1458</td>\n",
       "      <td>12807.0</td>\n",
       "      <td>4269</td>\n",
       "      <td>4.93</td>\n",
       "      <td>NaN</td>\n",
       "      <td>NaN</td>\n",
       "      <td>13</td>\n",
       "      <td>1</td>\n",
       "      <td>CHW</td>\n",
       "      <td>2002</td>\n",
       "      <td>2002CHW</td>\n",
       "    </tr>\n",
       "    <tr>\n",
       "      <th>4</th>\n",
       "      <td>59</td>\n",
       "      <td>1662</td>\n",
       "      <td>1153</td>\n",
       "      <td>6049</td>\n",
       "      <td>161</td>\n",
       "      <td>.674</td>\n",
       "      <td>113</td>\n",
       "      <td>.981</td>\n",
       "      <td>162</td>\n",
       "      <td>1458</td>\n",
       "      <td>12822.0</td>\n",
       "      <td>4274</td>\n",
       "      <td>5.17</td>\n",
       "      <td>NaN</td>\n",
       "      <td>NaN</td>\n",
       "      <td>-49</td>\n",
       "      <td>-5</td>\n",
       "      <td>CLE</td>\n",
       "      <td>2002</td>\n",
       "      <td>2002CLE</td>\n",
       "    </tr>\n",
       "  </tbody>\n",
       "</table>\n",
       "</div>"
      ],
      "text/plain": [
       "  #Fld     A    CG    Ch   DP DefEff    E  Fld%    G    GS      Inn    PO  \\\n",
       "0   40  1575  1075  6020  151   .718   87  .986  162  1458  13071.0  4358   \n",
       "1   46  1720  1165  6163  173   .701   91  .985  162  1458  13056.0  4352   \n",
       "2   39  1645  1150  6087  140   .702  104  .983  162  1458  13014.0  4338   \n",
       "3   35  1595  1168  5961  157   .706   97  .984  162  1458  12807.0  4269   \n",
       "4   59  1662  1153  6049  161   .674  113  .981  162  1458  12822.0  4274   \n",
       "\n",
       "   RA/G Rdrs Rdrs/yr Rtot Rtot/yr Team  Year     YrTm  \n",
       "0  3.98  NaN     NaN   98       9  LAA  2002  2002LAA  \n",
       "1  4.77  NaN     NaN   43       4  BAL  2002  2002BAL  \n",
       "2  4.10  NaN     NaN   62       6  BOS  2002  2002BOS  \n",
       "3  4.93  NaN     NaN   13       1  CHW  2002  2002CHW  \n",
       "4  5.17  NaN     NaN  -49      -5  CLE  2002  2002CLE  "
      ]
     },
     "execution_count": 80,
     "metadata": {},
     "output_type": "execute_result"
    }
   ],
   "source": [
    "df_fld.head()"
   ]
  },
  {
   "cell_type": "code",
   "execution_count": 81,
   "metadata": {
    "hidden": true
   },
   "outputs": [
    {
     "data": {
      "text/html": [
       "<div>\n",
       "<style scoped>\n",
       "    .dataframe tbody tr th:only-of-type {\n",
       "        vertical-align: middle;\n",
       "    }\n",
       "\n",
       "    .dataframe tbody tr th {\n",
       "        vertical-align: top;\n",
       "    }\n",
       "\n",
       "    .dataframe thead th {\n",
       "        text-align: right;\n",
       "    }\n",
       "</style>\n",
       "<table border=\"1\" class=\"dataframe\">\n",
       "  <thead>\n",
       "    <tr style=\"text-align: right;\">\n",
       "      <th></th>\n",
       "      <th>#Fld</th>\n",
       "      <th>A</th>\n",
       "      <th>CG</th>\n",
       "      <th>Ch</th>\n",
       "      <th>DP</th>\n",
       "      <th>DefEff</th>\n",
       "      <th>E</th>\n",
       "      <th>Fld%</th>\n",
       "      <th>G</th>\n",
       "      <th>GS</th>\n",
       "      <th>Inn</th>\n",
       "      <th>PO</th>\n",
       "      <th>RA/G</th>\n",
       "      <th>Rdrs</th>\n",
       "      <th>Rdrs/yr</th>\n",
       "      <th>Rtot</th>\n",
       "      <th>Rtot/yr</th>\n",
       "      <th>Team</th>\n",
       "      <th>Year</th>\n",
       "      <th>YrTm</th>\n",
       "    </tr>\n",
       "  </thead>\n",
       "  <tbody>\n",
       "    <tr>\n",
       "      <th>224</th>\n",
       "      <td>54</td>\n",
       "      <td>1597</td>\n",
       "      <td>1111</td>\n",
       "      <td>6011</td>\n",
       "      <td>162</td>\n",
       "      <td>.686</td>\n",
       "      <td>121</td>\n",
       "      <td>.980</td>\n",
       "      <td>162</td>\n",
       "      <td>1458</td>\n",
       "      <td>12879.0</td>\n",
       "      <td>4293</td>\n",
       "      <td>5.10</td>\n",
       "      <td>-48</td>\n",
       "      <td>-1</td>\n",
       "      <td>-41</td>\n",
       "      <td>-4</td>\n",
       "      <td>OAK</td>\n",
       "      <td>2017</td>\n",
       "      <td>2017OAK</td>\n",
       "    </tr>\n",
       "    <tr>\n",
       "      <th>225</th>\n",
       "      <td>61</td>\n",
       "      <td>1422</td>\n",
       "      <td>1154</td>\n",
       "      <td>5847</td>\n",
       "      <td>147</td>\n",
       "      <td>.700</td>\n",
       "      <td>103</td>\n",
       "      <td>.982</td>\n",
       "      <td>162</td>\n",
       "      <td>1458</td>\n",
       "      <td>12963.0</td>\n",
       "      <td>4322</td>\n",
       "      <td>4.77</td>\n",
       "      <td>6</td>\n",
       "      <td>0</td>\n",
       "      <td>10</td>\n",
       "      <td>1</td>\n",
       "      <td>SEA</td>\n",
       "      <td>2017</td>\n",
       "      <td>2017SEA</td>\n",
       "    </tr>\n",
       "    <tr>\n",
       "      <th>226</th>\n",
       "      <td>53</td>\n",
       "      <td>1433</td>\n",
       "      <td>1129</td>\n",
       "      <td>5868</td>\n",
       "      <td>129</td>\n",
       "      <td>.701</td>\n",
       "      <td>100</td>\n",
       "      <td>.983</td>\n",
       "      <td>162</td>\n",
       "      <td>1458</td>\n",
       "      <td>13005.0</td>\n",
       "      <td>4335</td>\n",
       "      <td>4.35</td>\n",
       "      <td>59</td>\n",
       "      <td>1</td>\n",
       "      <td>26</td>\n",
       "      <td>2</td>\n",
       "      <td>TBD</td>\n",
       "      <td>2017</td>\n",
       "      <td>2017TBD</td>\n",
       "    </tr>\n",
       "    <tr>\n",
       "      <th>227</th>\n",
       "      <td>51</td>\n",
       "      <td>1616</td>\n",
       "      <td>1131</td>\n",
       "      <td>6027</td>\n",
       "      <td>173</td>\n",
       "      <td>.695</td>\n",
       "      <td>108</td>\n",
       "      <td>.982</td>\n",
       "      <td>162</td>\n",
       "      <td>1458</td>\n",
       "      <td>12909.0</td>\n",
       "      <td>4303</td>\n",
       "      <td>5.04</td>\n",
       "      <td>-1</td>\n",
       "      <td>0</td>\n",
       "      <td>50</td>\n",
       "      <td>5</td>\n",
       "      <td>TEX</td>\n",
       "      <td>2017</td>\n",
       "      <td>2017TEX</td>\n",
       "    </tr>\n",
       "    <tr>\n",
       "      <th>228</th>\n",
       "      <td>60</td>\n",
       "      <td>1570</td>\n",
       "      <td>1073</td>\n",
       "      <td>6057</td>\n",
       "      <td>145</td>\n",
       "      <td>.682</td>\n",
       "      <td>92</td>\n",
       "      <td>.985</td>\n",
       "      <td>162</td>\n",
       "      <td>1458</td>\n",
       "      <td>13185.0</td>\n",
       "      <td>4395</td>\n",
       "      <td>4.84</td>\n",
       "      <td>-17</td>\n",
       "      <td>-2</td>\n",
       "      <td>-28</td>\n",
       "      <td>-3</td>\n",
       "      <td>TOR</td>\n",
       "      <td>2017</td>\n",
       "      <td>2017TOR</td>\n",
       "    </tr>\n",
       "  </tbody>\n",
       "</table>\n",
       "</div>"
      ],
      "text/plain": [
       "    #Fld     A    CG    Ch   DP DefEff    E  Fld%    G    GS      Inn    PO  \\\n",
       "224   54  1597  1111  6011  162   .686  121  .980  162  1458  12879.0  4293   \n",
       "225   61  1422  1154  5847  147   .700  103  .982  162  1458  12963.0  4322   \n",
       "226   53  1433  1129  5868  129   .701  100  .983  162  1458  13005.0  4335   \n",
       "227   51  1616  1131  6027  173   .695  108  .982  162  1458  12909.0  4303   \n",
       "228   60  1570  1073  6057  145   .682   92  .985  162  1458  13185.0  4395   \n",
       "\n",
       "     RA/G Rdrs Rdrs/yr Rtot Rtot/yr Team  Year     YrTm  \n",
       "224  5.10  -48      -1  -41      -4  OAK  2017  2017OAK  \n",
       "225  4.77    6       0   10       1  SEA  2017  2017SEA  \n",
       "226  4.35   59       1   26       2  TBD  2017  2017TBD  \n",
       "227  5.04   -1       0   50       5  TEX  2017  2017TEX  \n",
       "228  4.84  -17      -2  -28      -3  TOR  2017  2017TOR  "
      ]
     },
     "execution_count": 81,
     "metadata": {},
     "output_type": "execute_result"
    }
   ],
   "source": [
    "df_fld.tail()"
   ]
  },
  {
   "cell_type": "code",
   "execution_count": 83,
   "metadata": {
    "hidden": true
   },
   "outputs": [
    {
     "data": {
      "text/html": [
       "<div>\n",
       "<style scoped>\n",
       "    .dataframe tbody tr th:only-of-type {\n",
       "        vertical-align: middle;\n",
       "    }\n",
       "\n",
       "    .dataframe tbody tr th {\n",
       "        vertical-align: top;\n",
       "    }\n",
       "\n",
       "    .dataframe thead th {\n",
       "        text-align: right;\n",
       "    }\n",
       "</style>\n",
       "<table border=\"1\" class=\"dataframe\">\n",
       "  <thead>\n",
       "    <tr style=\"text-align: right;\">\n",
       "      <th></th>\n",
       "      <th>#Fld</th>\n",
       "      <th>A</th>\n",
       "      <th>CG</th>\n",
       "      <th>Ch</th>\n",
       "      <th>DP</th>\n",
       "      <th>DefEff</th>\n",
       "      <th>E</th>\n",
       "      <th>Fld%</th>\n",
       "      <th>G</th>\n",
       "      <th>GS</th>\n",
       "      <th>Inn</th>\n",
       "      <th>PO</th>\n",
       "      <th>RA/G</th>\n",
       "      <th>Rdrs</th>\n",
       "      <th>Rdrs/yr</th>\n",
       "      <th>Rtot</th>\n",
       "      <th>Rtot/yr</th>\n",
       "      <th>Team</th>\n",
       "      <th>Year</th>\n",
       "      <th>YrTm</th>\n",
       "    </tr>\n",
       "  </thead>\n",
       "  <tbody>\n",
       "    <tr>\n",
       "      <th>86</th>\n",
       "      <td>38</td>\n",
       "      <td>1730</td>\n",
       "      <td>1110</td>\n",
       "      <td>6211</td>\n",
       "      <td>155</td>\n",
       "      <td>.686</td>\n",
       "      <td>108</td>\n",
       "      <td>.983</td>\n",
       "      <td>163</td>\n",
       "      <td>1467</td>\n",
       "      <td>13119.0</td>\n",
       "      <td>4373</td>\n",
       "      <td>4.47</td>\n",
       "      <td>-35</td>\n",
       "      <td>-3</td>\n",
       "      <td>-42</td>\n",
       "      <td>-4</td>\n",
       "      <td>CHW</td>\n",
       "      <td>2008</td>\n",
       "      <td>2008CHW</td>\n",
       "    </tr>\n",
       "    <tr>\n",
       "      <th>112</th>\n",
       "      <td>45</td>\n",
       "      <td>1582</td>\n",
       "      <td>1154</td>\n",
       "      <td>5996</td>\n",
       "      <td>141</td>\n",
       "      <td>.690</td>\n",
       "      <td>105</td>\n",
       "      <td>.982</td>\n",
       "      <td>162</td>\n",
       "      <td>1458</td>\n",
       "      <td>12927.0</td>\n",
       "      <td>4309</td>\n",
       "      <td>4.85</td>\n",
       "      <td>-26</td>\n",
       "      <td>-2</td>\n",
       "      <td>-7</td>\n",
       "      <td>-1</td>\n",
       "      <td>BAL</td>\n",
       "      <td>2010</td>\n",
       "      <td>2010BAL</td>\n",
       "    </tr>\n",
       "    <tr>\n",
       "      <th>17</th>\n",
       "      <td>40</td>\n",
       "      <td>1588</td>\n",
       "      <td>1075</td>\n",
       "      <td>5975</td>\n",
       "      <td>154</td>\n",
       "      <td>.705</td>\n",
       "      <td>93</td>\n",
       "      <td>.984</td>\n",
       "      <td>162</td>\n",
       "      <td>1458</td>\n",
       "      <td>12879.0</td>\n",
       "      <td>4294</td>\n",
       "      <td>4.41</td>\n",
       "      <td>26</td>\n",
       "      <td>0</td>\n",
       "      <td>26</td>\n",
       "      <td>2</td>\n",
       "      <td>CHW</td>\n",
       "      <td>2003</td>\n",
       "      <td>2003CHW</td>\n",
       "    </tr>\n",
       "    <tr>\n",
       "      <th>223</th>\n",
       "      <td>51</td>\n",
       "      <td>1468</td>\n",
       "      <td>1131</td>\n",
       "      <td>5909</td>\n",
       "      <td>102</td>\n",
       "      <td>.703</td>\n",
       "      <td>95</td>\n",
       "      <td>.984</td>\n",
       "      <td>162</td>\n",
       "      <td>1458</td>\n",
       "      <td>13038.0</td>\n",
       "      <td>4346</td>\n",
       "      <td>4.07</td>\n",
       "      <td>19</td>\n",
       "      <td>2</td>\n",
       "      <td>25</td>\n",
       "      <td>2</td>\n",
       "      <td>NYY</td>\n",
       "      <td>2017</td>\n",
       "      <td>2017NYY</td>\n",
       "    </tr>\n",
       "    <tr>\n",
       "      <th>76</th>\n",
       "      <td>42</td>\n",
       "      <td>1550</td>\n",
       "      <td>1131</td>\n",
       "      <td>5956</td>\n",
       "      <td>154</td>\n",
       "      <td>.678</td>\n",
       "      <td>101</td>\n",
       "      <td>.983</td>\n",
       "      <td>162</td>\n",
       "      <td>1458</td>\n",
       "      <td>12915.0</td>\n",
       "      <td>4305</td>\n",
       "      <td>4.51</td>\n",
       "      <td>-10</td>\n",
       "      <td>0</td>\n",
       "      <td>13</td>\n",
       "      <td>1</td>\n",
       "      <td>LAA</td>\n",
       "      <td>2007</td>\n",
       "      <td>2007LAA</td>\n",
       "    </tr>\n",
       "  </tbody>\n",
       "</table>\n",
       "</div>"
      ],
      "text/plain": [
       "    #Fld     A    CG    Ch   DP DefEff    E  Fld%    G    GS      Inn    PO  \\\n",
       "86    38  1730  1110  6211  155   .686  108  .983  163  1467  13119.0  4373   \n",
       "112   45  1582  1154  5996  141   .690  105  .982  162  1458  12927.0  4309   \n",
       "17    40  1588  1075  5975  154   .705   93  .984  162  1458  12879.0  4294   \n",
       "223   51  1468  1131  5909  102   .703   95  .984  162  1458  13038.0  4346   \n",
       "76    42  1550  1131  5956  154   .678  101  .983  162  1458  12915.0  4305   \n",
       "\n",
       "     RA/G Rdrs Rdrs/yr Rtot Rtot/yr Team  Year     YrTm  \n",
       "86   4.47  -35      -3  -42      -4  CHW  2008  2008CHW  \n",
       "112  4.85  -26      -2   -7      -1  BAL  2010  2010BAL  \n",
       "17   4.41   26       0   26       2  CHW  2003  2003CHW  \n",
       "223  4.07   19       2   25       2  NYY  2017  2017NYY  \n",
       "76   4.51  -10       0   13       1  LAA  2007  2007LAA  "
      ]
     },
     "execution_count": 83,
     "metadata": {},
     "output_type": "execute_result"
    }
   ],
   "source": [
    "df_fld.sample(5)"
   ]
  },
  {
   "cell_type": "markdown",
   "metadata": {
    "heading_collapsed": true
   },
   "source": [
    "## Reduce Variables from Scraped Tables"
   ]
  },
  {
   "cell_type": "markdown",
   "metadata": {
    "heading_collapsed": true,
    "hidden": true
   },
   "source": [
    "### Batting"
   ]
  },
  {
   "cell_type": "markdown",
   "metadata": {
    "hidden": true
   },
   "source": [
    "Want to keep ID variables (`Team`, `Year`, `YrTm`) as well as:\n",
    "* **`#Bat`:** Number of players used in games\n",
    "* **`R/G`:** Runs scored per game\n",
    "* **`G`:** Games played or pitched\n",
    "* **`AB`:** At Bats\n",
    "* **`2B`:** E\n",
    "* **`3B`:** E\n",
    "* **`HR`:** E\n",
    "* **`RBI`:** E\n",
    "* **`SB`:** E\n",
    "* **`BB`:** E"
   ]
  },
  {
   "cell_type": "markdown",
   "metadata": {
    "heading_collapsed": true,
    "hidden": true
   },
   "source": [
    "### Pitching"
   ]
  },
  {
   "cell_type": "markdown",
   "metadata": {
    "hidden": true
   },
   "source": [
    "Want to keep ID variables (`Team`, `Year`, `YrTm`) as well as:\n",
    "* **`V`:** E\n",
    "* **`V`:** E\n",
    "* **`V`:** E\n",
    "* **`V`:** E\n",
    "* **`V`:** E\n",
    "* **`V`:** E\n",
    "* **`V`:** E\n",
    "* **`V`:** E\n",
    "* **`V`:** E"
   ]
  },
  {
   "cell_type": "code",
   "execution_count": null,
   "metadata": {
    "hidden": true
   },
   "outputs": [],
   "source": [
    "df_pit_keep = df_pit[['#P', 'RA/G', 'W-L%', 'ERA', 'ERA+']]\n",
    "df_pit_keep.sample()"
   ]
  },
  {
   "cell_type": "markdown",
   "metadata": {
    "heading_collapsed": true,
    "hidden": true
   },
   "source": [
    "### Fielding"
   ]
  },
  {
   "cell_type": "markdown",
   "metadata": {
    "heading_collapsed": true
   },
   "source": [
    "## Merge Tables"
   ]
  },
  {
   "cell_type": "code",
   "execution_count": null,
   "metadata": {
    "hidden": true
   },
   "outputs": [],
   "source": [
    "df_master = "
   ]
  },
  {
   "cell_type": "markdown",
   "metadata": {
    "heading_collapsed": true
   },
   "source": [
    "# Exploratory Data Analysis"
   ]
  },
  {
   "cell_type": "markdown",
   "metadata": {
    "heading_collapsed": true,
    "hidden": true
   },
   "source": [
    "## Pitching"
   ]
  },
  {
   "cell_type": "code",
   "execution_count": 85,
   "metadata": {
    "hidden": true
   },
   "outputs": [],
   "source": []
  },
  {
   "cell_type": "code",
   "execution_count": 86,
   "metadata": {
    "hidden": true
   },
   "outputs": [
    {
     "data": {
      "text/html": [
       "<div>\n",
       "<style scoped>\n",
       "    .dataframe tbody tr th:only-of-type {\n",
       "        vertical-align: middle;\n",
       "    }\n",
       "\n",
       "    .dataframe tbody tr th {\n",
       "        vertical-align: top;\n",
       "    }\n",
       "\n",
       "    .dataframe thead th {\n",
       "        text-align: right;\n",
       "    }\n",
       "</style>\n",
       "<table border=\"1\" class=\"dataframe\">\n",
       "  <thead>\n",
       "    <tr style=\"text-align: right;\">\n",
       "      <th></th>\n",
       "      <th>#P</th>\n",
       "      <th>RA/G</th>\n",
       "      <th>W-L%</th>\n",
       "      <th>ERA</th>\n",
       "      <th>ERA+</th>\n",
       "    </tr>\n",
       "  </thead>\n",
       "  <tbody>\n",
       "    <tr>\n",
       "      <th>125</th>\n",
       "      <td>24</td>\n",
       "      <td>4.49</td>\n",
       "      <td>.525</td>\n",
       "      <td>4.22</td>\n",
       "      <td>100</td>\n",
       "    </tr>\n",
       "    <tr>\n",
       "      <th>211</th>\n",
       "      <td>25</td>\n",
       "      <td>4.40</td>\n",
       "      <td>.420</td>\n",
       "      <td>4.20</td>\n",
       "      <td>96</td>\n",
       "    </tr>\n",
       "    <tr>\n",
       "      <th>149</th>\n",
       "      <td>25</td>\n",
       "      <td>3.79</td>\n",
       "      <td>.580</td>\n",
       "      <td>3.48</td>\n",
       "      <td>112</td>\n",
       "    </tr>\n",
       "    <tr>\n",
       "      <th>98</th>\n",
       "      <td>27</td>\n",
       "      <td>5.41</td>\n",
       "      <td>.395</td>\n",
       "      <td>5.15</td>\n",
       "      <td>89</td>\n",
       "    </tr>\n",
       "    <tr>\n",
       "      <th>44</th>\n",
       "      <td>17</td>\n",
       "      <td>3.98</td>\n",
       "      <td>.611</td>\n",
       "      <td>3.61</td>\n",
       "      <td>125</td>\n",
       "    </tr>\n",
       "  </tbody>\n",
       "</table>\n",
       "</div>"
      ],
      "text/plain": [
       "     #P  RA/G  W-L%   ERA ERA+\n",
       "125  24  4.49  .525  4.22  100\n",
       "211  25  4.40  .420  4.20   96\n",
       "149  25  3.79  .580  3.48  112\n",
       "98   27  5.41  .395  5.15   89\n",
       "44   17  3.98  .611  3.61  125"
      ]
     },
     "execution_count": 86,
     "metadata": {},
     "output_type": "execute_result"
    }
   ],
   "source": [
    "df_pit_keep.sample(5)"
   ]
  },
  {
   "cell_type": "code",
   "execution_count": null,
   "metadata": {
    "hidden": true
   },
   "outputs": [],
   "source": [
    "df_pit_keep.info()"
   ]
  },
  {
   "cell_type": "code",
   "execution_count": null,
   "metadata": {
    "hidden": true
   },
   "outputs": [],
   "source": [
    "# Change datatype from object to floats/ints\n",
    "\n",
    "df_pit_sm[['#P', 'ERA+']] = df_pit_sm[['#P', 'ERA+']].astype(int)\n",
    "df_pit_sm[['RA/G', 'W-L%', 'ERA']] = df_pit_sm[['RA/G', 'W-L%', 'ERA']].astype(float)\n",
    "\n",
    "df_pit_sm.info()"
   ]
  },
  {
   "cell_type": "code",
   "execution_count": null,
   "metadata": {
    "hidden": true
   },
   "outputs": [],
   "source": [
    "df_pit_sm"
   ]
  },
  {
   "cell_type": "markdown",
   "metadata": {
    "heading_collapsed": true,
    "hidden": true
   },
   "source": [
    "#### Analysis\n",
    "Based on heatmap below, looking at middle row for W-L%, I will definitely **not** include number of pitchers in my model. I will likely include RA/G or ERA which are highly correlated at -.87 and -.85 respectively."
   ]
  },
  {
   "cell_type": "code",
   "execution_count": null,
   "metadata": {
    "hidden": true
   },
   "outputs": [],
   "source": [
    "sns.heatmap(df_pit_sm.corr(), vmin=-1, vmax=1, cmap='seismic', annot=True)"
   ]
  },
  {
   "cell_type": "code",
   "execution_count": null,
   "metadata": {
    "hidden": true
   },
   "outputs": [],
   "source": [
    "sns.pairplot(df_pit_sm, size = 1.2, aspect=1.5);"
   ]
  },
  {
   "cell_type": "code",
   "execution_count": null,
   "metadata": {
    "hidden": true
   },
   "outputs": [],
   "source": []
  }
 ],
 "metadata": {
  "kernelspec": {
   "display_name": "Python 3",
   "language": "python",
   "name": "python3"
  },
  "language_info": {
   "codemirror_mode": {
    "name": "ipython",
    "version": 3
   },
   "file_extension": ".py",
   "mimetype": "text/x-python",
   "name": "python",
   "nbconvert_exporter": "python",
   "pygments_lexer": "ipython3",
   "version": "3.6.4"
  },
  "toc": {
   "base_numbering": 1,
   "nav_menu": {},
   "number_sections": true,
   "sideBar": true,
   "skip_h1_title": false,
   "title_cell": "Table of Contents",
   "title_sidebar": "Contents",
   "toc_cell": false,
   "toc_position": {},
   "toc_section_display": true,
   "toc_window_display": false
  }
 },
 "nbformat": 4,
 "nbformat_minor": 2
}
