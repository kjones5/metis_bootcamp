{
 "cells": [
  {
   "cell_type": "markdown",
   "metadata": {},
   "source": [
    "# Setup"
   ]
  },
  {
   "cell_type": "code",
   "execution_count": 1,
   "metadata": {},
   "outputs": [],
   "source": [
    "from selenium import webdriver\n",
    "from selenium.webdriver.common.keys import Keys\n",
    "from bs4 import BeautifulSoup\n",
    "import pandas as pd\n",
    "import seaborn as sns\n",
    "import matplotlib.pyplot as plt\n",
    "import unicodedata\n",
    "import time\n",
    "import re\n",
    "import os\n",
    "\n",
    "%config InlineBackend.figure_format = 'png'\n",
    "plt.rcParams['figure.dpi']= 300"
   ]
  },
  {
   "cell_type": "markdown",
   "metadata": {},
   "source": [
    "# Scrape Data"
   ]
  },
  {
   "cell_type": "markdown",
   "metadata": {
    "heading_collapsed": true
   },
   "source": [
    "## Scrape Setup"
   ]
  },
  {
   "cell_type": "code",
   "execution_count": 2,
   "metadata": {
    "hidden": true
   },
   "outputs": [],
   "source": [
    "year_list = [str(year) for year in list(range(2002,2018))]\n",
    "url_list = [('https://www.baseball-reference.com/leagues/AL/' + year + '.shtml') \n",
    "            for year in year_list]\n",
    "\n",
    "chromedriver = '/Users/kellyjones/Downloads/chromedriver' # path to the chromedriver executable\n",
    "os.environ['webdriver.chrome.driver'] = chromedriver\n",
    "driver = webdriver.Chrome(chromedriver)\n",
    "driver.implicitly_wait(5)"
   ]
  },
  {
   "cell_type": "markdown",
   "metadata": {
    "heading_collapsed": true
   },
   "source": [
    "## Pull Data from URLs by Year\n",
    "Use table ID to pull batting, pitching, and fielding tables from each page, then quit driver."
   ]
  },
  {
   "cell_type": "code",
   "execution_count": 3,
   "metadata": {
    "hidden": true
   },
   "outputs": [],
   "source": [
    "# 2002\n",
    "driver.get(url_list[0])\n",
    "soup = BeautifulSoup(driver.page_source, 'lxml')\n",
    "\n",
    "table_02bat = soup.find('table', {'id' : 'teams_standard_batting'})\n",
    "table_02pit = soup.find('table', {'id' : 'teams_standard_pitching'})\n",
    "table_02fld = soup.find('table', {'id' : 'teams_standard_fielding'})"
   ]
  },
  {
   "cell_type": "code",
   "execution_count": 4,
   "metadata": {
    "hidden": true
   },
   "outputs": [],
   "source": [
    "#2003\n",
    "driver.get(url_list[1])\n",
    "soup = BeautifulSoup(driver.page_source, 'lxml')\n",
    "\n",
    "table_03bat = soup.find('table', {'id' : 'teams_standard_batting'})\n",
    "table_03pit = soup.find('table', {'id' : 'teams_standard_pitching'})\n",
    "table_03fld = soup.find('table', {'id' : 'teams_standard_fielding'})"
   ]
  },
  {
   "cell_type": "code",
   "execution_count": 5,
   "metadata": {
    "hidden": true
   },
   "outputs": [],
   "source": [
    "#2004\n",
    "driver.get(url_list[2])\n",
    "soup = BeautifulSoup(driver.page_source, 'lxml')\n",
    "\n",
    "table_04bat = soup.find('table', {'id' : 'teams_standard_batting'})\n",
    "table_04pit = soup.find('table', {'id' : 'teams_standard_pitching'})\n",
    "table_04fld = soup.find('table', {'id' : 'teams_standard_fielding'})"
   ]
  },
  {
   "cell_type": "code",
   "execution_count": 6,
   "metadata": {
    "hidden": true
   },
   "outputs": [],
   "source": [
    "#2005\n",
    "driver.get(url_list[3])\n",
    "soup = BeautifulSoup(driver.page_source, 'lxml')\n",
    "\n",
    "table_05bat = soup.find('table', {'id' : 'teams_standard_batting'})\n",
    "table_05pit = soup.find('table', {'id' : 'teams_standard_pitching'})\n",
    "table_05fld = soup.find('table', {'id' : 'teams_standard_fielding'})"
   ]
  },
  {
   "cell_type": "code",
   "execution_count": 7,
   "metadata": {
    "hidden": true
   },
   "outputs": [],
   "source": [
    "#2006\n",
    "driver.get(url_list[4])\n",
    "soup = BeautifulSoup(driver.page_source, 'lxml')\n",
    "\n",
    "table_06bat = soup.find('table', {'id' : 'teams_standard_batting'})\n",
    "table_06pit = soup.find('table', {'id' : 'teams_standard_pitching'})\n",
    "table_06fld = soup.find('table', {'id' : 'teams_standard_fielding'})"
   ]
  },
  {
   "cell_type": "code",
   "execution_count": 8,
   "metadata": {
    "hidden": true
   },
   "outputs": [],
   "source": [
    "#2007\n",
    "driver.get(url_list[5])\n",
    "soup = BeautifulSoup(driver.page_source, 'lxml')\n",
    "\n",
    "table_07bat = soup.find('table', {'id' : 'teams_standard_batting'})\n",
    "table_07pit = soup.find('table', {'id' : 'teams_standard_pitching'})\n",
    "table_07fld = soup.find('table', {'id' : 'teams_standard_fielding'})"
   ]
  },
  {
   "cell_type": "code",
   "execution_count": 9,
   "metadata": {
    "hidden": true
   },
   "outputs": [],
   "source": [
    "#2008\n",
    "driver.get(url_list[6])\n",
    "soup = BeautifulSoup(driver.page_source, 'lxml')\n",
    "\n",
    "table_08bat = soup.find('table', {'id' : 'teams_standard_batting'})\n",
    "table_08pit = soup.find('table', {'id' : 'teams_standard_pitching'})\n",
    "table_08fld = soup.find('table', {'id' : 'teams_standard_fielding'})"
   ]
  },
  {
   "cell_type": "code",
   "execution_count": 10,
   "metadata": {
    "hidden": true
   },
   "outputs": [],
   "source": [
    "#2009\n",
    "driver.get(url_list[7])\n",
    "soup = BeautifulSoup(driver.page_source, 'lxml')\n",
    "\n",
    "table_09bat = soup.find('table', {'id' : 'teams_standard_batting'})\n",
    "table_09pit = soup.find('table', {'id' : 'teams_standard_pitching'})\n",
    "table_09fld = soup.find('table', {'id' : 'teams_standard_fielding'})"
   ]
  },
  {
   "cell_type": "code",
   "execution_count": 11,
   "metadata": {
    "hidden": true
   },
   "outputs": [],
   "source": [
    "#2010\n",
    "driver.get(url_list[8])\n",
    "soup = BeautifulSoup(driver.page_source, 'lxml')\n",
    "\n",
    "table_10bat = soup.find('table', {'id' : 'teams_standard_batting'})\n",
    "table_10pit = soup.find('table', {'id' : 'teams_standard_pitching'})\n",
    "table_10fld = soup.find('table', {'id' : 'teams_standard_fielding'})"
   ]
  },
  {
   "cell_type": "code",
   "execution_count": 12,
   "metadata": {
    "hidden": true
   },
   "outputs": [],
   "source": [
    "#2011\n",
    "driver.get(url_list[9])\n",
    "soup = BeautifulSoup(driver.page_source, 'lxml')\n",
    "\n",
    "table_11bat = soup.find('table', {'id' : 'teams_standard_batting'})\n",
    "table_11pit = soup.find('table', {'id' : 'teams_standard_pitching'})\n",
    "table_11fld = soup.find('table', {'id' : 'teams_standard_fielding'})"
   ]
  },
  {
   "cell_type": "code",
   "execution_count": 13,
   "metadata": {
    "hidden": true
   },
   "outputs": [],
   "source": [
    "#2012\n",
    "driver.get(url_list[10])\n",
    "soup = BeautifulSoup(driver.page_source, 'lxml')\n",
    "\n",
    "table_12bat = soup.find('table', {'id' : 'teams_standard_batting'})\n",
    "table_12pit = soup.find('table', {'id' : 'teams_standard_pitching'})\n",
    "table_12fld = soup.find('table', {'id' : 'teams_standard_fielding'})"
   ]
  },
  {
   "cell_type": "code",
   "execution_count": 14,
   "metadata": {
    "hidden": true
   },
   "outputs": [],
   "source": [
    "#2013\n",
    "driver.get(url_list[11])\n",
    "soup = BeautifulSoup(driver.page_source, 'lxml')\n",
    "\n",
    "table_13bat = soup.find('table', {'id' : 'teams_standard_batting'})\n",
    "table_13pit = soup.find('table', {'id' : 'teams_standard_pitching'})\n",
    "table_13fld = soup.find('table', {'id' : 'teams_standard_fielding'})"
   ]
  },
  {
   "cell_type": "code",
   "execution_count": 15,
   "metadata": {
    "hidden": true
   },
   "outputs": [],
   "source": [
    "#2014\n",
    "driver.get(url_list[12])\n",
    "soup = BeautifulSoup(driver.page_source, 'lxml')\n",
    "\n",
    "table_14bat = soup.find('table', {'id' : 'teams_standard_batting'})\n",
    "table_14pit = soup.find('table', {'id' : 'teams_standard_pitching'})\n",
    "table_14fld = soup.find('table', {'id' : 'teams_standard_fielding'})"
   ]
  },
  {
   "cell_type": "code",
   "execution_count": 16,
   "metadata": {
    "hidden": true
   },
   "outputs": [],
   "source": [
    "#2015\n",
    "driver.get(url_list[13])\n",
    "soup = BeautifulSoup(driver.page_source, 'lxml')\n",
    "\n",
    "table_15bat = soup.find('table', {'id' : 'teams_standard_batting'})\n",
    "table_15pit = soup.find('table', {'id' : 'teams_standard_pitching'})\n",
    "table_15fld = soup.find('table', {'id' : 'teams_standard_fielding'})"
   ]
  },
  {
   "cell_type": "code",
   "execution_count": 17,
   "metadata": {
    "hidden": true
   },
   "outputs": [],
   "source": [
    "#2016\n",
    "driver.get(url_list[14])\n",
    "soup = BeautifulSoup(driver.page_source, 'lxml')\n",
    "\n",
    "table_16bat = soup.find('table', {'id' : 'teams_standard_batting'})\n",
    "table_16pit = soup.find('table', {'id' : 'teams_standard_pitching'})\n",
    "table_16fld = soup.find('table', {'id' : 'teams_standard_fielding'})"
   ]
  },
  {
   "cell_type": "code",
   "execution_count": 18,
   "metadata": {
    "hidden": true
   },
   "outputs": [],
   "source": [
    "#2017\n",
    "driver.get(url_list[15])\n",
    "soup = BeautifulSoup(driver.page_source, 'lxml')\n",
    "\n",
    "table_17bat = soup.find('table', {'id' : 'teams_standard_batting'})\n",
    "table_17pit = soup.find('table', {'id' : 'teams_standard_pitching'})\n",
    "table_17fld = soup.find('table', {'id' : 'teams_standard_fielding'})"
   ]
  },
  {
   "cell_type": "code",
   "execution_count": 19,
   "metadata": {
    "hidden": true
   },
   "outputs": [],
   "source": [
    "driver.quit()"
   ]
  },
  {
   "cell_type": "markdown",
   "metadata": {},
   "source": [
    "# Parse Data"
   ]
  },
  {
   "cell_type": "markdown",
   "metadata": {
    "heading_collapsed": true
   },
   "source": [
    "## Team Names\n",
    "In scraped data, team names are hyperlinked and not easily scraped with other columns, so will be added back in with each year's dataframes."
   ]
  },
  {
   "cell_type": "code",
   "execution_count": 20,
   "metadata": {
    "hidden": true
   },
   "outputs": [],
   "source": [
    "# Team names by yr for DF (Angels and Rays changed team names, Astros joined division)\n",
    "teams_list_02to04 = ['LAA', 'BAL', 'BOS', 'CHW', 'CLE', 'DET', 'KCR', 'MIN', 'NYY', 'OAK', 'SEA', 'TBD', 'TEX', 'TOR']\n",
    "teams_list_05to12 = ['BAL', 'BOS', 'CHW', 'CLE', 'DET', 'KCR', 'LAA', 'MIN', 'NYY', 'OAK', 'SEA', 'TBD', 'TEX', 'TOR']\n",
    "teams_list_13to17 = ['BAL', 'BOS', 'CHW', 'CLE', 'DET', 'HOU', 'KCR', 'LAA', 'MIN', 'NYY', 'OAK', 'SEA', 'TBD', 'TEX', \n",
    "                     'TOR']"
   ]
  },
  {
   "cell_type": "markdown",
   "metadata": {},
   "source": [
    "## Parse Tables by Year\n",
    "* For column headers, skip first column with hyperlinked team names. \n",
    "* For data rows, skip first row (column headers) and last two rows (summary statistics). \n",
    "* Reset index after each year of data.\n",
    "* List of teams changes in 2005 and 2013."
   ]
  },
  {
   "cell_type": "markdown",
   "metadata": {},
   "source": [
    "### Batting"
   ]
  },
  {
   "cell_type": "code",
   "execution_count": 44,
   "metadata": {},
   "outputs": [
    {
     "data": {
      "text/plain": [
       "(14, 31)"
      ]
     },
     "execution_count": 44,
     "metadata": {},
     "output_type": "execute_result"
    }
   ],
   "source": [
    "# 2002 - Batting DF\n",
    "col_headers_bat = [th.getText() for th in \n",
    "                  table_02bat.findAll('tr')[0].findAll('th')][1:]\n",
    "data_rows_bat = table_02bat.findAll('tr')[1:-2] \n",
    "player_data_bat = [[td.getText() for td in data_rows_bat[i].findAll('td')]\n",
    "               for i in range(len(data_rows_bat))]\n",
    "\n",
    "df_bat = pd.DataFrame(player_data_bat, columns=col_headers_bat)\n",
    "df_bat['Team'] = pd.DataFrame({'Team': teams_list_02to04})\n",
    "df_bat['Year'] = '2002'\n",
    "df_bat['YrTm'] = df_bat['Year'] + df_bat['Team']\n",
    "df_bat.shape # should be 14 rows"
   ]
  },
  {
   "cell_type": "code",
   "execution_count": 45,
   "metadata": {},
   "outputs": [
    {
     "data": {
      "text/plain": [
       "(28, 31)"
      ]
     },
     "execution_count": 45,
     "metadata": {},
     "output_type": "execute_result"
    }
   ],
   "source": [
    "# 2003 - Batting DF\n",
    "col_headers_bat = [th.getText() for th in \n",
    "                  table_03bat.findAll('tr')[0].findAll('th')][1:]\n",
    "data_rows_bat = table_03bat.findAll('tr')[1:-2] \n",
    "player_data_bat = [[td.getText() for td in data_rows_bat[i].findAll('td')]\n",
    "               for i in range(len(data_rows_bat))]\n",
    "\n",
    "df_bat_interim = pd.DataFrame(player_data_bat, columns=col_headers_bat)\n",
    "df_bat_interim['Team'] = pd.DataFrame({'Team': teams_list_02to04})\n",
    "df_bat_interim['Year'] = '2003'\n",
    "df_bat_interim['YrTm'] = df_bat_interim['Year'] + df_bat_interim['Team']\n",
    "df_bat = pd.concat([df_bat, df_bat_interim]).reset_index(drop=True)\n",
    "df_bat.shape # should be 28 rows"
   ]
  },
  {
   "cell_type": "code",
   "execution_count": 46,
   "metadata": {},
   "outputs": [
    {
     "data": {
      "text/plain": [
       "(42, 31)"
      ]
     },
     "execution_count": 46,
     "metadata": {},
     "output_type": "execute_result"
    }
   ],
   "source": [
    "# 2004 - Batting DF\n",
    "col_headers_bat = [th.getText() for th in \n",
    "                  table_04bat.findAll('tr')[0].findAll('th')][1:]\n",
    "data_rows_bat = table_04bat.findAll('tr')[1:-2] \n",
    "player_data_bat = [[td.getText() for td in data_rows_bat[i].findAll('td')]\n",
    "               for i in range(len(data_rows_bat))]\n",
    "\n",
    "df_bat_interim = pd.DataFrame(player_data_bat, columns=col_headers_bat)\n",
    "df_bat_interim['Team'] = pd.DataFrame({'Team': teams_list_02to04})\n",
    "df_bat_interim['Year'] = '2004'\n",
    "df_bat_interim['YrTm'] = df_bat_interim['Year'] + df_bat_interim['Team']\n",
    "df_bat = pd.concat([df_bat, df_bat_interim]).reset_index(drop=True)\n",
    "df_bat.shape # should be 42 rows"
   ]
  },
  {
   "cell_type": "code",
   "execution_count": 47,
   "metadata": {},
   "outputs": [
    {
     "data": {
      "text/plain": [
       "(56, 31)"
      ]
     },
     "execution_count": 47,
     "metadata": {},
     "output_type": "execute_result"
    }
   ],
   "source": [
    "# 2005 - Batting DF\n",
    "col_headers_bat = [th.getText() for th in \n",
    "                  table_05bat.findAll('tr')[0].findAll('th')][1:]\n",
    "data_rows_bat = table_05bat.findAll('tr')[1:-2] \n",
    "player_data_bat = [[td.getText() for td in data_rows_bat[i].findAll('td')]\n",
    "               for i in range(len(data_rows_bat))]\n",
    "\n",
    "df_bat_interim = pd.DataFrame(player_data_bat, columns=col_headers_bat)\n",
    "df_bat_interim['Team'] = pd.DataFrame({'Team': teams_list_05to12})\n",
    "df_bat_interim['Year'] = '2005'\n",
    "df_bat_interim['YrTm'] = df_bat_interim['Year'] + df_bat_interim['Team']\n",
    "df_bat = pd.concat([df_bat, df_bat_interim]).reset_index(drop=True)\n",
    "df_bat.shape # should be 56 rows"
   ]
  },
  {
   "cell_type": "code",
   "execution_count": 49,
   "metadata": {},
   "outputs": [
    {
     "data": {
      "text/plain": [
       "(70, 31)"
      ]
     },
     "execution_count": 49,
     "metadata": {},
     "output_type": "execute_result"
    }
   ],
   "source": [
    "# 2006 - Batting DF\n",
    "col_headers_bat = [th.getText() for th in \n",
    "                  table_06bat.findAll('tr')[0].findAll('th')][1:]\n",
    "data_rows_bat = table_06bat.findAll('tr')[1:-2] \n",
    "player_data_bat = [[td.getText() for td in data_rows_bat[i].findAll('td')]\n",
    "               for i in range(len(data_rows_bat))]\n",
    "\n",
    "df_bat_interim = pd.DataFrame(player_data_bat, columns=col_headers_bat)\n",
    "df_bat_interim['Team'] = pd.DataFrame({'Team': teams_list_05to12})\n",
    "df_bat_interim['Year'] = '2006'\n",
    "df_bat_interim['YrTm'] = df_bat_interim['Year'] + df_bat_interim['Team']\n",
    "df_bat = pd.concat([df_bat, df_bat_interim]).reset_index(drop=True)\n",
    "df_bat.shape # should be 70 rows"
   ]
  },
  {
   "cell_type": "code",
   "execution_count": 50,
   "metadata": {},
   "outputs": [
    {
     "data": {
      "text/plain": [
       "(84, 31)"
      ]
     },
     "execution_count": 50,
     "metadata": {},
     "output_type": "execute_result"
    }
   ],
   "source": [
    "# 2007 - Batting DF\n",
    "col_headers_bat = [th.getText() for th in \n",
    "                  table_07bat.findAll('tr')[0].findAll('th')][1:]\n",
    "data_rows_bat = table_07bat.findAll('tr')[1:-2] \n",
    "player_data_bat = [[td.getText() for td in data_rows_bat[i].findAll('td')]\n",
    "               for i in range(len(data_rows_bat))]\n",
    "\n",
    "df_bat_interim = pd.DataFrame(player_data_bat, columns=col_headers_bat)\n",
    "df_bat_interim['Team'] = pd.DataFrame({'Team': teams_list_05to12})\n",
    "df_bat_interim['Year'] = '2007'\n",
    "df_bat_interim['YrTm'] = df_bat_interim['Year'] + df_bat_interim['Team']\n",
    "df_bat = pd.concat([df_bat, df_bat_interim]).reset_index(drop=True)\n",
    "df_bat.shape # should be 84 rows"
   ]
  },
  {
   "cell_type": "code",
   "execution_count": 51,
   "metadata": {},
   "outputs": [
    {
     "data": {
      "text/plain": [
       "(98, 31)"
      ]
     },
     "execution_count": 51,
     "metadata": {},
     "output_type": "execute_result"
    }
   ],
   "source": [
    "# 2008 - Batting DF\n",
    "col_headers_bat = [th.getText() for th in \n",
    "                  table_08bat.findAll('tr')[0].findAll('th')][1:]\n",
    "data_rows_bat = table_08bat.findAll('tr')[1:-2] \n",
    "player_data_bat = [[td.getText() for td in data_rows_bat[i].findAll('td')]\n",
    "               for i in range(len(data_rows_bat))]\n",
    "\n",
    "df_bat_interim = pd.DataFrame(player_data_bat, columns=col_headers_bat)\n",
    "df_bat_interim['Team'] = pd.DataFrame({'Team': teams_list_05to12})\n",
    "df_bat_interim['Year'] = '2008'\n",
    "df_bat_interim['YrTm'] = df_bat_interim['Year'] + df_bat_interim['Team']\n",
    "df_bat = pd.concat([df_bat, df_bat_interim]).reset_index(drop=True)\n",
    "df_bat.shape # should be 98 rows"
   ]
  },
  {
   "cell_type": "code",
   "execution_count": 52,
   "metadata": {},
   "outputs": [
    {
     "data": {
      "text/plain": [
       "(112, 31)"
      ]
     },
     "execution_count": 52,
     "metadata": {},
     "output_type": "execute_result"
    }
   ],
   "source": [
    "# 2009 - Batting DF\n",
    "col_headers_bat = [th.getText() for th in \n",
    "                  table_09bat.findAll('tr')[0].findAll('th')][1:]\n",
    "data_rows_bat = table_09bat.findAll('tr')[1:-2] \n",
    "player_data_bat = [[td.getText() for td in data_rows_bat[i].findAll('td')]\n",
    "               for i in range(len(data_rows_bat))]\n",
    "\n",
    "df_bat_interim = pd.DataFrame(player_data_bat, columns=col_headers_bat)\n",
    "df_bat_interim['Team'] = pd.DataFrame({'Team': teams_list_05to12})\n",
    "df_bat_interim['Year'] = '2009'\n",
    "df_bat_interim['YrTm'] = df_bat_interim['Year'] + df_bat_interim['Team']\n",
    "df_bat = pd.concat([df_bat, df_bat_interim]).reset_index(drop=True)\n",
    "df_bat.shape # should be 112 rows"
   ]
  },
  {
   "cell_type": "code",
   "execution_count": 53,
   "metadata": {},
   "outputs": [
    {
     "data": {
      "text/plain": [
       "(126, 31)"
      ]
     },
     "execution_count": 53,
     "metadata": {},
     "output_type": "execute_result"
    }
   ],
   "source": [
    "# 2010 - Batting DF\n",
    "col_headers_bat = [th.getText() for th in \n",
    "                  table_10bat.findAll('tr')[0].findAll('th')][1:]\n",
    "data_rows_bat = table_10bat.findAll('tr')[1:-2] \n",
    "player_data_bat = [[td.getText() for td in data_rows_bat[i].findAll('td')]\n",
    "               for i in range(len(data_rows_bat))]\n",
    "\n",
    "df_bat_interim = pd.DataFrame(player_data_bat, columns=col_headers_bat)\n",
    "df_bat_interim['Team'] = pd.DataFrame({'Team': teams_list_05to12})\n",
    "df_bat_interim['Year'] = '2010'\n",
    "df_bat_interim['YrTm'] = df_bat_interim['Year'] + df_bat_interim['Team']\n",
    "df_bat = pd.concat([df_bat, df_bat_interim]).reset_index(drop=True)\n",
    "df_bat.shape # should be 126 rows"
   ]
  },
  {
   "cell_type": "code",
   "execution_count": 54,
   "metadata": {},
   "outputs": [
    {
     "data": {
      "text/plain": [
       "(140, 31)"
      ]
     },
     "execution_count": 54,
     "metadata": {},
     "output_type": "execute_result"
    }
   ],
   "source": [
    "# 2011 - Batting DF\n",
    "col_headers_bat = [th.getText() for th in \n",
    "                  table_11bat.findAll('tr')[0].findAll('th')][1:]\n",
    "data_rows_bat = table_11bat.findAll('tr')[1:-2] \n",
    "player_data_bat = [[td.getText() for td in data_rows_bat[i].findAll('td')]\n",
    "               for i in range(len(data_rows_bat))]\n",
    "\n",
    "df_bat_interim = pd.DataFrame(player_data_bat, columns=col_headers_bat)\n",
    "df_bat_interim['Team'] = pd.DataFrame({'Team': teams_list_05to12})\n",
    "df_bat_interim['Year'] = '2011'\n",
    "df_bat_interim['YrTm'] = df_bat_interim['Year'] + df_bat_interim['Team']\n",
    "df_bat = pd.concat([df_bat, df_bat_interim]).reset_index(drop=True)\n",
    "df_bat.shape # should be 140 rows"
   ]
  },
  {
   "cell_type": "code",
   "execution_count": 56,
   "metadata": {},
   "outputs": [
    {
     "data": {
      "text/plain": [
       "(169, 31)"
      ]
     },
     "execution_count": 56,
     "metadata": {},
     "output_type": "execute_result"
    }
   ],
   "source": [
    "# 2012 - Batting DF\n",
    "col_headers_bat = [th.getText() for th in \n",
    "                  table_12bat.findAll('tr')[0].findAll('th')][1:]\n",
    "data_rows_bat = table_12bat.findAll('tr')[1:-2] \n",
    "player_data_bat = [[td.getText() for td in data_rows_bat[i].findAll('td')]\n",
    "               for i in range(len(data_rows_bat))]\n",
    "\n",
    "df_bat_interim = pd.DataFrame(player_data_bat, columns=col_headers_bat)\n",
    "df_bat_interim['Team'] = pd.DataFrame({'Team': teams_list_05to12})\n",
    "df_bat_interim['Year'] = '2012'\n",
    "df_bat_interim['YrTm'] = df_bat_interim['Year'] + df_bat_interim['Team']\n",
    "df_bat = pd.concat([df_bat, df_bat_interim]).reset_index(drop=True)\n",
    "df_bat.shape # should be 154 rows"
   ]
  },
  {
   "cell_type": "code",
   "execution_count": 55,
   "metadata": {},
   "outputs": [
    {
     "data": {
      "text/plain": [
       "(155, 31)"
      ]
     },
     "execution_count": 55,
     "metadata": {},
     "output_type": "execute_result"
    }
   ],
   "source": [
    "# 2013 - Batting DF\n",
    "col_headers_bat = [th.getText() for th in \n",
    "                  table_13bat.findAll('tr')[0].findAll('th')][1:]\n",
    "data_rows_bat = table_13bat.findAll('tr')[1:-2] \n",
    "player_data_bat = [[td.getText() for td in data_rows_bat[i].findAll('td')]\n",
    "               for i in range(len(data_rows_bat))]\n",
    "\n",
    "df_bat_interim = pd.DataFrame(player_data_bat, columns=col_headers_bat)\n",
    "df_bat_interim['Team'] = pd.DataFrame({'Team': teams_list_13to17})\n",
    "df_bat_interim['Year'] = '2013'\n",
    "df_bat_interim['YrTm'] = df_bat_interim['Year'] + df_bat_interim['Team']\n",
    "df_bat = pd.concat([df_bat, df_bat_interim]).reset_index(drop=True)\n",
    "df_bat.shape # should be 169 rows"
   ]
  },
  {
   "cell_type": "code",
   "execution_count": 57,
   "metadata": {},
   "outputs": [
    {
     "data": {
      "text/plain": [
       "(184, 31)"
      ]
     },
     "execution_count": 57,
     "metadata": {},
     "output_type": "execute_result"
    }
   ],
   "source": [
    "# 2014 - Batting DF\n",
    "col_headers_bat = [th.getText() for th in \n",
    "                  table_14bat.findAll('tr')[0].findAll('th')][1:]\n",
    "data_rows_bat = table_14bat.findAll('tr')[1:-2] \n",
    "player_data_bat = [[td.getText() for td in data_rows_bat[i].findAll('td')]\n",
    "               for i in range(len(data_rows_bat))]\n",
    "\n",
    "df_bat_interim = pd.DataFrame(player_data_bat, columns=col_headers_bat)\n",
    "df_bat_interim['Team'] = pd.DataFrame({'Team': teams_list_13to17})\n",
    "df_bat_interim['Year'] = '2014'\n",
    "df_bat_interim['YrTm'] = df_bat_interim['Year'] + df_bat_interim['Team']\n",
    "df_bat = pd.concat([df_bat, df_bat_interim]).reset_index(drop=True)\n",
    "df_bat.shape # should be 184 rows"
   ]
  },
  {
   "cell_type": "code",
   "execution_count": 58,
   "metadata": {},
   "outputs": [
    {
     "data": {
      "text/plain": [
       "(199, 31)"
      ]
     },
     "execution_count": 58,
     "metadata": {},
     "output_type": "execute_result"
    }
   ],
   "source": [
    "# 2015 - Batting DF\n",
    "col_headers_bat = [th.getText() for th in \n",
    "                  table_15bat.findAll('tr')[0].findAll('th')][1:]\n",
    "data_rows_bat = table_15bat.findAll('tr')[1:-2] \n",
    "player_data_bat = [[td.getText() for td in data_rows_bat[i].findAll('td')]\n",
    "               for i in range(len(data_rows_bat))]\n",
    "\n",
    "df_bat_interim = pd.DataFrame(player_data_bat, columns=col_headers_bat)\n",
    "df_bat_interim['Team'] = pd.DataFrame({'Team': teams_list_13to17})\n",
    "df_bat_interim['Year'] = '2015'\n",
    "df_bat_interim['YrTm'] = df_bat_interim['Year'] + df_bat_interim['Team']\n",
    "df_bat = pd.concat([df_bat, df_bat_interim]).reset_index(drop=True)\n",
    "df_bat.shape # should be 199 rows"
   ]
  },
  {
   "cell_type": "code",
   "execution_count": 59,
   "metadata": {},
   "outputs": [
    {
     "data": {
      "text/plain": [
       "(214, 31)"
      ]
     },
     "execution_count": 59,
     "metadata": {},
     "output_type": "execute_result"
    }
   ],
   "source": [
    "# 2016 - Batting DF\n",
    "col_headers_bat = [th.getText() for th in \n",
    "                  table_16bat.findAll('tr')[0].findAll('th')][1:]\n",
    "data_rows_bat = table_16bat.findAll('tr')[1:-2] \n",
    "player_data_bat = [[td.getText() for td in data_rows_bat[i].findAll('td')]\n",
    "               for i in range(len(data_rows_bat))]\n",
    "\n",
    "df_bat_interim = pd.DataFrame(player_data_bat, columns=col_headers_bat)\n",
    "df_bat_interim['Team'] = pd.DataFrame({'Team': teams_list_13to17})\n",
    "df_bat_interim['Year'] = '2016'\n",
    "df_bat_interim['YrTm'] = df_bat_interim['Year'] + df_bat_interim['Team']\n",
    "df_bat = pd.concat([df_bat, df_bat_interim]).reset_index(drop=True)\n",
    "df_bat.shape # should be 214 rows"
   ]
  },
  {
   "cell_type": "code",
   "execution_count": 60,
   "metadata": {},
   "outputs": [
    {
     "data": {
      "text/plain": [
       "(229, 31)"
      ]
     },
     "execution_count": 60,
     "metadata": {},
     "output_type": "execute_result"
    }
   ],
   "source": [
    "# 2017 - Batting DF\n",
    "col_headers_bat = [th.getText() for th in \n",
    "                  table_17bat.findAll('tr')[0].findAll('th')][1:]\n",
    "data_rows_bat = table_17bat.findAll('tr')[1:-2] \n",
    "player_data_bat = [[td.getText() for td in data_rows_bat[i].findAll('td')]\n",
    "               for i in range(len(data_rows_bat))]\n",
    "\n",
    "df_bat_interim = pd.DataFrame(player_data_bat, columns=col_headers_bat)\n",
    "df_bat_interim['Team'] = pd.DataFrame({'Team': teams_list_13to17})\n",
    "df_bat_interim['Year'] = '2017'\n",
    "df_bat_interim['YrTm'] = df_bat_interim['Year'] + df_bat_interim['Team']\n",
    "df_bat = pd.concat([df_bat, df_bat_interim]).reset_index(drop=True)\n",
    "df_bat.shape # should be 229 rows"
   ]
  },
  {
   "cell_type": "markdown",
   "metadata": {},
   "source": [
    "### Pitching"
   ]
  },
  {
   "cell_type": "code",
   "execution_count": 64,
   "metadata": {},
   "outputs": [
    {
     "data": {
      "text/plain": [
       "(14, 38)"
      ]
     },
     "execution_count": 64,
     "metadata": {},
     "output_type": "execute_result"
    }
   ],
   "source": [
    "# 2002 - Pitching DF\n",
    "col_headers_pit = [th.getText() for th in \n",
    "                  table_02pit.findAll('tr')[0].findAll('th')][1:]\n",
    "data_rows_pit = table_02pit.findAll('tr')[1:-2] \n",
    "player_data_pit = [[td.getText() for td in data_rows_pit[i].findAll('td')]\n",
    "               for i in range(len(data_rows_pit))]\n",
    "\n",
    "df_pit = pd.DataFrame(player_data_pit, columns=col_headers_pit)\n",
    "df_pit['Team'] = pd.DataFrame({'Team': teams_list_02to04})\n",
    "df_pit['Year'] = '2002'\n",
    "df_pit['YrTm'] = df_pit['Year'] + df_pit['Team']\n",
    "df_pit.shape # should be 14 rows"
   ]
  },
  {
   "cell_type": "code",
   "execution_count": 65,
   "metadata": {},
   "outputs": [
    {
     "data": {
      "text/plain": [
       "(28, 38)"
      ]
     },
     "execution_count": 65,
     "metadata": {},
     "output_type": "execute_result"
    }
   ],
   "source": [
    "# 2003 - Pitching DF\n",
    "col_headers_pit = [th.getText() for th in \n",
    "                  table_03pit.findAll('tr')[0].findAll('th')][1:]\n",
    "data_rows_pit = table_03pit.findAll('tr')[1:-2] \n",
    "player_data_pit = [[td.getText() for td in data_rows_pit[i].findAll('td')]\n",
    "               for i in range(len(data_rows_pit))]\n",
    "\n",
    "df_pit_interim = pd.DataFrame(player_data_pit, columns=col_headers_pit)\n",
    "df_pit_interim['Team'] = pd.DataFrame({'Team': teams_list_02to04})\n",
    "df_pit_interim['Year'] = '2003'\n",
    "df_pit_interim['YrTm'] = df_pit_interim['Year'] + df_pit_interim['Team']\n",
    "df_pit = pd.concat([df_pit, df_pit_interim]).reset_index(drop=True)\n",
    "df_pit.shape # should be 28 rows"
   ]
  },
  {
   "cell_type": "code",
   "execution_count": 66,
   "metadata": {},
   "outputs": [
    {
     "data": {
      "text/plain": [
       "(42, 38)"
      ]
     },
     "execution_count": 66,
     "metadata": {},
     "output_type": "execute_result"
    }
   ],
   "source": [
    "# 2004 - Pitching DF\n",
    "col_headers_pit = [th.getText() for th in \n",
    "                  table_04pit.findAll('tr')[0].findAll('th')][1:]\n",
    "data_rows_pit = table_04pit.findAll('tr')[1:-2] \n",
    "player_data_pit = [[td.getText() for td in data_rows_pit[i].findAll('td')]\n",
    "               for i in range(len(data_rows_pit))]\n",
    "\n",
    "df_pit_interim = pd.DataFrame(player_data_pit, columns=col_headers_pit)\n",
    "df_pit_interim['Team'] = pd.DataFrame({'Team': teams_list_02to04})\n",
    "df_pit_interim['Year'] = '2004'\n",
    "df_pit_interim['YrTm'] = df_pit_interim['Year'] + df_pit_interim['Team']\n",
    "df_pit = pd.concat([df_pit, df_pit_interim]).reset_index(drop=True)\n",
    "df_pit.shape # should be 42 rows"
   ]
  },
  {
   "cell_type": "code",
   "execution_count": 67,
   "metadata": {},
   "outputs": [
    {
     "data": {
      "text/plain": [
       "(56, 38)"
      ]
     },
     "execution_count": 67,
     "metadata": {},
     "output_type": "execute_result"
    }
   ],
   "source": [
    "# 2005 - Pitching DF\n",
    "col_headers_pit = [th.getText() for th in \n",
    "                  table_05pit.findAll('tr')[0].findAll('th')][1:]\n",
    "data_rows_pit = table_05pit.findAll('tr')[1:-2] \n",
    "player_data_pit = [[td.getText() for td in data_rows_pit[i].findAll('td')]\n",
    "               for i in range(len(data_rows_pit))]\n",
    "\n",
    "df_pit_interim = pd.DataFrame(player_data_pit, columns=col_headers_pit)\n",
    "df_pit_interim['Team'] = pd.DataFrame({'Team': teams_list_05to12})\n",
    "df_pit_interim['Year'] = '2005'\n",
    "df_pit_interim['YrTm'] = df_pit_interim['Year'] + df_pit_interim['Team']\n",
    "df_pit = pd.concat([df_pit, df_pit_interim]).reset_index(drop=True)\n",
    "df_pit.shape # should be 56 rows"
   ]
  },
  {
   "cell_type": "code",
   "execution_count": 68,
   "metadata": {},
   "outputs": [
    {
     "data": {
      "text/plain": [
       "(70, 38)"
      ]
     },
     "execution_count": 68,
     "metadata": {},
     "output_type": "execute_result"
    }
   ],
   "source": [
    "# 2006 - Pitching DF\n",
    "col_headers_pit = [th.getText() for th in \n",
    "                  table_06pit.findAll('tr')[0].findAll('th')][1:]\n",
    "data_rows_pit = table_06pit.findAll('tr')[1:-2] \n",
    "player_data_pit = [[td.getText() for td in data_rows_pit[i].findAll('td')]\n",
    "               for i in range(len(data_rows_pit))]\n",
    "\n",
    "df_pit_interim = pd.DataFrame(player_data_pit, columns=col_headers_pit)\n",
    "df_pit_interim['Team'] = pd.DataFrame({'Team': teams_list_05to12})\n",
    "df_pit_interim['Year'] = '2006'\n",
    "df_pit_interim['YrTm'] = df_pit_interim['Year'] + df_pit_interim['Team']\n",
    "df_pit = pd.concat([df_pit, df_pit_interim]).reset_index(drop=True)\n",
    "df_pit.shape # should be 70 rows"
   ]
  },
  {
   "cell_type": "code",
   "execution_count": 69,
   "metadata": {},
   "outputs": [
    {
     "data": {
      "text/plain": [
       "(84, 38)"
      ]
     },
     "execution_count": 69,
     "metadata": {},
     "output_type": "execute_result"
    }
   ],
   "source": [
    "# 2007 - Pitching DF\n",
    "col_headers_pit = [th.getText() for th in \n",
    "                  table_07pit.findAll('tr')[0].findAll('th')][1:]\n",
    "data_rows_pit = table_07pit.findAll('tr')[1:-2] \n",
    "player_data_pit = [[td.getText() for td in data_rows_pit[i].findAll('td')]\n",
    "               for i in range(len(data_rows_pit))]\n",
    "\n",
    "df_pit_interim = pd.DataFrame(player_data_pit, columns=col_headers_pit)\n",
    "df_pit_interim['Team'] = pd.DataFrame({'Team': teams_list_05to12})\n",
    "df_pit_interim['Year'] = '2007'\n",
    "df_pit_interim['YrTm'] = df_pit_interim['Year'] + df_pit_interim['Team']\n",
    "df_pit = pd.concat([df_pit, df_pit_interim]).reset_index(drop=True)\n",
    "df_pit.shape # should be 84 rows"
   ]
  },
  {
   "cell_type": "code",
   "execution_count": 70,
   "metadata": {},
   "outputs": [
    {
     "data": {
      "text/plain": [
       "(98, 38)"
      ]
     },
     "execution_count": 70,
     "metadata": {},
     "output_type": "execute_result"
    }
   ],
   "source": [
    "# 2008 - Pitching DF\n",
    "col_headers_pit = [th.getText() for th in \n",
    "                  table_08pit.findAll('tr')[0].findAll('th')][1:]\n",
    "data_rows_pit = table_08pit.findAll('tr')[1:-2] \n",
    "player_data_pit = [[td.getText() for td in data_rows_pit[i].findAll('td')]\n",
    "               for i in range(len(data_rows_pit))]\n",
    "\n",
    "df_pit_interim = pd.DataFrame(player_data_pit, columns=col_headers_pit)\n",
    "df_pit_interim['Team'] = pd.DataFrame({'Team': teams_list_05to12})\n",
    "df_pit_interim['Year'] = '2008'\n",
    "df_pit_interim['YrTm'] = df_pit_interim['Year'] + df_pit_interim['Team']\n",
    "df_pit = pd.concat([df_pit, df_pit_interim]).reset_index(drop=True)\n",
    "df_pit.shape # should be 98 rows"
   ]
  },
  {
   "cell_type": "code",
   "execution_count": 71,
   "metadata": {},
   "outputs": [
    {
     "data": {
      "text/plain": [
       "(112, 38)"
      ]
     },
     "execution_count": 71,
     "metadata": {},
     "output_type": "execute_result"
    }
   ],
   "source": [
    "# 2009 - Pitching DF\n",
    "col_headers_pit = [th.getText() for th in \n",
    "                  table_09pit.findAll('tr')[0].findAll('th')][1:]\n",
    "data_rows_pit = table_09pit.findAll('tr')[1:-2] \n",
    "player_data_pit = [[td.getText() for td in data_rows_pit[i].findAll('td')]\n",
    "               for i in range(len(data_rows_pit))]\n",
    "\n",
    "df_pit_interim = pd.DataFrame(player_data_pit, columns=col_headers_pit)\n",
    "df_pit_interim['Team'] = pd.DataFrame({'Team': teams_list_05to12})\n",
    "df_pit_interim['Year'] = '2009'\n",
    "df_pit_interim['YrTm'] = df_pit_interim['Year'] + df_pit_interim['Team']\n",
    "df_pit = pd.concat([df_pit, df_pit_interim]).reset_index(drop=True)\n",
    "df_pit.shape # should be 112 rows"
   ]
  },
  {
   "cell_type": "code",
   "execution_count": 72,
   "metadata": {},
   "outputs": [
    {
     "data": {
      "text/plain": [
       "(126, 38)"
      ]
     },
     "execution_count": 72,
     "metadata": {},
     "output_type": "execute_result"
    }
   ],
   "source": [
    "# 2010 - Pitching DF\n",
    "col_headers_pit = [th.getText() for th in \n",
    "                  table_10pit.findAll('tr')[0].findAll('th')][1:]\n",
    "data_rows_pit = table_10pit.findAll('tr')[1:-2] \n",
    "player_data_pit = [[td.getText() for td in data_rows_pit[i].findAll('td')]\n",
    "               for i in range(len(data_rows_pit))]\n",
    "\n",
    "df_pit_interim = pd.DataFrame(player_data_pit, columns=col_headers_pit)\n",
    "df_pit_interim['Team'] = pd.DataFrame({'Team': teams_list_05to12})\n",
    "df_pit_interim['Year'] = '2010'\n",
    "df_pit_interim['YrTm'] = df_pit_interim['Year'] + df_pit_interim['Team']\n",
    "df_pit = pd.concat([df_pit, df_pit_interim]).reset_index(drop=True)\n",
    "df_pit.shape # should be 126 rows"
   ]
  },
  {
   "cell_type": "code",
   "execution_count": 73,
   "metadata": {},
   "outputs": [
    {
     "data": {
      "text/plain": [
       "(140, 38)"
      ]
     },
     "execution_count": 73,
     "metadata": {},
     "output_type": "execute_result"
    }
   ],
   "source": [
    "# 2011 - Pitching DF\n",
    "col_headers_pit = [th.getText() for th in \n",
    "                  table_11pit.findAll('tr')[0].findAll('th')][1:]\n",
    "data_rows_pit = table_11pit.findAll('tr')[1:-2] \n",
    "player_data_pit = [[td.getText() for td in data_rows_pit[i].findAll('td')]\n",
    "               for i in range(len(data_rows_pit))]\n",
    "\n",
    "df_pit_interim = pd.DataFrame(player_data_pit, columns=col_headers_pit)\n",
    "df_pit_interim['Team'] = pd.DataFrame({'Team': teams_list_05to12})\n",
    "df_pit_interim['Year'] = '2011'\n",
    "df_pit_interim['YrTm'] = df_pit_interim['Year'] + df_pit_interim['Team']\n",
    "df_pit = pd.concat([df_pit, df_pit_interim]).reset_index(drop=True)\n",
    "df_pit.shape # should be 140 rows"
   ]
  },
  {
   "cell_type": "code",
   "execution_count": 74,
   "metadata": {},
   "outputs": [
    {
     "data": {
      "text/plain": [
       "(154, 38)"
      ]
     },
     "execution_count": 74,
     "metadata": {},
     "output_type": "execute_result"
    }
   ],
   "source": [
    "# 2012 - Pitching DF\n",
    "col_headers_pit = [th.getText() for th in \n",
    "                  table_12pit.findAll('tr')[0].findAll('th')][1:]\n",
    "data_rows_pit = table_12pit.findAll('tr')[1:-2] \n",
    "player_data_pit = [[td.getText() for td in data_rows_pit[i].findAll('td')]\n",
    "               for i in range(len(data_rows_pit))]\n",
    "\n",
    "df_pit_interim = pd.DataFrame(player_data_pit, columns=col_headers_pit)\n",
    "df_pit_interim['Team'] = pd.DataFrame({'Team': teams_list_05to12})\n",
    "df_pit_interim['Year'] = '2012'\n",
    "df_pit_interim['YrTm'] = df_pit_interim['Year'] + df_pit_interim['Team']\n",
    "df_pit = pd.concat([df_pit, df_pit_interim]).reset_index(drop=True)\n",
    "df_pit.shape # should be 154 rows"
   ]
  },
  {
   "cell_type": "code",
   "execution_count": 75,
   "metadata": {},
   "outputs": [
    {
     "data": {
      "text/plain": [
       "(169, 38)"
      ]
     },
     "execution_count": 75,
     "metadata": {},
     "output_type": "execute_result"
    }
   ],
   "source": [
    "# 2013 - Pitching DF\n",
    "col_headers_pit = [th.getText() for th in \n",
    "                  table_13pit.findAll('tr')[0].findAll('th')][1:]\n",
    "data_rows_pit = table_13pit.findAll('tr')[1:-2] \n",
    "player_data_pit = [[td.getText() for td in data_rows_pit[i].findAll('td')]\n",
    "               for i in range(len(data_rows_pit))]\n",
    "\n",
    "df_pit_interim = pd.DataFrame(player_data_pit, columns=col_headers_pit)\n",
    "df_pit_interim['Team'] = pd.DataFrame({'Team': teams_list_13to17})\n",
    "df_pit_interim['Year'] = '2013'\n",
    "df_pit_interim['YrTm'] = df_pit_interim['Year'] + df_pit_interim['Team']\n",
    "df_pit = pd.concat([df_pit, df_pit_interim]).reset_index(drop=True)\n",
    "df_pit.shape # should be 169 rows"
   ]
  },
  {
   "cell_type": "code",
   "execution_count": 76,
   "metadata": {},
   "outputs": [
    {
     "data": {
      "text/plain": [
       "(184, 38)"
      ]
     },
     "execution_count": 76,
     "metadata": {},
     "output_type": "execute_result"
    }
   ],
   "source": [
    "# 2014 - Pitching DF\n",
    "col_headers_pit = [th.getText() for th in \n",
    "                  table_14pit.findAll('tr')[0].findAll('th')][1:]\n",
    "data_rows_pit = table_14pit.findAll('tr')[1:-2] \n",
    "player_data_pit = [[td.getText() for td in data_rows_pit[i].findAll('td')]\n",
    "               for i in range(len(data_rows_pit))]\n",
    "\n",
    "df_pit_interim = pd.DataFrame(player_data_pit, columns=col_headers_pit)\n",
    "df_pit_interim['Team'] = pd.DataFrame({'Team': teams_list_13to17})\n",
    "df_pit_interim['Year'] = '2014'\n",
    "df_pit_interim['YrTm'] = df_pit_interim['Year'] + df_pit_interim['Team']\n",
    "df_pit = pd.concat([df_pit, df_pit_interim]).reset_index(drop=True)\n",
    "df_pit.shape # should be 184 rows"
   ]
  },
  {
   "cell_type": "code",
   "execution_count": 77,
   "metadata": {},
   "outputs": [
    {
     "data": {
      "text/plain": [
       "(199, 38)"
      ]
     },
     "execution_count": 77,
     "metadata": {},
     "output_type": "execute_result"
    }
   ],
   "source": [
    "# 2015 - Pitching DF\n",
    "col_headers_pit = [th.getText() for th in \n",
    "                  table_15pit.findAll('tr')[0].findAll('th')][1:]\n",
    "data_rows_pit = table_15pit.findAll('tr')[1:-2] \n",
    "player_data_pit = [[td.getText() for td in data_rows_pit[i].findAll('td')]\n",
    "               for i in range(len(data_rows_pit))]\n",
    "\n",
    "df_pit_interim = pd.DataFrame(player_data_pit, columns=col_headers_pit)\n",
    "df_pit_interim['Team'] = pd.DataFrame({'Team': teams_list_13to17})\n",
    "df_pit_interim['Year'] = '2015'\n",
    "df_pit_interim['YrTm'] = df_pit_interim['Year'] + df_pit_interim['Team']\n",
    "df_pit = pd.concat([df_pit, df_pit_interim]).reset_index(drop=True)\n",
    "df_pit.shape # should be 199 rows"
   ]
  },
  {
   "cell_type": "code",
   "execution_count": 78,
   "metadata": {},
   "outputs": [
    {
     "data": {
      "text/plain": [
       "(214, 38)"
      ]
     },
     "execution_count": 78,
     "metadata": {},
     "output_type": "execute_result"
    }
   ],
   "source": [
    "# 2016 - Pitching DF\n",
    "col_headers_pit = [th.getText() for th in \n",
    "                  table_16pit.findAll('tr')[0].findAll('th')][1:]\n",
    "data_rows_pit = table_16pit.findAll('tr')[1:-2] \n",
    "player_data_pit = [[td.getText() for td in data_rows_pit[i].findAll('td')]\n",
    "               for i in range(len(data_rows_pit))]\n",
    "\n",
    "df_pit_interim = pd.DataFrame(player_data_pit, columns=col_headers_pit)\n",
    "df_pit_interim['Team'] = pd.DataFrame({'Team': teams_list_13to17})\n",
    "df_pit_interim['Year'] = '2016'\n",
    "df_pit_interim['YrTm'] = df_pit_interim['Year'] + df_pit_interim['Team']\n",
    "df_pit = pd.concat([df_pit, df_pit_interim]).reset_index(drop=True)\n",
    "df_pit.shape # should be 214 rows"
   ]
  },
  {
   "cell_type": "code",
   "execution_count": 79,
   "metadata": {},
   "outputs": [
    {
     "data": {
      "text/plain": [
       "(229, 38)"
      ]
     },
     "execution_count": 79,
     "metadata": {},
     "output_type": "execute_result"
    }
   ],
   "source": [
    "# 2017 - Pitching DF\n",
    "col_headers_pit = [th.getText() for th in \n",
    "                  table_17pit.findAll('tr')[0].findAll('th')][1:]\n",
    "data_rows_pit = table_17pit.findAll('tr')[1:-2] \n",
    "player_data_pit = [[td.getText() for td in data_rows_pit[i].findAll('td')]\n",
    "               for i in range(len(data_rows_pit))]\n",
    "\n",
    "df_pit_interim = pd.DataFrame(player_data_pit, columns=col_headers_pit)\n",
    "df_pit_interim['Team'] = pd.DataFrame({'Team': teams_list_13to17})\n",
    "df_pit_interim['Year'] = '2017'\n",
    "df_pit_interim['YrTm'] = df_pit_interim['Year'] + df_pit_interim['Team']\n",
    "df_pit = pd.concat([df_pit, df_pit_interim]).reset_index(drop=True)\n",
    "df_pit.shape # should be 229 rows"
   ]
  },
  {
   "cell_type": "code",
   "execution_count": null,
   "metadata": {},
   "outputs": [],
   "source": []
  },
  {
   "cell_type": "code",
   "execution_count": null,
   "metadata": {},
   "outputs": [],
   "source": []
  },
  {
   "cell_type": "code",
   "execution_count": null,
   "metadata": {},
   "outputs": [],
   "source": []
  },
  {
   "cell_type": "code",
   "execution_count": null,
   "metadata": {},
   "outputs": [],
   "source": []
  },
  {
   "cell_type": "code",
   "execution_count": null,
   "metadata": {},
   "outputs": [],
   "source": []
  },
  {
   "cell_type": "markdown",
   "metadata": {},
   "source": [
    "### Fielding"
   ]
  },
  {
   "cell_type": "code",
   "execution_count": null,
   "metadata": {},
   "outputs": [],
   "source": []
  },
  {
   "cell_type": "code",
   "execution_count": null,
   "metadata": {},
   "outputs": [],
   "source": []
  },
  {
   "cell_type": "code",
   "execution_count": null,
   "metadata": {},
   "outputs": [],
   "source": [
    "# Build batting DF\n",
    "column_headers_bat = [th.getText() for th in \n",
    "                  table_17bat.findAll('tr')[0].findAll('th')][1:] # not sure if last [:] needed\n",
    "data_rows_bat = table_17bat.findAll('tr')[1:-2]  # skip row1 header and last 2 summary rows\n",
    "player_data_bat = [[td.getText() for td in data_rows_bat[i].findAll('td')]\n",
    "               for i in range(len(data_rows_bat))]\n",
    "\n",
    "df_bat = pd.DataFrame(player_data_bat, columns=column_headers_bat)\n",
    "df_bat['Team']\n",
    "df_bat.head()\n",
    "# Need to get team names from first cell which is hyperlinked - SEE ABOVE"
   ]
  },
  {
   "cell_type": "code",
   "execution_count": null,
   "metadata": {},
   "outputs": [],
   "source": [
    "# Build pitching DF\n",
    "column_headers_pit = [th.getText() for th in \n",
    "                  table_17pit.findAll('tr')[0].findAll('th')][1:] # not sure if last [:] needed\n",
    "data_rows_pit = table_17pit.findAll('tr')[1:-2]  # skip row1 header and last 2 summary rows\n",
    "player_data_pit = [[td.getText() for td in data_rows_pit[i].findAll('td')]\n",
    "               for i in range(len(data_rows_pit))]\n",
    "\n",
    "df_pit = pd.DataFrame(player_data_pit, columns=column_headers_pit)\n",
    "df_pit"
   ]
  },
  {
   "cell_type": "code",
   "execution_count": null,
   "metadata": {},
   "outputs": [],
   "source": [
    "# Build fielding DF"
   ]
  },
  {
   "cell_type": "markdown",
   "metadata": {},
   "source": [
    "## EDA for Pitching"
   ]
  },
  {
   "cell_type": "code",
   "execution_count": null,
   "metadata": {},
   "outputs": [],
   "source": [
    "df_pit_sm = df_pit[['#P', 'RA/G', 'W-L%', 'ERA', 'ERA+']]"
   ]
  },
  {
   "cell_type": "code",
   "execution_count": null,
   "metadata": {},
   "outputs": [],
   "source": [
    "df_pit_sm"
   ]
  },
  {
   "cell_type": "code",
   "execution_count": null,
   "metadata": {},
   "outputs": [],
   "source": [
    "df_pit_sm.info()"
   ]
  },
  {
   "cell_type": "code",
   "execution_count": null,
   "metadata": {},
   "outputs": [],
   "source": [
    "# Change datatype from object to floats/ints\n",
    "\n",
    "df_pit_sm[['#P', 'ERA+']] = df_pit_sm[['#P', 'ERA+']].astype(int)\n",
    "df_pit_sm[['RA/G', 'W-L%', 'ERA']] = df_pit_sm[['RA/G', 'W-L%', 'ERA']].astype(float)\n",
    "\n",
    "df_pit_sm.info()"
   ]
  },
  {
   "cell_type": "code",
   "execution_count": null,
   "metadata": {},
   "outputs": [],
   "source": [
    "df_pit_sm"
   ]
  },
  {
   "cell_type": "markdown",
   "metadata": {},
   "source": [
    "#### Analysis\n",
    "Based on heatmap below, looking at middle row for W-L%, I will definitely **not** include number of pitchers in my model. I will likely include RA/G or ERA which are highly correlated at -.87 and -.85 respectively."
   ]
  },
  {
   "cell_type": "code",
   "execution_count": null,
   "metadata": {},
   "outputs": [],
   "source": [
    "sns.heatmap(df_pit_sm.corr(), vmin=-1, vmax=1, cmap='seismic', annot=True)"
   ]
  },
  {
   "cell_type": "code",
   "execution_count": null,
   "metadata": {},
   "outputs": [],
   "source": [
    "sns.pairplot(df_pit_sm, size = 1.2, aspect=1.5);"
   ]
  },
  {
   "cell_type": "code",
   "execution_count": null,
   "metadata": {},
   "outputs": [],
   "source": []
  }
 ],
 "metadata": {
  "kernelspec": {
   "display_name": "Python 3",
   "language": "python",
   "name": "python3"
  },
  "language_info": {
   "codemirror_mode": {
    "name": "ipython",
    "version": 3
   },
   "file_extension": ".py",
   "mimetype": "text/x-python",
   "name": "python",
   "nbconvert_exporter": "python",
   "pygments_lexer": "ipython3",
   "version": "3.6.4"
  },
  "toc": {
   "base_numbering": 1,
   "nav_menu": {},
   "number_sections": true,
   "sideBar": true,
   "skip_h1_title": false,
   "title_cell": "Table of Contents",
   "title_sidebar": "Contents",
   "toc_cell": false,
   "toc_position": {},
   "toc_section_display": true,
   "toc_window_display": false
  }
 },
 "nbformat": 4,
 "nbformat_minor": 2
}
