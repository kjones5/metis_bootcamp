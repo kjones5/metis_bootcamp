{
 "cells": [
  {
   "cell_type": "code",
   "execution_count": 2,
   "metadata": {},
   "outputs": [],
   "source": [
    "import pandas as pd\n",
    "from pandas.core import datetools\n",
    "import numpy as np\n",
    "import unicodedata\n",
    "import time\n",
    "import os\n",
    "import statsmodels.api as sm\n",
    "import statsmodels.formula.api as smf\n",
    "import matplotlib.pyplot as plt\n",
    "import seaborn as sns\n",
    "import scipy.stats as stats\n",
    "from sklearn.preprocessing import PolynomialFeatures\n",
    "from sklearn.pipeline import make_pipeline\n",
    "from sklearn.pipeline import Pipeline\n",
    "from sklearn.metrics import mean_squared_error\n",
    "from sklearn.cross_validation import train_test_split\n",
    "from sklearn.cross_validation import KFold\n",
    "from sklearn.cross_validation import cross_val_score\n",
    "from sklearn.linear_model import LinearRegression\n",
    "from sklearn.linear_model import LassoCV\n",
    "from sklearn.linear_model import RidgeCV\n",
    "from sklearn.linear_model import ElasticNet\n",
    "from sklearn.linear_model import ElasticNetCV\n",
    "\n",
    "%config InlineBackend.figure_format = 'png'\n",
    "plt.rcParams['figure.dpi']= 300"
   ]
  },
  {
   "cell_type": "markdown",
   "metadata": {
    "heading_collapsed": true
   },
   "source": [
    "## Pedestrians and Bicyclists\n",
    "*Note: Ultimately decided against using this table - the vast majority of pedestrians and bicyclists represented here did not survive. :(*"
   ]
  },
  {
   "cell_type": "code",
   "execution_count": null,
   "metadata": {
    "hidden": true
   },
   "outputs": [],
   "source": [
    "df = pd.read_csv('2015-traffic-fatalities/pbtype.csv')"
   ]
  },
  {
   "cell_type": "code",
   "execution_count": 8,
   "metadata": {
    "hidden": true
   },
   "outputs": [
    {
     "data": {
      "text/html": [
       "<div>\n",
       "<style scoped>\n",
       "    .dataframe tbody tr th:only-of-type {\n",
       "        vertical-align: middle;\n",
       "    }\n",
       "\n",
       "    .dataframe tbody tr th {\n",
       "        vertical-align: top;\n",
       "    }\n",
       "\n",
       "    .dataframe thead th {\n",
       "        text-align: right;\n",
       "    }\n",
       "</style>\n",
       "<table border=\"1\" class=\"dataframe\">\n",
       "  <thead>\n",
       "    <tr style=\"text-align: right;\">\n",
       "      <th></th>\n",
       "      <th>STATE</th>\n",
       "      <th>ST_CASE</th>\n",
       "      <th>VEH_NO</th>\n",
       "      <th>PER_NO</th>\n",
       "      <th>PBPTYPE</th>\n",
       "      <th>PBAGE</th>\n",
       "      <th>PBSEX</th>\n",
       "      <th>PBCWALK</th>\n",
       "      <th>PBSWALK</th>\n",
       "      <th>PBSZONE</th>\n",
       "      <th>...</th>\n",
       "      <th>PEDPOS</th>\n",
       "      <th>BIKEPOS</th>\n",
       "      <th>PEDDIR</th>\n",
       "      <th>BIKEDIR</th>\n",
       "      <th>MOTDIR</th>\n",
       "      <th>MOTMAN</th>\n",
       "      <th>PEDLEG</th>\n",
       "      <th>PEDSNR</th>\n",
       "      <th>PEDCGP</th>\n",
       "      <th>BIKECGP</th>\n",
       "    </tr>\n",
       "  </thead>\n",
       "  <tbody>\n",
       "    <tr>\n",
       "      <th>0</th>\n",
       "      <td>1</td>\n",
       "      <td>10008</td>\n",
       "      <td>0</td>\n",
       "      <td>1</td>\n",
       "      <td>5</td>\n",
       "      <td>38</td>\n",
       "      <td>1</td>\n",
       "      <td>0</td>\n",
       "      <td>0</td>\n",
       "      <td>0</td>\n",
       "      <td>...</td>\n",
       "      <td>3</td>\n",
       "      <td>7</td>\n",
       "      <td>8</td>\n",
       "      <td>7</td>\n",
       "      <td>8</td>\n",
       "      <td>8</td>\n",
       "      <td>8</td>\n",
       "      <td>8</td>\n",
       "      <td>990</td>\n",
       "      <td>0</td>\n",
       "    </tr>\n",
       "    <tr>\n",
       "      <th>1</th>\n",
       "      <td>1</td>\n",
       "      <td>10031</td>\n",
       "      <td>0</td>\n",
       "      <td>1</td>\n",
       "      <td>5</td>\n",
       "      <td>87</td>\n",
       "      <td>1</td>\n",
       "      <td>0</td>\n",
       "      <td>0</td>\n",
       "      <td>0</td>\n",
       "      <td>...</td>\n",
       "      <td>1</td>\n",
       "      <td>7</td>\n",
       "      <td>1</td>\n",
       "      <td>7</td>\n",
       "      <td>4</td>\n",
       "      <td>3</td>\n",
       "      <td>2</td>\n",
       "      <td>3a</td>\n",
       "      <td>750</td>\n",
       "      <td>0</td>\n",
       "    </tr>\n",
       "    <tr>\n",
       "      <th>2</th>\n",
       "      <td>1</td>\n",
       "      <td>10040</td>\n",
       "      <td>0</td>\n",
       "      <td>1</td>\n",
       "      <td>5</td>\n",
       "      <td>20</td>\n",
       "      <td>1</td>\n",
       "      <td>0</td>\n",
       "      <td>0</td>\n",
       "      <td>0</td>\n",
       "      <td>...</td>\n",
       "      <td>3</td>\n",
       "      <td>7</td>\n",
       "      <td>8</td>\n",
       "      <td>7</td>\n",
       "      <td>8</td>\n",
       "      <td>8</td>\n",
       "      <td>8</td>\n",
       "      <td>8</td>\n",
       "      <td>310</td>\n",
       "      <td>0</td>\n",
       "    </tr>\n",
       "    <tr>\n",
       "      <th>3</th>\n",
       "      <td>1</td>\n",
       "      <td>10042</td>\n",
       "      <td>0</td>\n",
       "      <td>1</td>\n",
       "      <td>5</td>\n",
       "      <td>50</td>\n",
       "      <td>1</td>\n",
       "      <td>0</td>\n",
       "      <td>0</td>\n",
       "      <td>0</td>\n",
       "      <td>...</td>\n",
       "      <td>3</td>\n",
       "      <td>7</td>\n",
       "      <td>1</td>\n",
       "      <td>7</td>\n",
       "      <td>2</td>\n",
       "      <td>3</td>\n",
       "      <td>2</td>\n",
       "      <td>3b</td>\n",
       "      <td>750</td>\n",
       "      <td>0</td>\n",
       "    </tr>\n",
       "    <tr>\n",
       "      <th>4</th>\n",
       "      <td>1</td>\n",
       "      <td>10050</td>\n",
       "      <td>0</td>\n",
       "      <td>1</td>\n",
       "      <td>5</td>\n",
       "      <td>52</td>\n",
       "      <td>1</td>\n",
       "      <td>0</td>\n",
       "      <td>0</td>\n",
       "      <td>0</td>\n",
       "      <td>...</td>\n",
       "      <td>3</td>\n",
       "      <td>7</td>\n",
       "      <td>8</td>\n",
       "      <td>7</td>\n",
       "      <td>8</td>\n",
       "      <td>8</td>\n",
       "      <td>8</td>\n",
       "      <td>8</td>\n",
       "      <td>400</td>\n",
       "      <td>0</td>\n",
       "    </tr>\n",
       "  </tbody>\n",
       "</table>\n",
       "<p>5 rows × 24 columns</p>\n",
       "</div>"
      ],
      "text/plain": [
       "   STATE  ST_CASE  VEH_NO  PER_NO  PBPTYPE  PBAGE  PBSEX  PBCWALK  PBSWALK  \\\n",
       "0      1    10008       0       1        5     38      1        0        0   \n",
       "1      1    10031       0       1        5     87      1        0        0   \n",
       "2      1    10040       0       1        5     20      1        0        0   \n",
       "3      1    10042       0       1        5     50      1        0        0   \n",
       "4      1    10050       0       1        5     52      1        0        0   \n",
       "\n",
       "   PBSZONE   ...     PEDPOS  BIKEPOS  PEDDIR  BIKEDIR  MOTDIR  MOTMAN  PEDLEG  \\\n",
       "0        0   ...          3        7       8        7       8       8       8   \n",
       "1        0   ...          1        7       1        7       4       3       2   \n",
       "2        0   ...          3        7       8        7       8       8       8   \n",
       "3        0   ...          3        7       1        7       2       3       2   \n",
       "4        0   ...          3        7       8        7       8       8       8   \n",
       "\n",
       "   PEDSNR  PEDCGP  BIKECGP  \n",
       "0       8     990        0  \n",
       "1      3a     750        0  \n",
       "2       8     310        0  \n",
       "3      3b     750        0  \n",
       "4       8     400        0  \n",
       "\n",
       "[5 rows x 24 columns]"
      ]
     },
     "execution_count": 8,
     "metadata": {},
     "output_type": "execute_result"
    }
   ],
   "source": [
    "df.head()"
   ]
  },
  {
   "cell_type": "code",
   "execution_count": 15,
   "metadata": {
    "hidden": true
   },
   "outputs": [
    {
     "data": {
      "text/plain": [
       "PBAGE\n",
       "0        8\n",
       "1       36\n",
       "2       26\n",
       "3       26\n",
       "4       17\n",
       "5       26\n",
       "6       19\n",
       "7       16\n",
       "8       22\n",
       "9       21\n",
       "10      10\n",
       "11      25\n",
       "12      24\n",
       "13      30\n",
       "14      48\n",
       "15      51\n",
       "16      51\n",
       "17      73\n",
       "18      73\n",
       "19      81\n",
       "20     102\n",
       "21     102\n",
       "22     110\n",
       "23      99\n",
       "24     108\n",
       "25     110\n",
       "26      86\n",
       "27      86\n",
       "28      99\n",
       "29     118\n",
       "      ... \n",
       "69      66\n",
       "70      67\n",
       "71      53\n",
       "72      65\n",
       "73      38\n",
       "74      44\n",
       "75      52\n",
       "76      40\n",
       "77      42\n",
       "78      41\n",
       "79      36\n",
       "80      30\n",
       "81      29\n",
       "82      34\n",
       "83      35\n",
       "84      20\n",
       "85      27\n",
       "86      26\n",
       "87      28\n",
       "88      25\n",
       "89      20\n",
       "90      14\n",
       "91      14\n",
       "92       9\n",
       "93       9\n",
       "94       5\n",
       "95       3\n",
       "96       3\n",
       "998     43\n",
       "999     29\n",
       "Name: ST_CASE, Length: 99, dtype: int64"
      ]
     },
     "execution_count": 15,
     "metadata": {},
     "output_type": "execute_result"
    }
   ],
   "source": [
    "df.groupby(['PBAGE'])['ST_CASE'].count()"
   ]
  },
  {
   "cell_type": "code",
   "execution_count": 17,
   "metadata": {
    "hidden": true
   },
   "outputs": [
    {
     "data": {
      "text/plain": [
       "PBSEX  PBPTYPE\n",
       "1      5          3995\n",
       "       6           723\n",
       "       8           139\n",
       "2      5          1787\n",
       "       6           127\n",
       "       7             1\n",
       "       8            28\n",
       "8      5             6\n",
       "9      5             7\n",
       "       6             1\n",
       "Name: ST_CASE, dtype: int64"
      ]
     },
     "execution_count": 17,
     "metadata": {},
     "output_type": "execute_result"
    }
   ],
   "source": [
    "df.groupby(['PBSEX','PBPTYPE'])['ST_CASE'].count() # 1 male, 2 female; 5 ped, 6 bike, 7 other cycl, 8 other"
   ]
  },
  {
   "cell_type": "code",
   "execution_count": 19,
   "metadata": {
    "hidden": true
   },
   "outputs": [
    {
     "data": {
      "text/plain": [
       "PBPTYPE\n",
       "5    5795\n",
       "6     851\n",
       "7       1\n",
       "8     167\n",
       "Name: ST_CASE, dtype: int64"
      ]
     },
     "execution_count": 19,
     "metadata": {},
     "output_type": "execute_result"
    }
   ],
   "source": [
    "df.groupby(['PBPTYPE'])['ST_CASE'].count() # 5 ped, 6 bike, 7 other cycl, 8 other"
   ]
  },
  {
   "cell_type": "markdown",
   "metadata": {
    "hidden": true
   },
   "source": [
    "**Data on Pedestrian Crash Group `PEDCGP` shows that most are plain pedestrians, some are \"other\"**  \n",
    "None are 6 (bike) or 7 (other cyclist)"
   ]
  },
  {
   "cell_type": "code",
   "execution_count": 27,
   "metadata": {
    "hidden": true
   },
   "outputs": [
    {
     "data": {
      "text/plain": [
       "PBPTYPE  PEDCGP\n",
       "5        100        664\n",
       "         200         67\n",
       "         310         61\n",
       "         340         29\n",
       "         350         50\n",
       "         400        778\n",
       "         460         20\n",
       "         500         14\n",
       "         600        389\n",
       "         720         18\n",
       "         740        432\n",
       "         750       1957\n",
       "         790        253\n",
       "         800         67\n",
       "         910        265\n",
       "         990        731\n",
       "6        0          851\n",
       "7        0            1\n",
       "8        100         26\n",
       "         310          3\n",
       "         400         43\n",
       "         460          3\n",
       "         600          2\n",
       "         740          6\n",
       "         750         52\n",
       "         790          9\n",
       "         800          1\n",
       "         910          1\n",
       "         990         21\n",
       "Name: ST_CASE, dtype: int64"
      ]
     },
     "execution_count": 27,
     "metadata": {},
     "output_type": "execute_result"
    }
   ],
   "source": [
    "df.groupby(['PBPTYPE','PEDCGP'])['ST_CASE'].count() # 5 ped, 6 bike, 7 other cycl, 8 other"
   ]
  },
  {
   "cell_type": "markdown",
   "metadata": {
    "hidden": true
   },
   "source": [
    "**Pedestrian Codes**  \n",
    "0 Not a Pedestrian  \n",
    "100 Unusual Circumstances  \n",
    "200 Backing Vehicle  \n",
    "310 Working or Playing in Roadway  \n",
    "340 Bus-Related  \n",
    "350 Unique Midblock  \n",
    "400 Walking/Running Along Roadway  \n",
    "460 Driveway Access/ Driveway Access Related  \n",
    "500 Waiting to Cross  \n",
    "600 Pedestrian in Roadway – Circumstances Unknown 720 Multiple Threat/Trapped  \n",
    "740 Dash/Dart-Out  \n",
    "750 Crossing Roadway – Vehicle Not Turning  \n",
    "790 Crossing Roadway – Vehicle Turning  \n",
    "800 Non-Trafficway  \n",
    "910 Crossing Expressway  \n",
    "990 Other/Unknown – Insufficient Details  "
   ]
  },
  {
   "cell_type": "code",
   "execution_count": 25,
   "metadata": {
    "hidden": true
   },
   "outputs": [
    {
     "data": {
      "text/plain": [
       "PEDCGP  PBPTYPE\n",
       "750     5          1957\n",
       "0       6           851\n",
       "400     5           778\n",
       "990     5           731\n",
       "100     5           664\n",
       "740     5           432\n",
       "600     5           389\n",
       "910     5           265\n",
       "790     5           253\n",
       "200     5            67\n",
       "800     5            67\n",
       "310     5            61\n",
       "750     8            52\n",
       "350     5            50\n",
       "400     8            43\n",
       "340     5            29\n",
       "100     8            26\n",
       "990     8            21\n",
       "460     5            20\n",
       "720     5            18\n",
       "500     5            14\n",
       "790     8             9\n",
       "740     8             6\n",
       "460     8             3\n",
       "310     8             3\n",
       "600     8             2\n",
       "800     8             1\n",
       "910     8             1\n",
       "0       7             1\n",
       "Name: ST_CASE, dtype: int64"
      ]
     },
     "execution_count": 25,
     "metadata": {},
     "output_type": "execute_result"
    }
   ],
   "source": [
    "df.groupby(['PEDCGP','PBPTYPE'])['ST_CASE'].count().sort_values(ascending=False)"
   ]
  },
  {
   "cell_type": "markdown",
   "metadata": {},
   "source": [
    "## Person"
   ]
  },
  {
   "cell_type": "code",
   "execution_count": 29,
   "metadata": {},
   "outputs": [],
   "source": [
    "df2 = pd.read_csv('2015-traffic-fatalities/person.csv')"
   ]
  },
  {
   "cell_type": "code",
   "execution_count": 54,
   "metadata": {},
   "outputs": [
    {
     "data": {
      "text/plain": [
       "Index(['STATE', 'ST_CASE', 'VE_FORMS', 'VEH_NO', 'PER_NO', 'STR_VEH', 'COUNTY',\n",
       "       'DAY', 'MONTH', 'HOUR', 'MINUTE', 'RUR_URB', 'FUNC_SYS', 'HARM_EV',\n",
       "       'MAN_COLL', 'SCH_BUS', 'MAKE', 'MAK_MOD', 'BODY_TYP', 'MOD_YEAR',\n",
       "       'TOW_VEH', 'SPEC_USE', 'EMER_USE', 'ROLLOVER', 'IMPACT1', 'FIRE_EXP',\n",
       "       'AGE', 'SEX', 'PER_TYP', 'INJ_SEV', 'SEAT_POS', 'REST_USE', 'REST_MIS',\n",
       "       'AIR_BAG', 'EJECTION', 'EJ_PATH', 'EXTRICAT', 'DRINKING', 'ALC_DET',\n",
       "       'ALC_STATUS', 'ATST_TYP', 'ALC_RES', 'DRUGS', 'DRUG_DET', 'DSTATUS',\n",
       "       'DRUGTST1', 'DRUGTST2', 'DRUGTST3', 'DRUGRES1', 'DRUGRES2', 'DRUGRES3',\n",
       "       'HOSPITAL', 'DOA', 'DEATH_DA', 'DEATH_MO', 'DEATH_YR', 'DEATH_HR',\n",
       "       'DEATH_MN', 'DEATH_TM', 'LAG_HRS', 'LAG_MINS', 'P_SF1', 'P_SF2',\n",
       "       'P_SF3', 'WORK_INJ', 'HISPANIC', 'RACE', 'LOCATION'],\n",
       "      dtype='object')"
      ]
     },
     "execution_count": 54,
     "metadata": {},
     "output_type": "execute_result"
    }
   ],
   "source": [
    "df2.columns"
   ]
  },
  {
   "cell_type": "code",
   "execution_count": 30,
   "metadata": {},
   "outputs": [
    {
     "data": {
      "text/html": [
       "<div>\n",
       "<style scoped>\n",
       "    .dataframe tbody tr th:only-of-type {\n",
       "        vertical-align: middle;\n",
       "    }\n",
       "\n",
       "    .dataframe tbody tr th {\n",
       "        vertical-align: top;\n",
       "    }\n",
       "\n",
       "    .dataframe thead th {\n",
       "        text-align: right;\n",
       "    }\n",
       "</style>\n",
       "<table border=\"1\" class=\"dataframe\">\n",
       "  <thead>\n",
       "    <tr style=\"text-align: right;\">\n",
       "      <th></th>\n",
       "      <th>STATE</th>\n",
       "      <th>ST_CASE</th>\n",
       "      <th>VE_FORMS</th>\n",
       "      <th>VEH_NO</th>\n",
       "      <th>PER_NO</th>\n",
       "      <th>STR_VEH</th>\n",
       "      <th>COUNTY</th>\n",
       "      <th>DAY</th>\n",
       "      <th>MONTH</th>\n",
       "      <th>HOUR</th>\n",
       "      <th>...</th>\n",
       "      <th>DEATH_TM</th>\n",
       "      <th>LAG_HRS</th>\n",
       "      <th>LAG_MINS</th>\n",
       "      <th>P_SF1</th>\n",
       "      <th>P_SF2</th>\n",
       "      <th>P_SF3</th>\n",
       "      <th>WORK_INJ</th>\n",
       "      <th>HISPANIC</th>\n",
       "      <th>RACE</th>\n",
       "      <th>LOCATION</th>\n",
       "    </tr>\n",
       "  </thead>\n",
       "  <tbody>\n",
       "    <tr>\n",
       "      <th>0</th>\n",
       "      <td>1</td>\n",
       "      <td>10001</td>\n",
       "      <td>1</td>\n",
       "      <td>1</td>\n",
       "      <td>1</td>\n",
       "      <td>0</td>\n",
       "      <td>127</td>\n",
       "      <td>1</td>\n",
       "      <td>1</td>\n",
       "      <td>2</td>\n",
       "      <td>...</td>\n",
       "      <td>240</td>\n",
       "      <td>0</td>\n",
       "      <td>0</td>\n",
       "      <td>0</td>\n",
       "      <td>0</td>\n",
       "      <td>0</td>\n",
       "      <td>0</td>\n",
       "      <td>7</td>\n",
       "      <td>1</td>\n",
       "      <td>0</td>\n",
       "    </tr>\n",
       "    <tr>\n",
       "      <th>1</th>\n",
       "      <td>1</td>\n",
       "      <td>10002</td>\n",
       "      <td>1</td>\n",
       "      <td>1</td>\n",
       "      <td>1</td>\n",
       "      <td>0</td>\n",
       "      <td>83</td>\n",
       "      <td>1</td>\n",
       "      <td>1</td>\n",
       "      <td>22</td>\n",
       "      <td>...</td>\n",
       "      <td>2213</td>\n",
       "      <td>0</td>\n",
       "      <td>0</td>\n",
       "      <td>0</td>\n",
       "      <td>0</td>\n",
       "      <td>0</td>\n",
       "      <td>0</td>\n",
       "      <td>7</td>\n",
       "      <td>1</td>\n",
       "      <td>0</td>\n",
       "    </tr>\n",
       "    <tr>\n",
       "      <th>2</th>\n",
       "      <td>1</td>\n",
       "      <td>10003</td>\n",
       "      <td>1</td>\n",
       "      <td>1</td>\n",
       "      <td>1</td>\n",
       "      <td>0</td>\n",
       "      <td>11</td>\n",
       "      <td>1</td>\n",
       "      <td>1</td>\n",
       "      <td>1</td>\n",
       "      <td>...</td>\n",
       "      <td>125</td>\n",
       "      <td>0</td>\n",
       "      <td>0</td>\n",
       "      <td>0</td>\n",
       "      <td>0</td>\n",
       "      <td>0</td>\n",
       "      <td>0</td>\n",
       "      <td>7</td>\n",
       "      <td>2</td>\n",
       "      <td>0</td>\n",
       "    </tr>\n",
       "    <tr>\n",
       "      <th>3</th>\n",
       "      <td>1</td>\n",
       "      <td>10003</td>\n",
       "      <td>1</td>\n",
       "      <td>1</td>\n",
       "      <td>2</td>\n",
       "      <td>0</td>\n",
       "      <td>11</td>\n",
       "      <td>1</td>\n",
       "      <td>1</td>\n",
       "      <td>1</td>\n",
       "      <td>...</td>\n",
       "      <td>8888</td>\n",
       "      <td>999</td>\n",
       "      <td>99</td>\n",
       "      <td>0</td>\n",
       "      <td>0</td>\n",
       "      <td>0</td>\n",
       "      <td>8</td>\n",
       "      <td>0</td>\n",
       "      <td>0</td>\n",
       "      <td>0</td>\n",
       "    </tr>\n",
       "    <tr>\n",
       "      <th>4</th>\n",
       "      <td>1</td>\n",
       "      <td>10004</td>\n",
       "      <td>1</td>\n",
       "      <td>1</td>\n",
       "      <td>1</td>\n",
       "      <td>0</td>\n",
       "      <td>45</td>\n",
       "      <td>4</td>\n",
       "      <td>1</td>\n",
       "      <td>0</td>\n",
       "      <td>...</td>\n",
       "      <td>57</td>\n",
       "      <td>0</td>\n",
       "      <td>0</td>\n",
       "      <td>0</td>\n",
       "      <td>0</td>\n",
       "      <td>0</td>\n",
       "      <td>0</td>\n",
       "      <td>7</td>\n",
       "      <td>1</td>\n",
       "      <td>0</td>\n",
       "    </tr>\n",
       "  </tbody>\n",
       "</table>\n",
       "<p>5 rows × 68 columns</p>\n",
       "</div>"
      ],
      "text/plain": [
       "   STATE  ST_CASE  VE_FORMS  VEH_NO  PER_NO  STR_VEH  COUNTY  DAY  MONTH  \\\n",
       "0      1    10001         1       1       1        0     127    1      1   \n",
       "1      1    10002         1       1       1        0      83    1      1   \n",
       "2      1    10003         1       1       1        0      11    1      1   \n",
       "3      1    10003         1       1       2        0      11    1      1   \n",
       "4      1    10004         1       1       1        0      45    4      1   \n",
       "\n",
       "   HOUR    ...     DEATH_TM  LAG_HRS  LAG_MINS  P_SF1  P_SF2  P_SF3  WORK_INJ  \\\n",
       "0     2    ...          240        0         0      0      0      0         0   \n",
       "1    22    ...         2213        0         0      0      0      0         0   \n",
       "2     1    ...          125        0         0      0      0      0         0   \n",
       "3     1    ...         8888      999        99      0      0      0         8   \n",
       "4     0    ...           57        0         0      0      0      0         0   \n",
       "\n",
       "   HISPANIC  RACE  LOCATION  \n",
       "0         7     1         0  \n",
       "1         7     1         0  \n",
       "2         7     2         0  \n",
       "3         0     0         0  \n",
       "4         7     1         0  \n",
       "\n",
       "[5 rows x 68 columns]"
      ]
     },
     "execution_count": 30,
     "metadata": {},
     "output_type": "execute_result"
    }
   ],
   "source": [
    "df2.head()"
   ]
  },
  {
   "cell_type": "markdown",
   "metadata": {},
   "source": [
    "**Person Type** (appx - codes changed by year)  \n",
    "1 Driver (in trans)  \n",
    "2 Passenger (in trans)  \n",
    "3 Occupant (not in transport)  \n",
    "4 Occupant - non motor vehicle  \n",
    "5 Pedestrian  \n",
    "6 Bicyclist  \n",
    "7 Other cyclist  \n",
    "8 Person on personal conveyance  \n",
    "9 Unknown occupant type (in trans)  \n",
    "10 Persons in/on buildings  \n",
    "19 Unknown type of non-motorist"
   ]
  },
  {
   "cell_type": "code",
   "execution_count": 40,
   "metadata": {},
   "outputs": [
    {
     "data": {
      "text/plain": [
       "PER_TYP\n",
       "1     48613\n",
       "2     24646\n",
       "3       286\n",
       "4        66\n",
       "5      5795\n",
       "6       851\n",
       "7         1\n",
       "8       167\n",
       "9       131\n",
       "10       30\n",
       "19        1\n",
       "Name: ST_CASE, dtype: int64"
      ]
     },
     "execution_count": 40,
     "metadata": {},
     "output_type": "execute_result"
    }
   ],
   "source": [
    "df2.groupby(['PER_TYP'])['ST_CASE'].count()"
   ]
  },
  {
   "cell_type": "markdown",
   "metadata": {},
   "source": [
    "**Injury Severity**  \n",
    "0 No apparent injury  \n",
    "1 Possible injury  \n",
    "2 Suspected minor injury  \n",
    "3 Suspected serious injury  \n",
    "4 Fatal injury  \n",
    "5 Injured, severity unknown  \n",
    "6 Died prior to crash  \n",
    "8 Not reported  \n",
    "9 Unknown"
   ]
  },
  {
   "cell_type": "code",
   "execution_count": 34,
   "metadata": {},
   "outputs": [
    {
     "data": {
      "text/plain": [
       "INJ_SEV\n",
       "0    19704\n",
       "1     7400\n",
       "2     9045\n",
       "3     8324\n",
       "4    35092\n",
       "5      250\n",
       "6        2\n",
       "9      770\n",
       "Name: ST_CASE, dtype: int64"
      ]
     },
     "execution_count": 34,
     "metadata": {},
     "output_type": "execute_result"
    }
   ],
   "source": [
    "df2.groupby(['INJ_SEV'])['ST_CASE'].count()"
   ]
  },
  {
   "cell_type": "code",
   "execution_count": 47,
   "metadata": {},
   "outputs": [
    {
     "data": {
      "text/plain": [
       "PER_TYP  INJ_SEV\n",
       "1        0          13576\n",
       "         1           3813\n",
       "         2           4590\n",
       "         3           3774\n",
       "         4          22150\n",
       "         5            103\n",
       "         6              2\n",
       "         9            605\n",
       "2        0           5941\n",
       "         1           3470\n",
       "         2           4237\n",
       "         3           4268\n",
       "         4           6447\n",
       "         5            142\n",
       "         9            141\n",
       "3        0            161\n",
       "         1             30\n",
       "         2             41\n",
       "         3             17\n",
       "         4             34\n",
       "         9              3\n",
       "4        0              8\n",
       "         1              9\n",
       "         2             11\n",
       "         3             14\n",
       "         4             24\n",
       "5        0             15\n",
       "         1             63\n",
       "         2            128\n",
       "         3            205\n",
       "         4           5376\n",
       "         5              4\n",
       "         9              4\n",
       "6        0              1\n",
       "         1              3\n",
       "         2             13\n",
       "         3             16\n",
       "         4            817\n",
       "         5              1\n",
       "7        4              1\n",
       "8        1              3\n",
       "         2              3\n",
       "         3              7\n",
       "         4            154\n",
       "9        0              2\n",
       "         1              4\n",
       "         2             16\n",
       "         3             18\n",
       "         4             74\n",
       "         9             17\n",
       "10       1              4\n",
       "         2              6\n",
       "         3              5\n",
       "         4             15\n",
       "19       1              1\n",
       "Name: ST_CASE, dtype: int64"
      ]
     },
     "execution_count": 47,
     "metadata": {},
     "output_type": "execute_result"
    }
   ],
   "source": [
    "df2.groupby(['PER_TYP','INJ_SEV'])['ST_CASE'].count()"
   ]
  },
  {
   "cell_type": "code",
   "execution_count": null,
   "metadata": {},
   "outputs": [],
   "source": []
  },
  {
   "cell_type": "code",
   "execution_count": null,
   "metadata": {},
   "outputs": [],
   "source": []
  },
  {
   "cell_type": "code",
   "execution_count": null,
   "metadata": {},
   "outputs": [],
   "source": []
  },
  {
   "cell_type": "code",
   "execution_count": null,
   "metadata": {},
   "outputs": [],
   "source": []
  },
  {
   "cell_type": "code",
   "execution_count": null,
   "metadata": {},
   "outputs": [],
   "source": []
  },
  {
   "cell_type": "markdown",
   "metadata": {},
   "source": [
    "## Vehicle Damage"
   ]
  },
  {
   "cell_type": "code",
   "execution_count": null,
   "metadata": {},
   "outputs": [],
   "source": [
    "df3 = pd.read_csv('/2015-traffic-fatalities/damage.csv')"
   ]
  },
  {
   "cell_type": "code",
   "execution_count": null,
   "metadata": {},
   "outputs": [],
   "source": []
  },
  {
   "cell_type": "code",
   "execution_count": null,
   "metadata": {},
   "outputs": [],
   "source": []
  },
  {
   "cell_type": "code",
   "execution_count": null,
   "metadata": {},
   "outputs": [],
   "source": []
  }
 ],
 "metadata": {
  "kernelspec": {
   "display_name": "Python 3",
   "language": "python",
   "name": "python3"
  },
  "language_info": {
   "codemirror_mode": {
    "name": "ipython",
    "version": 3
   },
   "file_extension": ".py",
   "mimetype": "text/x-python",
   "name": "python",
   "nbconvert_exporter": "python",
   "pygments_lexer": "ipython3",
   "version": "3.6.4"
  },
  "toc": {
   "base_numbering": 1,
   "nav_menu": {},
   "number_sections": true,
   "sideBar": true,
   "skip_h1_title": false,
   "title_cell": "Table of Contents",
   "title_sidebar": "Contents",
   "toc_cell": false,
   "toc_position": {},
   "toc_section_display": true,
   "toc_window_display": false
  }
 },
 "nbformat": 4,
 "nbformat_minor": 2
}
